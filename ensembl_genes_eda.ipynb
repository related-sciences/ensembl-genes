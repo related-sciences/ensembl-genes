{
 "cells": [
  {
   "cell_type": "markdown",
   "id": "3196ab77",
   "metadata": {
    "papermill": {
     "duration": 0.006215,
     "end_time": "2025-01-06T21:06:46.327718",
     "exception": false,
     "start_time": "2025-01-06T21:06:46.321503",
     "status": "completed"
    },
    "tags": []
   },
   "source": [
    "# Ensembl genes table extraction EDA\n",
    "\n",
    "This notebook is useful for development as well as exploratory data analysis on the extracted tables.\n",
    "It is currently automically executed and saved as part of exports using `papermill`."
   ]
  },
  {
   "cell_type": "code",
   "execution_count": 1,
   "id": "15d7ffd6",
   "metadata": {
    "execution": {
     "iopub.execute_input": "2025-01-06T21:06:46.341097Z",
     "iopub.status.busy": "2025-01-06T21:06:46.340502Z",
     "iopub.status.idle": "2025-01-06T21:06:46.359468Z",
     "shell.execute_reply": "2025-01-06T21:06:46.358888Z"
    },
    "papermill": {
     "duration": 0.027413,
     "end_time": "2025-01-06T21:06:46.361133",
     "exception": false,
     "start_time": "2025-01-06T21:06:46.333720",
     "status": "completed"
    },
    "tags": []
   },
   "outputs": [],
   "source": [
    "%load_ext autoreload\n",
    "%autoreload 2"
   ]
  },
  {
   "cell_type": "code",
   "execution_count": 2,
   "id": "81477f7f",
   "metadata": {
    "execution": {
     "iopub.execute_input": "2025-01-06T21:06:46.374996Z",
     "iopub.status.busy": "2025-01-06T21:06:46.374408Z",
     "iopub.status.idle": "2025-01-06T21:06:48.355973Z",
     "shell.execute_reply": "2025-01-06T21:06:48.355300Z"
    },
    "papermill": {
     "duration": 1.990343,
     "end_time": "2025-01-06T21:06:48.357608",
     "exception": false,
     "start_time": "2025-01-06T21:06:46.367265",
     "status": "completed"
    },
    "tags": []
   },
   "outputs": [],
   "source": [
    "import pandas as pd\n",
    "from ensembl_genes import ensembl_genes\n",
    "from bioregistry import normalize_prefix"
   ]
  },
  {
   "cell_type": "code",
   "execution_count": 3,
   "id": "11a45cc6",
   "metadata": {
    "execution": {
     "iopub.execute_input": "2025-01-06T21:06:48.371334Z",
     "iopub.status.busy": "2025-01-06T21:06:48.370755Z",
     "iopub.status.idle": "2025-01-06T21:06:48.384203Z",
     "shell.execute_reply": "2025-01-06T21:06:48.383651Z"
    },
    "papermill": {
     "duration": 0.02187,
     "end_time": "2025-01-06T21:06:48.385692",
     "exception": false,
     "start_time": "2025-01-06T21:06:48.363822",
     "status": "completed"
    },
    "tags": [
     "parameters"
    ]
   },
   "outputs": [],
   "source": [
    "# parameters cell\n",
    "species = \"human\"\n",
    "release = \"111\""
   ]
  },
  {
   "cell_type": "code",
   "execution_count": 4,
   "id": "c31ae981",
   "metadata": {
    "execution": {
     "iopub.execute_input": "2025-01-06T21:06:48.399205Z",
     "iopub.status.busy": "2025-01-06T21:06:48.398730Z",
     "iopub.status.idle": "2025-01-06T21:06:48.412454Z",
     "shell.execute_reply": "2025-01-06T21:06:48.411866Z"
    },
    "papermill": {
     "duration": 0.022121,
     "end_time": "2025-01-06T21:06:48.414020",
     "exception": false,
     "start_time": "2025-01-06T21:06:48.391899",
     "status": "completed"
    },
    "tags": [
     "injected-parameters"
    ]
   },
   "outputs": [],
   "source": [
    "# Parameters\n",
    "species = \"rat\"\n",
    "release = \"113\"\n"
   ]
  },
  {
   "cell_type": "code",
   "execution_count": 5,
   "id": "84f7eedd",
   "metadata": {
    "execution": {
     "iopub.execute_input": "2025-01-06T21:06:48.427887Z",
     "iopub.status.busy": "2025-01-06T21:06:48.427400Z",
     "iopub.status.idle": "2025-01-06T21:06:48.517993Z",
     "shell.execute_reply": "2025-01-06T21:06:48.517408Z"
    },
    "papermill": {
     "duration": 0.09918,
     "end_time": "2025-01-06T21:06:48.519497",
     "exception": false,
     "start_time": "2025-01-06T21:06:48.420317",
     "status": "completed"
    },
    "tags": []
   },
   "outputs": [
    {
     "data": {
      "text/plain": [
       "'mysql+mysqlconnector://anonymous@ensembldb.ensembl.org:3306/rattus_norvegicus_core_113_72'"
      ]
     },
     "execution_count": 5,
     "metadata": {},
     "output_type": "execute_result"
    }
   ],
   "source": [
    "ensg = ensembl_genes.Ensembl_Gene_Queries(release=release, species=species)\n",
    "ensg.connection_url"
   ]
  },
  {
   "cell_type": "code",
   "execution_count": 6,
   "id": "8b923feb",
   "metadata": {
    "execution": {
     "iopub.execute_input": "2025-01-06T21:06:48.533701Z",
     "iopub.status.busy": "2025-01-06T21:06:48.533105Z",
     "iopub.status.idle": "2025-01-06T21:06:48.548469Z",
     "shell.execute_reply": "2025-01-06T21:06:48.547790Z"
    },
    "papermill": {
     "duration": 0.023832,
     "end_time": "2025-01-06T21:06:48.549915",
     "exception": false,
     "start_time": "2025-01-06T21:06:48.526083",
     "status": "completed"
    },
    "tags": []
   },
   "outputs": [
    {
     "data": {
      "text/plain": [
       "'rattus_norvegicus_core_113_72'"
      ]
     },
     "execution_count": 6,
     "metadata": {},
     "output_type": "execute_result"
    }
   ],
   "source": [
    "database = ensg.database\n",
    "database"
   ]
  },
  {
   "cell_type": "markdown",
   "id": "b8df5481",
   "metadata": {
    "papermill": {
     "duration": 0.006042,
     "end_time": "2025-01-06T21:06:48.562366",
     "exception": false,
     "start_time": "2025-01-06T21:06:48.556324",
     "status": "completed"
    },
    "tags": []
   },
   "source": [
    "## Extract data"
   ]
  },
  {
   "cell_type": "markdown",
   "id": "88edbf6c",
   "metadata": {
    "papermill": {
     "duration": 0.006332,
     "end_time": "2025-01-06T21:06:48.574722",
     "exception": false,
     "start_time": "2025-01-06T21:06:48.568390",
     "status": "completed"
    },
    "tags": []
   },
   "source": [
    "## gene attrib counts"
   ]
  },
  {
   "cell_type": "code",
   "execution_count": 7,
   "id": "f749fd83",
   "metadata": {
    "execution": {
     "iopub.execute_input": "2025-01-06T21:06:48.588749Z",
     "iopub.status.busy": "2025-01-06T21:06:48.588028Z",
     "iopub.status.idle": "2025-01-06T21:06:51.425352Z",
     "shell.execute_reply": "2025-01-06T21:06:51.424737Z"
    },
    "papermill": {
     "duration": 2.845856,
     "end_time": "2025-01-06T21:06:51.426724",
     "exception": false,
     "start_time": "2025-01-06T21:06:48.580868",
     "status": "completed"
    },
    "tags": []
   },
   "outputs": [
    {
     "data": {
      "text/html": [
       "<div>\n",
       "<style scoped>\n",
       "    .dataframe tbody tr th:only-of-type {\n",
       "        vertical-align: middle;\n",
       "    }\n",
       "\n",
       "    .dataframe tbody tr th {\n",
       "        vertical-align: top;\n",
       "    }\n",
       "\n",
       "    .dataframe thead th {\n",
       "        text-align: right;\n",
       "    }\n",
       "</style>\n",
       "<table border=\"1\" class=\"dataframe\">\n",
       "  <thead>\n",
       "    <tr style=\"text-align: right;\">\n",
       "      <th></th>\n",
       "      <th>attrib_type_id</th>\n",
       "      <th>code</th>\n",
       "      <th>name</th>\n",
       "      <th>description</th>\n",
       "      <th>attrib_type_count</th>\n",
       "      <th>attrib_type_examples</th>\n",
       "    </tr>\n",
       "  </thead>\n",
       "  <tbody>\n",
       "    <tr>\n",
       "      <th>0</th>\n",
       "      <td>142</td>\n",
       "      <td>GeneGC</td>\n",
       "      <td>Gene GC</td>\n",
       "      <td>Percentage GC content for this gene</td>\n",
       "      <td>30562</td>\n",
       "      <td>49.33, 44.32, 39.05, 40.58, 36.24, 47.10, 55.1...</td>\n",
       "    </tr>\n",
       "    <tr>\n",
       "      <th>1</th>\n",
       "      <td>127</td>\n",
       "      <td>cds_end_NF</td>\n",
       "      <td>CDS end not found</td>\n",
       "      <td>None</td>\n",
       "      <td>0</td>\n",
       "      <td>None</td>\n",
       "    </tr>\n",
       "    <tr>\n",
       "      <th>2</th>\n",
       "      <td>32</td>\n",
       "      <td>KnwnPCCount</td>\n",
       "      <td>protein_coding_KNOWN</td>\n",
       "      <td>Number of Known Protein Coding</td>\n",
       "      <td>0</td>\n",
       "      <td>None</td>\n",
       "    </tr>\n",
       "    <tr>\n",
       "      <th>3</th>\n",
       "      <td>90</td>\n",
       "      <td>bacend_well_nam</td>\n",
       "      <td>BACend well name</td>\n",
       "      <td>None</td>\n",
       "      <td>0</td>\n",
       "      <td>None</td>\n",
       "    </tr>\n",
       "    <tr>\n",
       "      <th>4</th>\n",
       "      <td>118</td>\n",
       "      <td>ensembl_name</td>\n",
       "      <td>Ensembl name</td>\n",
       "      <td>Name of equivalent Ensembl chromosome</td>\n",
       "      <td>0</td>\n",
       "      <td>None</td>\n",
       "    </tr>\n",
       "    <tr>\n",
       "      <th>5</th>\n",
       "      <td>520</td>\n",
       "      <td>proj_parent_g</td>\n",
       "      <td>projection parent gene</td>\n",
       "      <td>Stable identifier of the parent gene this gene...</td>\n",
       "      <td>0</td>\n",
       "      <td>None</td>\n",
       "    </tr>\n",
       "    <tr>\n",
       "      <th>6</th>\n",
       "      <td>358</td>\n",
       "      <td>PHIbase_mutant</td>\n",
       "      <td>PHI-base mutant</td>\n",
       "      <td>PHI-base phenotype of the mutants</td>\n",
       "      <td>0</td>\n",
       "      <td>None</td>\n",
       "    </tr>\n",
       "    <tr>\n",
       "      <th>7</th>\n",
       "      <td>532</td>\n",
       "      <td>dbnsfp_revel_pred</td>\n",
       "      <td>dbNSFP REVEL prediction</td>\n",
       "      <td>dbNSFP REVEL prediction</td>\n",
       "      <td>0</td>\n",
       "      <td>None</td>\n",
       "    </tr>\n",
       "    <tr>\n",
       "      <th>8</th>\n",
       "      <td>16</td>\n",
       "      <td>non_ref</td>\n",
       "      <td>Non Reference</td>\n",
       "      <td>Non Reference Sequence Region</td>\n",
       "      <td>0</td>\n",
       "      <td>None</td>\n",
       "    </tr>\n",
       "    <tr>\n",
       "      <th>9</th>\n",
       "      <td>55</td>\n",
       "      <td>transcr_class</td>\n",
       "      <td>Transcript class</td>\n",
       "      <td>Transcript class</td>\n",
       "      <td>0</td>\n",
       "      <td>None</td>\n",
       "    </tr>\n",
       "    <tr>\n",
       "      <th>10</th>\n",
       "      <td>512</td>\n",
       "      <td>cmscan_truncated</td>\n",
       "      <td>Truncated</td>\n",
       "      <td>In a cmscan alignment, the end of the gene whi...</td>\n",
       "      <td>0</td>\n",
       "      <td>None</td>\n",
       "    </tr>\n",
       "    <tr>\n",
       "      <th>11</th>\n",
       "      <td>437</td>\n",
       "      <td>lncRNACount</td>\n",
       "      <td>lncRNA_Count</td>\n",
       "      <td>Number of lncRNAs</td>\n",
       "      <td>0</td>\n",
       "      <td>None</td>\n",
       "    </tr>\n",
       "    <tr>\n",
       "      <th>12</th>\n",
       "      <td>57</td>\n",
       "      <td>ccds</td>\n",
       "      <td>CCDS</td>\n",
       "      <td>CCDS identifier</td>\n",
       "      <td>0</td>\n",
       "      <td>None</td>\n",
       "    </tr>\n",
       "    <tr>\n",
       "      <th>13</th>\n",
       "      <td>517</td>\n",
       "      <td>rfam_accession</td>\n",
       "      <td>Accession</td>\n",
       "      <td>Rfam accession</td>\n",
       "      <td>0</td>\n",
       "      <td>None</td>\n",
       "    </tr>\n",
       "    <tr>\n",
       "      <th>14</th>\n",
       "      <td>458</td>\n",
       "      <td>rseq_ens_match_cds</td>\n",
       "      <td>RefSeq model to overlapping Ensembl model CDS ...</td>\n",
       "      <td>This is a transcript attribute that signifies ...</td>\n",
       "      <td>0</td>\n",
       "      <td>None</td>\n",
       "    </tr>\n",
       "  </tbody>\n",
       "</table>\n",
       "</div>"
      ],
      "text/plain": [
       "    attrib_type_id                code  \\\n",
       "0              142              GeneGC   \n",
       "1              127          cds_end_NF   \n",
       "2               32         KnwnPCCount   \n",
       "3               90     bacend_well_nam   \n",
       "4              118        ensembl_name   \n",
       "5              520       proj_parent_g   \n",
       "6              358      PHIbase_mutant   \n",
       "7              532   dbnsfp_revel_pred   \n",
       "8               16             non_ref   \n",
       "9               55       transcr_class   \n",
       "10             512    cmscan_truncated   \n",
       "11             437         lncRNACount   \n",
       "12              57                ccds   \n",
       "13             517      rfam_accession   \n",
       "14             458  rseq_ens_match_cds   \n",
       "\n",
       "                                                 name  \\\n",
       "0                                             Gene GC   \n",
       "1                                   CDS end not found   \n",
       "2                                protein_coding_KNOWN   \n",
       "3                                    BACend well name   \n",
       "4                                        Ensembl name   \n",
       "5                              projection parent gene   \n",
       "6                                     PHI-base mutant   \n",
       "7                             dbNSFP REVEL prediction   \n",
       "8                                       Non Reference   \n",
       "9                                    Transcript class   \n",
       "10                                          Truncated   \n",
       "11                                       lncRNA_Count   \n",
       "12                                               CCDS   \n",
       "13                                          Accession   \n",
       "14  RefSeq model to overlapping Ensembl model CDS ...   \n",
       "\n",
       "                                          description  attrib_type_count  \\\n",
       "0                 Percentage GC content for this gene              30562   \n",
       "1                                                None                  0   \n",
       "2                      Number of Known Protein Coding                  0   \n",
       "3                                                None                  0   \n",
       "4               Name of equivalent Ensembl chromosome                  0   \n",
       "5   Stable identifier of the parent gene this gene...                  0   \n",
       "6                   PHI-base phenotype of the mutants                  0   \n",
       "7                             dbNSFP REVEL prediction                  0   \n",
       "8                       Non Reference Sequence Region                  0   \n",
       "9                                    Transcript class                  0   \n",
       "10  In a cmscan alignment, the end of the gene whi...                  0   \n",
       "11                                  Number of lncRNAs                  0   \n",
       "12                                    CCDS identifier                  0   \n",
       "13                                     Rfam accession                  0   \n",
       "14  This is a transcript attribute that signifies ...                  0   \n",
       "\n",
       "                                 attrib_type_examples  \n",
       "0   49.33, 44.32, 39.05, 40.58, 36.24, 47.10, 55.1...  \n",
       "1                                                None  \n",
       "2                                                None  \n",
       "3                                                None  \n",
       "4                                                None  \n",
       "5                                                None  \n",
       "6                                                None  \n",
       "7                                                None  \n",
       "8                                                None  \n",
       "9                                                None  \n",
       "10                                               None  \n",
       "11                                               None  \n",
       "12                                               None  \n",
       "13                                               None  \n",
       "14                                               None  "
      ]
     },
     "execution_count": 7,
     "metadata": {},
     "output_type": "execute_result"
    }
   ],
   "source": [
    "ensg.run_query(\"gene_attrib_counts\").head(15)"
   ]
  },
  {
   "cell_type": "markdown",
   "id": "7caa20bd",
   "metadata": {
    "papermill": {
     "duration": 0.00624,
     "end_time": "2025-01-06T21:06:51.439693",
     "exception": false,
     "start_time": "2025-01-06T21:06:51.433453",
     "status": "completed"
    },
    "tags": []
   },
   "source": [
    "## genes"
   ]
  },
  {
   "cell_type": "code",
   "execution_count": 8,
   "id": "4584b5b3",
   "metadata": {
    "execution": {
     "iopub.execute_input": "2025-01-06T21:06:51.453766Z",
     "iopub.status.busy": "2025-01-06T21:06:51.453272Z",
     "iopub.status.idle": "2025-01-06T21:08:16.436922Z",
     "shell.execute_reply": "2025-01-06T21:08:16.436116Z"
    },
    "papermill": {
     "duration": 84.999441,
     "end_time": "2025-01-06T21:08:16.445350",
     "exception": false,
     "start_time": "2025-01-06T21:06:51.445909",
     "status": "completed"
    },
    "tags": []
   },
   "outputs": [
    {
     "data": {
      "text/html": [
       "<div>\n",
       "<style scoped>\n",
       "    .dataframe tbody tr th:only-of-type {\n",
       "        vertical-align: middle;\n",
       "    }\n",
       "\n",
       "    .dataframe tbody tr th {\n",
       "        vertical-align: top;\n",
       "    }\n",
       "\n",
       "    .dataframe thead th {\n",
       "        text-align: right;\n",
       "    }\n",
       "</style>\n",
       "<table border=\"1\" class=\"dataframe\">\n",
       "  <thead>\n",
       "    <tr style=\"text-align: right;\">\n",
       "      <th></th>\n",
       "      <th>ensembl_gene_id</th>\n",
       "      <th>ensembl_gene_version</th>\n",
       "      <th>gene_symbol</th>\n",
       "      <th>gene_symbol_source_db</th>\n",
       "      <th>gene_symbol_source_id</th>\n",
       "      <th>gene_biotype</th>\n",
       "      <th>ensembl_source</th>\n",
       "      <th>ensembl_created_date</th>\n",
       "      <th>ensembl_modified_date</th>\n",
       "      <th>coord_system_version</th>\n",
       "      <th>...</th>\n",
       "      <th>seq_region_start</th>\n",
       "      <th>seq_region_end</th>\n",
       "      <th>seq_region_strand</th>\n",
       "      <th>primary_assembly</th>\n",
       "      <th>lrg_gene_id</th>\n",
       "      <th>mhc</th>\n",
       "      <th>gene_description</th>\n",
       "      <th>gene_description_source_db</th>\n",
       "      <th>gene_description_source_id</th>\n",
       "      <th>ensembl_representative_gene_id</th>\n",
       "    </tr>\n",
       "  </thead>\n",
       "  <tbody>\n",
       "    <tr>\n",
       "      <th>0</th>\n",
       "      <td>ENSRNOG00000000001</td>\n",
       "      <td>6</td>\n",
       "      <td>Arsj</td>\n",
       "      <td>RGD</td>\n",
       "      <td>1307640</td>\n",
       "      <td>protein_coding</td>\n",
       "      <td>ensembl</td>\n",
       "      <td>2009-07-29 15:36:02</td>\n",
       "      <td>2021-02-26 12:35:27</td>\n",
       "      <td>mRatBN7.2</td>\n",
       "      <td>...</td>\n",
       "      <td>214774654</td>\n",
       "      <td>214854612</td>\n",
       "      <td>1</td>\n",
       "      <td>True</td>\n",
       "      <td>NaN</td>\n",
       "      <td>None</td>\n",
       "      <td>arylsulfatase family, member J</td>\n",
       "      <td>RGD Symbol</td>\n",
       "      <td>1307640</td>\n",
       "      <td>ENSRNOG00000000001</td>\n",
       "    </tr>\n",
       "    <tr>\n",
       "      <th>1</th>\n",
       "      <td>ENSRNOG00000000007</td>\n",
       "      <td>8</td>\n",
       "      <td>Gad1</td>\n",
       "      <td>RGD</td>\n",
       "      <td>2652</td>\n",
       "      <td>protein_coding</td>\n",
       "      <td>ensembl</td>\n",
       "      <td>2009-07-29 15:36:02</td>\n",
       "      <td>2021-02-26 12:35:27</td>\n",
       "      <td>mRatBN7.2</td>\n",
       "      <td>...</td>\n",
       "      <td>55369704</td>\n",
       "      <td>55410333</td>\n",
       "      <td>1</td>\n",
       "      <td>True</td>\n",
       "      <td>NaN</td>\n",
       "      <td>None</td>\n",
       "      <td>glutamate decarboxylase 1</td>\n",
       "      <td>RGD Symbol</td>\n",
       "      <td>2652</td>\n",
       "      <td>ENSRNOG00000000007</td>\n",
       "    </tr>\n",
       "    <tr>\n",
       "      <th>2</th>\n",
       "      <td>ENSRNOG00000000008</td>\n",
       "      <td>8</td>\n",
       "      <td>Alx4</td>\n",
       "      <td>RGD</td>\n",
       "      <td>1310201</td>\n",
       "      <td>protein_coding</td>\n",
       "      <td>ensembl</td>\n",
       "      <td>2009-07-29 15:36:02</td>\n",
       "      <td>2021-02-26 12:35:27</td>\n",
       "      <td>mRatBN7.2</td>\n",
       "      <td>...</td>\n",
       "      <td>79611719</td>\n",
       "      <td>79648260</td>\n",
       "      <td>1</td>\n",
       "      <td>True</td>\n",
       "      <td>NaN</td>\n",
       "      <td>None</td>\n",
       "      <td>ALX homeobox 4</td>\n",
       "      <td>RGD Symbol</td>\n",
       "      <td>1310201</td>\n",
       "      <td>ENSRNOG00000000008</td>\n",
       "    </tr>\n",
       "    <tr>\n",
       "      <th>3</th>\n",
       "      <td>ENSRNOG00000000009</td>\n",
       "      <td>6</td>\n",
       "      <td>Tmco5b</td>\n",
       "      <td>RGD</td>\n",
       "      <td>1561237</td>\n",
       "      <td>protein_coding</td>\n",
       "      <td>ensembl</td>\n",
       "      <td>2009-07-29 15:36:02</td>\n",
       "      <td>2021-02-26 12:35:27</td>\n",
       "      <td>mRatBN7.2</td>\n",
       "      <td>...</td>\n",
       "      <td>100064979</td>\n",
       "      <td>100083289</td>\n",
       "      <td>1</td>\n",
       "      <td>True</td>\n",
       "      <td>NaN</td>\n",
       "      <td>None</td>\n",
       "      <td>transmembrane and coiled-coil domains 5B</td>\n",
       "      <td>RGD Symbol</td>\n",
       "      <td>1561237</td>\n",
       "      <td>ENSRNOG00000000009</td>\n",
       "    </tr>\n",
       "    <tr>\n",
       "      <th>4</th>\n",
       "      <td>ENSRNOG00000000010</td>\n",
       "      <td>6</td>\n",
       "      <td>Cbln1</td>\n",
       "      <td>RGD</td>\n",
       "      <td>1562813</td>\n",
       "      <td>protein_coding</td>\n",
       "      <td>ensembl</td>\n",
       "      <td>2009-07-29 15:36:02</td>\n",
       "      <td>2021-02-26 12:35:27</td>\n",
       "      <td>mRatBN7.2</td>\n",
       "      <td>...</td>\n",
       "      <td>19608716</td>\n",
       "      <td>19612572</td>\n",
       "      <td>1</td>\n",
       "      <td>True</td>\n",
       "      <td>NaN</td>\n",
       "      <td>None</td>\n",
       "      <td>cerebellin 1 precursor</td>\n",
       "      <td>RGD Symbol</td>\n",
       "      <td>1562813</td>\n",
       "      <td>ENSRNOG00000000010</td>\n",
       "    </tr>\n",
       "  </tbody>\n",
       "</table>\n",
       "<p>5 rows × 23 columns</p>\n",
       "</div>"
      ],
      "text/plain": [
       "      ensembl_gene_id  ensembl_gene_version gene_symbol gene_symbol_source_db  \\\n",
       "0  ENSRNOG00000000001                     6        Arsj                   RGD   \n",
       "1  ENSRNOG00000000007                     8        Gad1                   RGD   \n",
       "2  ENSRNOG00000000008                     8        Alx4                   RGD   \n",
       "3  ENSRNOG00000000009                     6      Tmco5b                   RGD   \n",
       "4  ENSRNOG00000000010                     6       Cbln1                   RGD   \n",
       "\n",
       "  gene_symbol_source_id    gene_biotype ensembl_source ensembl_created_date  \\\n",
       "0               1307640  protein_coding        ensembl  2009-07-29 15:36:02   \n",
       "1                  2652  protein_coding        ensembl  2009-07-29 15:36:02   \n",
       "2               1310201  protein_coding        ensembl  2009-07-29 15:36:02   \n",
       "3               1561237  protein_coding        ensembl  2009-07-29 15:36:02   \n",
       "4               1562813  protein_coding        ensembl  2009-07-29 15:36:02   \n",
       "\n",
       "  ensembl_modified_date coord_system_version  ... seq_region_start  \\\n",
       "0   2021-02-26 12:35:27            mRatBN7.2  ...        214774654   \n",
       "1   2021-02-26 12:35:27            mRatBN7.2  ...         55369704   \n",
       "2   2021-02-26 12:35:27            mRatBN7.2  ...         79611719   \n",
       "3   2021-02-26 12:35:27            mRatBN7.2  ...        100064979   \n",
       "4   2021-02-26 12:35:27            mRatBN7.2  ...         19608716   \n",
       "\n",
       "  seq_region_end seq_region_strand  primary_assembly  lrg_gene_id   mhc  \\\n",
       "0      214854612                 1              True          NaN  None   \n",
       "1       55410333                 1              True          NaN  None   \n",
       "2       79648260                 1              True          NaN  None   \n",
       "3      100083289                 1              True          NaN  None   \n",
       "4       19612572                 1              True          NaN  None   \n",
       "\n",
       "                           gene_description gene_description_source_db  \\\n",
       "0            arylsulfatase family, member J                 RGD Symbol   \n",
       "1                 glutamate decarboxylase 1                 RGD Symbol   \n",
       "2                            ALX homeobox 4                 RGD Symbol   \n",
       "3  transmembrane and coiled-coil domains 5B                 RGD Symbol   \n",
       "4                    cerebellin 1 precursor                 RGD Symbol   \n",
       "\n",
       "  gene_description_source_id ensembl_representative_gene_id  \n",
       "0                    1307640             ENSRNOG00000000001  \n",
       "1                       2652             ENSRNOG00000000007  \n",
       "2                    1310201             ENSRNOG00000000008  \n",
       "3                    1561237             ENSRNOG00000000009  \n",
       "4                    1562813             ENSRNOG00000000010  \n",
       "\n",
       "[5 rows x 23 columns]"
      ]
     },
     "execution_count": 8,
     "metadata": {},
     "output_type": "execute_result"
    }
   ],
   "source": [
    "ensg.gene_df.head()"
   ]
  },
  {
   "cell_type": "code",
   "execution_count": 9,
   "id": "6c353c81",
   "metadata": {
    "execution": {
     "iopub.execute_input": "2025-01-06T21:08:16.460018Z",
     "iopub.status.busy": "2025-01-06T21:08:16.459425Z",
     "iopub.status.idle": "2025-01-06T21:08:16.489620Z",
     "shell.execute_reply": "2025-01-06T21:08:16.489026Z"
    },
    "papermill": {
     "duration": 0.038925,
     "end_time": "2025-01-06T21:08:16.490950",
     "exception": false,
     "start_time": "2025-01-06T21:08:16.452025",
     "status": "completed"
    },
    "tags": []
   },
   "outputs": [
    {
     "data": {
      "text/html": [
       "<div>\n",
       "<style scoped>\n",
       "    .dataframe tbody tr th:only-of-type {\n",
       "        vertical-align: middle;\n",
       "    }\n",
       "\n",
       "    .dataframe tbody tr th {\n",
       "        vertical-align: top;\n",
       "    }\n",
       "\n",
       "    .dataframe thead th {\n",
       "        text-align: right;\n",
       "    }\n",
       "</style>\n",
       "<table border=\"1\" class=\"dataframe\">\n",
       "  <thead>\n",
       "    <tr style=\"text-align: right;\">\n",
       "      <th></th>\n",
       "      <th>ensembl_gene_id</th>\n",
       "      <th>ensembl_gene_version</th>\n",
       "      <th>gene_symbol</th>\n",
       "      <th>gene_symbol_source_db</th>\n",
       "      <th>gene_symbol_source_id</th>\n",
       "      <th>gene_biotype</th>\n",
       "      <th>ensembl_source</th>\n",
       "      <th>ensembl_created_date</th>\n",
       "      <th>ensembl_modified_date</th>\n",
       "      <th>coord_system_version</th>\n",
       "      <th>...</th>\n",
       "      <th>seq_region_start</th>\n",
       "      <th>seq_region_end</th>\n",
       "      <th>seq_region_strand</th>\n",
       "      <th>primary_assembly</th>\n",
       "      <th>lrg_gene_id</th>\n",
       "      <th>mhc</th>\n",
       "      <th>gene_description</th>\n",
       "      <th>gene_description_source_db</th>\n",
       "      <th>gene_description_source_id</th>\n",
       "      <th>ensembl_representative_gene_id</th>\n",
       "    </tr>\n",
       "  </thead>\n",
       "  <tbody>\n",
       "    <tr>\n",
       "      <th>4841</th>\n",
       "      <td>ENSRNOG00000009738</td>\n",
       "      <td>6</td>\n",
       "      <td>ENSRNOG00000009738</td>\n",
       "      <td>None</td>\n",
       "      <td>None</td>\n",
       "      <td>protein_coding</td>\n",
       "      <td>ensembl</td>\n",
       "      <td>2009-07-29 15:36:02</td>\n",
       "      <td>2021-02-26 12:35:27</td>\n",
       "      <td>mRatBN7.2</td>\n",
       "      <td>...</td>\n",
       "      <td>5549839</td>\n",
       "      <td>5593185</td>\n",
       "      <td>1</td>\n",
       "      <td>True</td>\n",
       "      <td>NaN</td>\n",
       "      <td>None</td>\n",
       "      <td>NaN</td>\n",
       "      <td>NaN</td>\n",
       "      <td>NaN</td>\n",
       "      <td>ENSRNOG00000009738</td>\n",
       "    </tr>\n",
       "    <tr>\n",
       "      <th>5326</th>\n",
       "      <td>ENSRNOG00000010657</td>\n",
       "      <td>5</td>\n",
       "      <td>ENSRNOG00000010657</td>\n",
       "      <td>None</td>\n",
       "      <td>None</td>\n",
       "      <td>protein_coding</td>\n",
       "      <td>ensembl</td>\n",
       "      <td>2009-07-29 15:36:02</td>\n",
       "      <td>2021-02-26 12:35:27</td>\n",
       "      <td>mRatBN7.2</td>\n",
       "      <td>...</td>\n",
       "      <td>80719012</td>\n",
       "      <td>80721104</td>\n",
       "      <td>1</td>\n",
       "      <td>True</td>\n",
       "      <td>NaN</td>\n",
       "      <td>None</td>\n",
       "      <td>NaN</td>\n",
       "      <td>NaN</td>\n",
       "      <td>NaN</td>\n",
       "      <td>ENSRNOG00000010657</td>\n",
       "    </tr>\n",
       "  </tbody>\n",
       "</table>\n",
       "<p>2 rows × 23 columns</p>\n",
       "</div>"
      ],
      "text/plain": [
       "         ensembl_gene_id  ensembl_gene_version         gene_symbol  \\\n",
       "4841  ENSRNOG00000009738                     6  ENSRNOG00000009738   \n",
       "5326  ENSRNOG00000010657                     5  ENSRNOG00000010657   \n",
       "\n",
       "     gene_symbol_source_db gene_symbol_source_id    gene_biotype  \\\n",
       "4841                  None                  None  protein_coding   \n",
       "5326                  None                  None  protein_coding   \n",
       "\n",
       "     ensembl_source ensembl_created_date ensembl_modified_date  \\\n",
       "4841        ensembl  2009-07-29 15:36:02   2021-02-26 12:35:27   \n",
       "5326        ensembl  2009-07-29 15:36:02   2021-02-26 12:35:27   \n",
       "\n",
       "     coord_system_version  ... seq_region_start seq_region_end  \\\n",
       "4841            mRatBN7.2  ...          5549839        5593185   \n",
       "5326            mRatBN7.2  ...         80719012       80721104   \n",
       "\n",
       "     seq_region_strand  primary_assembly  lrg_gene_id   mhc  gene_description  \\\n",
       "4841                 1              True          NaN  None               NaN   \n",
       "5326                 1              True          NaN  None               NaN   \n",
       "\n",
       "     gene_description_source_db gene_description_source_id  \\\n",
       "4841                        NaN                        NaN   \n",
       "5326                        NaN                        NaN   \n",
       "\n",
       "     ensembl_representative_gene_id  \n",
       "4841             ENSRNOG00000009738  \n",
       "5326             ENSRNOG00000010657  \n",
       "\n",
       "[2 rows x 23 columns]"
      ]
     },
     "execution_count": 9,
     "metadata": {},
     "output_type": "execute_result"
    }
   ],
   "source": [
    "# clone-based genes no longer get a symbol and are filled with the stable ID\n",
    "# https://www.ensembl.info/2021/03/15/retirement-of-clone-based-gene-names/\n",
    "ensg.gene_df.query(\"gene_symbol == ensembl_gene_id\").head(2)"
   ]
  },
  {
   "cell_type": "code",
   "execution_count": 10,
   "id": "38c791af",
   "metadata": {
    "execution": {
     "iopub.execute_input": "2025-01-06T21:08:16.505551Z",
     "iopub.status.busy": "2025-01-06T21:08:16.505339Z",
     "iopub.status.idle": "2025-01-06T21:08:16.569081Z",
     "shell.execute_reply": "2025-01-06T21:08:16.568337Z"
    },
    "papermill": {
     "duration": 0.072695,
     "end_time": "2025-01-06T21:08:16.570508",
     "exception": false,
     "start_time": "2025-01-06T21:08:16.497813",
     "status": "completed"
    },
    "tags": []
   },
   "outputs": [
    {
     "data": {
      "text/html": [
       "<div>\n",
       "<style scoped>\n",
       "    .dataframe tbody tr th:only-of-type {\n",
       "        vertical-align: middle;\n",
       "    }\n",
       "\n",
       "    .dataframe tbody tr th {\n",
       "        vertical-align: top;\n",
       "    }\n",
       "\n",
       "    .dataframe thead th {\n",
       "        text-align: right;\n",
       "    }\n",
       "</style>\n",
       "<table border=\"1\" class=\"dataframe\">\n",
       "  <thead>\n",
       "    <tr style=\"text-align: right;\">\n",
       "      <th>gene_symbol_source_db</th>\n",
       "      <th>EntrezGene</th>\n",
       "      <th>MGI</th>\n",
       "      <th>RFAM</th>\n",
       "      <th>RGD</th>\n",
       "      <th>missing (clone-based)</th>\n",
       "      <th>All</th>\n",
       "    </tr>\n",
       "    <tr>\n",
       "      <th>ensembl_source</th>\n",
       "      <th></th>\n",
       "      <th></th>\n",
       "      <th></th>\n",
       "      <th></th>\n",
       "      <th></th>\n",
       "      <th></th>\n",
       "    </tr>\n",
       "  </thead>\n",
       "  <tbody>\n",
       "    <tr>\n",
       "      <th>RefSeq</th>\n",
       "      <td>0</td>\n",
       "      <td>0</td>\n",
       "      <td>0</td>\n",
       "      <td>37</td>\n",
       "      <td>0</td>\n",
       "      <td>37</td>\n",
       "    </tr>\n",
       "    <tr>\n",
       "      <th>ensembl</th>\n",
       "      <td>2</td>\n",
       "      <td>7</td>\n",
       "      <td>113</td>\n",
       "      <td>26023</td>\n",
       "      <td>4380</td>\n",
       "      <td>30525</td>\n",
       "    </tr>\n",
       "    <tr>\n",
       "      <th>All</th>\n",
       "      <td>2</td>\n",
       "      <td>7</td>\n",
       "      <td>113</td>\n",
       "      <td>26060</td>\n",
       "      <td>4380</td>\n",
       "      <td>30562</td>\n",
       "    </tr>\n",
       "  </tbody>\n",
       "</table>\n",
       "</div>"
      ],
      "text/plain": [
       "gene_symbol_source_db  EntrezGene  MGI  RFAM    RGD  missing (clone-based)  \\\n",
       "ensembl_source                                                               \n",
       "RefSeq                          0    0     0     37                      0   \n",
       "ensembl                         2    7   113  26023                   4380   \n",
       "All                             2    7   113  26060                   4380   \n",
       "\n",
       "gene_symbol_source_db    All  \n",
       "ensembl_source                \n",
       "RefSeq                    37  \n",
       "ensembl                30525  \n",
       "All                    30562  "
      ]
     },
     "execution_count": 10,
     "metadata": {},
     "output_type": "execute_result"
    }
   ],
   "source": [
    "# which external database the gene symbol derives from versus the ensembl source\n",
    "pd.crosstab(\n",
    "    ensg.gene_df.ensembl_source,\n",
    "    ensg.gene_df.gene_symbol_source_db.fillna(\"missing (clone-based)\"),\n",
    "    margins=True,\n",
    ")"
   ]
  },
  {
   "cell_type": "code",
   "execution_count": 11,
   "id": "8dd5851f",
   "metadata": {
    "execution": {
     "iopub.execute_input": "2025-01-06T21:08:16.585765Z",
     "iopub.status.busy": "2025-01-06T21:08:16.585543Z",
     "iopub.status.idle": "2025-01-06T21:08:16.603383Z",
     "shell.execute_reply": "2025-01-06T21:08:16.602819Z"
    },
    "papermill": {
     "duration": 0.026983,
     "end_time": "2025-01-06T21:08:16.604771",
     "exception": false,
     "start_time": "2025-01-06T21:08:16.577788",
     "status": "completed"
    },
    "tags": []
   },
   "outputs": [
    {
     "data": {
      "text/plain": [
       "primary_assembly    30562\n",
       "Name: coord_system, dtype: int64"
      ]
     },
     "execution_count": 11,
     "metadata": {},
     "output_type": "execute_result"
    }
   ],
   "source": [
    "ensg.gene_df.coord_system.value_counts().head(10)"
   ]
  },
  {
   "cell_type": "code",
   "execution_count": 12,
   "id": "356ed303",
   "metadata": {
    "execution": {
     "iopub.execute_input": "2025-01-06T21:08:16.620544Z",
     "iopub.status.busy": "2025-01-06T21:08:16.620230Z",
     "iopub.status.idle": "2025-01-06T21:08:16.641970Z",
     "shell.execute_reply": "2025-01-06T21:08:16.641282Z"
    },
    "papermill": {
     "duration": 0.031131,
     "end_time": "2025-01-06T21:08:16.643300",
     "exception": false,
     "start_time": "2025-01-06T21:08:16.612169",
     "status": "completed"
    },
    "tags": []
   },
   "outputs": [
    {
     "data": {
      "text/plain": [
       "protein_coding          23098\n",
       "lncRNA                   2488\n",
       "snoRNA                   1706\n",
       "snRNA                    1512\n",
       "pseudogene                726\n",
       "miRNA                     444\n",
       "rRNA                      210\n",
       "processed_pseudogene      192\n",
       "IG_V_gene                  38\n",
       "scaRNA                     37\n",
       "Name: gene_biotype, dtype: int64"
      ]
     },
     "execution_count": 12,
     "metadata": {},
     "output_type": "execute_result"
    }
   ],
   "source": [
    "ensg.gene_df.gene_biotype.value_counts().head(10)"
   ]
  },
  {
   "cell_type": "code",
   "execution_count": 13,
   "id": "1f1eea4d",
   "metadata": {
    "execution": {
     "iopub.execute_input": "2025-01-06T21:08:16.658845Z",
     "iopub.status.busy": "2025-01-06T21:08:16.658378Z",
     "iopub.status.idle": "2025-01-06T21:08:16.701882Z",
     "shell.execute_reply": "2025-01-06T21:08:16.701139Z"
    },
    "papermill": {
     "duration": 0.052536,
     "end_time": "2025-01-06T21:08:16.703211",
     "exception": false,
     "start_time": "2025-01-06T21:08:16.650675",
     "status": "completed"
    },
    "tags": []
   },
   "outputs": [
    {
     "data": {
      "text/html": [
       "<div>\n",
       "<style scoped>\n",
       "    .dataframe tbody tr th:only-of-type {\n",
       "        vertical-align: middle;\n",
       "    }\n",
       "\n",
       "    .dataframe tbody tr th {\n",
       "        vertical-align: top;\n",
       "    }\n",
       "\n",
       "    .dataframe thead th {\n",
       "        text-align: right;\n",
       "    }\n",
       "</style>\n",
       "<table border=\"1\" class=\"dataframe\">\n",
       "  <thead>\n",
       "    <tr style=\"text-align: right;\">\n",
       "      <th>primary_assembly</th>\n",
       "      <th>False</th>\n",
       "      <th>True</th>\n",
       "      <th>All</th>\n",
       "    </tr>\n",
       "    <tr>\n",
       "      <th>coord_system</th>\n",
       "      <th></th>\n",
       "      <th></th>\n",
       "      <th></th>\n",
       "    </tr>\n",
       "  </thead>\n",
       "  <tbody>\n",
       "    <tr>\n",
       "      <th>primary_assembly</th>\n",
       "      <td>108</td>\n",
       "      <td>30454</td>\n",
       "      <td>30562</td>\n",
       "    </tr>\n",
       "    <tr>\n",
       "      <th>All</th>\n",
       "      <td>108</td>\n",
       "      <td>30454</td>\n",
       "      <td>30562</td>\n",
       "    </tr>\n",
       "  </tbody>\n",
       "</table>\n",
       "</div>"
      ],
      "text/plain": [
       "primary_assembly  False   True    All\n",
       "coord_system                         \n",
       "primary_assembly    108  30454  30562\n",
       "All                 108  30454  30562"
      ]
     },
     "execution_count": 13,
     "metadata": {},
     "output_type": "execute_result"
    }
   ],
   "source": [
    "pd.crosstab(ensg.gene_df.coord_system, ensg.gene_df.primary_assembly, margins=True)"
   ]
  },
  {
   "cell_type": "code",
   "execution_count": 14,
   "id": "c42ff99f",
   "metadata": {
    "execution": {
     "iopub.execute_input": "2025-01-06T21:08:16.719657Z",
     "iopub.status.busy": "2025-01-06T21:08:16.719155Z",
     "iopub.status.idle": "2025-01-06T21:08:16.735489Z",
     "shell.execute_reply": "2025-01-06T21:08:16.734836Z"
    },
    "papermill": {
     "duration": 0.025828,
     "end_time": "2025-01-06T21:08:16.736813",
     "exception": false,
     "start_time": "2025-01-06T21:08:16.710985",
     "status": "completed"
    },
    "tags": []
   },
   "outputs": [
    {
     "data": {
      "text/plain": [
       "Series([], Name: mhc, dtype: int64)"
      ]
     },
     "execution_count": 14,
     "metadata": {},
     "output_type": "execute_result"
    }
   ],
   "source": [
    "ensg.gene_df.mhc.value_counts()"
   ]
  },
  {
   "cell_type": "code",
   "execution_count": 15,
   "id": "7d1f73ea",
   "metadata": {
    "execution": {
     "iopub.execute_input": "2025-01-06T21:08:16.755421Z",
     "iopub.status.busy": "2025-01-06T21:08:16.754809Z",
     "iopub.status.idle": "2025-01-06T21:08:16.774021Z",
     "shell.execute_reply": "2025-01-06T21:08:16.773354Z"
    },
    "papermill": {
     "duration": 0.031233,
     "end_time": "2025-01-06T21:08:16.775483",
     "exception": false,
     "start_time": "2025-01-06T21:08:16.744250",
     "status": "completed"
    },
    "tags": []
   },
   "outputs": [
    {
     "data": {
      "text/plain": [
       "30562"
      ]
     },
     "execution_count": 15,
     "metadata": {},
     "output_type": "execute_result"
    }
   ],
   "source": [
    "len(ensg.gene_df)"
   ]
  },
  {
   "cell_type": "markdown",
   "id": "7a6cc97a",
   "metadata": {
    "papermill": {
     "duration": 0.007384,
     "end_time": "2025-01-06T21:08:16.790761",
     "exception": false,
     "start_time": "2025-01-06T21:08:16.783377",
     "status": "completed"
    },
    "tags": []
   },
   "source": [
    "## alternative gene alleles\n",
    "\n",
    "Related:\n",
    "\n",
    "- [OTP: Origin of genes_with_non_reference_ensembl_ids.tsv](https://github.com/opentargets/platform/issues/702)\n",
    "- [biostars: map between different assemblies of one ensembl release](https://www.biostars.org/p/143956/)\n",
    "- using `attrib_type.code = \"non_ref\"` for `primary_assembly` doesn't appear to return any results"
   ]
  },
  {
   "cell_type": "code",
   "execution_count": 16,
   "id": "8dbac16a",
   "metadata": {
    "execution": {
     "iopub.execute_input": "2025-01-06T21:08:16.806817Z",
     "iopub.status.busy": "2025-01-06T21:08:16.806372Z",
     "iopub.status.idle": "2025-01-06T21:08:16.827796Z",
     "shell.execute_reply": "2025-01-06T21:08:16.827100Z"
    },
    "papermill": {
     "duration": 0.031227,
     "end_time": "2025-01-06T21:08:16.829315",
     "exception": false,
     "start_time": "2025-01-06T21:08:16.798088",
     "status": "completed"
    },
    "tags": []
   },
   "outputs": [
    {
     "data": {
      "text/html": [
       "<div>\n",
       "<style scoped>\n",
       "    .dataframe tbody tr th:only-of-type {\n",
       "        vertical-align: middle;\n",
       "    }\n",
       "\n",
       "    .dataframe tbody tr th {\n",
       "        vertical-align: top;\n",
       "    }\n",
       "\n",
       "    .dataframe thead th {\n",
       "        text-align: right;\n",
       "    }\n",
       "</style>\n",
       "<table border=\"1\" class=\"dataframe\">\n",
       "  <thead>\n",
       "    <tr style=\"text-align: right;\">\n",
       "      <th></th>\n",
       "      <th>rs_allele_group</th>\n",
       "      <th>ensembl_gene_id</th>\n",
       "      <th>gene_symbol</th>\n",
       "      <th>ensembl_created_date</th>\n",
       "      <th>seq_region</th>\n",
       "      <th>primary_assembly</th>\n",
       "      <th>alt_allele_group_id</th>\n",
       "      <th>alt_allele_attrib</th>\n",
       "      <th>alt_allele_is_representative</th>\n",
       "      <th>ensembl_representative_gene_id</th>\n",
       "      <th>is_representative_gene</th>\n",
       "    </tr>\n",
       "  </thead>\n",
       "  <tbody>\n",
       "    <tr>\n",
       "      <th>0</th>\n",
       "      <td>1700001K19Rikl</td>\n",
       "      <td>ENSRNOG00000007184</td>\n",
       "      <td>1700001K19Rikl</td>\n",
       "      <td>2009-07-29 15:36:02</td>\n",
       "      <td>6</td>\n",
       "      <td>True</td>\n",
       "      <td>None</td>\n",
       "      <td>None</td>\n",
       "      <td>False</td>\n",
       "      <td>ENSRNOG00000007184</td>\n",
       "      <td>True</td>\n",
       "    </tr>\n",
       "    <tr>\n",
       "      <th>1</th>\n",
       "      <td>1700006A11Rikl</td>\n",
       "      <td>ENSRNOG00000024928</td>\n",
       "      <td>1700006A11Rikl</td>\n",
       "      <td>2009-07-29 15:36:02</td>\n",
       "      <td>2</td>\n",
       "      <td>True</td>\n",
       "      <td>None</td>\n",
       "      <td>None</td>\n",
       "      <td>False</td>\n",
       "      <td>ENSRNOG00000024928</td>\n",
       "      <td>True</td>\n",
       "    </tr>\n",
       "    <tr>\n",
       "      <th>2</th>\n",
       "      <td>1700009N14Rikl</td>\n",
       "      <td>ENSRNOG00000031013</td>\n",
       "      <td>1700009N14Rikl</td>\n",
       "      <td>2005-03-02 00:00:00</td>\n",
       "      <td>5</td>\n",
       "      <td>True</td>\n",
       "      <td>None</td>\n",
       "      <td>None</td>\n",
       "      <td>False</td>\n",
       "      <td>ENSRNOG00000031013</td>\n",
       "      <td>True</td>\n",
       "    </tr>\n",
       "    <tr>\n",
       "      <th>3</th>\n",
       "      <td>1700012A03Rikl</td>\n",
       "      <td>ENSRNOG00000027055</td>\n",
       "      <td>1700012A03Rikl</td>\n",
       "      <td>2009-07-29 15:36:02</td>\n",
       "      <td>4</td>\n",
       "      <td>True</td>\n",
       "      <td>None</td>\n",
       "      <td>None</td>\n",
       "      <td>False</td>\n",
       "      <td>ENSRNOG00000027055</td>\n",
       "      <td>True</td>\n",
       "    </tr>\n",
       "    <tr>\n",
       "      <th>4</th>\n",
       "      <td>1700012B07Rkl</td>\n",
       "      <td>ENSRNOG00000024233</td>\n",
       "      <td>1700012B07Rkl</td>\n",
       "      <td>2009-07-29 15:36:02</td>\n",
       "      <td>10</td>\n",
       "      <td>True</td>\n",
       "      <td>None</td>\n",
       "      <td>None</td>\n",
       "      <td>False</td>\n",
       "      <td>ENSRNOG00000024233</td>\n",
       "      <td>True</td>\n",
       "    </tr>\n",
       "  </tbody>\n",
       "</table>\n",
       "</div>"
      ],
      "text/plain": [
       "  rs_allele_group     ensembl_gene_id     gene_symbol ensembl_created_date  \\\n",
       "0  1700001K19Rikl  ENSRNOG00000007184  1700001K19Rikl  2009-07-29 15:36:02   \n",
       "1  1700006A11Rikl  ENSRNOG00000024928  1700006A11Rikl  2009-07-29 15:36:02   \n",
       "2  1700009N14Rikl  ENSRNOG00000031013  1700009N14Rikl  2005-03-02 00:00:00   \n",
       "3  1700012A03Rikl  ENSRNOG00000027055  1700012A03Rikl  2009-07-29 15:36:02   \n",
       "4   1700012B07Rkl  ENSRNOG00000024233   1700012B07Rkl  2009-07-29 15:36:02   \n",
       "\n",
       "  seq_region  primary_assembly alt_allele_group_id alt_allele_attrib  \\\n",
       "0          6              True                None              None   \n",
       "1          2              True                None              None   \n",
       "2          5              True                None              None   \n",
       "3          4              True                None              None   \n",
       "4         10              True                None              None   \n",
       "\n",
       "   alt_allele_is_representative ensembl_representative_gene_id  \\\n",
       "0                         False             ENSRNOG00000007184   \n",
       "1                         False             ENSRNOG00000024928   \n",
       "2                         False             ENSRNOG00000031013   \n",
       "3                         False             ENSRNOG00000027055   \n",
       "4                         False             ENSRNOG00000024233   \n",
       "\n",
       "   is_representative_gene  \n",
       "0                    True  \n",
       "1                    True  \n",
       "2                    True  \n",
       "3                    True  \n",
       "4                    True  "
      ]
     },
     "execution_count": 16,
     "metadata": {},
     "output_type": "execute_result"
    }
   ],
   "source": [
    "ensg.representative_gene_df.head()"
   ]
  },
  {
   "cell_type": "code",
   "execution_count": 17,
   "id": "9e1dc193",
   "metadata": {
    "execution": {
     "iopub.execute_input": "2025-01-06T21:08:16.846833Z",
     "iopub.status.busy": "2025-01-06T21:08:16.846352Z",
     "iopub.status.idle": "2025-01-06T21:08:19.368933Z",
     "shell.execute_reply": "2025-01-06T21:08:19.368204Z"
    },
    "papermill": {
     "duration": 2.532751,
     "end_time": "2025-01-06T21:08:19.370328",
     "exception": false,
     "start_time": "2025-01-06T21:08:16.837577",
     "status": "completed"
    },
    "tags": []
   },
   "outputs": [
    {
     "data": {
      "text/html": [
       "<div>\n",
       "<style scoped>\n",
       "    .dataframe tbody tr th:only-of-type {\n",
       "        vertical-align: middle;\n",
       "    }\n",
       "\n",
       "    .dataframe tbody tr th {\n",
       "        vertical-align: top;\n",
       "    }\n",
       "\n",
       "    .dataframe thead th {\n",
       "        text-align: right;\n",
       "    }\n",
       "</style>\n",
       "<table border=\"1\" class=\"dataframe\">\n",
       "  <thead>\n",
       "    <tr style=\"text-align: right;\">\n",
       "      <th></th>\n",
       "      <th>gene_id</th>\n",
       "      <th>attrib_type_id</th>\n",
       "      <th>value</th>\n",
       "      <th>attrib_type_id</th>\n",
       "      <th>code</th>\n",
       "      <th>name</th>\n",
       "      <th>description</th>\n",
       "    </tr>\n",
       "  </thead>\n",
       "  <tbody>\n",
       "  </tbody>\n",
       "</table>\n",
       "</div>"
      ],
      "text/plain": [
       "Empty DataFrame\n",
       "Columns: [gene_id, attrib_type_id, value, attrib_type_id, code, name, description]\n",
       "Index: []"
      ]
     },
     "execution_count": 17,
     "metadata": {},
     "output_type": "execute_result"
    }
   ],
   "source": [
    "# looks like non_ref isn't set for human genes\n",
    "query = '''\n",
    "SELECT *\n",
    "FROM gene_attrib\n",
    "LEFT JOIN attrib_type\n",
    "  ON gene_attrib.attrib_type_id = attrib_type.attrib_type_id\n",
    "WHERE attrib_type.code = \"non_ref\"\n",
    "LIMIT 5\n",
    "'''\n",
    "pd.read_sql(sql=query, con=ensg.connection_url)"
   ]
  },
  {
   "cell_type": "code",
   "execution_count": 18,
   "id": "113b1ae1",
   "metadata": {
    "execution": {
     "iopub.execute_input": "2025-01-06T21:08:19.387459Z",
     "iopub.status.busy": "2025-01-06T21:08:19.387018Z",
     "iopub.status.idle": "2025-01-06T21:08:19.403164Z",
     "shell.execute_reply": "2025-01-06T21:08:19.402587Z"
    },
    "papermill": {
     "duration": 0.026004,
     "end_time": "2025-01-06T21:08:19.404467",
     "exception": false,
     "start_time": "2025-01-06T21:08:19.378463",
     "status": "completed"
    },
    "tags": []
   },
   "outputs": [
    {
     "data": {
      "text/plain": [
       "Series([], Name: alt_allele_attrib, dtype: int64)"
      ]
     },
     "execution_count": 18,
     "metadata": {},
     "output_type": "execute_result"
    }
   ],
   "source": [
    "ensg.representative_gene_df.alt_allele_attrib.value_counts()"
   ]
  },
  {
   "cell_type": "code",
   "execution_count": 19,
   "id": "8decebf5",
   "metadata": {
    "execution": {
     "iopub.execute_input": "2025-01-06T21:08:19.421882Z",
     "iopub.status.busy": "2025-01-06T21:08:19.421450Z",
     "iopub.status.idle": "2025-01-06T21:08:19.445667Z",
     "shell.execute_reply": "2025-01-06T21:08:19.444988Z"
    },
    "papermill": {
     "duration": 0.034312,
     "end_time": "2025-01-06T21:08:19.447068",
     "exception": false,
     "start_time": "2025-01-06T21:08:19.412756",
     "status": "completed"
    },
    "tags": []
   },
   "outputs": [
    {
     "data": {
      "text/html": [
       "<div>\n",
       "<style scoped>\n",
       "    .dataframe tbody tr th:only-of-type {\n",
       "        vertical-align: middle;\n",
       "    }\n",
       "\n",
       "    .dataframe tbody tr th {\n",
       "        vertical-align: top;\n",
       "    }\n",
       "\n",
       "    .dataframe thead th {\n",
       "        text-align: right;\n",
       "    }\n",
       "</style>\n",
       "<table border=\"1\" class=\"dataframe\">\n",
       "  <thead>\n",
       "    <tr style=\"text-align: right;\">\n",
       "      <th></th>\n",
       "      <th>rs_allele_group</th>\n",
       "      <th>ensembl_gene_id</th>\n",
       "      <th>gene_symbol</th>\n",
       "      <th>ensembl_created_date</th>\n",
       "      <th>seq_region</th>\n",
       "      <th>primary_assembly</th>\n",
       "      <th>alt_allele_group_id</th>\n",
       "      <th>alt_allele_attrib</th>\n",
       "      <th>alt_allele_is_representative</th>\n",
       "      <th>ensembl_representative_gene_id</th>\n",
       "      <th>is_representative_gene</th>\n",
       "    </tr>\n",
       "  </thead>\n",
       "  <tbody>\n",
       "    <tr>\n",
       "      <th>9</th>\n",
       "      <td>1700020N15Rikl</td>\n",
       "      <td>ENSRNOG00000067249</td>\n",
       "      <td>1700020N15Rikl</td>\n",
       "      <td>2021-02-26 12:35:27</td>\n",
       "      <td>X</td>\n",
       "      <td>True</td>\n",
       "      <td>None</td>\n",
       "      <td>None</td>\n",
       "      <td>False</td>\n",
       "      <td>ENSRNOG00000064273</td>\n",
       "      <td>False</td>\n",
       "    </tr>\n",
       "    <tr>\n",
       "      <th>47</th>\n",
       "      <td>4930596D02Rikl2</td>\n",
       "      <td>ENSRNOG00000063038</td>\n",
       "      <td>4930596D02Rikl2</td>\n",
       "      <td>2021-02-26 12:35:27</td>\n",
       "      <td>17</td>\n",
       "      <td>True</td>\n",
       "      <td>None</td>\n",
       "      <td>None</td>\n",
       "      <td>False</td>\n",
       "      <td>ENSRNOG00000042120</td>\n",
       "      <td>False</td>\n",
       "    </tr>\n",
       "  </tbody>\n",
       "</table>\n",
       "</div>"
      ],
      "text/plain": [
       "    rs_allele_group     ensembl_gene_id      gene_symbol ensembl_created_date  \\\n",
       "9    1700020N15Rikl  ENSRNOG00000067249   1700020N15Rikl  2021-02-26 12:35:27   \n",
       "47  4930596D02Rikl2  ENSRNOG00000063038  4930596D02Rikl2  2021-02-26 12:35:27   \n",
       "\n",
       "   seq_region  primary_assembly alt_allele_group_id alt_allele_attrib  \\\n",
       "9           X              True                None              None   \n",
       "47         17              True                None              None   \n",
       "\n",
       "    alt_allele_is_representative ensembl_representative_gene_id  \\\n",
       "9                          False             ENSRNOG00000064273   \n",
       "47                         False             ENSRNOG00000042120   \n",
       "\n",
       "    is_representative_gene  \n",
       "9                    False  \n",
       "47                   False  "
      ]
     },
     "execution_count": 19,
     "metadata": {},
     "output_type": "execute_result"
    }
   ],
   "source": [
    "ensg.representative_gene_df.query(\"ensembl_gene_id != ensembl_representative_gene_id\").head(2)"
   ]
  },
  {
   "cell_type": "markdown",
   "id": "9d20a189",
   "metadata": {
    "papermill": {
     "duration": 0.007839,
     "end_time": "2025-01-06T21:08:19.463283",
     "exception": false,
     "start_time": "2025-01-06T21:08:19.455444",
     "status": "completed"
    },
    "tags": []
   },
   "source": [
    "# replaced ID converter\n",
    "\n",
    "A single `old_stable_id` can map to multiple `new_stable_id`. For example, `ENSG00000152006`\n",
    "\n",
    "https://uswest.ensembl.org/Homo_sapiens/Tools/IDMapper/Results?tl=AzhM62SpkvdiLC4H-6808613\n",
    "\n",
    "Requested ID | Matched ID(s) | Releases\n",
    "-- | -- | --\n",
    "ENSG00000152006 | ENSG00000196273 | 26: ENSG00000196273.1\n",
    "ENSG00000152006 | ENSG00000197016 | 26: ENSG00000197016.1\n",
    "ENSG00000152006 | ENSG00000196239 | 26: ENSG00000196239.1"
   ]
  },
  {
   "cell_type": "code",
   "execution_count": 20,
   "id": "f18c7b08",
   "metadata": {
    "execution": {
     "iopub.execute_input": "2025-01-06T21:08:19.480461Z",
     "iopub.status.busy": "2025-01-06T21:08:19.480004Z",
     "iopub.status.idle": "2025-01-06T21:08:22.269676Z",
     "shell.execute_reply": "2025-01-06T21:08:22.268958Z"
    },
    "papermill": {
     "duration": 2.799781,
     "end_time": "2025-01-06T21:08:22.271016",
     "exception": false,
     "start_time": "2025-01-06T21:08:19.471235",
     "status": "completed"
    },
    "tags": []
   },
   "outputs": [
    {
     "data": {
      "text/html": [
       "<div>\n",
       "<style scoped>\n",
       "    .dataframe tbody tr th:only-of-type {\n",
       "        vertical-align: middle;\n",
       "    }\n",
       "\n",
       "    .dataframe tbody tr th {\n",
       "        vertical-align: top;\n",
       "    }\n",
       "\n",
       "    .dataframe thead th {\n",
       "        text-align: right;\n",
       "    }\n",
       "</style>\n",
       "<table border=\"1\" class=\"dataframe\">\n",
       "  <thead>\n",
       "    <tr style=\"text-align: right;\">\n",
       "      <th></th>\n",
       "      <th>old_ensembl_gene_id</th>\n",
       "      <th>new_ensembl_gene_id</th>\n",
       "    </tr>\n",
       "  </thead>\n",
       "  <tbody>\n",
       "    <tr>\n",
       "      <th>0</th>\n",
       "      <td>ENSRNOG00000000132</td>\n",
       "      <td>ENSRNOG00000031425</td>\n",
       "    </tr>\n",
       "    <tr>\n",
       "      <th>1</th>\n",
       "      <td>ENSRNOG00000000194</td>\n",
       "      <td>ENSRNOG00000031589</td>\n",
       "    </tr>\n",
       "  </tbody>\n",
       "</table>\n",
       "</div>"
      ],
      "text/plain": [
       "  old_ensembl_gene_id new_ensembl_gene_id\n",
       "0  ENSRNOG00000000132  ENSRNOG00000031425\n",
       "1  ENSRNOG00000000194  ENSRNOG00000031589"
      ]
     },
     "execution_count": 20,
     "metadata": {},
     "output_type": "execute_result"
    }
   ],
   "source": [
    "ensg.old_to_new_df.head(2)"
   ]
  },
  {
   "cell_type": "code",
   "execution_count": 21,
   "id": "4cf84388",
   "metadata": {
    "execution": {
     "iopub.execute_input": "2025-01-06T21:08:22.289215Z",
     "iopub.status.busy": "2025-01-06T21:08:22.288759Z",
     "iopub.status.idle": "2025-01-06T21:08:22.308998Z",
     "shell.execute_reply": "2025-01-06T21:08:22.308302Z"
    },
    "papermill": {
     "duration": 0.030718,
     "end_time": "2025-01-06T21:08:22.310369",
     "exception": false,
     "start_time": "2025-01-06T21:08:22.279651",
     "status": "completed"
    },
    "tags": []
   },
   "outputs": [
    {
     "data": {
      "text/plain": [
       "ENSRNOG00000034138    202\n",
       "ENSRNOG00000050259     89\n",
       "Name: old_ensembl_gene_id, dtype: int64"
      ]
     },
     "execution_count": 21,
     "metadata": {},
     "output_type": "execute_result"
    }
   ],
   "source": [
    "# some ensembl genes replaced by many new ensembl genes\n",
    "ensg.old_to_new_df.old_ensembl_gene_id.value_counts().head(2)"
   ]
  },
  {
   "cell_type": "code",
   "execution_count": 22,
   "id": "9ea12826",
   "metadata": {
    "execution": {
     "iopub.execute_input": "2025-01-06T21:08:22.328247Z",
     "iopub.status.busy": "2025-01-06T21:08:22.327828Z",
     "iopub.status.idle": "2025-01-06T21:08:22.422445Z",
     "shell.execute_reply": "2025-01-06T21:08:22.421762Z"
    },
    "papermill": {
     "duration": 0.104903,
     "end_time": "2025-01-06T21:08:22.423828",
     "exception": false,
     "start_time": "2025-01-06T21:08:22.318925",
     "status": "completed"
    },
    "tags": []
   },
   "outputs": [
    {
     "data": {
      "text/plain": [
       "{'ENSG00000152006'}"
      ]
     },
     "execution_count": 22,
     "metadata": {},
     "output_type": "execute_result"
    }
   ],
   "source": [
    "# example\n",
    "ensg._update_ensembl_gene(\"ENSG00000152006\")"
   ]
  },
  {
   "cell_type": "code",
   "execution_count": 23,
   "id": "ac5b1ac7",
   "metadata": {
    "execution": {
     "iopub.execute_input": "2025-01-06T21:08:22.442446Z",
     "iopub.status.busy": "2025-01-06T21:08:22.441946Z",
     "iopub.status.idle": "2025-01-06T21:08:22.676656Z",
     "shell.execute_reply": "2025-01-06T21:08:22.675941Z"
    },
    "papermill": {
     "duration": 0.245278,
     "end_time": "2025-01-06T21:08:22.678030",
     "exception": false,
     "start_time": "2025-01-06T21:08:22.432752",
     "status": "completed"
    },
    "tags": []
   },
   "outputs": [
    {
     "data": {
      "text/html": [
       "<div>\n",
       "<style scoped>\n",
       "    .dataframe tbody tr th:only-of-type {\n",
       "        vertical-align: middle;\n",
       "    }\n",
       "\n",
       "    .dataframe tbody tr th {\n",
       "        vertical-align: top;\n",
       "    }\n",
       "\n",
       "    .dataframe thead th {\n",
       "        text-align: right;\n",
       "    }\n",
       "</style>\n",
       "<table border=\"1\" class=\"dataframe\">\n",
       "  <thead>\n",
       "    <tr style=\"text-align: right;\">\n",
       "      <th></th>\n",
       "      <th>old_ensembl_gene_id</th>\n",
       "      <th>newest_ensembl_gene_id</th>\n",
       "      <th>is_current</th>\n",
       "    </tr>\n",
       "  </thead>\n",
       "  <tbody>\n",
       "    <tr>\n",
       "      <th>0</th>\n",
       "      <td>ENSRNOG00000000132</td>\n",
       "      <td>ENSRNOG00000031425</td>\n",
       "      <td>True</td>\n",
       "    </tr>\n",
       "    <tr>\n",
       "      <th>1</th>\n",
       "      <td>ENSRNOG00000000194</td>\n",
       "      <td>ENSRNOG00000031589</td>\n",
       "      <td>False</td>\n",
       "    </tr>\n",
       "  </tbody>\n",
       "</table>\n",
       "</div>"
      ],
      "text/plain": [
       "  old_ensembl_gene_id newest_ensembl_gene_id  is_current\n",
       "0  ENSRNOG00000000132     ENSRNOG00000031425        True\n",
       "1  ENSRNOG00000000194     ENSRNOG00000031589       False"
      ]
     },
     "execution_count": 23,
     "metadata": {},
     "output_type": "execute_result"
    }
   ],
   "source": [
    "ensg.old_to_newest_df.head(2)"
   ]
  },
  {
   "cell_type": "code",
   "execution_count": 24,
   "id": "e8a7a882",
   "metadata": {
    "execution": {
     "iopub.execute_input": "2025-01-06T21:08:22.697273Z",
     "iopub.status.busy": "2025-01-06T21:08:22.696427Z",
     "iopub.status.idle": "2025-01-06T21:08:22.712627Z",
     "shell.execute_reply": "2025-01-06T21:08:22.711912Z"
    },
    "papermill": {
     "duration": 0.027048,
     "end_time": "2025-01-06T21:08:22.713951",
     "exception": false,
     "start_time": "2025-01-06T21:08:22.686903",
     "status": "completed"
    },
    "tags": []
   },
   "outputs": [
    {
     "data": {
      "text/plain": [
       "34351"
      ]
     },
     "execution_count": 24,
     "metadata": {},
     "output_type": "execute_result"
    }
   ],
   "source": [
    "len(ensg.old_to_newest_df)"
   ]
  },
  {
   "cell_type": "code",
   "execution_count": 25,
   "id": "c9afa8cb",
   "metadata": {
    "execution": {
     "iopub.execute_input": "2025-01-06T21:08:22.733007Z",
     "iopub.status.busy": "2025-01-06T21:08:22.732718Z",
     "iopub.status.idle": "2025-01-06T21:08:22.749938Z",
     "shell.execute_reply": "2025-01-06T21:08:22.749273Z"
    },
    "papermill": {
     "duration": 0.028226,
     "end_time": "2025-01-06T21:08:22.751303",
     "exception": false,
     "start_time": "2025-01-06T21:08:22.723077",
     "status": "completed"
    },
    "tags": []
   },
   "outputs": [
    {
     "data": {
      "text/plain": [
       "True     28635\n",
       "False     5716\n",
       "Name: is_current, dtype: int64"
      ]
     },
     "execution_count": 25,
     "metadata": {},
     "output_type": "execute_result"
    }
   ],
   "source": [
    "ensg.old_to_newest_df.is_current.value_counts()"
   ]
  },
  {
   "cell_type": "markdown",
   "id": "9d973f25",
   "metadata": {
    "papermill": {
     "duration": 0.008697,
     "end_time": "2025-01-06T21:08:22.769071",
     "exception": false,
     "start_time": "2025-01-06T21:08:22.760374",
     "status": "completed"
    },
    "tags": []
   },
   "source": [
    "## omni-updater\n",
    "\n",
    "The omni-updater dataset is designed to convert ensembl gene IDs from input data to the current, representative ensembl_gene_ids for this ensembl release. It assumes:\n",
    "\n",
    "- users want to update outdated genes with their replacements\n",
    "- users want a dataset of representative genes only, and want to convert alternative alleles to representative genes\n",
    "\n",
    "An inner join of a dataset with `update_df` on `input_ensembl_gene_id` will do the following:\n",
    "\n",
    "- produce output ensembl_gene_ids that are current and representatives\n",
    "- update outdated genes with their current identifiers. Outdated genes with no current replacement will be removed by the inner join.\n",
    "- update alternative gene alleles with their representatives\n",
    "- genes that are already represenative and current will map to themselves"
   ]
  },
  {
   "cell_type": "code",
   "execution_count": 26,
   "id": "4591e5e4",
   "metadata": {
    "execution": {
     "iopub.execute_input": "2025-01-06T21:08:22.788045Z",
     "iopub.status.busy": "2025-01-06T21:08:22.787447Z",
     "iopub.status.idle": "2025-01-06T21:08:22.968801Z",
     "shell.execute_reply": "2025-01-06T21:08:22.968079Z"
    },
    "papermill": {
     "duration": 0.192531,
     "end_time": "2025-01-06T21:08:22.970288",
     "exception": false,
     "start_time": "2025-01-06T21:08:22.777757",
     "status": "completed"
    },
    "tags": []
   },
   "outputs": [
    {
     "name": "stderr",
     "output_type": "stream",
     "text": [
      "WARNING:root:Duplicated updates via union of update_alt_df and update_old_df:\n",
      "input_ensembl_gene_id    ensembl_gene_id  input_current  input_representative\n",
      "   ENSRNOG00000033805 ENSRNOG00000033805           True                  True\n",
      "   ENSRNOG00000033805 ENSRNOG00000033805          False                 False\n",
      "   ENSRNOG00000034061 ENSRNOG00000034061           True                  True\n",
      "   ENSRNOG00000034061 ENSRNOG00000034061          False                 False\n"
     ]
    },
    {
     "data": {
      "text/html": [
       "<div>\n",
       "<style scoped>\n",
       "    .dataframe tbody tr th:only-of-type {\n",
       "        vertical-align: middle;\n",
       "    }\n",
       "\n",
       "    .dataframe tbody tr th {\n",
       "        vertical-align: top;\n",
       "    }\n",
       "\n",
       "    .dataframe thead th {\n",
       "        text-align: right;\n",
       "    }\n",
       "</style>\n",
       "<table border=\"1\" class=\"dataframe\">\n",
       "  <thead>\n",
       "    <tr style=\"text-align: right;\">\n",
       "      <th></th>\n",
       "      <th>input_ensembl_gene_id</th>\n",
       "      <th>ensembl_gene_id</th>\n",
       "      <th>input_current</th>\n",
       "      <th>input_representative</th>\n",
       "      <th>input_maps_to_n_genes</th>\n",
       "      <th>n_inputs_map_to_gene</th>\n",
       "    </tr>\n",
       "  </thead>\n",
       "  <tbody>\n",
       "    <tr>\n",
       "      <th>0</th>\n",
       "      <td>ENSRNOG00000000001</td>\n",
       "      <td>ENSRNOG00000000001</td>\n",
       "      <td>True</td>\n",
       "      <td>True</td>\n",
       "      <td>1</td>\n",
       "      <td>1</td>\n",
       "    </tr>\n",
       "    <tr>\n",
       "      <th>1</th>\n",
       "      <td>ENSRNOG00000000007</td>\n",
       "      <td>ENSRNOG00000000007</td>\n",
       "      <td>True</td>\n",
       "      <td>True</td>\n",
       "      <td>1</td>\n",
       "      <td>1</td>\n",
       "    </tr>\n",
       "  </tbody>\n",
       "</table>\n",
       "</div>"
      ],
      "text/plain": [
       "  input_ensembl_gene_id     ensembl_gene_id  input_current  \\\n",
       "0    ENSRNOG00000000001  ENSRNOG00000000001           True   \n",
       "1    ENSRNOG00000000007  ENSRNOG00000000007           True   \n",
       "\n",
       "   input_representative  input_maps_to_n_genes  n_inputs_map_to_gene  \n",
       "0                  True                      1                     1  \n",
       "1                  True                      1                     1  "
      ]
     },
     "execution_count": 26,
     "metadata": {},
     "output_type": "execute_result"
    }
   ],
   "source": [
    "ensg.update_df.head(2)"
   ]
  },
  {
   "cell_type": "code",
   "execution_count": 27,
   "id": "772bae02",
   "metadata": {
    "execution": {
     "iopub.execute_input": "2025-01-06T21:08:22.989949Z",
     "iopub.status.busy": "2025-01-06T21:08:22.989550Z",
     "iopub.status.idle": "2025-01-06T21:08:23.012956Z",
     "shell.execute_reply": "2025-01-06T21:08:23.012284Z"
    },
    "papermill": {
     "duration": 0.034588,
     "end_time": "2025-01-06T21:08:23.014392",
     "exception": false,
     "start_time": "2025-01-06T21:08:22.979804",
     "status": "completed"
    },
    "tags": []
   },
   "outputs": [
    {
     "data": {
      "text/html": [
       "<div>\n",
       "<style scoped>\n",
       "    .dataframe tbody tr th:only-of-type {\n",
       "        vertical-align: middle;\n",
       "    }\n",
       "\n",
       "    .dataframe tbody tr th {\n",
       "        vertical-align: top;\n",
       "    }\n",
       "\n",
       "    .dataframe thead th {\n",
       "        text-align: right;\n",
       "    }\n",
       "</style>\n",
       "<table border=\"1\" class=\"dataframe\">\n",
       "  <thead>\n",
       "    <tr style=\"text-align: right;\">\n",
       "      <th></th>\n",
       "      <th>input_ensembl_gene_id</th>\n",
       "      <th>ensembl_gene_id</th>\n",
       "      <th>input_current</th>\n",
       "      <th>input_representative</th>\n",
       "      <th>input_maps_to_n_genes</th>\n",
       "      <th>n_inputs_map_to_gene</th>\n",
       "    </tr>\n",
       "  </thead>\n",
       "  <tbody>\n",
       "    <tr>\n",
       "      <th>6131</th>\n",
       "      <td>ENSRNOG00000027512</td>\n",
       "      <td>ENSRNOG00000069344</td>\n",
       "      <td>False</td>\n",
       "      <td>True</td>\n",
       "      <td>83</td>\n",
       "      <td>26</td>\n",
       "    </tr>\n",
       "    <tr>\n",
       "      <th>4443</th>\n",
       "      <td>ENSRNOG00000027512</td>\n",
       "      <td>ENSRNOG00000067897</td>\n",
       "      <td>False</td>\n",
       "      <td>True</td>\n",
       "      <td>83</td>\n",
       "      <td>40</td>\n",
       "    </tr>\n",
       "  </tbody>\n",
       "</table>\n",
       "</div>"
      ],
      "text/plain": [
       "     input_ensembl_gene_id     ensembl_gene_id  input_current  \\\n",
       "6131    ENSRNOG00000027512  ENSRNOG00000069344          False   \n",
       "4443    ENSRNOG00000027512  ENSRNOG00000067897          False   \n",
       "\n",
       "      input_representative  input_maps_to_n_genes  n_inputs_map_to_gene  \n",
       "6131                  True                     83                    26  \n",
       "4443                  True                     83                    40  "
      ]
     },
     "execution_count": 27,
     "metadata": {},
     "output_type": "execute_result"
    }
   ],
   "source": [
    "ensg.update_df.sort_values(\"input_maps_to_n_genes\", ascending=False).head(2)"
   ]
  },
  {
   "cell_type": "code",
   "execution_count": 28,
   "id": "71d8aaf2",
   "metadata": {
    "execution": {
     "iopub.execute_input": "2025-01-06T21:08:23.034414Z",
     "iopub.status.busy": "2025-01-06T21:08:23.033917Z",
     "iopub.status.idle": "2025-01-06T21:08:23.058614Z",
     "shell.execute_reply": "2025-01-06T21:08:23.057891Z"
    },
    "papermill": {
     "duration": 0.036193,
     "end_time": "2025-01-06T21:08:23.060054",
     "exception": false,
     "start_time": "2025-01-06T21:08:23.023861",
     "status": "completed"
    },
    "tags": []
   },
   "outputs": [
    {
     "data": {
      "text/html": [
       "<div>\n",
       "<style scoped>\n",
       "    .dataframe tbody tr th:only-of-type {\n",
       "        vertical-align: middle;\n",
       "    }\n",
       "\n",
       "    .dataframe tbody tr th {\n",
       "        vertical-align: top;\n",
       "    }\n",
       "\n",
       "    .dataframe thead th {\n",
       "        text-align: right;\n",
       "    }\n",
       "</style>\n",
       "<table border=\"1\" class=\"dataframe\">\n",
       "  <thead>\n",
       "    <tr style=\"text-align: right;\">\n",
       "      <th></th>\n",
       "      <th>input_ensembl_gene_id</th>\n",
       "      <th>ensembl_gene_id</th>\n",
       "      <th>input_current</th>\n",
       "      <th>input_representative</th>\n",
       "      <th>input_maps_to_n_genes</th>\n",
       "      <th>n_inputs_map_to_gene</th>\n",
       "    </tr>\n",
       "  </thead>\n",
       "  <tbody>\n",
       "    <tr>\n",
       "      <th>7952</th>\n",
       "      <td>ENSRNOG00000026399</td>\n",
       "      <td>ENSRNOG00000062967</td>\n",
       "      <td>False</td>\n",
       "      <td>True</td>\n",
       "      <td>60</td>\n",
       "      <td>147</td>\n",
       "    </tr>\n",
       "    <tr>\n",
       "      <th>8020</th>\n",
       "      <td>ENSRNOG00000055339</td>\n",
       "      <td>ENSRNOG00000062967</td>\n",
       "      <td>False</td>\n",
       "      <td>True</td>\n",
       "      <td>13</td>\n",
       "      <td>147</td>\n",
       "    </tr>\n",
       "  </tbody>\n",
       "</table>\n",
       "</div>"
      ],
      "text/plain": [
       "     input_ensembl_gene_id     ensembl_gene_id  input_current  \\\n",
       "7952    ENSRNOG00000026399  ENSRNOG00000062967          False   \n",
       "8020    ENSRNOG00000055339  ENSRNOG00000062967          False   \n",
       "\n",
       "      input_representative  input_maps_to_n_genes  n_inputs_map_to_gene  \n",
       "7952                  True                     60                   147  \n",
       "8020                  True                     13                   147  "
      ]
     },
     "execution_count": 28,
     "metadata": {},
     "output_type": "execute_result"
    }
   ],
   "source": [
    "ensg.update_df.sort_values(\"n_inputs_map_to_gene\", ascending=False).head(2)"
   ]
  },
  {
   "cell_type": "code",
   "execution_count": 29,
   "id": "be5ba9a3",
   "metadata": {
    "execution": {
     "iopub.execute_input": "2025-01-06T21:08:23.080418Z",
     "iopub.status.busy": "2025-01-06T21:08:23.079975Z",
     "iopub.status.idle": "2025-01-06T21:08:23.096055Z",
     "shell.execute_reply": "2025-01-06T21:08:23.095408Z"
    },
    "papermill": {
     "duration": 0.027493,
     "end_time": "2025-01-06T21:08:23.097407",
     "exception": false,
     "start_time": "2025-01-06T21:08:23.069914",
     "status": "completed"
    },
    "tags": []
   },
   "outputs": [
    {
     "data": {
      "text/plain": [
       "0.5605829580511329"
      ]
     },
     "execution_count": 29,
     "metadata": {},
     "output_type": "execute_result"
    }
   ],
   "source": [
    "(ensg.update_df.input_maps_to_n_genes == 1).mean()"
   ]
  },
  {
   "cell_type": "code",
   "execution_count": 30,
   "id": "ee61fae5",
   "metadata": {
    "execution": {
     "iopub.execute_input": "2025-01-06T21:08:23.117738Z",
     "iopub.status.busy": "2025-01-06T21:08:23.117281Z",
     "iopub.status.idle": "2025-01-06T21:08:23.138356Z",
     "shell.execute_reply": "2025-01-06T21:08:23.137680Z"
    },
    "papermill": {
     "duration": 0.03251,
     "end_time": "2025-01-06T21:08:23.139706",
     "exception": false,
     "start_time": "2025-01-06T21:08:23.107196",
     "status": "completed"
    },
    "tags": []
   },
   "outputs": [
    {
     "data": {
      "text/html": [
       "<div>\n",
       "<style scoped>\n",
       "    .dataframe tbody tr th:only-of-type {\n",
       "        vertical-align: middle;\n",
       "    }\n",
       "\n",
       "    .dataframe tbody tr th {\n",
       "        vertical-align: top;\n",
       "    }\n",
       "\n",
       "    .dataframe thead th {\n",
       "        text-align: right;\n",
       "    }\n",
       "</style>\n",
       "<table border=\"1\" class=\"dataframe\">\n",
       "  <thead>\n",
       "    <tr style=\"text-align: right;\">\n",
       "      <th></th>\n",
       "      <th>input_ensembl_gene_id</th>\n",
       "      <th>ensembl_gene_id</th>\n",
       "      <th>input_current</th>\n",
       "      <th>input_representative</th>\n",
       "      <th>input_maps_to_n_genes</th>\n",
       "      <th>n_inputs_map_to_gene</th>\n",
       "    </tr>\n",
       "  </thead>\n",
       "  <tbody>\n",
       "  </tbody>\n",
       "</table>\n",
       "</div>"
      ],
      "text/plain": [
       "Empty DataFrame\n",
       "Columns: [input_ensembl_gene_id, ensembl_gene_id, input_current, input_representative, input_maps_to_n_genes, n_inputs_map_to_gene]\n",
       "Index: []"
      ]
     },
     "execution_count": 30,
     "metadata": {},
     "output_type": "execute_result"
    }
   ],
   "source": [
    "ensg.update_df.query(\"ensembl_gene_id == 'ENSG00000256263'\")"
   ]
  },
  {
   "cell_type": "code",
   "execution_count": 31,
   "id": "a3c03b08",
   "metadata": {
    "execution": {
     "iopub.execute_input": "2025-01-06T21:08:23.160100Z",
     "iopub.status.busy": "2025-01-06T21:08:23.159600Z",
     "iopub.status.idle": "2025-01-06T21:08:23.187707Z",
     "shell.execute_reply": "2025-01-06T21:08:23.187030Z"
    },
    "papermill": {
     "duration": 0.039606,
     "end_time": "2025-01-06T21:08:23.189140",
     "exception": false,
     "start_time": "2025-01-06T21:08:23.149534",
     "status": "completed"
    },
    "tags": []
   },
   "outputs": [
    {
     "name": "stdout",
     "output_type": "stream",
     "text": [
      "The omni-updater contains 56,402 rows for mapping 34,587 input genes to 29,978 current, representative genes.\n"
     ]
    }
   ],
   "source": [
    "print(\n",
    "    f\"The omni-updater contains {len(ensg.update_df):,} rows for mapping \"\n",
    "    f\"{ensg.update_df.input_ensembl_gene_id.nunique():,} input genes to \"\n",
    "    f\"{ensg.update_df.ensembl_gene_id.nunique():,} current, representative genes.\"\n",
    ")"
   ]
  },
  {
   "cell_type": "code",
   "execution_count": 32,
   "id": "335604fa",
   "metadata": {
    "execution": {
     "iopub.execute_input": "2025-01-06T21:08:23.209845Z",
     "iopub.status.busy": "2025-01-06T21:08:23.209388Z",
     "iopub.status.idle": "2025-01-06T21:08:23.229152Z",
     "shell.execute_reply": "2025-01-06T21:08:23.228542Z"
    },
    "papermill": {
     "duration": 0.031405,
     "end_time": "2025-01-06T21:08:23.230491",
     "exception": false,
     "start_time": "2025-01-06T21:08:23.199086",
     "status": "completed"
    },
    "tags": []
   },
   "outputs": [
    {
     "data": {
      "text/html": [
       "<div>\n",
       "<style scoped>\n",
       "    .dataframe tbody tr th:only-of-type {\n",
       "        vertical-align: middle;\n",
       "    }\n",
       "\n",
       "    .dataframe tbody tr th {\n",
       "        vertical-align: top;\n",
       "    }\n",
       "\n",
       "    .dataframe thead th {\n",
       "        text-align: right;\n",
       "    }\n",
       "</style>\n",
       "<table border=\"1\" class=\"dataframe\">\n",
       "  <thead>\n",
       "    <tr style=\"text-align: right;\">\n",
       "      <th></th>\n",
       "      <th>input_ensembl_gene_id</th>\n",
       "      <th>ensembl_gene_id</th>\n",
       "      <th>input_current</th>\n",
       "      <th>input_representative</th>\n",
       "      <th>input_maps_to_n_genes</th>\n",
       "      <th>n_inputs_map_to_gene</th>\n",
       "    </tr>\n",
       "  </thead>\n",
       "  <tbody>\n",
       "  </tbody>\n",
       "</table>\n",
       "</div>"
      ],
      "text/plain": [
       "Empty DataFrame\n",
       "Columns: [input_ensembl_gene_id, ensembl_gene_id, input_current, input_representative, input_maps_to_n_genes, n_inputs_map_to_gene]\n",
       "Index: []"
      ]
     },
     "execution_count": 32,
     "metadata": {},
     "output_type": "execute_result"
    }
   ],
   "source": [
    "# https://useast.ensembl.org/Homo_sapiens/Tools/IDMapper/Results?tl=P45VLMbogubpI0QA-6815464\n",
    "ensg.update_df.query(\"input_ensembl_gene_id == 'ENSG00000201456'\").head(3)"
   ]
  },
  {
   "cell_type": "markdown",
   "id": "bdda7f3a",
   "metadata": {
    "papermill": {
     "duration": 0.009596,
     "end_time": "2025-01-06T21:08:23.249924",
     "exception": false,
     "start_time": "2025-01-06T21:08:23.240328",
     "status": "completed"
    },
    "tags": []
   },
   "source": [
    "## cross-refrences (xrefs)"
   ]
  },
  {
   "cell_type": "code",
   "execution_count": 33,
   "id": "77bade67",
   "metadata": {
    "execution": {
     "iopub.execute_input": "2025-01-06T21:08:23.270382Z",
     "iopub.status.busy": "2025-01-06T21:08:23.269901Z",
     "iopub.status.idle": "2025-01-06T21:11:20.181047Z",
     "shell.execute_reply": "2025-01-06T21:11:20.180322Z"
    },
    "papermill": {
     "duration": 176.932566,
     "end_time": "2025-01-06T21:11:20.191950",
     "exception": false,
     "start_time": "2025-01-06T21:08:23.259384",
     "status": "completed"
    },
    "tags": []
   },
   "outputs": [
    {
     "data": {
      "text/html": [
       "<div>\n",
       "<style scoped>\n",
       "    .dataframe tbody tr th:only-of-type {\n",
       "        vertical-align: middle;\n",
       "    }\n",
       "\n",
       "    .dataframe tbody tr th {\n",
       "        vertical-align: top;\n",
       "    }\n",
       "\n",
       "    .dataframe thead th {\n",
       "        text-align: right;\n",
       "    }\n",
       "</style>\n",
       "<table border=\"1\" class=\"dataframe\">\n",
       "  <thead>\n",
       "    <tr style=\"text-align: right;\">\n",
       "      <th></th>\n",
       "      <th>ensembl_representative_gene_id</th>\n",
       "      <th>ensembl_gene_id</th>\n",
       "      <th>gene_symbol</th>\n",
       "      <th>xref_source</th>\n",
       "      <th>xref_accession</th>\n",
       "      <th>xref_label</th>\n",
       "      <th>xref_description</th>\n",
       "      <th>xref_info_type</th>\n",
       "      <th>xref_linkage_annotation</th>\n",
       "      <th>xref_curie</th>\n",
       "    </tr>\n",
       "  </thead>\n",
       "  <tbody>\n",
       "    <tr>\n",
       "      <th>0</th>\n",
       "      <td>ENSRNOG00000000001</td>\n",
       "      <td>ENSRNOG00000000001</td>\n",
       "      <td>Arsj</td>\n",
       "      <td>ArrayExpress</td>\n",
       "      <td>ENSRNOG00000000001</td>\n",
       "      <td>ENSRNOG00000000001</td>\n",
       "      <td>None</td>\n",
       "      <td>DIRECT</td>\n",
       "      <td>None</td>\n",
       "      <td>arrayexpress:ENSRNOG00000000001</td>\n",
       "    </tr>\n",
       "    <tr>\n",
       "      <th>1</th>\n",
       "      <td>ENSRNOG00000000001</td>\n",
       "      <td>ENSRNOG00000000001</td>\n",
       "      <td>Arsj</td>\n",
       "      <td>EntrezGene</td>\n",
       "      <td>311013</td>\n",
       "      <td>Arsj</td>\n",
       "      <td>arylsulfatase family, member J</td>\n",
       "      <td>DEPENDENT</td>\n",
       "      <td>None</td>\n",
       "      <td>ncbigene:311013</td>\n",
       "    </tr>\n",
       "    <tr>\n",
       "      <th>11</th>\n",
       "      <td>ENSRNOG00000000001</td>\n",
       "      <td>ENSRNOG00000000001</td>\n",
       "      <td>Arsj</td>\n",
       "      <td>RGD</td>\n",
       "      <td>1307640</td>\n",
       "      <td>Arsj</td>\n",
       "      <td>arylsulfatase family, member J</td>\n",
       "      <td>DIRECT</td>\n",
       "      <td>None</td>\n",
       "      <td>rgd:1307640</td>\n",
       "    </tr>\n",
       "    <tr>\n",
       "      <th>12</th>\n",
       "      <td>ENSRNOG00000000001</td>\n",
       "      <td>ENSRNOG00000000001</td>\n",
       "      <td>Arsj</td>\n",
       "      <td>RGD</td>\n",
       "      <td>15003202</td>\n",
       "      <td>AABR07013255.1</td>\n",
       "      <td>None</td>\n",
       "      <td>DIRECT</td>\n",
       "      <td>None</td>\n",
       "      <td>rgd:15003202</td>\n",
       "    </tr>\n",
       "    <tr>\n",
       "      <th>2</th>\n",
       "      <td>ENSRNOG00000000001</td>\n",
       "      <td>ENSRNOG00000000001</td>\n",
       "      <td>Arsj</td>\n",
       "      <td>Reactome_gene</td>\n",
       "      <td>R-RNO-1430728</td>\n",
       "      <td>R-RNO-1430728</td>\n",
       "      <td>Metabolism</td>\n",
       "      <td>DIRECT</td>\n",
       "      <td>None</td>\n",
       "      <td>reactome:R-RNO-1430728</td>\n",
       "    </tr>\n",
       "  </tbody>\n",
       "</table>\n",
       "</div>"
      ],
      "text/plain": [
       "   ensembl_representative_gene_id     ensembl_gene_id gene_symbol  \\\n",
       "0              ENSRNOG00000000001  ENSRNOG00000000001        Arsj   \n",
       "1              ENSRNOG00000000001  ENSRNOG00000000001        Arsj   \n",
       "11             ENSRNOG00000000001  ENSRNOG00000000001        Arsj   \n",
       "12             ENSRNOG00000000001  ENSRNOG00000000001        Arsj   \n",
       "2              ENSRNOG00000000001  ENSRNOG00000000001        Arsj   \n",
       "\n",
       "      xref_source      xref_accession          xref_label  \\\n",
       "0    ArrayExpress  ENSRNOG00000000001  ENSRNOG00000000001   \n",
       "1      EntrezGene              311013                Arsj   \n",
       "11            RGD             1307640                Arsj   \n",
       "12            RGD            15003202      AABR07013255.1   \n",
       "2   Reactome_gene       R-RNO-1430728       R-RNO-1430728   \n",
       "\n",
       "                  xref_description xref_info_type xref_linkage_annotation  \\\n",
       "0                             None         DIRECT                    None   \n",
       "1   arylsulfatase family, member J      DEPENDENT                    None   \n",
       "11  arylsulfatase family, member J         DIRECT                    None   \n",
       "12                            None         DIRECT                    None   \n",
       "2                       Metabolism         DIRECT                    None   \n",
       "\n",
       "                         xref_curie  \n",
       "0   arrayexpress:ENSRNOG00000000001  \n",
       "1                   ncbigene:311013  \n",
       "11                      rgd:1307640  \n",
       "12                     rgd:15003202  \n",
       "2            reactome:R-RNO-1430728  "
      ]
     },
     "execution_count": 33,
     "metadata": {},
     "output_type": "execute_result"
    }
   ],
   "source": [
    "ensg.xref_df.head()"
   ]
  },
  {
   "cell_type": "code",
   "execution_count": 34,
   "id": "7f92f763",
   "metadata": {
    "execution": {
     "iopub.execute_input": "2025-01-06T21:11:20.212483Z",
     "iopub.status.busy": "2025-01-06T21:11:20.212043Z",
     "iopub.status.idle": "2025-01-06T21:11:20.376512Z",
     "shell.execute_reply": "2025-01-06T21:11:20.375865Z"
    },
    "papermill": {
     "duration": 0.176222,
     "end_time": "2025-01-06T21:11:20.377867",
     "exception": false,
     "start_time": "2025-01-06T21:11:20.201645",
     "status": "completed"
    },
    "tags": []
   },
   "outputs": [
    {
     "data": {
      "text/plain": [
       "RGD    166\n",
       "Name: xref_source, dtype: int64"
      ]
     },
     "execution_count": 34,
     "metadata": {},
     "output_type": "execute_result"
    }
   ],
   "source": [
    "# datasets where there are ensembl_gene_id-xref_source-xref_accession pairs might not be distinct \n",
    "xref_dup_df = ensg.xref_df[ensg.xref_df.duplicated(subset=[\"ensembl_gene_id\", \"xref_source\", \"xref_accession\"], keep=False)]\n",
    "xref_dup_df.xref_source.value_counts()"
   ]
  },
  {
   "cell_type": "code",
   "execution_count": 35,
   "id": "d384f6ad",
   "metadata": {
    "execution": {
     "iopub.execute_input": "2025-01-06T21:11:20.399604Z",
     "iopub.status.busy": "2025-01-06T21:11:20.399361Z",
     "iopub.status.idle": "2025-01-06T21:11:20.705435Z",
     "shell.execute_reply": "2025-01-06T21:11:20.704685Z"
    },
    "papermill": {
     "duration": 0.318321,
     "end_time": "2025-01-06T21:11:20.706895",
     "exception": false,
     "start_time": "2025-01-06T21:11:20.388574",
     "status": "completed"
    },
    "tags": []
   },
   "outputs": [
    {
     "data": {
      "text/html": [
       "<div>\n",
       "<style scoped>\n",
       "    .dataframe tbody tr th:only-of-type {\n",
       "        vertical-align: middle;\n",
       "    }\n",
       "\n",
       "    .dataframe tbody tr th {\n",
       "        vertical-align: top;\n",
       "    }\n",
       "\n",
       "    .dataframe thead th {\n",
       "        text-align: right;\n",
       "    }\n",
       "</style>\n",
       "<table border=\"1\" class=\"dataframe\">\n",
       "  <thead>\n",
       "    <tr style=\"text-align: right;\">\n",
       "      <th>xref_info_type</th>\n",
       "      <th>DEPENDENT</th>\n",
       "      <th>DIRECT</th>\n",
       "      <th>MISC</th>\n",
       "      <th>PROJECTION</th>\n",
       "      <th>All</th>\n",
       "      <th>bioregistry_prefix</th>\n",
       "    </tr>\n",
       "    <tr>\n",
       "      <th>xref_source</th>\n",
       "      <th></th>\n",
       "      <th></th>\n",
       "      <th></th>\n",
       "      <th></th>\n",
       "      <th></th>\n",
       "      <th></th>\n",
       "    </tr>\n",
       "  </thead>\n",
       "  <tbody>\n",
       "    <tr>\n",
       "      <th>ArrayExpress</th>\n",
       "      <td>0</td>\n",
       "      <td>30562</td>\n",
       "      <td>0</td>\n",
       "      <td>0</td>\n",
       "      <td>30562</td>\n",
       "      <td>arrayexpress</td>\n",
       "    </tr>\n",
       "    <tr>\n",
       "      <th>EntrezGene</th>\n",
       "      <td>31587</td>\n",
       "      <td>0</td>\n",
       "      <td>0</td>\n",
       "      <td>0</td>\n",
       "      <td>31587</td>\n",
       "      <td>ncbigene</td>\n",
       "    </tr>\n",
       "    <tr>\n",
       "      <th>MGI</th>\n",
       "      <td>0</td>\n",
       "      <td>0</td>\n",
       "      <td>0</td>\n",
       "      <td>7</td>\n",
       "      <td>7</td>\n",
       "      <td>mgi</td>\n",
       "    </tr>\n",
       "    <tr>\n",
       "      <th>RFAM</th>\n",
       "      <td>0</td>\n",
       "      <td>2029</td>\n",
       "      <td>0</td>\n",
       "      <td>0</td>\n",
       "      <td>2029</td>\n",
       "      <td>rfam</td>\n",
       "    </tr>\n",
       "    <tr>\n",
       "      <th>RGD</th>\n",
       "      <td>2519</td>\n",
       "      <td>27920</td>\n",
       "      <td>0</td>\n",
       "      <td>0</td>\n",
       "      <td>30439</td>\n",
       "      <td>rgd</td>\n",
       "    </tr>\n",
       "    <tr>\n",
       "      <th>Reactome_gene</th>\n",
       "      <td>0</td>\n",
       "      <td>84358</td>\n",
       "      <td>0</td>\n",
       "      <td>0</td>\n",
       "      <td>84358</td>\n",
       "      <td>reactome</td>\n",
       "    </tr>\n",
       "    <tr>\n",
       "      <th>Uniprot_gn</th>\n",
       "      <td>53833</td>\n",
       "      <td>0</td>\n",
       "      <td>0</td>\n",
       "      <td>0</td>\n",
       "      <td>53833</td>\n",
       "      <td>uniprot</td>\n",
       "    </tr>\n",
       "    <tr>\n",
       "      <th>WikiGene</th>\n",
       "      <td>31587</td>\n",
       "      <td>0</td>\n",
       "      <td>0</td>\n",
       "      <td>0</td>\n",
       "      <td>31587</td>\n",
       "      <td>wikigenes</td>\n",
       "    </tr>\n",
       "    <tr>\n",
       "      <th>miRBase</th>\n",
       "      <td>0</td>\n",
       "      <td>0</td>\n",
       "      <td>428</td>\n",
       "      <td>0</td>\n",
       "      <td>428</td>\n",
       "      <td>mirbase</td>\n",
       "    </tr>\n",
       "    <tr>\n",
       "      <th>All</th>\n",
       "      <td>119526</td>\n",
       "      <td>144869</td>\n",
       "      <td>428</td>\n",
       "      <td>7</td>\n",
       "      <td>264830</td>\n",
       "      <td>None</td>\n",
       "    </tr>\n",
       "  </tbody>\n",
       "</table>\n",
       "</div>"
      ],
      "text/plain": [
       "xref_info_type  DEPENDENT  DIRECT  MISC  PROJECTION     All bioregistry_prefix\n",
       "xref_source                                                                   \n",
       "ArrayExpress            0   30562     0           0   30562       arrayexpress\n",
       "EntrezGene          31587       0     0           0   31587           ncbigene\n",
       "MGI                     0       0     0           7       7                mgi\n",
       "RFAM                    0    2029     0           0    2029               rfam\n",
       "RGD                  2519   27920     0           0   30439                rgd\n",
       "Reactome_gene           0   84358     0           0   84358           reactome\n",
       "Uniprot_gn          53833       0     0           0   53833            uniprot\n",
       "WikiGene            31587       0     0           0   31587          wikigenes\n",
       "miRBase                 0       0   428           0     428            mirbase\n",
       "All                119526  144869   428           7  264830               None"
      ]
     },
     "execution_count": 35,
     "metadata": {},
     "output_type": "execute_result"
    }
   ],
   "source": [
    "# xref sources versus info_types\n",
    "df = pd.crosstab(ensg.xref_df.xref_source, ensg.xref_df.xref_info_type, margins=True)\n",
    "df[\"bioregistry_prefix\"] = df.index.to_series().replace(ensg._xref_prefix_updater).map(normalize_prefix)\n",
    "df"
   ]
  },
  {
   "cell_type": "markdown",
   "id": "1bce6dd4",
   "metadata": {
    "papermill": {
     "duration": 0.009951,
     "end_time": "2025-01-06T21:11:20.727440",
     "exception": false,
     "start_time": "2025-01-06T21:11:20.717489",
     "status": "completed"
    },
    "tags": []
   },
   "source": [
    "## Gene Ontology xrefs"
   ]
  },
  {
   "cell_type": "code",
   "execution_count": 36,
   "id": "295d12bb",
   "metadata": {
    "execution": {
     "iopub.execute_input": "2025-01-06T21:11:20.751436Z",
     "iopub.status.busy": "2025-01-06T21:11:20.751189Z",
     "iopub.status.idle": "2025-01-06T21:11:29.124966Z",
     "shell.execute_reply": "2025-01-06T21:11:29.124218Z"
    },
    "papermill": {
     "duration": 8.388899,
     "end_time": "2025-01-06T21:11:29.126430",
     "exception": false,
     "start_time": "2025-01-06T21:11:20.737531",
     "status": "completed"
    },
    "tags": []
   },
   "outputs": [
    {
     "data": {
      "text/html": [
       "<div>\n",
       "<style scoped>\n",
       "    .dataframe tbody tr th:only-of-type {\n",
       "        vertical-align: middle;\n",
       "    }\n",
       "\n",
       "    .dataframe tbody tr th {\n",
       "        vertical-align: top;\n",
       "    }\n",
       "\n",
       "    .dataframe thead th {\n",
       "        text-align: right;\n",
       "    }\n",
       "</style>\n",
       "<table border=\"1\" class=\"dataframe\">\n",
       "  <thead>\n",
       "    <tr style=\"text-align: right;\">\n",
       "      <th></th>\n",
       "      <th>ensembl_gene_id</th>\n",
       "      <th>go_id</th>\n",
       "      <th>go_label</th>\n",
       "      <th>go_evidence_codes</th>\n",
       "      <th>xref_info_types</th>\n",
       "      <th>xref_info_texts</th>\n",
       "      <th>ensembl_transcript_ids</th>\n",
       "      <th>ensembl_representative_gene_id</th>\n",
       "    </tr>\n",
       "  </thead>\n",
       "  <tbody>\n",
       "    <tr>\n",
       "      <th>0</th>\n",
       "      <td>ENSRNOG00000000001</td>\n",
       "      <td>GO:0015629</td>\n",
       "      <td>actin cytoskeleton</td>\n",
       "      <td>IEA</td>\n",
       "      <td>PROJECTION</td>\n",
       "      <td>from homo_sapiens translation ENSP00000320219</td>\n",
       "      <td>ENSRNOT00000055633</td>\n",
       "      <td>ENSRNOG00000000001</td>\n",
       "    </tr>\n",
       "    <tr>\n",
       "      <th>1</th>\n",
       "      <td>ENSRNOG00000000007</td>\n",
       "      <td>GO:0004351</td>\n",
       "      <td>glutamate decarboxylase activity</td>\n",
       "      <td>IEA</td>\n",
       "      <td>PROJECTION</td>\n",
       "      <td>from homo_sapiens translation ENSP00000350928,...</td>\n",
       "      <td>ENSRNOT00000087134</td>\n",
       "      <td>ENSRNOG00000000007</td>\n",
       "    </tr>\n",
       "    <tr>\n",
       "      <th>2</th>\n",
       "      <td>ENSRNOG00000000007</td>\n",
       "      <td>GO:0005737</td>\n",
       "      <td>cytoplasm</td>\n",
       "      <td>IEA</td>\n",
       "      <td>PROJECTION</td>\n",
       "      <td>from mus_musculus translation ENSMUSP00000092539</td>\n",
       "      <td>ENSRNOT00000087134</td>\n",
       "      <td>ENSRNOG00000000007</td>\n",
       "    </tr>\n",
       "  </tbody>\n",
       "</table>\n",
       "</div>"
      ],
      "text/plain": [
       "      ensembl_gene_id       go_id                          go_label  \\\n",
       "0  ENSRNOG00000000001  GO:0015629                actin cytoskeleton   \n",
       "1  ENSRNOG00000000007  GO:0004351  glutamate decarboxylase activity   \n",
       "2  ENSRNOG00000000007  GO:0005737                         cytoplasm   \n",
       "\n",
       "  go_evidence_codes xref_info_types  \\\n",
       "0               IEA      PROJECTION   \n",
       "1               IEA      PROJECTION   \n",
       "2               IEA      PROJECTION   \n",
       "\n",
       "                                     xref_info_texts ensembl_transcript_ids  \\\n",
       "0      from homo_sapiens translation ENSP00000320219     ENSRNOT00000055633   \n",
       "1  from homo_sapiens translation ENSP00000350928,...     ENSRNOT00000087134   \n",
       "2   from mus_musculus translation ENSMUSP00000092539     ENSRNOT00000087134   \n",
       "\n",
       "  ensembl_representative_gene_id  \n",
       "0             ENSRNOG00000000001  \n",
       "1             ENSRNOG00000000007  \n",
       "2             ENSRNOG00000000007  "
      ]
     },
     "execution_count": 36,
     "metadata": {},
     "output_type": "execute_result"
    }
   ],
   "source": [
    "ensg.xref_go_df.head(3)"
   ]
  },
  {
   "cell_type": "code",
   "execution_count": 37,
   "id": "c28ebaed",
   "metadata": {
    "execution": {
     "iopub.execute_input": "2025-01-06T21:11:29.148489Z",
     "iopub.status.busy": "2025-01-06T21:11:29.148050Z",
     "iopub.status.idle": "2025-01-06T21:11:29.168139Z",
     "shell.execute_reply": "2025-01-06T21:11:29.167524Z"
    },
    "papermill": {
     "duration": 0.032297,
     "end_time": "2025-01-06T21:11:29.169484",
     "exception": false,
     "start_time": "2025-01-06T21:11:29.137187",
     "status": "completed"
    },
    "tags": []
   },
   "outputs": [
    {
     "data": {
      "text/plain": [
       "[]"
      ]
     },
     "execution_count": 37,
     "metadata": {},
     "output_type": "execute_result"
    }
   ],
   "source": [
    "# GO terms for CCR5\n",
    "# compare to http://useast.ensembl.org/Homo_sapiens/Gene/Ontologies/molecular_function?g=ENSG00000160791\n",
    "sorted(ensg.xref_go_df.query(\"ensembl_gene_id == 'ENSG00000160791'\").go_label)"
   ]
  },
  {
   "cell_type": "markdown",
   "id": "5aa7bda2",
   "metadata": {
    "papermill": {
     "duration": 0.010142,
     "end_time": "2025-01-06T21:11:29.190144",
     "exception": false,
     "start_time": "2025-01-06T21:11:29.180002",
     "status": "completed"
    },
    "tags": []
   },
   "source": [
    "## lrg xrefs"
   ]
  },
  {
   "cell_type": "code",
   "execution_count": 38,
   "id": "46d9dbc2",
   "metadata": {
    "execution": {
     "iopub.execute_input": "2025-01-06T21:11:29.211498Z",
     "iopub.status.busy": "2025-01-06T21:11:29.211037Z",
     "iopub.status.idle": "2025-01-06T21:11:29.228045Z",
     "shell.execute_reply": "2025-01-06T21:11:29.227394Z"
    },
    "papermill": {
     "duration": 0.029187,
     "end_time": "2025-01-06T21:11:29.229383",
     "exception": false,
     "start_time": "2025-01-06T21:11:29.200196",
     "status": "completed"
    },
    "tags": []
   },
   "outputs": [
    {
     "data": {
      "text/html": [
       "<div>\n",
       "<style scoped>\n",
       "    .dataframe tbody tr th:only-of-type {\n",
       "        vertical-align: middle;\n",
       "    }\n",
       "\n",
       "    .dataframe tbody tr th {\n",
       "        vertical-align: top;\n",
       "    }\n",
       "\n",
       "    .dataframe thead th {\n",
       "        text-align: right;\n",
       "    }\n",
       "</style>\n",
       "<table border=\"1\" class=\"dataframe\">\n",
       "  <thead>\n",
       "    <tr style=\"text-align: right;\">\n",
       "      <th></th>\n",
       "      <th>ensembl_gene_id</th>\n",
       "      <th>lrg_gene_id</th>\n",
       "    </tr>\n",
       "  </thead>\n",
       "  <tbody>\n",
       "  </tbody>\n",
       "</table>\n",
       "</div>"
      ],
      "text/plain": [
       "Empty DataFrame\n",
       "Columns: [ensembl_gene_id, lrg_gene_id]\n",
       "Index: []"
      ]
     },
     "execution_count": 38,
     "metadata": {},
     "output_type": "execute_result"
    }
   ],
   "source": [
    "ensg.xref_lrg_df.head(2)"
   ]
  },
  {
   "cell_type": "code",
   "execution_count": 39,
   "id": "d22c4467",
   "metadata": {
    "execution": {
     "iopub.execute_input": "2025-01-06T21:11:29.250933Z",
     "iopub.status.busy": "2025-01-06T21:11:29.250576Z",
     "iopub.status.idle": "2025-01-06T21:11:29.264685Z",
     "shell.execute_reply": "2025-01-06T21:11:29.264123Z"
    },
    "papermill": {
     "duration": 0.026173,
     "end_time": "2025-01-06T21:11:29.265967",
     "exception": false,
     "start_time": "2025-01-06T21:11:29.239794",
     "status": "completed"
    },
    "tags": []
   },
   "outputs": [
    {
     "data": {
      "text/plain": [
       "0"
      ]
     },
     "execution_count": 39,
     "metadata": {},
     "output_type": "execute_result"
    }
   ],
   "source": [
    "len(ensg.xref_lrg_df)"
   ]
  },
  {
   "cell_type": "markdown",
   "id": "413bccb5",
   "metadata": {
    "papermill": {
     "duration": 0.010106,
     "end_time": "2025-01-06T21:11:29.286303",
     "exception": false,
     "start_time": "2025-01-06T21:11:29.276197",
     "status": "completed"
    },
    "tags": []
   },
   "source": [
    "### ncbigene xrefs"
   ]
  },
  {
   "cell_type": "code",
   "execution_count": 40,
   "id": "24bd92c7",
   "metadata": {
    "execution": {
     "iopub.execute_input": "2025-01-06T21:11:29.308141Z",
     "iopub.status.busy": "2025-01-06T21:11:29.307592Z",
     "iopub.status.idle": "2025-01-06T21:11:29.392282Z",
     "shell.execute_reply": "2025-01-06T21:11:29.391602Z"
    },
    "papermill": {
     "duration": 0.097149,
     "end_time": "2025-01-06T21:11:29.393743",
     "exception": false,
     "start_time": "2025-01-06T21:11:29.296594",
     "status": "completed"
    },
    "tags": []
   },
   "outputs": [
    {
     "data": {
      "text/html": [
       "<div>\n",
       "<style scoped>\n",
       "    .dataframe tbody tr th:only-of-type {\n",
       "        vertical-align: middle;\n",
       "    }\n",
       "\n",
       "    .dataframe tbody tr th {\n",
       "        vertical-align: top;\n",
       "    }\n",
       "\n",
       "    .dataframe thead th {\n",
       "        text-align: right;\n",
       "    }\n",
       "</style>\n",
       "<table border=\"1\" class=\"dataframe\">\n",
       "  <thead>\n",
       "    <tr style=\"text-align: right;\">\n",
       "      <th></th>\n",
       "      <th>ensembl_representative_gene_id</th>\n",
       "      <th>ncbigene_id</th>\n",
       "      <th>gene_symbol</th>\n",
       "      <th>ncbigene_symbol</th>\n",
       "    </tr>\n",
       "  </thead>\n",
       "  <tbody>\n",
       "    <tr>\n",
       "      <th>1</th>\n",
       "      <td>ENSRNOG00000000001</td>\n",
       "      <td>311013</td>\n",
       "      <td>Arsj</td>\n",
       "      <td>Arsj</td>\n",
       "    </tr>\n",
       "    <tr>\n",
       "      <th>17</th>\n",
       "      <td>ENSRNOG00000000007</td>\n",
       "      <td>24379</td>\n",
       "      <td>Gad1</td>\n",
       "      <td>Gad1</td>\n",
       "    </tr>\n",
       "    <tr>\n",
       "      <th>30</th>\n",
       "      <td>ENSRNOG00000000008</td>\n",
       "      <td>296511</td>\n",
       "      <td>Alx4</td>\n",
       "      <td>Alx4</td>\n",
       "    </tr>\n",
       "    <tr>\n",
       "      <th>40</th>\n",
       "      <td>ENSRNOG00000000010</td>\n",
       "      <td>498922</td>\n",
       "      <td>Cbln1</td>\n",
       "      <td>Cbln1</td>\n",
       "    </tr>\n",
       "    <tr>\n",
       "      <th>46</th>\n",
       "      <td>ENSRNOG00000000012</td>\n",
       "      <td>296272</td>\n",
       "      <td>Tcf15</td>\n",
       "      <td>Tcf15</td>\n",
       "    </tr>\n",
       "  </tbody>\n",
       "</table>\n",
       "</div>"
      ],
      "text/plain": [
       "   ensembl_representative_gene_id ncbigene_id gene_symbol ncbigene_symbol\n",
       "1              ENSRNOG00000000001      311013        Arsj            Arsj\n",
       "17             ENSRNOG00000000007       24379        Gad1            Gad1\n",
       "30             ENSRNOG00000000008      296511        Alx4            Alx4\n",
       "40             ENSRNOG00000000010      498922       Cbln1           Cbln1\n",
       "46             ENSRNOG00000000012      296272       Tcf15           Tcf15"
      ]
     },
     "execution_count": 40,
     "metadata": {},
     "output_type": "execute_result"
    }
   ],
   "source": [
    "ensg.xref_ncbigene_df.head()"
   ]
  },
  {
   "cell_type": "code",
   "execution_count": 41,
   "id": "243d0b76",
   "metadata": {
    "execution": {
     "iopub.execute_input": "2025-01-06T21:11:29.416202Z",
     "iopub.status.busy": "2025-01-06T21:11:29.415984Z",
     "iopub.status.idle": "2025-01-06T21:11:29.437849Z",
     "shell.execute_reply": "2025-01-06T21:11:29.437287Z"
    },
    "papermill": {
     "duration": 0.034332,
     "end_time": "2025-01-06T21:11:29.439150",
     "exception": false,
     "start_time": "2025-01-06T21:11:29.404818",
     "status": "completed"
    },
    "tags": []
   },
   "outputs": [
    {
     "data": {
      "text/plain": [
       "ENSRNOG00000000001    1\n",
       "ENSRNOG00000037100    1\n",
       "ENSRNOG00000037428    1\n",
       "Name: ensembl_representative_gene_id, dtype: int64"
      ]
     },
     "execution_count": 41,
     "metadata": {},
     "output_type": "execute_result"
    }
   ],
   "source": [
    "# ensembl gene mapped to by multiple ncbigenes\n",
    "ensg.xref_ncbigene_df.ensembl_representative_gene_id.value_counts().head(3)"
   ]
  },
  {
   "cell_type": "code",
   "execution_count": 42,
   "id": "9ad658c4",
   "metadata": {
    "execution": {
     "iopub.execute_input": "2025-01-06T21:11:29.461680Z",
     "iopub.status.busy": "2025-01-06T21:11:29.461418Z",
     "iopub.status.idle": "2025-01-06T21:11:29.478488Z",
     "shell.execute_reply": "2025-01-06T21:11:29.477843Z"
    },
    "papermill": {
     "duration": 0.029771,
     "end_time": "2025-01-06T21:11:29.479785",
     "exception": false,
     "start_time": "2025-01-06T21:11:29.450014",
     "status": "completed"
    },
    "tags": []
   },
   "outputs": [
    {
     "data": {
      "text/plain": [
       "(20569, 0)"
      ]
     },
     "execution_count": 42,
     "metadata": {},
     "output_type": "execute_result"
    }
   ],
   "source": [
    "len(ensg.xref_ncbigene_df), ensg.xref_ncbigene_df.ensembl_representative_gene_id.duplicated().sum()"
   ]
  },
  {
   "cell_type": "code",
   "execution_count": 43,
   "id": "d10fa927",
   "metadata": {
    "execution": {
     "iopub.execute_input": "2025-01-06T21:11:29.502605Z",
     "iopub.status.busy": "2025-01-06T21:11:29.502143Z",
     "iopub.status.idle": "2025-01-06T21:11:29.525214Z",
     "shell.execute_reply": "2025-01-06T21:11:29.524559Z"
    },
    "papermill": {
     "duration": 0.035854,
     "end_time": "2025-01-06T21:11:29.526474",
     "exception": false,
     "start_time": "2025-01-06T21:11:29.490620",
     "status": "completed"
    },
    "tags": []
   },
   "outputs": [
    {
     "data": {
      "text/plain": [
       "120094551    14\n",
       "120101277     6\n",
       "502966        3\n",
       "Name: ncbigene_id, dtype: int64"
      ]
     },
     "execution_count": 43,
     "metadata": {},
     "output_type": "execute_result"
    }
   ],
   "source": [
    "# ncbigene mapped to by multiple ensembl genes, likely due to alt gene alleles\n",
    "ensg.xref_ncbigene_df.ncbigene_id.value_counts().head(3)"
   ]
  },
  {
   "cell_type": "code",
   "execution_count": 44,
   "id": "9e53545c",
   "metadata": {
    "execution": {
     "iopub.execute_input": "2025-01-06T21:11:29.549410Z",
     "iopub.status.busy": "2025-01-06T21:11:29.548994Z",
     "iopub.status.idle": "2025-01-06T21:11:29.565627Z",
     "shell.execute_reply": "2025-01-06T21:11:29.565078Z"
    },
    "papermill": {
     "duration": 0.02945,
     "end_time": "2025-01-06T21:11:29.566909",
     "exception": false,
     "start_time": "2025-01-06T21:11:29.537459",
     "status": "completed"
    },
    "tags": []
   },
   "outputs": [
    {
     "data": {
      "text/plain": [
       "(20569, 64)"
      ]
     },
     "execution_count": 44,
     "metadata": {},
     "output_type": "execute_result"
    }
   ],
   "source": [
    "len(ensg.xref_ncbigene_df), ensg.xref_ncbigene_df.ncbigene_id.duplicated().sum()"
   ]
  },
  {
   "cell_type": "code",
   "execution_count": 45,
   "id": "1f5a8910",
   "metadata": {
    "execution": {
     "iopub.execute_input": "2025-01-06T21:11:29.590269Z",
     "iopub.status.busy": "2025-01-06T21:11:29.589817Z",
     "iopub.status.idle": "2025-01-06T21:11:29.603710Z",
     "shell.execute_reply": "2025-01-06T21:11:29.603213Z"
    },
    "papermill": {
     "duration": 0.027188,
     "end_time": "2025-01-06T21:11:29.605037",
     "exception": false,
     "start_time": "2025-01-06T21:11:29.577849",
     "status": "completed"
    },
    "tags": []
   },
   "outputs": [],
   "source": [
    "# ensg.xref_ncbigene_df.query(\"ensembl_representative_gene_id == 'ENSG00000231500'\")\n",
    "# ensg.xref_ncbigene_df.query(\"ncbigene_id == '51206'\")"
   ]
  },
  {
   "cell_type": "code",
   "execution_count": 46,
   "id": "3df280db",
   "metadata": {
    "execution": {
     "iopub.execute_input": "2025-01-06T21:11:29.628122Z",
     "iopub.status.busy": "2025-01-06T21:11:29.627867Z",
     "iopub.status.idle": "2025-01-06T21:11:29.650267Z",
     "shell.execute_reply": "2025-01-06T21:11:29.649698Z"
    },
    "papermill": {
     "duration": 0.035441,
     "end_time": "2025-01-06T21:11:29.651603",
     "exception": false,
     "start_time": "2025-01-06T21:11:29.616162",
     "status": "completed"
    },
    "tags": []
   },
   "outputs": [
    {
     "data": {
      "text/plain": [
       "29978"
      ]
     },
     "execution_count": 46,
     "metadata": {},
     "output_type": "execute_result"
    }
   ],
   "source": [
    "repr_ensembl_gene_ids = set(ensg.gene_df.ensembl_representative_gene_id)\n",
    "len(repr_ensembl_gene_ids)"
   ]
  },
  {
   "cell_type": "code",
   "execution_count": 47,
   "id": "066afff5",
   "metadata": {
    "execution": {
     "iopub.execute_input": "2025-01-06T21:11:29.675158Z",
     "iopub.status.busy": "2025-01-06T21:11:29.674892Z",
     "iopub.status.idle": "2025-01-06T21:11:29.709197Z",
     "shell.execute_reply": "2025-01-06T21:11:29.708464Z"
    },
    "papermill": {
     "duration": 0.047445,
     "end_time": "2025-01-06T21:11:29.710509",
     "exception": false,
     "start_time": "2025-01-06T21:11:29.663064",
     "status": "completed"
    },
    "scrolled": true,
    "tags": []
   },
   "outputs": [
    {
     "data": {
      "text/html": [
       "<div>\n",
       "<style scoped>\n",
       "    .dataframe tbody tr th:only-of-type {\n",
       "        vertical-align: middle;\n",
       "    }\n",
       "\n",
       "    .dataframe tbody tr th {\n",
       "        vertical-align: top;\n",
       "    }\n",
       "\n",
       "    .dataframe thead th {\n",
       "        text-align: right;\n",
       "    }\n",
       "</style>\n",
       "<table border=\"1\" class=\"dataframe\">\n",
       "  <thead>\n",
       "    <tr style=\"text-align: right;\">\n",
       "      <th></th>\n",
       "      <th>ensembl_gene_id</th>\n",
       "      <th>ensembl_gene_version</th>\n",
       "      <th>gene_symbol</th>\n",
       "      <th>gene_symbol_source_db</th>\n",
       "      <th>gene_symbol_source_id</th>\n",
       "      <th>gene_biotype</th>\n",
       "      <th>ensembl_source</th>\n",
       "      <th>ensembl_created_date</th>\n",
       "      <th>ensembl_modified_date</th>\n",
       "      <th>coord_system_version</th>\n",
       "      <th>...</th>\n",
       "      <th>seq_region_start</th>\n",
       "      <th>seq_region_end</th>\n",
       "      <th>seq_region_strand</th>\n",
       "      <th>primary_assembly</th>\n",
       "      <th>lrg_gene_id</th>\n",
       "      <th>mhc</th>\n",
       "      <th>gene_description</th>\n",
       "      <th>gene_description_source_db</th>\n",
       "      <th>gene_description_source_id</th>\n",
       "      <th>ensembl_representative_gene_id</th>\n",
       "    </tr>\n",
       "  </thead>\n",
       "  <tbody>\n",
       "    <tr>\n",
       "      <th>16357</th>\n",
       "      <td>ENSRNOG00000046163</td>\n",
       "      <td>3</td>\n",
       "      <td>Iqcm</td>\n",
       "      <td>RGD</td>\n",
       "      <td>1359286</td>\n",
       "      <td>protein_coding</td>\n",
       "      <td>ensembl</td>\n",
       "      <td>2012-11-09 06:35:19</td>\n",
       "      <td>2021-02-26 12:35:27</td>\n",
       "      <td>mRatBN7.2</td>\n",
       "      <td>...</td>\n",
       "      <td>26164</td>\n",
       "      <td>201125</td>\n",
       "      <td>-1</td>\n",
       "      <td>False</td>\n",
       "      <td>NaN</td>\n",
       "      <td>None</td>\n",
       "      <td>IQ motif containing M</td>\n",
       "      <td>RGD Symbol</td>\n",
       "      <td>1359286</td>\n",
       "      <td>ENSRNOG00000046163</td>\n",
       "    </tr>\n",
       "    <tr>\n",
       "      <th>16772</th>\n",
       "      <td>ENSRNOG00000047746</td>\n",
       "      <td>2</td>\n",
       "      <td>AABR07000398.1</td>\n",
       "      <td>RGD</td>\n",
       "      <td>15005339</td>\n",
       "      <td>protein_coding</td>\n",
       "      <td>ensembl</td>\n",
       "      <td>2012-11-09 06:35:19</td>\n",
       "      <td>2021-02-26 12:35:27</td>\n",
       "      <td>mRatBN7.2</td>\n",
       "      <td>...</td>\n",
       "      <td>68076</td>\n",
       "      <td>73179</td>\n",
       "      <td>-1</td>\n",
       "      <td>False</td>\n",
       "      <td>NaN</td>\n",
       "      <td>None</td>\n",
       "      <td>NaN</td>\n",
       "      <td>NaN</td>\n",
       "      <td>NaN</td>\n",
       "      <td>ENSRNOG00000047746</td>\n",
       "    </tr>\n",
       "    <tr>\n",
       "      <th>17833</th>\n",
       "      <td>ENSRNOG00000051956</td>\n",
       "      <td>2</td>\n",
       "      <td>LOC108350980</td>\n",
       "      <td>RGD</td>\n",
       "      <td>11448573</td>\n",
       "      <td>lncRNA</td>\n",
       "      <td>ensembl</td>\n",
       "      <td>2015-04-02 16:53:59</td>\n",
       "      <td>2021-02-26 12:35:27</td>\n",
       "      <td>mRatBN7.2</td>\n",
       "      <td>...</td>\n",
       "      <td>202745</td>\n",
       "      <td>211209</td>\n",
       "      <td>1</td>\n",
       "      <td>False</td>\n",
       "      <td>NaN</td>\n",
       "      <td>None</td>\n",
       "      <td>uncharacterized LOC108350980</td>\n",
       "      <td>RGD Symbol</td>\n",
       "      <td>11448573</td>\n",
       "      <td>ENSRNOG00000051956</td>\n",
       "    </tr>\n",
       "    <tr>\n",
       "      <th>18249</th>\n",
       "      <td>ENSRNOG00000053042</td>\n",
       "      <td>3</td>\n",
       "      <td>Zfy1</td>\n",
       "      <td>RGD</td>\n",
       "      <td>9203794</td>\n",
       "      <td>protein_coding</td>\n",
       "      <td>ensembl</td>\n",
       "      <td>2015-04-02 16:53:59</td>\n",
       "      <td>2021-02-26 12:35:27</td>\n",
       "      <td>mRatBN7.2</td>\n",
       "      <td>...</td>\n",
       "      <td>234470</td>\n",
       "      <td>273381</td>\n",
       "      <td>1</td>\n",
       "      <td>False</td>\n",
       "      <td>NaN</td>\n",
       "      <td>None</td>\n",
       "      <td>zinc finger protein 1, Y-linked</td>\n",
       "      <td>RGD Symbol</td>\n",
       "      <td>9203794</td>\n",
       "      <td>ENSRNOG00000053042</td>\n",
       "    </tr>\n",
       "    <tr>\n",
       "      <th>18848</th>\n",
       "      <td>ENSRNOG00000054648</td>\n",
       "      <td>3</td>\n",
       "      <td>Tspy1</td>\n",
       "      <td>RGD</td>\n",
       "      <td>3912</td>\n",
       "      <td>protein_coding</td>\n",
       "      <td>ensembl</td>\n",
       "      <td>2015-04-02 16:53:59</td>\n",
       "      <td>2021-02-26 12:35:27</td>\n",
       "      <td>mRatBN7.2</td>\n",
       "      <td>...</td>\n",
       "      <td>201814</td>\n",
       "      <td>205128</td>\n",
       "      <td>1</td>\n",
       "      <td>False</td>\n",
       "      <td>NaN</td>\n",
       "      <td>None</td>\n",
       "      <td>testis specific protein, Y-linked 1</td>\n",
       "      <td>RGD Symbol</td>\n",
       "      <td>3912</td>\n",
       "      <td>ENSRNOG00000054648</td>\n",
       "    </tr>\n",
       "    <tr>\n",
       "      <th>...</th>\n",
       "      <td>...</td>\n",
       "      <td>...</td>\n",
       "      <td>...</td>\n",
       "      <td>...</td>\n",
       "      <td>...</td>\n",
       "      <td>...</td>\n",
       "      <td>...</td>\n",
       "      <td>...</td>\n",
       "      <td>...</td>\n",
       "      <td>...</td>\n",
       "      <td>...</td>\n",
       "      <td>...</td>\n",
       "      <td>...</td>\n",
       "      <td>...</td>\n",
       "      <td>...</td>\n",
       "      <td>...</td>\n",
       "      <td>...</td>\n",
       "      <td>...</td>\n",
       "      <td>...</td>\n",
       "      <td>...</td>\n",
       "      <td>...</td>\n",
       "    </tr>\n",
       "    <tr>\n",
       "      <th>30073</th>\n",
       "      <td>ENSRNOG00000070731</td>\n",
       "      <td>1</td>\n",
       "      <td>ENSRNOG00000070731</td>\n",
       "      <td>None</td>\n",
       "      <td>None</td>\n",
       "      <td>lncRNA</td>\n",
       "      <td>ensembl</td>\n",
       "      <td>2021-02-26 12:35:27</td>\n",
       "      <td>2021-02-26 12:35:27</td>\n",
       "      <td>mRatBN7.2</td>\n",
       "      <td>...</td>\n",
       "      <td>9954</td>\n",
       "      <td>25269</td>\n",
       "      <td>-1</td>\n",
       "      <td>False</td>\n",
       "      <td>NaN</td>\n",
       "      <td>None</td>\n",
       "      <td>NaN</td>\n",
       "      <td>NaN</td>\n",
       "      <td>NaN</td>\n",
       "      <td>ENSRNOG00000070731</td>\n",
       "    </tr>\n",
       "    <tr>\n",
       "      <th>30080</th>\n",
       "      <td>ENSRNOG00000070738</td>\n",
       "      <td>1</td>\n",
       "      <td>ENSRNOG00000070738</td>\n",
       "      <td>None</td>\n",
       "      <td>None</td>\n",
       "      <td>protein_coding</td>\n",
       "      <td>ensembl</td>\n",
       "      <td>2021-02-26 12:35:27</td>\n",
       "      <td>2021-02-26 12:35:27</td>\n",
       "      <td>mRatBN7.2</td>\n",
       "      <td>...</td>\n",
       "      <td>7877</td>\n",
       "      <td>11254</td>\n",
       "      <td>1</td>\n",
       "      <td>False</td>\n",
       "      <td>NaN</td>\n",
       "      <td>None</td>\n",
       "      <td>NaN</td>\n",
       "      <td>NaN</td>\n",
       "      <td>NaN</td>\n",
       "      <td>ENSRNOG00000070738</td>\n",
       "    </tr>\n",
       "    <tr>\n",
       "      <th>30161</th>\n",
       "      <td>ENSRNOG00000070819</td>\n",
       "      <td>1</td>\n",
       "      <td>ENSRNOG00000070819</td>\n",
       "      <td>None</td>\n",
       "      <td>None</td>\n",
       "      <td>protein_coding</td>\n",
       "      <td>ensembl</td>\n",
       "      <td>2021-02-26 12:35:27</td>\n",
       "      <td>2021-02-26 12:35:27</td>\n",
       "      <td>mRatBN7.2</td>\n",
       "      <td>...</td>\n",
       "      <td>58779</td>\n",
       "      <td>63710</td>\n",
       "      <td>1</td>\n",
       "      <td>False</td>\n",
       "      <td>NaN</td>\n",
       "      <td>None</td>\n",
       "      <td>NaN</td>\n",
       "      <td>NaN</td>\n",
       "      <td>NaN</td>\n",
       "      <td>ENSRNOG00000070819</td>\n",
       "    </tr>\n",
       "    <tr>\n",
       "      <th>30237</th>\n",
       "      <td>ENSRNOG00000070895</td>\n",
       "      <td>1</td>\n",
       "      <td>ENSRNOG00000070895</td>\n",
       "      <td>None</td>\n",
       "      <td>None</td>\n",
       "      <td>lncRNA</td>\n",
       "      <td>ensembl</td>\n",
       "      <td>2021-02-26 12:35:27</td>\n",
       "      <td>2021-02-26 12:35:27</td>\n",
       "      <td>mRatBN7.2</td>\n",
       "      <td>...</td>\n",
       "      <td>12273</td>\n",
       "      <td>13973</td>\n",
       "      <td>1</td>\n",
       "      <td>False</td>\n",
       "      <td>NaN</td>\n",
       "      <td>None</td>\n",
       "      <td>NaN</td>\n",
       "      <td>NaN</td>\n",
       "      <td>NaN</td>\n",
       "      <td>ENSRNOG00000070895</td>\n",
       "    </tr>\n",
       "    <tr>\n",
       "      <th>30445</th>\n",
       "      <td>ENSRNOG00000071103</td>\n",
       "      <td>1</td>\n",
       "      <td>ENSRNOG00000071103</td>\n",
       "      <td>None</td>\n",
       "      <td>None</td>\n",
       "      <td>lncRNA</td>\n",
       "      <td>ensembl</td>\n",
       "      <td>2021-02-26 12:35:27</td>\n",
       "      <td>2021-02-26 12:35:27</td>\n",
       "      <td>mRatBN7.2</td>\n",
       "      <td>...</td>\n",
       "      <td>13375</td>\n",
       "      <td>16918</td>\n",
       "      <td>-1</td>\n",
       "      <td>False</td>\n",
       "      <td>NaN</td>\n",
       "      <td>None</td>\n",
       "      <td>NaN</td>\n",
       "      <td>NaN</td>\n",
       "      <td>NaN</td>\n",
       "      <td>ENSRNOG00000071103</td>\n",
       "    </tr>\n",
       "  </tbody>\n",
       "</table>\n",
       "<p>80 rows × 23 columns</p>\n",
       "</div>"
      ],
      "text/plain": [
       "          ensembl_gene_id  ensembl_gene_version         gene_symbol  \\\n",
       "16357  ENSRNOG00000046163                     3                Iqcm   \n",
       "16772  ENSRNOG00000047746                     2      AABR07000398.1   \n",
       "17833  ENSRNOG00000051956                     2        LOC108350980   \n",
       "18249  ENSRNOG00000053042                     3                Zfy1   \n",
       "18848  ENSRNOG00000054648                     3               Tspy1   \n",
       "...                   ...                   ...                 ...   \n",
       "30073  ENSRNOG00000070731                     1  ENSRNOG00000070731   \n",
       "30080  ENSRNOG00000070738                     1  ENSRNOG00000070738   \n",
       "30161  ENSRNOG00000070819                     1  ENSRNOG00000070819   \n",
       "30237  ENSRNOG00000070895                     1  ENSRNOG00000070895   \n",
       "30445  ENSRNOG00000071103                     1  ENSRNOG00000071103   \n",
       "\n",
       "      gene_symbol_source_db gene_symbol_source_id    gene_biotype  \\\n",
       "16357                   RGD               1359286  protein_coding   \n",
       "16772                   RGD              15005339  protein_coding   \n",
       "17833                   RGD              11448573          lncRNA   \n",
       "18249                   RGD               9203794  protein_coding   \n",
       "18848                   RGD                  3912  protein_coding   \n",
       "...                     ...                   ...             ...   \n",
       "30073                  None                  None          lncRNA   \n",
       "30080                  None                  None  protein_coding   \n",
       "30161                  None                  None  protein_coding   \n",
       "30237                  None                  None          lncRNA   \n",
       "30445                  None                  None          lncRNA   \n",
       "\n",
       "      ensembl_source ensembl_created_date ensembl_modified_date  \\\n",
       "16357        ensembl  2012-11-09 06:35:19   2021-02-26 12:35:27   \n",
       "16772        ensembl  2012-11-09 06:35:19   2021-02-26 12:35:27   \n",
       "17833        ensembl  2015-04-02 16:53:59   2021-02-26 12:35:27   \n",
       "18249        ensembl  2015-04-02 16:53:59   2021-02-26 12:35:27   \n",
       "18848        ensembl  2015-04-02 16:53:59   2021-02-26 12:35:27   \n",
       "...              ...                  ...                   ...   \n",
       "30073        ensembl  2021-02-26 12:35:27   2021-02-26 12:35:27   \n",
       "30080        ensembl  2021-02-26 12:35:27   2021-02-26 12:35:27   \n",
       "30161        ensembl  2021-02-26 12:35:27   2021-02-26 12:35:27   \n",
       "30237        ensembl  2021-02-26 12:35:27   2021-02-26 12:35:27   \n",
       "30445        ensembl  2021-02-26 12:35:27   2021-02-26 12:35:27   \n",
       "\n",
       "      coord_system_version  ... seq_region_start seq_region_end  \\\n",
       "16357            mRatBN7.2  ...            26164         201125   \n",
       "16772            mRatBN7.2  ...            68076          73179   \n",
       "17833            mRatBN7.2  ...           202745         211209   \n",
       "18249            mRatBN7.2  ...           234470         273381   \n",
       "18848            mRatBN7.2  ...           201814         205128   \n",
       "...                    ...  ...              ...            ...   \n",
       "30073            mRatBN7.2  ...             9954          25269   \n",
       "30080            mRatBN7.2  ...             7877          11254   \n",
       "30161            mRatBN7.2  ...            58779          63710   \n",
       "30237            mRatBN7.2  ...            12273          13973   \n",
       "30445            mRatBN7.2  ...            13375          16918   \n",
       "\n",
       "      seq_region_strand  primary_assembly  lrg_gene_id   mhc  \\\n",
       "16357                -1             False          NaN  None   \n",
       "16772                -1             False          NaN  None   \n",
       "17833                 1             False          NaN  None   \n",
       "18249                 1             False          NaN  None   \n",
       "18848                 1             False          NaN  None   \n",
       "...                 ...               ...          ...   ...   \n",
       "30073                -1             False          NaN  None   \n",
       "30080                 1             False          NaN  None   \n",
       "30161                 1             False          NaN  None   \n",
       "30237                 1             False          NaN  None   \n",
       "30445                -1             False          NaN  None   \n",
       "\n",
       "                          gene_description gene_description_source_db  \\\n",
       "16357                IQ motif containing M                 RGD Symbol   \n",
       "16772                                  NaN                        NaN   \n",
       "17833         uncharacterized LOC108350980                 RGD Symbol   \n",
       "18249      zinc finger protein 1, Y-linked                 RGD Symbol   \n",
       "18848  testis specific protein, Y-linked 1                 RGD Symbol   \n",
       "...                                    ...                        ...   \n",
       "30073                                  NaN                        NaN   \n",
       "30080                                  NaN                        NaN   \n",
       "30161                                  NaN                        NaN   \n",
       "30237                                  NaN                        NaN   \n",
       "30445                                  NaN                        NaN   \n",
       "\n",
       "      gene_description_source_id ensembl_representative_gene_id  \n",
       "16357                    1359286             ENSRNOG00000046163  \n",
       "16772                        NaN             ENSRNOG00000047746  \n",
       "17833                   11448573             ENSRNOG00000051956  \n",
       "18249                    9203794             ENSRNOG00000053042  \n",
       "18848                       3912             ENSRNOG00000054648  \n",
       "...                          ...                            ...  \n",
       "30073                        NaN             ENSRNOG00000070731  \n",
       "30080                        NaN             ENSRNOG00000070738  \n",
       "30161                        NaN             ENSRNOG00000070819  \n",
       "30237                        NaN             ENSRNOG00000070895  \n",
       "30445                        NaN             ENSRNOG00000071103  \n",
       "\n",
       "[80 rows x 23 columns]"
      ]
     },
     "execution_count": 47,
     "metadata": {},
     "output_type": "execute_result"
    }
   ],
   "source": [
    "# many of these genes should probably be alternative alleles rather than representative\n",
    "ensg.gene_df.query(\"not primary_assembly and ensembl_gene_id==ensembl_representative_gene_id\")"
   ]
  }
 ],
 "metadata": {
  "celltoolbar": "Tags",
  "kernelspec": {
   "display_name": "Python 3 (ipykernel)",
   "language": "python",
   "name": "python3"
  },
  "language_info": {
   "codemirror_mode": {
    "name": "ipython",
    "version": 3
   },
   "file_extension": ".py",
   "mimetype": "text/x-python",
   "name": "python",
   "nbconvert_exporter": "python",
   "pygments_lexer": "ipython3",
   "version": "3.10.15"
  },
  "papermill": {
   "default_parameters": {},
   "duration": 284.693653,
   "end_time": "2025-01-06T21:11:30.240157",
   "environment_variables": {},
   "exception": null,
   "input_path": "ensembl_genes/notebooks/ensembl_genes_eda.ipynb",
   "output_path": "output/rattus_norvegicus_core_113_72/ensembl_genes_eda.ipynb",
   "parameters": {
    "release": "113",
    "species": "rat"
   },
   "start_time": "2025-01-06T21:06:45.546504",
   "version": "2.4.0"
  }
 },
 "nbformat": 4,
 "nbformat_minor": 5
}