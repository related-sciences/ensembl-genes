{
 "cells": [
  {
   "cell_type": "markdown",
   "id": "08c70c3f",
   "metadata": {
    "papermill": {
     "duration": 0.006392,
     "end_time": "2025-01-06T21:13:41.532218",
     "exception": false,
     "start_time": "2025-01-06T21:13:41.525826",
     "status": "completed"
    },
    "tags": []
   },
   "source": [
    "# Ensembl genes table extraction EDA\n",
    "\n",
    "This notebook is useful for development as well as exploratory data analysis on the extracted tables.\n",
    "It is currently automically executed and saved as part of exports using `papermill`."
   ]
  },
  {
   "cell_type": "code",
   "execution_count": 1,
   "id": "9a765662",
   "metadata": {
    "execution": {
     "iopub.execute_input": "2025-01-06T21:13:41.545347Z",
     "iopub.status.busy": "2025-01-06T21:13:41.544737Z",
     "iopub.status.idle": "2025-01-06T21:13:41.562287Z",
     "shell.execute_reply": "2025-01-06T21:13:41.561654Z"
    },
    "papermill": {
     "duration": 0.025807,
     "end_time": "2025-01-06T21:13:41.563849",
     "exception": false,
     "start_time": "2025-01-06T21:13:41.538042",
     "status": "completed"
    },
    "tags": []
   },
   "outputs": [],
   "source": [
    "%load_ext autoreload\n",
    "%autoreload 2"
   ]
  },
  {
   "cell_type": "code",
   "execution_count": 2,
   "id": "833c9fb2",
   "metadata": {
    "execution": {
     "iopub.execute_input": "2025-01-06T21:13:41.576891Z",
     "iopub.status.busy": "2025-01-06T21:13:41.576530Z",
     "iopub.status.idle": "2025-01-06T21:13:43.512987Z",
     "shell.execute_reply": "2025-01-06T21:13:43.512287Z"
    },
    "papermill": {
     "duration": 1.944611,
     "end_time": "2025-01-06T21:13:43.514670",
     "exception": false,
     "start_time": "2025-01-06T21:13:41.570059",
     "status": "completed"
    },
    "tags": []
   },
   "outputs": [],
   "source": [
    "import pandas as pd\n",
    "from ensembl_genes import ensembl_genes\n",
    "from bioregistry import normalize_prefix"
   ]
  },
  {
   "cell_type": "code",
   "execution_count": 3,
   "id": "77a7743d",
   "metadata": {
    "execution": {
     "iopub.execute_input": "2025-01-06T21:13:43.527927Z",
     "iopub.status.busy": "2025-01-06T21:13:43.527653Z",
     "iopub.status.idle": "2025-01-06T21:13:43.540139Z",
     "shell.execute_reply": "2025-01-06T21:13:43.539631Z"
    },
    "papermill": {
     "duration": 0.020408,
     "end_time": "2025-01-06T21:13:43.541453",
     "exception": false,
     "start_time": "2025-01-06T21:13:43.521045",
     "status": "completed"
    },
    "tags": [
     "parameters"
    ]
   },
   "outputs": [],
   "source": [
    "# parameters cell\n",
    "species = \"human\"\n",
    "release = \"111\""
   ]
  },
  {
   "cell_type": "code",
   "execution_count": 4,
   "id": "c770e51c",
   "metadata": {
    "execution": {
     "iopub.execute_input": "2025-01-06T21:13:43.554114Z",
     "iopub.status.busy": "2025-01-06T21:13:43.553674Z",
     "iopub.status.idle": "2025-01-06T21:13:43.567145Z",
     "shell.execute_reply": "2025-01-06T21:13:43.566504Z"
    },
    "papermill": {
     "duration": 0.021301,
     "end_time": "2025-01-06T21:13:43.568561",
     "exception": false,
     "start_time": "2025-01-06T21:13:43.547260",
     "status": "completed"
    },
    "tags": [
     "injected-parameters"
    ]
   },
   "outputs": [],
   "source": [
    "# Parameters\n",
    "species = \"human\"\n",
    "release = \"113\"\n"
   ]
  },
  {
   "cell_type": "code",
   "execution_count": 5,
   "id": "6385d1e5",
   "metadata": {
    "execution": {
     "iopub.execute_input": "2025-01-06T21:13:43.581138Z",
     "iopub.status.busy": "2025-01-06T21:13:43.580796Z",
     "iopub.status.idle": "2025-01-06T21:13:43.664304Z",
     "shell.execute_reply": "2025-01-06T21:13:43.663666Z"
    },
    "papermill": {
     "duration": 0.091131,
     "end_time": "2025-01-06T21:13:43.665586",
     "exception": false,
     "start_time": "2025-01-06T21:13:43.574455",
     "status": "completed"
    },
    "tags": []
   },
   "outputs": [
    {
     "data": {
      "text/plain": [
       "'mysql+mysqlconnector://anonymous@ensembldb.ensembl.org:3306/homo_sapiens_core_113_38'"
      ]
     },
     "execution_count": 5,
     "metadata": {},
     "output_type": "execute_result"
    }
   ],
   "source": [
    "ensg = ensembl_genes.Ensembl_Gene_Queries(release=release, species=species)\n",
    "ensg.connection_url"
   ]
  },
  {
   "cell_type": "code",
   "execution_count": 6,
   "id": "4e351932",
   "metadata": {
    "execution": {
     "iopub.execute_input": "2025-01-06T21:13:43.679150Z",
     "iopub.status.busy": "2025-01-06T21:13:43.678708Z",
     "iopub.status.idle": "2025-01-06T21:13:43.693268Z",
     "shell.execute_reply": "2025-01-06T21:13:43.692632Z"
    },
    "papermill": {
     "duration": 0.022551,
     "end_time": "2025-01-06T21:13:43.694549",
     "exception": false,
     "start_time": "2025-01-06T21:13:43.671998",
     "status": "completed"
    },
    "tags": []
   },
   "outputs": [
    {
     "data": {
      "text/plain": [
       "'homo_sapiens_core_113_38'"
      ]
     },
     "execution_count": 6,
     "metadata": {},
     "output_type": "execute_result"
    }
   ],
   "source": [
    "database = ensg.database\n",
    "database"
   ]
  },
  {
   "cell_type": "markdown",
   "id": "ef879ff1",
   "metadata": {
    "papermill": {
     "duration": 0.005899,
     "end_time": "2025-01-06T21:13:43.706514",
     "exception": false,
     "start_time": "2025-01-06T21:13:43.700615",
     "status": "completed"
    },
    "tags": []
   },
   "source": [
    "## Extract data"
   ]
  },
  {
   "cell_type": "markdown",
   "id": "b3321307",
   "metadata": {
    "papermill": {
     "duration": 0.005864,
     "end_time": "2025-01-06T21:13:43.718336",
     "exception": false,
     "start_time": "2025-01-06T21:13:43.712472",
     "status": "completed"
    },
    "tags": []
   },
   "source": [
    "## gene attrib counts"
   ]
  },
  {
   "cell_type": "code",
   "execution_count": 7,
   "id": "c3eae737",
   "metadata": {
    "execution": {
     "iopub.execute_input": "2025-01-06T21:13:43.731170Z",
     "iopub.status.busy": "2025-01-06T21:13:43.730810Z",
     "iopub.status.idle": "2025-01-06T21:13:46.777131Z",
     "shell.execute_reply": "2025-01-06T21:13:46.776460Z"
    },
    "papermill": {
     "duration": 3.054195,
     "end_time": "2025-01-06T21:13:46.778481",
     "exception": false,
     "start_time": "2025-01-06T21:13:43.724286",
     "status": "completed"
    },
    "tags": []
   },
   "outputs": [
    {
     "data": {
      "text/html": [
       "<div>\n",
       "<style scoped>\n",
       "    .dataframe tbody tr th:only-of-type {\n",
       "        vertical-align: middle;\n",
       "    }\n",
       "\n",
       "    .dataframe tbody tr th {\n",
       "        vertical-align: top;\n",
       "    }\n",
       "\n",
       "    .dataframe thead th {\n",
       "        text-align: right;\n",
       "    }\n",
       "</style>\n",
       "<table border=\"1\" class=\"dataframe\">\n",
       "  <thead>\n",
       "    <tr style=\"text-align: right;\">\n",
       "      <th></th>\n",
       "      <th>attrib_type_id</th>\n",
       "      <th>code</th>\n",
       "      <th>name</th>\n",
       "      <th>description</th>\n",
       "      <th>attrib_type_count</th>\n",
       "      <th>attrib_type_examples</th>\n",
       "    </tr>\n",
       "  </thead>\n",
       "  <tbody>\n",
       "    <tr>\n",
       "      <th>0</th>\n",
       "      <td>142</td>\n",
       "      <td>GeneGC</td>\n",
       "      <td>Gene GC</td>\n",
       "      <td>Percentage GC content for this gene</td>\n",
       "      <td>86402</td>\n",
       "      <td>38.16, 50.54, 54.06, 52.45, 41.70, 55.59, 42.6...</td>\n",
       "    </tr>\n",
       "    <tr>\n",
       "      <th>1</th>\n",
       "      <td>4</td>\n",
       "      <td>name</td>\n",
       "      <td>Name</td>\n",
       "      <td>Alternative/long name</td>\n",
       "      <td>84579</td>\n",
       "      <td>RP11-1217F2.29, RP11-37O16.6, NAT8, ENSG100101...</td>\n",
       "    </tr>\n",
       "    <tr>\n",
       "      <th>2</th>\n",
       "      <td>395</td>\n",
       "      <td>xref_id</td>\n",
       "      <td>Xref ID</td>\n",
       "      <td>ID of associated database reference</td>\n",
       "      <td>56041</td>\n",
       "      <td>OTTHUMG00000176014, OTTHUMG00000165943, OTTHUM...</td>\n",
       "    </tr>\n",
       "    <tr>\n",
       "      <th>3</th>\n",
       "      <td>538</td>\n",
       "      <td>legacy_biotype</td>\n",
       "      <td>Legacy biotype</td>\n",
       "      <td>Obsolete biotype previously assigned to this E...</td>\n",
       "      <td>36524</td>\n",
       "      <td>processed_transcript, lincrna, antisense, sens...</td>\n",
       "    </tr>\n",
       "    <tr>\n",
       "      <th>4</th>\n",
       "      <td>54</td>\n",
       "      <td>remark</td>\n",
       "      <td>Remark</td>\n",
       "      <td>Annotation remark</td>\n",
       "      <td>20829</td>\n",
       "      <td>TAGENE_gene, Assembled from RACEseq reads, Ass...</td>\n",
       "    </tr>\n",
       "    <tr>\n",
       "      <th>5</th>\n",
       "      <td>536</td>\n",
       "      <td>Ensembl_Select</td>\n",
       "      <td>Ensembl Select</td>\n",
       "      <td>The Ensembl Select is a transcript identified ...</td>\n",
       "      <td>19287</td>\n",
       "      <td>ENST00000440869, ENST00000304749, ENST00000366...</td>\n",
       "    </tr>\n",
       "    <tr>\n",
       "      <th>6</th>\n",
       "      <td>380</td>\n",
       "      <td>havana_cv</td>\n",
       "      <td>Havana CV term</td>\n",
       "      <td>Controlled vocabulary terms from Havana</td>\n",
       "      <td>19208</td>\n",
       "      <td>retrogene, overlapping locus, ncRNA host, EnsE...</td>\n",
       "    </tr>\n",
       "    <tr>\n",
       "      <th>7</th>\n",
       "      <td>560</td>\n",
       "      <td>artef_dupl</td>\n",
       "      <td>Artifactual duplication</td>\n",
       "      <td>Annotation on artifactual regions of the genom...</td>\n",
       "      <td>19</td>\n",
       "      <td>Artifactual duplication. Real copy of this gen...</td>\n",
       "    </tr>\n",
       "    <tr>\n",
       "      <th>8</th>\n",
       "      <td>382</td>\n",
       "      <td>NoTransRefError</td>\n",
       "      <td>No translations due to reference error</td>\n",
       "      <td>This gene is believed to include protein codin...</td>\n",
       "      <td>8</td>\n",
       "      <td>1</td>\n",
       "    </tr>\n",
       "    <tr>\n",
       "      <th>9</th>\n",
       "      <td>1</td>\n",
       "      <td>embl_acc</td>\n",
       "      <td>European Nucleotide Archive (was EMBL) accession</td>\n",
       "      <td>ENA</td>\n",
       "      <td>0</td>\n",
       "      <td>None</td>\n",
       "    </tr>\n",
       "    <tr>\n",
       "      <th>10</th>\n",
       "      <td>2</td>\n",
       "      <td>status</td>\n",
       "      <td>Status</td>\n",
       "      <td>None</td>\n",
       "      <td>0</td>\n",
       "      <td>None</td>\n",
       "    </tr>\n",
       "    <tr>\n",
       "      <th>11</th>\n",
       "      <td>3</td>\n",
       "      <td>synonym</td>\n",
       "      <td>Synonym</td>\n",
       "      <td>None</td>\n",
       "      <td>0</td>\n",
       "      <td>None</td>\n",
       "    </tr>\n",
       "    <tr>\n",
       "      <th>12</th>\n",
       "      <td>5</td>\n",
       "      <td>type</td>\n",
       "      <td>Type of feature</td>\n",
       "      <td>None</td>\n",
       "      <td>0</td>\n",
       "      <td>None</td>\n",
       "    </tr>\n",
       "    <tr>\n",
       "      <th>13</th>\n",
       "      <td>6</td>\n",
       "      <td>toplevel</td>\n",
       "      <td>Top Level</td>\n",
       "      <td>Top Level Non-Redundant Sequence Region</td>\n",
       "      <td>0</td>\n",
       "      <td>None</td>\n",
       "    </tr>\n",
       "    <tr>\n",
       "      <th>14</th>\n",
       "      <td>7</td>\n",
       "      <td>GeneCount</td>\n",
       "      <td>Gene Count</td>\n",
       "      <td>Total Number of Genes</td>\n",
       "      <td>0</td>\n",
       "      <td>None</td>\n",
       "    </tr>\n",
       "  </tbody>\n",
       "</table>\n",
       "</div>"
      ],
      "text/plain": [
       "    attrib_type_id             code  \\\n",
       "0              142           GeneGC   \n",
       "1                4             name   \n",
       "2              395          xref_id   \n",
       "3              538   legacy_biotype   \n",
       "4               54           remark   \n",
       "5              536   Ensembl_Select   \n",
       "6              380        havana_cv   \n",
       "7              560       artef_dupl   \n",
       "8              382  NoTransRefError   \n",
       "9                1         embl_acc   \n",
       "10               2           status   \n",
       "11               3          synonym   \n",
       "12               5             type   \n",
       "13               6         toplevel   \n",
       "14               7        GeneCount   \n",
       "\n",
       "                                                name  \\\n",
       "0                                            Gene GC   \n",
       "1                                               Name   \n",
       "2                                            Xref ID   \n",
       "3                                     Legacy biotype   \n",
       "4                                             Remark   \n",
       "5                                     Ensembl Select   \n",
       "6                                     Havana CV term   \n",
       "7                            Artifactual duplication   \n",
       "8             No translations due to reference error   \n",
       "9   European Nucleotide Archive (was EMBL) accession   \n",
       "10                                            Status   \n",
       "11                                           Synonym   \n",
       "12                                   Type of feature   \n",
       "13                                         Top Level   \n",
       "14                                        Gene Count   \n",
       "\n",
       "                                          description  attrib_type_count  \\\n",
       "0                 Percentage GC content for this gene              86402   \n",
       "1                               Alternative/long name              84579   \n",
       "2                 ID of associated database reference              56041   \n",
       "3   Obsolete biotype previously assigned to this E...              36524   \n",
       "4                                   Annotation remark              20829   \n",
       "5   The Ensembl Select is a transcript identified ...              19287   \n",
       "6             Controlled vocabulary terms from Havana              19208   \n",
       "7   Annotation on artifactual regions of the genom...                 19   \n",
       "8   This gene is believed to include protein codin...                  8   \n",
       "9                                                 ENA                  0   \n",
       "10                                               None                  0   \n",
       "11                                               None                  0   \n",
       "12                                               None                  0   \n",
       "13            Top Level Non-Redundant Sequence Region                  0   \n",
       "14                              Total Number of Genes                  0   \n",
       "\n",
       "                                 attrib_type_examples  \n",
       "0   38.16, 50.54, 54.06, 52.45, 41.70, 55.59, 42.6...  \n",
       "1   RP11-1217F2.29, RP11-37O16.6, NAT8, ENSG100101...  \n",
       "2   OTTHUMG00000176014, OTTHUMG00000165943, OTTHUM...  \n",
       "3   processed_transcript, lincrna, antisense, sens...  \n",
       "4   TAGENE_gene, Assembled from RACEseq reads, Ass...  \n",
       "5   ENST00000440869, ENST00000304749, ENST00000366...  \n",
       "6   retrogene, overlapping locus, ncRNA host, EnsE...  \n",
       "7   Artifactual duplication. Real copy of this gen...  \n",
       "8                                                   1  \n",
       "9                                                None  \n",
       "10                                               None  \n",
       "11                                               None  \n",
       "12                                               None  \n",
       "13                                               None  \n",
       "14                                               None  "
      ]
     },
     "execution_count": 7,
     "metadata": {},
     "output_type": "execute_result"
    }
   ],
   "source": [
    "ensg.run_query(\"gene_attrib_counts\").head(15)"
   ]
  },
  {
   "cell_type": "markdown",
   "id": "462a4304",
   "metadata": {
    "papermill": {
     "duration": 0.006186,
     "end_time": "2025-01-06T21:13:46.791360",
     "exception": false,
     "start_time": "2025-01-06T21:13:46.785174",
     "status": "completed"
    },
    "tags": []
   },
   "source": [
    "## genes"
   ]
  },
  {
   "cell_type": "code",
   "execution_count": 8,
   "id": "8c184ab1",
   "metadata": {
    "execution": {
     "iopub.execute_input": "2025-01-06T21:13:46.804941Z",
     "iopub.status.busy": "2025-01-06T21:13:46.804451Z",
     "iopub.status.idle": "2025-01-06T21:17:08.429426Z",
     "shell.execute_reply": "2025-01-06T21:17:08.428665Z"
    },
    "papermill": {
     "duration": 201.640096,
     "end_time": "2025-01-06T21:17:08.437613",
     "exception": false,
     "start_time": "2025-01-06T21:13:46.797517",
     "status": "completed"
    },
    "tags": []
   },
   "outputs": [
    {
     "data": {
      "text/html": [
       "<div>\n",
       "<style scoped>\n",
       "    .dataframe tbody tr th:only-of-type {\n",
       "        vertical-align: middle;\n",
       "    }\n",
       "\n",
       "    .dataframe tbody tr th {\n",
       "        vertical-align: top;\n",
       "    }\n",
       "\n",
       "    .dataframe thead th {\n",
       "        text-align: right;\n",
       "    }\n",
       "</style>\n",
       "<table border=\"1\" class=\"dataframe\">\n",
       "  <thead>\n",
       "    <tr style=\"text-align: right;\">\n",
       "      <th></th>\n",
       "      <th>ensembl_gene_id</th>\n",
       "      <th>ensembl_gene_version</th>\n",
       "      <th>gene_symbol</th>\n",
       "      <th>gene_symbol_source_db</th>\n",
       "      <th>gene_symbol_source_id</th>\n",
       "      <th>gene_biotype</th>\n",
       "      <th>ensembl_source</th>\n",
       "      <th>ensembl_created_date</th>\n",
       "      <th>ensembl_modified_date</th>\n",
       "      <th>coord_system_version</th>\n",
       "      <th>...</th>\n",
       "      <th>seq_region_start</th>\n",
       "      <th>seq_region_end</th>\n",
       "      <th>seq_region_strand</th>\n",
       "      <th>primary_assembly</th>\n",
       "      <th>lrg_gene_id</th>\n",
       "      <th>mhc</th>\n",
       "      <th>gene_description</th>\n",
       "      <th>gene_description_source_db</th>\n",
       "      <th>gene_description_source_id</th>\n",
       "      <th>ensembl_representative_gene_id</th>\n",
       "    </tr>\n",
       "  </thead>\n",
       "  <tbody>\n",
       "    <tr>\n",
       "      <th>0</th>\n",
       "      <td>ENSG00000000003</td>\n",
       "      <td>16</td>\n",
       "      <td>TSPAN6</td>\n",
       "      <td>HGNC</td>\n",
       "      <td>HGNC:11858</td>\n",
       "      <td>protein_coding</td>\n",
       "      <td>ensembl_havana</td>\n",
       "      <td>2008-04-29 11:17:41</td>\n",
       "      <td>2022-12-27 00:10:08</td>\n",
       "      <td>GRCh38</td>\n",
       "      <td>...</td>\n",
       "      <td>100627108</td>\n",
       "      <td>100639991</td>\n",
       "      <td>-1</td>\n",
       "      <td>True</td>\n",
       "      <td>NaN</td>\n",
       "      <td>no</td>\n",
       "      <td>tetraspanin 6</td>\n",
       "      <td>HGNC Symbol</td>\n",
       "      <td>HGNC:11858</td>\n",
       "      <td>ENSG00000000003</td>\n",
       "    </tr>\n",
       "    <tr>\n",
       "      <th>1</th>\n",
       "      <td>ENSG00000000005</td>\n",
       "      <td>6</td>\n",
       "      <td>TNMD</td>\n",
       "      <td>HGNC</td>\n",
       "      <td>HGNC:17757</td>\n",
       "      <td>protein_coding</td>\n",
       "      <td>ensembl_havana</td>\n",
       "      <td>2008-04-29 11:17:41</td>\n",
       "      <td>2018-11-21 17:23:49</td>\n",
       "      <td>GRCh38</td>\n",
       "      <td>...</td>\n",
       "      <td>100584936</td>\n",
       "      <td>100599885</td>\n",
       "      <td>1</td>\n",
       "      <td>True</td>\n",
       "      <td>NaN</td>\n",
       "      <td>no</td>\n",
       "      <td>tenomodulin</td>\n",
       "      <td>HGNC Symbol</td>\n",
       "      <td>HGNC:17757</td>\n",
       "      <td>ENSG00000000005</td>\n",
       "    </tr>\n",
       "    <tr>\n",
       "      <th>2</th>\n",
       "      <td>ENSG00000000419</td>\n",
       "      <td>14</td>\n",
       "      <td>DPM1</td>\n",
       "      <td>HGNC</td>\n",
       "      <td>HGNC:3005</td>\n",
       "      <td>protein_coding</td>\n",
       "      <td>ensembl_havana</td>\n",
       "      <td>2008-04-29 11:17:41</td>\n",
       "      <td>2020-12-11 08:28:43</td>\n",
       "      <td>GRCh38</td>\n",
       "      <td>...</td>\n",
       "      <td>50934867</td>\n",
       "      <td>50959140</td>\n",
       "      <td>-1</td>\n",
       "      <td>True</td>\n",
       "      <td>NaN</td>\n",
       "      <td>no</td>\n",
       "      <td>dolichyl-phosphate mannosyltransferase subunit...</td>\n",
       "      <td>HGNC Symbol</td>\n",
       "      <td>HGNC:3005</td>\n",
       "      <td>ENSG00000000419</td>\n",
       "    </tr>\n",
       "    <tr>\n",
       "      <th>3</th>\n",
       "      <td>ENSG00000000457</td>\n",
       "      <td>14</td>\n",
       "      <td>SCYL3</td>\n",
       "      <td>HGNC</td>\n",
       "      <td>HGNC:19285</td>\n",
       "      <td>protein_coding</td>\n",
       "      <td>ensembl_havana</td>\n",
       "      <td>2008-04-29 11:17:41</td>\n",
       "      <td>2018-11-21 17:23:49</td>\n",
       "      <td>GRCh38</td>\n",
       "      <td>...</td>\n",
       "      <td>169849631</td>\n",
       "      <td>169894267</td>\n",
       "      <td>-1</td>\n",
       "      <td>True</td>\n",
       "      <td>NaN</td>\n",
       "      <td>no</td>\n",
       "      <td>SCY1 like pseudokinase 3</td>\n",
       "      <td>HGNC Symbol</td>\n",
       "      <td>HGNC:19285</td>\n",
       "      <td>ENSG00000000457</td>\n",
       "    </tr>\n",
       "    <tr>\n",
       "      <th>4</th>\n",
       "      <td>ENSG00000000460</td>\n",
       "      <td>17</td>\n",
       "      <td>FIRRM</td>\n",
       "      <td>HGNC</td>\n",
       "      <td>HGNC:25565</td>\n",
       "      <td>protein_coding</td>\n",
       "      <td>ensembl_havana</td>\n",
       "      <td>2008-04-29 11:17:41</td>\n",
       "      <td>2018-11-21 17:23:49</td>\n",
       "      <td>GRCh38</td>\n",
       "      <td>...</td>\n",
       "      <td>169662007</td>\n",
       "      <td>169854080</td>\n",
       "      <td>1</td>\n",
       "      <td>True</td>\n",
       "      <td>NaN</td>\n",
       "      <td>no</td>\n",
       "      <td>FIGNL1 interacting regulator of recombination ...</td>\n",
       "      <td>HGNC Symbol</td>\n",
       "      <td>HGNC:25565</td>\n",
       "      <td>ENSG00000000460</td>\n",
       "    </tr>\n",
       "  </tbody>\n",
       "</table>\n",
       "<p>5 rows × 23 columns</p>\n",
       "</div>"
      ],
      "text/plain": [
       "   ensembl_gene_id  ensembl_gene_version gene_symbol gene_symbol_source_db  \\\n",
       "0  ENSG00000000003                    16      TSPAN6                  HGNC   \n",
       "1  ENSG00000000005                     6        TNMD                  HGNC   \n",
       "2  ENSG00000000419                    14        DPM1                  HGNC   \n",
       "3  ENSG00000000457                    14       SCYL3                  HGNC   \n",
       "4  ENSG00000000460                    17       FIRRM                  HGNC   \n",
       "\n",
       "  gene_symbol_source_id    gene_biotype  ensembl_source ensembl_created_date  \\\n",
       "0            HGNC:11858  protein_coding  ensembl_havana  2008-04-29 11:17:41   \n",
       "1            HGNC:17757  protein_coding  ensembl_havana  2008-04-29 11:17:41   \n",
       "2             HGNC:3005  protein_coding  ensembl_havana  2008-04-29 11:17:41   \n",
       "3            HGNC:19285  protein_coding  ensembl_havana  2008-04-29 11:17:41   \n",
       "4            HGNC:25565  protein_coding  ensembl_havana  2008-04-29 11:17:41   \n",
       "\n",
       "  ensembl_modified_date coord_system_version  ... seq_region_start  \\\n",
       "0   2022-12-27 00:10:08               GRCh38  ...        100627108   \n",
       "1   2018-11-21 17:23:49               GRCh38  ...        100584936   \n",
       "2   2020-12-11 08:28:43               GRCh38  ...         50934867   \n",
       "3   2018-11-21 17:23:49               GRCh38  ...        169849631   \n",
       "4   2018-11-21 17:23:49               GRCh38  ...        169662007   \n",
       "\n",
       "  seq_region_end seq_region_strand  primary_assembly  lrg_gene_id  mhc  \\\n",
       "0      100639991                -1              True          NaN   no   \n",
       "1      100599885                 1              True          NaN   no   \n",
       "2       50959140                -1              True          NaN   no   \n",
       "3      169894267                -1              True          NaN   no   \n",
       "4      169854080                 1              True          NaN   no   \n",
       "\n",
       "                                    gene_description  \\\n",
       "0                                      tetraspanin 6   \n",
       "1                                        tenomodulin   \n",
       "2  dolichyl-phosphate mannosyltransferase subunit...   \n",
       "3                           SCY1 like pseudokinase 3   \n",
       "4  FIGNL1 interacting regulator of recombination ...   \n",
       "\n",
       "  gene_description_source_db gene_description_source_id  \\\n",
       "0                HGNC Symbol                 HGNC:11858   \n",
       "1                HGNC Symbol                 HGNC:17757   \n",
       "2                HGNC Symbol                  HGNC:3005   \n",
       "3                HGNC Symbol                 HGNC:19285   \n",
       "4                HGNC Symbol                 HGNC:25565   \n",
       "\n",
       "  ensembl_representative_gene_id  \n",
       "0                ENSG00000000003  \n",
       "1                ENSG00000000005  \n",
       "2                ENSG00000000419  \n",
       "3                ENSG00000000457  \n",
       "4                ENSG00000000460  \n",
       "\n",
       "[5 rows x 23 columns]"
      ]
     },
     "execution_count": 8,
     "metadata": {},
     "output_type": "execute_result"
    }
   ],
   "source": [
    "ensg.gene_df.head()"
   ]
  },
  {
   "cell_type": "code",
   "execution_count": 9,
   "id": "3a8bafd6",
   "metadata": {
    "execution": {
     "iopub.execute_input": "2025-01-06T21:17:08.452512Z",
     "iopub.status.busy": "2025-01-06T21:17:08.451835Z",
     "iopub.status.idle": "2025-01-06T21:17:08.494474Z",
     "shell.execute_reply": "2025-01-06T21:17:08.493848Z"
    },
    "papermill": {
     "duration": 0.051578,
     "end_time": "2025-01-06T21:17:08.495924",
     "exception": false,
     "start_time": "2025-01-06T21:17:08.444346",
     "status": "completed"
    },
    "tags": []
   },
   "outputs": [
    {
     "data": {
      "text/html": [
       "<div>\n",
       "<style scoped>\n",
       "    .dataframe tbody tr th:only-of-type {\n",
       "        vertical-align: middle;\n",
       "    }\n",
       "\n",
       "    .dataframe tbody tr th {\n",
       "        vertical-align: top;\n",
       "    }\n",
       "\n",
       "    .dataframe thead th {\n",
       "        text-align: right;\n",
       "    }\n",
       "</style>\n",
       "<table border=\"1\" class=\"dataframe\">\n",
       "  <thead>\n",
       "    <tr style=\"text-align: right;\">\n",
       "      <th></th>\n",
       "      <th>ensembl_gene_id</th>\n",
       "      <th>ensembl_gene_version</th>\n",
       "      <th>gene_symbol</th>\n",
       "      <th>gene_symbol_source_db</th>\n",
       "      <th>gene_symbol_source_id</th>\n",
       "      <th>gene_biotype</th>\n",
       "      <th>ensembl_source</th>\n",
       "      <th>ensembl_created_date</th>\n",
       "      <th>ensembl_modified_date</th>\n",
       "      <th>coord_system_version</th>\n",
       "      <th>...</th>\n",
       "      <th>seq_region_start</th>\n",
       "      <th>seq_region_end</th>\n",
       "      <th>seq_region_strand</th>\n",
       "      <th>primary_assembly</th>\n",
       "      <th>lrg_gene_id</th>\n",
       "      <th>mhc</th>\n",
       "      <th>gene_description</th>\n",
       "      <th>gene_description_source_db</th>\n",
       "      <th>gene_description_source_id</th>\n",
       "      <th>ensembl_representative_gene_id</th>\n",
       "    </tr>\n",
       "  </thead>\n",
       "  <tbody>\n",
       "    <tr>\n",
       "      <th>1599</th>\n",
       "      <td>ENSG00000083622</td>\n",
       "      <td>8</td>\n",
       "      <td>ENSG00000083622</td>\n",
       "      <td>None</td>\n",
       "      <td>None</td>\n",
       "      <td>lncRNA</td>\n",
       "      <td>havana</td>\n",
       "      <td>2008-04-29 11:17:41</td>\n",
       "      <td>2009-05-19 09:47:17</td>\n",
       "      <td>GRCh38</td>\n",
       "      <td>...</td>\n",
       "      <td>117604791</td>\n",
       "      <td>117647415</td>\n",
       "      <td>-1</td>\n",
       "      <td>True</td>\n",
       "      <td>NaN</td>\n",
       "      <td>no</td>\n",
       "      <td>novel transcript, antisense to CFTR</td>\n",
       "      <td>NaN</td>\n",
       "      <td>NaN</td>\n",
       "      <td>ENSG00000083622</td>\n",
       "    </tr>\n",
       "    <tr>\n",
       "      <th>1996</th>\n",
       "      <td>ENSG00000093100</td>\n",
       "      <td>13</td>\n",
       "      <td>ENSG00000093100</td>\n",
       "      <td>None</td>\n",
       "      <td>None</td>\n",
       "      <td>lncRNA</td>\n",
       "      <td>havana</td>\n",
       "      <td>2008-04-29 11:17:41</td>\n",
       "      <td>2012-06-07 23:07:01</td>\n",
       "      <td>GRCh38</td>\n",
       "      <td>...</td>\n",
       "      <td>17787652</td>\n",
       "      <td>17811497</td>\n",
       "      <td>-1</td>\n",
       "      <td>True</td>\n",
       "      <td>NaN</td>\n",
       "      <td>no</td>\n",
       "      <td>novel transcript</td>\n",
       "      <td>NaN</td>\n",
       "      <td>NaN</td>\n",
       "      <td>ENSG00000093100</td>\n",
       "    </tr>\n",
       "  </tbody>\n",
       "</table>\n",
       "<p>2 rows × 23 columns</p>\n",
       "</div>"
      ],
      "text/plain": [
       "      ensembl_gene_id  ensembl_gene_version      gene_symbol  \\\n",
       "1599  ENSG00000083622                     8  ENSG00000083622   \n",
       "1996  ENSG00000093100                    13  ENSG00000093100   \n",
       "\n",
       "     gene_symbol_source_db gene_symbol_source_id gene_biotype ensembl_source  \\\n",
       "1599                  None                  None       lncRNA         havana   \n",
       "1996                  None                  None       lncRNA         havana   \n",
       "\n",
       "     ensembl_created_date ensembl_modified_date coord_system_version  ...  \\\n",
       "1599  2008-04-29 11:17:41   2009-05-19 09:47:17               GRCh38  ...   \n",
       "1996  2008-04-29 11:17:41   2012-06-07 23:07:01               GRCh38  ...   \n",
       "\n",
       "     seq_region_start seq_region_end seq_region_strand  primary_assembly  \\\n",
       "1599        117604791      117647415                -1              True   \n",
       "1996         17787652       17811497                -1              True   \n",
       "\n",
       "      lrg_gene_id  mhc                     gene_description  \\\n",
       "1599          NaN   no  novel transcript, antisense to CFTR   \n",
       "1996          NaN   no                     novel transcript   \n",
       "\n",
       "     gene_description_source_db gene_description_source_id  \\\n",
       "1599                        NaN                        NaN   \n",
       "1996                        NaN                        NaN   \n",
       "\n",
       "     ensembl_representative_gene_id  \n",
       "1599                ENSG00000083622  \n",
       "1996                ENSG00000093100  \n",
       "\n",
       "[2 rows x 23 columns]"
      ]
     },
     "execution_count": 9,
     "metadata": {},
     "output_type": "execute_result"
    }
   ],
   "source": [
    "# clone-based genes no longer get a symbol and are filled with the stable ID\n",
    "# https://www.ensembl.info/2021/03/15/retirement-of-clone-based-gene-names/\n",
    "ensg.gene_df.query(\"gene_symbol == ensembl_gene_id\").head(2)"
   ]
  },
  {
   "cell_type": "code",
   "execution_count": 10,
   "id": "63787dbd",
   "metadata": {
    "execution": {
     "iopub.execute_input": "2025-01-06T21:17:08.511312Z",
     "iopub.status.busy": "2025-01-06T21:17:08.510912Z",
     "iopub.status.idle": "2025-01-06T21:17:08.630557Z",
     "shell.execute_reply": "2025-01-06T21:17:08.629868Z"
    },
    "papermill": {
     "duration": 0.128618,
     "end_time": "2025-01-06T21:17:08.631915",
     "exception": false,
     "start_time": "2025-01-06T21:17:08.503297",
     "status": "completed"
    },
    "tags": []
   },
   "outputs": [
    {
     "data": {
      "text/html": [
       "<div>\n",
       "<style scoped>\n",
       "    .dataframe tbody tr th:only-of-type {\n",
       "        vertical-align: middle;\n",
       "    }\n",
       "\n",
       "    .dataframe tbody tr th {\n",
       "        vertical-align: top;\n",
       "    }\n",
       "\n",
       "    .dataframe thead th {\n",
       "        text-align: right;\n",
       "    }\n",
       "</style>\n",
       "<table border=\"1\" class=\"dataframe\">\n",
       "  <thead>\n",
       "    <tr style=\"text-align: right;\">\n",
       "      <th>gene_symbol_source_db</th>\n",
       "      <th>EntrezGene</th>\n",
       "      <th>HGNC</th>\n",
       "      <th>RFAM</th>\n",
       "      <th>miRBase</th>\n",
       "      <th>missing (clone-based)</th>\n",
       "      <th>All</th>\n",
       "    </tr>\n",
       "    <tr>\n",
       "      <th>ensembl_source</th>\n",
       "      <th></th>\n",
       "      <th></th>\n",
       "      <th></th>\n",
       "      <th></th>\n",
       "      <th></th>\n",
       "      <th></th>\n",
       "    </tr>\n",
       "  </thead>\n",
       "  <tbody>\n",
       "    <tr>\n",
       "      <th>ensembl</th>\n",
       "      <td>0</td>\n",
       "      <td>4219</td>\n",
       "      <td>1470</td>\n",
       "      <td>0</td>\n",
       "      <td>855</td>\n",
       "      <td>6544</td>\n",
       "    </tr>\n",
       "    <tr>\n",
       "      <th>ensembl_havana</th>\n",
       "      <td>30</td>\n",
       "      <td>21637</td>\n",
       "      <td>1</td>\n",
       "      <td>0</td>\n",
       "      <td>277</td>\n",
       "      <td>21945</td>\n",
       "    </tr>\n",
       "    <tr>\n",
       "      <th>ensembl_havana_tagene</th>\n",
       "      <td>0</td>\n",
       "      <td>6</td>\n",
       "      <td>0</td>\n",
       "      <td>0</td>\n",
       "      <td>1</td>\n",
       "      <td>7</td>\n",
       "    </tr>\n",
       "    <tr>\n",
       "      <th>havana</th>\n",
       "      <td>269</td>\n",
       "      <td>18463</td>\n",
       "      <td>0</td>\n",
       "      <td>2</td>\n",
       "      <td>17236</td>\n",
       "      <td>35970</td>\n",
       "    </tr>\n",
       "    <tr>\n",
       "      <th>havana_tagene</th>\n",
       "      <td>14</td>\n",
       "      <td>312</td>\n",
       "      <td>0</td>\n",
       "      <td>0</td>\n",
       "      <td>19628</td>\n",
       "      <td>19954</td>\n",
       "    </tr>\n",
       "    <tr>\n",
       "      <th>insdc</th>\n",
       "      <td>0</td>\n",
       "      <td>37</td>\n",
       "      <td>0</td>\n",
       "      <td>0</td>\n",
       "      <td>0</td>\n",
       "      <td>37</td>\n",
       "    </tr>\n",
       "    <tr>\n",
       "      <th>mirbase</th>\n",
       "      <td>0</td>\n",
       "      <td>1918</td>\n",
       "      <td>0</td>\n",
       "      <td>1</td>\n",
       "      <td>26</td>\n",
       "      <td>1945</td>\n",
       "    </tr>\n",
       "    <tr>\n",
       "      <th>All</th>\n",
       "      <td>313</td>\n",
       "      <td>46592</td>\n",
       "      <td>1471</td>\n",
       "      <td>3</td>\n",
       "      <td>38023</td>\n",
       "      <td>86402</td>\n",
       "    </tr>\n",
       "  </tbody>\n",
       "</table>\n",
       "</div>"
      ],
      "text/plain": [
       "gene_symbol_source_db  EntrezGene   HGNC  RFAM  miRBase  \\\n",
       "ensembl_source                                            \n",
       "ensembl                         0   4219  1470        0   \n",
       "ensembl_havana                 30  21637     1        0   \n",
       "ensembl_havana_tagene           0      6     0        0   \n",
       "havana                        269  18463     0        2   \n",
       "havana_tagene                  14    312     0        0   \n",
       "insdc                           0     37     0        0   \n",
       "mirbase                         0   1918     0        1   \n",
       "All                           313  46592  1471        3   \n",
       "\n",
       "gene_symbol_source_db  missing (clone-based)    All  \n",
       "ensembl_source                                       \n",
       "ensembl                                  855   6544  \n",
       "ensembl_havana                           277  21945  \n",
       "ensembl_havana_tagene                      1      7  \n",
       "havana                                 17236  35970  \n",
       "havana_tagene                          19628  19954  \n",
       "insdc                                      0     37  \n",
       "mirbase                                   26   1945  \n",
       "All                                    38023  86402  "
      ]
     },
     "execution_count": 10,
     "metadata": {},
     "output_type": "execute_result"
    }
   ],
   "source": [
    "# which external database the gene symbol derives from versus the ensembl source\n",
    "pd.crosstab(\n",
    "    ensg.gene_df.ensembl_source,\n",
    "    ensg.gene_df.gene_symbol_source_db.fillna(\"missing (clone-based)\"),\n",
    "    margins=True,\n",
    ")"
   ]
  },
  {
   "cell_type": "code",
   "execution_count": 11,
   "id": "929ba752",
   "metadata": {
    "execution": {
     "iopub.execute_input": "2025-01-06T21:17:08.647893Z",
     "iopub.status.busy": "2025-01-06T21:17:08.647341Z",
     "iopub.status.idle": "2025-01-06T21:17:08.674947Z",
     "shell.execute_reply": "2025-01-06T21:17:08.674273Z"
    },
    "papermill": {
     "duration": 0.036721,
     "end_time": "2025-01-06T21:17:08.676246",
     "exception": false,
     "start_time": "2025-01-06T21:17:08.639525",
     "status": "completed"
    },
    "tags": []
   },
   "outputs": [
    {
     "data": {
      "text/plain": [
       "chromosome    78724\n",
       "scaffold       7678\n",
       "Name: coord_system, dtype: int64"
      ]
     },
     "execution_count": 11,
     "metadata": {},
     "output_type": "execute_result"
    }
   ],
   "source": [
    "ensg.gene_df.coord_system.value_counts().head(10)"
   ]
  },
  {
   "cell_type": "code",
   "execution_count": 12,
   "id": "106a1fd0",
   "metadata": {
    "execution": {
     "iopub.execute_input": "2025-01-06T21:17:08.691822Z",
     "iopub.status.busy": "2025-01-06T21:17:08.691601Z",
     "iopub.status.idle": "2025-01-06T21:17:08.719153Z",
     "shell.execute_reply": "2025-01-06T21:17:08.718465Z"
    },
    "papermill": {
     "duration": 0.036802,
     "end_time": "2025-01-06T21:17:08.720623",
     "exception": false,
     "start_time": "2025-01-06T21:17:08.683821",
     "status": "completed"
    },
    "tags": []
   },
   "outputs": [
    {
     "data": {
      "text/plain": [
       "lncRNA                                36524\n",
       "protein_coding                        23258\n",
       "processed_pseudogene                  10235\n",
       "unprocessed_pseudogene                 2809\n",
       "misc_RNA                               2419\n",
       "snRNA                                  2094\n",
       "miRNA                                  1945\n",
       "transcribed_unprocessed_pseudogene     1814\n",
       "transcribed_processed_pseudogene       1229\n",
       "TEC                                    1085\n",
       "Name: gene_biotype, dtype: int64"
      ]
     },
     "execution_count": 12,
     "metadata": {},
     "output_type": "execute_result"
    }
   ],
   "source": [
    "ensg.gene_df.gene_biotype.value_counts().head(10)"
   ]
  },
  {
   "cell_type": "code",
   "execution_count": 13,
   "id": "c41ec174",
   "metadata": {
    "execution": {
     "iopub.execute_input": "2025-01-06T21:17:08.736467Z",
     "iopub.status.busy": "2025-01-06T21:17:08.736033Z",
     "iopub.status.idle": "2025-01-06T21:17:08.805712Z",
     "shell.execute_reply": "2025-01-06T21:17:08.805026Z"
    },
    "papermill": {
     "duration": 0.078814,
     "end_time": "2025-01-06T21:17:08.807043",
     "exception": false,
     "start_time": "2025-01-06T21:17:08.728229",
     "status": "completed"
    },
    "tags": []
   },
   "outputs": [
    {
     "data": {
      "text/html": [
       "<div>\n",
       "<style scoped>\n",
       "    .dataframe tbody tr th:only-of-type {\n",
       "        vertical-align: middle;\n",
       "    }\n",
       "\n",
       "    .dataframe tbody tr th {\n",
       "        vertical-align: top;\n",
       "    }\n",
       "\n",
       "    .dataframe thead th {\n",
       "        text-align: right;\n",
       "    }\n",
       "</style>\n",
       "<table border=\"1\" class=\"dataframe\">\n",
       "  <thead>\n",
       "    <tr style=\"text-align: right;\">\n",
       "      <th>primary_assembly</th>\n",
       "      <th>False</th>\n",
       "      <th>True</th>\n",
       "      <th>All</th>\n",
       "    </tr>\n",
       "    <tr>\n",
       "      <th>coord_system</th>\n",
       "      <th></th>\n",
       "      <th></th>\n",
       "      <th></th>\n",
       "    </tr>\n",
       "  </thead>\n",
       "  <tbody>\n",
       "    <tr>\n",
       "      <th>chromosome</th>\n",
       "      <td>0</td>\n",
       "      <td>78724</td>\n",
       "      <td>78724</td>\n",
       "    </tr>\n",
       "    <tr>\n",
       "      <th>scaffold</th>\n",
       "      <td>7678</td>\n",
       "      <td>0</td>\n",
       "      <td>7678</td>\n",
       "    </tr>\n",
       "    <tr>\n",
       "      <th>All</th>\n",
       "      <td>7678</td>\n",
       "      <td>78724</td>\n",
       "      <td>86402</td>\n",
       "    </tr>\n",
       "  </tbody>\n",
       "</table>\n",
       "</div>"
      ],
      "text/plain": [
       "primary_assembly  False   True    All\n",
       "coord_system                         \n",
       "chromosome            0  78724  78724\n",
       "scaffold           7678      0   7678\n",
       "All                7678  78724  86402"
      ]
     },
     "execution_count": 13,
     "metadata": {},
     "output_type": "execute_result"
    }
   ],
   "source": [
    "pd.crosstab(ensg.gene_df.coord_system, ensg.gene_df.primary_assembly, margins=True)"
   ]
  },
  {
   "cell_type": "code",
   "execution_count": 14,
   "id": "cb382533",
   "metadata": {
    "execution": {
     "iopub.execute_input": "2025-01-06T21:17:08.823552Z",
     "iopub.status.busy": "2025-01-06T21:17:08.823159Z",
     "iopub.status.idle": "2025-01-06T21:17:08.843324Z",
     "shell.execute_reply": "2025-01-06T21:17:08.842685Z"
    },
    "papermill": {
     "duration": 0.029643,
     "end_time": "2025-01-06T21:17:08.844738",
     "exception": false,
     "start_time": "2025-01-06T21:17:08.815095",
     "status": "completed"
    },
    "tags": []
   },
   "outputs": [
    {
     "data": {
      "text/plain": [
       "no      85674\n",
       "MHC       494\n",
       "xMHC      234\n",
       "Name: mhc, dtype: int64"
      ]
     },
     "execution_count": 14,
     "metadata": {},
     "output_type": "execute_result"
    }
   ],
   "source": [
    "ensg.gene_df.mhc.value_counts()"
   ]
  },
  {
   "cell_type": "code",
   "execution_count": 15,
   "id": "4dcb1ab1",
   "metadata": {
    "execution": {
     "iopub.execute_input": "2025-01-06T21:17:08.860509Z",
     "iopub.status.busy": "2025-01-06T21:17:08.860097Z",
     "iopub.status.idle": "2025-01-06T21:17:08.874234Z",
     "shell.execute_reply": "2025-01-06T21:17:08.873739Z"
    },
    "papermill": {
     "duration": 0.023424,
     "end_time": "2025-01-06T21:17:08.875511",
     "exception": false,
     "start_time": "2025-01-06T21:17:08.852087",
     "status": "completed"
    },
    "tags": []
   },
   "outputs": [
    {
     "data": {
      "text/plain": [
       "86402"
      ]
     },
     "execution_count": 15,
     "metadata": {},
     "output_type": "execute_result"
    }
   ],
   "source": [
    "len(ensg.gene_df)"
   ]
  },
  {
   "cell_type": "markdown",
   "id": "9dfe931d",
   "metadata": {
    "papermill": {
     "duration": 0.007366,
     "end_time": "2025-01-06T21:17:08.890352",
     "exception": false,
     "start_time": "2025-01-06T21:17:08.882986",
     "status": "completed"
    },
    "tags": []
   },
   "source": [
    "## alternative gene alleles\n",
    "\n",
    "Related:\n",
    "\n",
    "- [OTP: Origin of genes_with_non_reference_ensembl_ids.tsv](https://github.com/opentargets/platform/issues/702)\n",
    "- [biostars: map between different assemblies of one ensembl release](https://www.biostars.org/p/143956/)\n",
    "- using `attrib_type.code = \"non_ref\"` for `primary_assembly` doesn't appear to return any results"
   ]
  },
  {
   "cell_type": "code",
   "execution_count": 16,
   "id": "81aa8bb8",
   "metadata": {
    "execution": {
     "iopub.execute_input": "2025-01-06T21:17:08.906184Z",
     "iopub.status.busy": "2025-01-06T21:17:08.905830Z",
     "iopub.status.idle": "2025-01-06T21:17:08.924937Z",
     "shell.execute_reply": "2025-01-06T21:17:08.924313Z"
    },
    "papermill": {
     "duration": 0.028447,
     "end_time": "2025-01-06T21:17:08.926235",
     "exception": false,
     "start_time": "2025-01-06T21:17:08.897788",
     "status": "completed"
    },
    "tags": []
   },
   "outputs": [
    {
     "data": {
      "text/html": [
       "<div>\n",
       "<style scoped>\n",
       "    .dataframe tbody tr th:only-of-type {\n",
       "        vertical-align: middle;\n",
       "    }\n",
       "\n",
       "    .dataframe tbody tr th {\n",
       "        vertical-align: top;\n",
       "    }\n",
       "\n",
       "    .dataframe thead th {\n",
       "        text-align: right;\n",
       "    }\n",
       "</style>\n",
       "<table border=\"1\" class=\"dataframe\">\n",
       "  <thead>\n",
       "    <tr style=\"text-align: right;\">\n",
       "      <th></th>\n",
       "      <th>rs_allele_group</th>\n",
       "      <th>ensembl_gene_id</th>\n",
       "      <th>gene_symbol</th>\n",
       "      <th>ensembl_created_date</th>\n",
       "      <th>seq_region</th>\n",
       "      <th>primary_assembly</th>\n",
       "      <th>alt_allele_group_id</th>\n",
       "      <th>alt_allele_attrib</th>\n",
       "      <th>alt_allele_is_representative</th>\n",
       "      <th>ensembl_representative_gene_id</th>\n",
       "      <th>is_representative_gene</th>\n",
       "    </tr>\n",
       "  </thead>\n",
       "  <tbody>\n",
       "    <tr>\n",
       "      <th>0</th>\n",
       "      <td>44430</td>\n",
       "      <td>ENSG00000273644</td>\n",
       "      <td>None</td>\n",
       "      <td>2014-06-09 10:49:07</td>\n",
       "      <td>7</td>\n",
       "      <td>True</td>\n",
       "      <td>44430.0</td>\n",
       "      <td>IS_REPRESENTATIVE</td>\n",
       "      <td>True</td>\n",
       "      <td>ENSG00000273644</td>\n",
       "      <td>True</td>\n",
       "    </tr>\n",
       "    <tr>\n",
       "      <th>2</th>\n",
       "      <td>44430</td>\n",
       "      <td>ENSG00000282333</td>\n",
       "      <td>None</td>\n",
       "      <td>2015-06-01 18:57:05</td>\n",
       "      <td>HSCHR7_2_CTG1</td>\n",
       "      <td>False</td>\n",
       "      <td>44430.0</td>\n",
       "      <td>AUTOMATICALLY_ASSIGNED</td>\n",
       "      <td>False</td>\n",
       "      <td>ENSG00000273644</td>\n",
       "      <td>False</td>\n",
       "    </tr>\n",
       "    <tr>\n",
       "      <th>3</th>\n",
       "      <td>44431</td>\n",
       "      <td>ENSG00000281993</td>\n",
       "      <td>None</td>\n",
       "      <td>2015-06-01 18:57:05</td>\n",
       "      <td>HSCHR7_1_CTG1</td>\n",
       "      <td>False</td>\n",
       "      <td>44431.0</td>\n",
       "      <td>AUTOMATICALLY_ASSIGNED</td>\n",
       "      <td>False</td>\n",
       "      <td>ENSG00000281993</td>\n",
       "      <td>True</td>\n",
       "    </tr>\n",
       "    <tr>\n",
       "      <th>4</th>\n",
       "      <td>44431</td>\n",
       "      <td>ENSG00000282645</td>\n",
       "      <td>None</td>\n",
       "      <td>2015-06-01 18:57:05</td>\n",
       "      <td>HSCHR7_2_CTG1</td>\n",
       "      <td>False</td>\n",
       "      <td>44431.0</td>\n",
       "      <td>AUTOMATICALLY_ASSIGNED</td>\n",
       "      <td>False</td>\n",
       "      <td>ENSG00000281993</td>\n",
       "      <td>False</td>\n",
       "    </tr>\n",
       "    <tr>\n",
       "      <th>5</th>\n",
       "      <td>44431</td>\n",
       "      <td>ENSG00000288372</td>\n",
       "      <td>None</td>\n",
       "      <td>2019-06-15 05:41:31</td>\n",
       "      <td>HG1309_PATCH</td>\n",
       "      <td>False</td>\n",
       "      <td>44431.0</td>\n",
       "      <td>AUTOMATICALLY_ASSIGNED</td>\n",
       "      <td>False</td>\n",
       "      <td>ENSG00000281993</td>\n",
       "      <td>False</td>\n",
       "    </tr>\n",
       "  </tbody>\n",
       "</table>\n",
       "</div>"
      ],
      "text/plain": [
       "  rs_allele_group  ensembl_gene_id gene_symbol ensembl_created_date  \\\n",
       "0           44430  ENSG00000273644        None  2014-06-09 10:49:07   \n",
       "2           44430  ENSG00000282333        None  2015-06-01 18:57:05   \n",
       "3           44431  ENSG00000281993        None  2015-06-01 18:57:05   \n",
       "4           44431  ENSG00000282645        None  2015-06-01 18:57:05   \n",
       "5           44431  ENSG00000288372        None  2019-06-15 05:41:31   \n",
       "\n",
       "      seq_region  primary_assembly  alt_allele_group_id  \\\n",
       "0              7              True              44430.0   \n",
       "2  HSCHR7_2_CTG1             False              44430.0   \n",
       "3  HSCHR7_1_CTG1             False              44431.0   \n",
       "4  HSCHR7_2_CTG1             False              44431.0   \n",
       "5   HG1309_PATCH             False              44431.0   \n",
       "\n",
       "        alt_allele_attrib  alt_allele_is_representative  \\\n",
       "0       IS_REPRESENTATIVE                          True   \n",
       "2  AUTOMATICALLY_ASSIGNED                         False   \n",
       "3  AUTOMATICALLY_ASSIGNED                         False   \n",
       "4  AUTOMATICALLY_ASSIGNED                         False   \n",
       "5  AUTOMATICALLY_ASSIGNED                         False   \n",
       "\n",
       "  ensembl_representative_gene_id  is_representative_gene  \n",
       "0                ENSG00000273644                    True  \n",
       "2                ENSG00000273644                   False  \n",
       "3                ENSG00000281993                    True  \n",
       "4                ENSG00000281993                   False  \n",
       "5                ENSG00000281993                   False  "
      ]
     },
     "execution_count": 16,
     "metadata": {},
     "output_type": "execute_result"
    }
   ],
   "source": [
    "ensg.representative_gene_df.head()"
   ]
  },
  {
   "cell_type": "code",
   "execution_count": 17,
   "id": "5249e7e8",
   "metadata": {
    "execution": {
     "iopub.execute_input": "2025-01-06T21:17:08.943924Z",
     "iopub.status.busy": "2025-01-06T21:17:08.943316Z",
     "iopub.status.idle": "2025-01-06T21:17:11.238685Z",
     "shell.execute_reply": "2025-01-06T21:17:11.238040Z"
    },
    "papermill": {
     "duration": 2.305437,
     "end_time": "2025-01-06T21:17:11.240010",
     "exception": false,
     "start_time": "2025-01-06T21:17:08.934573",
     "status": "completed"
    },
    "tags": []
   },
   "outputs": [
    {
     "data": {
      "text/html": [
       "<div>\n",
       "<style scoped>\n",
       "    .dataframe tbody tr th:only-of-type {\n",
       "        vertical-align: middle;\n",
       "    }\n",
       "\n",
       "    .dataframe tbody tr th {\n",
       "        vertical-align: top;\n",
       "    }\n",
       "\n",
       "    .dataframe thead th {\n",
       "        text-align: right;\n",
       "    }\n",
       "</style>\n",
       "<table border=\"1\" class=\"dataframe\">\n",
       "  <thead>\n",
       "    <tr style=\"text-align: right;\">\n",
       "      <th></th>\n",
       "      <th>gene_id</th>\n",
       "      <th>attrib_type_id</th>\n",
       "      <th>value</th>\n",
       "      <th>attrib_type_id</th>\n",
       "      <th>code</th>\n",
       "      <th>name</th>\n",
       "      <th>description</th>\n",
       "    </tr>\n",
       "  </thead>\n",
       "  <tbody>\n",
       "  </tbody>\n",
       "</table>\n",
       "</div>"
      ],
      "text/plain": [
       "Empty DataFrame\n",
       "Columns: [gene_id, attrib_type_id, value, attrib_type_id, code, name, description]\n",
       "Index: []"
      ]
     },
     "execution_count": 17,
     "metadata": {},
     "output_type": "execute_result"
    }
   ],
   "source": [
    "# looks like non_ref isn't set for human genes\n",
    "query = '''\n",
    "SELECT *\n",
    "FROM gene_attrib\n",
    "LEFT JOIN attrib_type\n",
    "  ON gene_attrib.attrib_type_id = attrib_type.attrib_type_id\n",
    "WHERE attrib_type.code = \"non_ref\"\n",
    "LIMIT 5\n",
    "'''\n",
    "pd.read_sql(sql=query, con=ensg.connection_url)"
   ]
  },
  {
   "cell_type": "code",
   "execution_count": 18,
   "id": "02f32c6b",
   "metadata": {
    "execution": {
     "iopub.execute_input": "2025-01-06T21:17:11.257106Z",
     "iopub.status.busy": "2025-01-06T21:17:11.256724Z",
     "iopub.status.idle": "2025-01-06T21:17:11.275287Z",
     "shell.execute_reply": "2025-01-06T21:17:11.274649Z"
    },
    "papermill": {
     "duration": 0.028597,
     "end_time": "2025-01-06T21:17:11.276867",
     "exception": false,
     "start_time": "2025-01-06T21:17:11.248270",
     "status": "completed"
    },
    "tags": []
   },
   "outputs": [
    {
     "data": {
      "text/plain": [
       "AUTOMATICALLY_ASSIGNED    6469\n",
       "IS_REPRESENTATIVE         3905\n",
       "MANUALLY_ASSIGNED           74\n",
       "IS_PAR                      45\n",
       "Name: alt_allele_attrib, dtype: int64"
      ]
     },
     "execution_count": 18,
     "metadata": {},
     "output_type": "execute_result"
    }
   ],
   "source": [
    "ensg.representative_gene_df.alt_allele_attrib.value_counts()"
   ]
  },
  {
   "cell_type": "code",
   "execution_count": 19,
   "id": "83958fd0",
   "metadata": {
    "execution": {
     "iopub.execute_input": "2025-01-06T21:17:11.303590Z",
     "iopub.status.busy": "2025-01-06T21:17:11.302959Z",
     "iopub.status.idle": "2025-01-06T21:17:11.333768Z",
     "shell.execute_reply": "2025-01-06T21:17:11.333119Z"
    },
    "papermill": {
     "duration": 0.045614,
     "end_time": "2025-01-06T21:17:11.335238",
     "exception": false,
     "start_time": "2025-01-06T21:17:11.289624",
     "status": "completed"
    },
    "tags": []
   },
   "outputs": [
    {
     "data": {
      "text/html": [
       "<div>\n",
       "<style scoped>\n",
       "    .dataframe tbody tr th:only-of-type {\n",
       "        vertical-align: middle;\n",
       "    }\n",
       "\n",
       "    .dataframe tbody tr th {\n",
       "        vertical-align: top;\n",
       "    }\n",
       "\n",
       "    .dataframe thead th {\n",
       "        text-align: right;\n",
       "    }\n",
       "</style>\n",
       "<table border=\"1\" class=\"dataframe\">\n",
       "  <thead>\n",
       "    <tr style=\"text-align: right;\">\n",
       "      <th></th>\n",
       "      <th>rs_allele_group</th>\n",
       "      <th>ensembl_gene_id</th>\n",
       "      <th>gene_symbol</th>\n",
       "      <th>ensembl_created_date</th>\n",
       "      <th>seq_region</th>\n",
       "      <th>primary_assembly</th>\n",
       "      <th>alt_allele_group_id</th>\n",
       "      <th>alt_allele_attrib</th>\n",
       "      <th>alt_allele_is_representative</th>\n",
       "      <th>ensembl_representative_gene_id</th>\n",
       "      <th>is_representative_gene</th>\n",
       "    </tr>\n",
       "  </thead>\n",
       "  <tbody>\n",
       "    <tr>\n",
       "      <th>2</th>\n",
       "      <td>44430</td>\n",
       "      <td>ENSG00000282333</td>\n",
       "      <td>None</td>\n",
       "      <td>2015-06-01 18:57:05</td>\n",
       "      <td>HSCHR7_2_CTG1</td>\n",
       "      <td>False</td>\n",
       "      <td>44430.0</td>\n",
       "      <td>AUTOMATICALLY_ASSIGNED</td>\n",
       "      <td>False</td>\n",
       "      <td>ENSG00000273644</td>\n",
       "      <td>False</td>\n",
       "    </tr>\n",
       "    <tr>\n",
       "      <th>4</th>\n",
       "      <td>44431</td>\n",
       "      <td>ENSG00000282645</td>\n",
       "      <td>None</td>\n",
       "      <td>2015-06-01 18:57:05</td>\n",
       "      <td>HSCHR7_2_CTG1</td>\n",
       "      <td>False</td>\n",
       "      <td>44431.0</td>\n",
       "      <td>AUTOMATICALLY_ASSIGNED</td>\n",
       "      <td>False</td>\n",
       "      <td>ENSG00000281993</td>\n",
       "      <td>False</td>\n",
       "    </tr>\n",
       "  </tbody>\n",
       "</table>\n",
       "</div>"
      ],
      "text/plain": [
       "  rs_allele_group  ensembl_gene_id gene_symbol ensembl_created_date  \\\n",
       "2           44430  ENSG00000282333        None  2015-06-01 18:57:05   \n",
       "4           44431  ENSG00000282645        None  2015-06-01 18:57:05   \n",
       "\n",
       "      seq_region  primary_assembly  alt_allele_group_id  \\\n",
       "2  HSCHR7_2_CTG1             False              44430.0   \n",
       "4  HSCHR7_2_CTG1             False              44431.0   \n",
       "\n",
       "        alt_allele_attrib  alt_allele_is_representative  \\\n",
       "2  AUTOMATICALLY_ASSIGNED                         False   \n",
       "4  AUTOMATICALLY_ASSIGNED                         False   \n",
       "\n",
       "  ensembl_representative_gene_id  is_representative_gene  \n",
       "2                ENSG00000273644                   False  \n",
       "4                ENSG00000281993                   False  "
      ]
     },
     "execution_count": 19,
     "metadata": {},
     "output_type": "execute_result"
    }
   ],
   "source": [
    "ensg.representative_gene_df.query(\"ensembl_gene_id != ensembl_representative_gene_id\").head(2)"
   ]
  },
  {
   "cell_type": "markdown",
   "id": "c9a11706",
   "metadata": {
    "papermill": {
     "duration": 0.007992,
     "end_time": "2025-01-06T21:17:11.351799",
     "exception": false,
     "start_time": "2025-01-06T21:17:11.343807",
     "status": "completed"
    },
    "tags": []
   },
   "source": [
    "# replaced ID converter\n",
    "\n",
    "A single `old_stable_id` can map to multiple `new_stable_id`. For example, `ENSG00000152006`\n",
    "\n",
    "https://uswest.ensembl.org/Homo_sapiens/Tools/IDMapper/Results?tl=AzhM62SpkvdiLC4H-6808613\n",
    "\n",
    "Requested ID | Matched ID(s) | Releases\n",
    "-- | -- | --\n",
    "ENSG00000152006 | ENSG00000196273 | 26: ENSG00000196273.1\n",
    "ENSG00000152006 | ENSG00000197016 | 26: ENSG00000197016.1\n",
    "ENSG00000152006 | ENSG00000196239 | 26: ENSG00000196239.1"
   ]
  },
  {
   "cell_type": "code",
   "execution_count": 20,
   "id": "f6dcf0f7",
   "metadata": {
    "execution": {
     "iopub.execute_input": "2025-01-06T21:17:11.368658Z",
     "iopub.status.busy": "2025-01-06T21:17:11.368428Z",
     "iopub.status.idle": "2025-01-06T21:17:14.502052Z",
     "shell.execute_reply": "2025-01-06T21:17:14.501352Z"
    },
    "papermill": {
     "duration": 3.143654,
     "end_time": "2025-01-06T21:17:14.503374",
     "exception": false,
     "start_time": "2025-01-06T21:17:11.359720",
     "status": "completed"
    },
    "tags": []
   },
   "outputs": [
    {
     "data": {
      "text/html": [
       "<div>\n",
       "<style scoped>\n",
       "    .dataframe tbody tr th:only-of-type {\n",
       "        vertical-align: middle;\n",
       "    }\n",
       "\n",
       "    .dataframe tbody tr th {\n",
       "        vertical-align: top;\n",
       "    }\n",
       "\n",
       "    .dataframe thead th {\n",
       "        text-align: right;\n",
       "    }\n",
       "</style>\n",
       "<table border=\"1\" class=\"dataframe\">\n",
       "  <thead>\n",
       "    <tr style=\"text-align: right;\">\n",
       "      <th></th>\n",
       "      <th>old_ensembl_gene_id</th>\n",
       "      <th>new_ensembl_gene_id</th>\n",
       "    </tr>\n",
       "  </thead>\n",
       "  <tbody>\n",
       "    <tr>\n",
       "      <th>0</th>\n",
       "      <td>ENSG00000011319</td>\n",
       "      <td>ENSG00000187391</td>\n",
       "    </tr>\n",
       "    <tr>\n",
       "      <th>1</th>\n",
       "      <td>ENSG00000077754</td>\n",
       "      <td>ENSG00000197226</td>\n",
       "    </tr>\n",
       "  </tbody>\n",
       "</table>\n",
       "</div>"
      ],
      "text/plain": [
       "  old_ensembl_gene_id new_ensembl_gene_id\n",
       "0     ENSG00000011319     ENSG00000187391\n",
       "1     ENSG00000077754     ENSG00000197226"
      ]
     },
     "execution_count": 20,
     "metadata": {},
     "output_type": "execute_result"
    }
   ],
   "source": [
    "ensg.old_to_new_df.head(2)"
   ]
  },
  {
   "cell_type": "code",
   "execution_count": 21,
   "id": "b2e40344",
   "metadata": {
    "execution": {
     "iopub.execute_input": "2025-01-06T21:17:14.521619Z",
     "iopub.status.busy": "2025-01-06T21:17:14.521073Z",
     "iopub.status.idle": "2025-01-06T21:17:14.539940Z",
     "shell.execute_reply": "2025-01-06T21:17:14.539275Z"
    },
    "papermill": {
     "duration": 0.029152,
     "end_time": "2025-01-06T21:17:14.541274",
     "exception": false,
     "start_time": "2025-01-06T21:17:14.512122",
     "status": "completed"
    },
    "tags": []
   },
   "outputs": [
    {
     "data": {
      "text/plain": [
       "ENSG00000201456    91\n",
       "ENSG00000193147    90\n",
       "Name: old_ensembl_gene_id, dtype: int64"
      ]
     },
     "execution_count": 21,
     "metadata": {},
     "output_type": "execute_result"
    }
   ],
   "source": [
    "# some ensembl genes replaced by many new ensembl genes\n",
    "ensg.old_to_new_df.old_ensembl_gene_id.value_counts().head(2)"
   ]
  },
  {
   "cell_type": "code",
   "execution_count": 22,
   "id": "94cbb284",
   "metadata": {
    "execution": {
     "iopub.execute_input": "2025-01-06T21:17:14.558765Z",
     "iopub.status.busy": "2025-01-06T21:17:14.558370Z",
     "iopub.status.idle": "2025-01-06T21:17:14.670919Z",
     "shell.execute_reply": "2025-01-06T21:17:14.670228Z"
    },
    "papermill": {
     "duration": 0.122717,
     "end_time": "2025-01-06T21:17:14.672245",
     "exception": false,
     "start_time": "2025-01-06T21:17:14.549528",
     "status": "completed"
    },
    "tags": []
   },
   "outputs": [
    {
     "data": {
      "text/plain": [
       "{'ENSG00000196239', 'ENSG00000196273', 'ENSG00000197016'}"
      ]
     },
     "execution_count": 22,
     "metadata": {},
     "output_type": "execute_result"
    }
   ],
   "source": [
    "# example\n",
    "ensg._update_ensembl_gene(\"ENSG00000152006\")"
   ]
  },
  {
   "cell_type": "code",
   "execution_count": 23,
   "id": "7b90af8c",
   "metadata": {
    "execution": {
     "iopub.execute_input": "2025-01-06T21:17:14.690802Z",
     "iopub.status.busy": "2025-01-06T21:17:14.690352Z",
     "iopub.status.idle": "2025-01-06T21:17:15.159742Z",
     "shell.execute_reply": "2025-01-06T21:17:15.158979Z"
    },
    "papermill": {
     "duration": 0.479824,
     "end_time": "2025-01-06T21:17:15.161057",
     "exception": false,
     "start_time": "2025-01-06T21:17:14.681233",
     "status": "completed"
    },
    "tags": []
   },
   "outputs": [
    {
     "data": {
      "text/html": [
       "<div>\n",
       "<style scoped>\n",
       "    .dataframe tbody tr th:only-of-type {\n",
       "        vertical-align: middle;\n",
       "    }\n",
       "\n",
       "    .dataframe tbody tr th {\n",
       "        vertical-align: top;\n",
       "    }\n",
       "\n",
       "    .dataframe thead th {\n",
       "        text-align: right;\n",
       "    }\n",
       "</style>\n",
       "<table border=\"1\" class=\"dataframe\">\n",
       "  <thead>\n",
       "    <tr style=\"text-align: right;\">\n",
       "      <th></th>\n",
       "      <th>old_ensembl_gene_id</th>\n",
       "      <th>newest_ensembl_gene_id</th>\n",
       "      <th>is_current</th>\n",
       "    </tr>\n",
       "  </thead>\n",
       "  <tbody>\n",
       "    <tr>\n",
       "      <th>0</th>\n",
       "      <td>ASMPATCHG00000000170</td>\n",
       "      <td>ENSG00000256229</td>\n",
       "      <td>True</td>\n",
       "    </tr>\n",
       "    <tr>\n",
       "      <th>1</th>\n",
       "      <td>ASMPATCHG00000000174</td>\n",
       "      <td>ENSG00000188171</td>\n",
       "      <td>True</td>\n",
       "    </tr>\n",
       "  </tbody>\n",
       "</table>\n",
       "</div>"
      ],
      "text/plain": [
       "    old_ensembl_gene_id newest_ensembl_gene_id  is_current\n",
       "0  ASMPATCHG00000000170        ENSG00000256229        True\n",
       "1  ASMPATCHG00000000174        ENSG00000188171        True"
      ]
     },
     "execution_count": 23,
     "metadata": {},
     "output_type": "execute_result"
    }
   ],
   "source": [
    "ensg.old_to_newest_df.head(2)"
   ]
  },
  {
   "cell_type": "code",
   "execution_count": 24,
   "id": "ba0c5b39",
   "metadata": {
    "execution": {
     "iopub.execute_input": "2025-01-06T21:17:15.179876Z",
     "iopub.status.busy": "2025-01-06T21:17:15.179425Z",
     "iopub.status.idle": "2025-01-06T21:17:15.194113Z",
     "shell.execute_reply": "2025-01-06T21:17:15.193479Z"
    },
    "papermill": {
     "duration": 0.025591,
     "end_time": "2025-01-06T21:17:15.195730",
     "exception": false,
     "start_time": "2025-01-06T21:17:15.170139",
     "status": "completed"
    },
    "tags": []
   },
   "outputs": [
    {
     "data": {
      "text/plain": [
       "20470"
      ]
     },
     "execution_count": 24,
     "metadata": {},
     "output_type": "execute_result"
    }
   ],
   "source": [
    "len(ensg.old_to_newest_df)"
   ]
  },
  {
   "cell_type": "code",
   "execution_count": 25,
   "id": "1796b95e",
   "metadata": {
    "execution": {
     "iopub.execute_input": "2025-01-06T21:17:15.214088Z",
     "iopub.status.busy": "2025-01-06T21:17:15.213613Z",
     "iopub.status.idle": "2025-01-06T21:17:15.231609Z",
     "shell.execute_reply": "2025-01-06T21:17:15.230940Z"
    },
    "papermill": {
     "duration": 0.028622,
     "end_time": "2025-01-06T21:17:15.232991",
     "exception": false,
     "start_time": "2025-01-06T21:17:15.204369",
     "status": "completed"
    },
    "tags": []
   },
   "outputs": [
    {
     "data": {
      "text/plain": [
       "True     11432\n",
       "False     9038\n",
       "Name: is_current, dtype: int64"
      ]
     },
     "execution_count": 25,
     "metadata": {},
     "output_type": "execute_result"
    }
   ],
   "source": [
    "ensg.old_to_newest_df.is_current.value_counts()"
   ]
  },
  {
   "cell_type": "markdown",
   "id": "d3dc1b9b",
   "metadata": {
    "papermill": {
     "duration": 0.008607,
     "end_time": "2025-01-06T21:17:15.250378",
     "exception": false,
     "start_time": "2025-01-06T21:17:15.241771",
     "status": "completed"
    },
    "tags": []
   },
   "source": [
    "## omni-updater\n",
    "\n",
    "The omni-updater dataset is designed to convert ensembl gene IDs from input data to the current, representative ensembl_gene_ids for this ensembl release. It assumes:\n",
    "\n",
    "- users want to update outdated genes with their replacements\n",
    "- users want a dataset of representative genes only, and want to convert alternative alleles to representative genes\n",
    "\n",
    "An inner join of a dataset with `update_df` on `input_ensembl_gene_id` will do the following:\n",
    "\n",
    "- produce output ensembl_gene_ids that are current and representatives\n",
    "- update outdated genes with their current identifiers. Outdated genes with no current replacement will be removed by the inner join.\n",
    "- update alternative gene alleles with their representatives\n",
    "- genes that are already represenative and current will map to themselves"
   ]
  },
  {
   "cell_type": "code",
   "execution_count": 26,
   "id": "4c29637e",
   "metadata": {
    "execution": {
     "iopub.execute_input": "2025-01-06T21:17:15.268516Z",
     "iopub.status.busy": "2025-01-06T21:17:15.268341Z",
     "iopub.status.idle": "2025-01-06T21:17:15.690779Z",
     "shell.execute_reply": "2025-01-06T21:17:15.690072Z"
    },
    "papermill": {
     "duration": 0.433113,
     "end_time": "2025-01-06T21:17:15.692164",
     "exception": false,
     "start_time": "2025-01-06T21:17:15.259051",
     "status": "completed"
    },
    "tags": []
   },
   "outputs": [
    {
     "data": {
      "text/html": [
       "<div>\n",
       "<style scoped>\n",
       "    .dataframe tbody tr th:only-of-type {\n",
       "        vertical-align: middle;\n",
       "    }\n",
       "\n",
       "    .dataframe tbody tr th {\n",
       "        vertical-align: top;\n",
       "    }\n",
       "\n",
       "    .dataframe thead th {\n",
       "        text-align: right;\n",
       "    }\n",
       "</style>\n",
       "<table border=\"1\" class=\"dataframe\">\n",
       "  <thead>\n",
       "    <tr style=\"text-align: right;\">\n",
       "      <th></th>\n",
       "      <th>input_ensembl_gene_id</th>\n",
       "      <th>ensembl_gene_id</th>\n",
       "      <th>input_current</th>\n",
       "      <th>input_representative</th>\n",
       "      <th>input_maps_to_n_genes</th>\n",
       "      <th>n_inputs_map_to_gene</th>\n",
       "    </tr>\n",
       "  </thead>\n",
       "  <tbody>\n",
       "    <tr>\n",
       "      <th>0</th>\n",
       "      <td>ASMPATCHG00000000170</td>\n",
       "      <td>ENSG00000256229</td>\n",
       "      <td>False</td>\n",
       "      <td>True</td>\n",
       "      <td>1</td>\n",
       "      <td>3</td>\n",
       "    </tr>\n",
       "    <tr>\n",
       "      <th>2</th>\n",
       "      <td>ASMPATCHG00000000174</td>\n",
       "      <td>ENSG00000188171</td>\n",
       "      <td>False</td>\n",
       "      <td>True</td>\n",
       "      <td>1</td>\n",
       "      <td>3</td>\n",
       "    </tr>\n",
       "  </tbody>\n",
       "</table>\n",
       "</div>"
      ],
      "text/plain": [
       "  input_ensembl_gene_id  ensembl_gene_id  input_current  input_representative  \\\n",
       "0  ASMPATCHG00000000170  ENSG00000256229          False                  True   \n",
       "2  ASMPATCHG00000000174  ENSG00000188171          False                  True   \n",
       "\n",
       "   input_maps_to_n_genes  n_inputs_map_to_gene  \n",
       "0                      1                     3  \n",
       "2                      1                     3  "
      ]
     },
     "execution_count": 26,
     "metadata": {},
     "output_type": "execute_result"
    }
   ],
   "source": [
    "ensg.update_df.head(2)"
   ]
  },
  {
   "cell_type": "code",
   "execution_count": 27,
   "id": "09066cc5",
   "metadata": {
    "execution": {
     "iopub.execute_input": "2025-01-06T21:17:15.711616Z",
     "iopub.status.busy": "2025-01-06T21:17:15.711387Z",
     "iopub.status.idle": "2025-01-06T21:17:15.737906Z",
     "shell.execute_reply": "2025-01-06T21:17:15.737241Z"
    },
    "papermill": {
     "duration": 0.037437,
     "end_time": "2025-01-06T21:17:15.739219",
     "exception": false,
     "start_time": "2025-01-06T21:17:15.701782",
     "status": "completed"
    },
    "tags": []
   },
   "outputs": [
    {
     "data": {
      "text/html": [
       "<div>\n",
       "<style scoped>\n",
       "    .dataframe tbody tr th:only-of-type {\n",
       "        vertical-align: middle;\n",
       "    }\n",
       "\n",
       "    .dataframe tbody tr th {\n",
       "        vertical-align: top;\n",
       "    }\n",
       "\n",
       "    .dataframe thead th {\n",
       "        text-align: right;\n",
       "    }\n",
       "</style>\n",
       "<table border=\"1\" class=\"dataframe\">\n",
       "  <thead>\n",
       "    <tr style=\"text-align: right;\">\n",
       "      <th></th>\n",
       "      <th>input_ensembl_gene_id</th>\n",
       "      <th>ensembl_gene_id</th>\n",
       "      <th>input_current</th>\n",
       "      <th>input_representative</th>\n",
       "      <th>input_maps_to_n_genes</th>\n",
       "      <th>n_inputs_map_to_gene</th>\n",
       "    </tr>\n",
       "  </thead>\n",
       "  <tbody>\n",
       "    <tr>\n",
       "      <th>3610</th>\n",
       "      <td>ENSG00000201456</td>\n",
       "      <td>ENSG00000206801</td>\n",
       "      <td>False</td>\n",
       "      <td>True</td>\n",
       "      <td>90</td>\n",
       "      <td>6</td>\n",
       "    </tr>\n",
       "    <tr>\n",
       "      <th>4046</th>\n",
       "      <td>ENSG00000201456</td>\n",
       "      <td>ENSG00000206918</td>\n",
       "      <td>False</td>\n",
       "      <td>True</td>\n",
       "      <td>90</td>\n",
       "      <td>6</td>\n",
       "    </tr>\n",
       "  </tbody>\n",
       "</table>\n",
       "</div>"
      ],
      "text/plain": [
       "     input_ensembl_gene_id  ensembl_gene_id  input_current  \\\n",
       "3610       ENSG00000201456  ENSG00000206801          False   \n",
       "4046       ENSG00000201456  ENSG00000206918          False   \n",
       "\n",
       "      input_representative  input_maps_to_n_genes  n_inputs_map_to_gene  \n",
       "3610                  True                     90                     6  \n",
       "4046                  True                     90                     6  "
      ]
     },
     "execution_count": 27,
     "metadata": {},
     "output_type": "execute_result"
    }
   ],
   "source": [
    "ensg.update_df.sort_values(\"input_maps_to_n_genes\", ascending=False).head(2)"
   ]
  },
  {
   "cell_type": "code",
   "execution_count": 28,
   "id": "64127604",
   "metadata": {
    "execution": {
     "iopub.execute_input": "2025-01-06T21:17:15.758761Z",
     "iopub.status.busy": "2025-01-06T21:17:15.758332Z",
     "iopub.status.idle": "2025-01-06T21:17:15.785581Z",
     "shell.execute_reply": "2025-01-06T21:17:15.784914Z"
    },
    "papermill": {
     "duration": 0.038394,
     "end_time": "2025-01-06T21:17:15.786955",
     "exception": false,
     "start_time": "2025-01-06T21:17:15.748561",
     "status": "completed"
    },
    "tags": []
   },
   "outputs": [
    {
     "data": {
      "text/html": [
       "<div>\n",
       "<style scoped>\n",
       "    .dataframe tbody tr th:only-of-type {\n",
       "        vertical-align: middle;\n",
       "    }\n",
       "\n",
       "    .dataframe tbody tr th {\n",
       "        vertical-align: top;\n",
       "    }\n",
       "\n",
       "    .dataframe thead th {\n",
       "        text-align: right;\n",
       "    }\n",
       "</style>\n",
       "<table border=\"1\" class=\"dataframe\">\n",
       "  <thead>\n",
       "    <tr style=\"text-align: right;\">\n",
       "      <th></th>\n",
       "      <th>input_ensembl_gene_id</th>\n",
       "      <th>ensembl_gene_id</th>\n",
       "      <th>input_current</th>\n",
       "      <th>input_representative</th>\n",
       "      <th>input_maps_to_n_genes</th>\n",
       "      <th>n_inputs_map_to_gene</th>\n",
       "    </tr>\n",
       "  </thead>\n",
       "  <tbody>\n",
       "    <tr>\n",
       "      <th>36216</th>\n",
       "      <td>ENSG00000238560</td>\n",
       "      <td>ENSG00000202251</td>\n",
       "      <td>True</td>\n",
       "      <td>False</td>\n",
       "      <td>1</td>\n",
       "      <td>914</td>\n",
       "    </tr>\n",
       "    <tr>\n",
       "      <th>21056</th>\n",
       "      <td>ENSG00000207231</td>\n",
       "      <td>ENSG00000202251</td>\n",
       "      <td>True</td>\n",
       "      <td>False</td>\n",
       "      <td>1</td>\n",
       "      <td>914</td>\n",
       "    </tr>\n",
       "  </tbody>\n",
       "</table>\n",
       "</div>"
      ],
      "text/plain": [
       "      input_ensembl_gene_id  ensembl_gene_id  input_current  \\\n",
       "36216       ENSG00000238560  ENSG00000202251           True   \n",
       "21056       ENSG00000207231  ENSG00000202251           True   \n",
       "\n",
       "       input_representative  input_maps_to_n_genes  n_inputs_map_to_gene  \n",
       "36216                 False                      1                   914  \n",
       "21056                 False                      1                   914  "
      ]
     },
     "execution_count": 28,
     "metadata": {},
     "output_type": "execute_result"
    }
   ],
   "source": [
    "ensg.update_df.sort_values(\"n_inputs_map_to_gene\", ascending=False).head(2)"
   ]
  },
  {
   "cell_type": "code",
   "execution_count": 29,
   "id": "a374722e",
   "metadata": {
    "execution": {
     "iopub.execute_input": "2025-01-06T21:17:15.806720Z",
     "iopub.status.busy": "2025-01-06T21:17:15.806478Z",
     "iopub.status.idle": "2025-01-06T21:17:15.821770Z",
     "shell.execute_reply": "2025-01-06T21:17:15.821242Z"
    },
    "papermill": {
     "duration": 0.026473,
     "end_time": "2025-01-06T21:17:15.823049",
     "exception": false,
     "start_time": "2025-01-06T21:17:15.796576",
     "status": "completed"
    },
    "tags": []
   },
   "outputs": [
    {
     "data": {
      "text/plain": [
       "0.9439004062923221"
      ]
     },
     "execution_count": 29,
     "metadata": {},
     "output_type": "execute_result"
    }
   ],
   "source": [
    "(ensg.update_df.input_maps_to_n_genes == 1).mean()"
   ]
  },
  {
   "cell_type": "code",
   "execution_count": 30,
   "id": "8e258784",
   "metadata": {
    "execution": {
     "iopub.execute_input": "2025-01-06T21:17:15.842743Z",
     "iopub.status.busy": "2025-01-06T21:17:15.842332Z",
     "iopub.status.idle": "2025-01-06T21:17:15.866316Z",
     "shell.execute_reply": "2025-01-06T21:17:15.865696Z"
    },
    "papermill": {
     "duration": 0.03513,
     "end_time": "2025-01-06T21:17:15.867598",
     "exception": false,
     "start_time": "2025-01-06T21:17:15.832468",
     "status": "completed"
    },
    "tags": []
   },
   "outputs": [
    {
     "data": {
      "text/html": [
       "<div>\n",
       "<style scoped>\n",
       "    .dataframe tbody tr th:only-of-type {\n",
       "        vertical-align: middle;\n",
       "    }\n",
       "\n",
       "    .dataframe tbody tr th {\n",
       "        vertical-align: top;\n",
       "    }\n",
       "\n",
       "    .dataframe thead th {\n",
       "        text-align: right;\n",
       "    }\n",
       "</style>\n",
       "<table border=\"1\" class=\"dataframe\">\n",
       "  <thead>\n",
       "    <tr style=\"text-align: right;\">\n",
       "      <th></th>\n",
       "      <th>input_ensembl_gene_id</th>\n",
       "      <th>ensembl_gene_id</th>\n",
       "      <th>input_current</th>\n",
       "      <th>input_representative</th>\n",
       "      <th>input_maps_to_n_genes</th>\n",
       "      <th>n_inputs_map_to_gene</th>\n",
       "    </tr>\n",
       "  </thead>\n",
       "  <tbody>\n",
       "    <tr>\n",
       "      <th>636</th>\n",
       "      <td>ASMPATCHG00000001513</td>\n",
       "      <td>ENSG00000256263</td>\n",
       "      <td>False</td>\n",
       "      <td>True</td>\n",
       "      <td>1</td>\n",
       "      <td>13</td>\n",
       "    </tr>\n",
       "    <tr>\n",
       "      <th>44509</th>\n",
       "      <td>ENSG00000256263</td>\n",
       "      <td>ENSG00000256263</td>\n",
       "      <td>True</td>\n",
       "      <td>True</td>\n",
       "      <td>1</td>\n",
       "      <td>13</td>\n",
       "    </tr>\n",
       "    <tr>\n",
       "      <th>637</th>\n",
       "      <td>ENSG00000260270</td>\n",
       "      <td>ENSG00000256263</td>\n",
       "      <td>False</td>\n",
       "      <td>True</td>\n",
       "      <td>1</td>\n",
       "      <td>13</td>\n",
       "    </tr>\n",
       "    <tr>\n",
       "      <th>638</th>\n",
       "      <td>ENSG00000262195</td>\n",
       "      <td>ENSG00000256263</td>\n",
       "      <td>False</td>\n",
       "      <td>True</td>\n",
       "      <td>1</td>\n",
       "      <td>13</td>\n",
       "    </tr>\n",
       "    <tr>\n",
       "      <th>639</th>\n",
       "      <td>ENSG00000263289</td>\n",
       "      <td>ENSG00000256263</td>\n",
       "      <td>False</td>\n",
       "      <td>True</td>\n",
       "      <td>1</td>\n",
       "      <td>13</td>\n",
       "    </tr>\n",
       "    <tr>\n",
       "      <th>640</th>\n",
       "      <td>ENSG00000269129</td>\n",
       "      <td>ENSG00000256263</td>\n",
       "      <td>False</td>\n",
       "      <td>True</td>\n",
       "      <td>1</td>\n",
       "      <td>13</td>\n",
       "    </tr>\n",
       "    <tr>\n",
       "      <th>641</th>\n",
       "      <td>ENSG00000269829</td>\n",
       "      <td>ENSG00000256263</td>\n",
       "      <td>False</td>\n",
       "      <td>True</td>\n",
       "      <td>1</td>\n",
       "      <td>13</td>\n",
       "    </tr>\n",
       "    <tr>\n",
       "      <th>642</th>\n",
       "      <td>ENSG00000270320</td>\n",
       "      <td>ENSG00000256263</td>\n",
       "      <td>False</td>\n",
       "      <td>True</td>\n",
       "      <td>1</td>\n",
       "      <td>13</td>\n",
       "    </tr>\n",
       "    <tr>\n",
       "      <th>643</th>\n",
       "      <td>ENSG00000271301</td>\n",
       "      <td>ENSG00000256263</td>\n",
       "      <td>False</td>\n",
       "      <td>True</td>\n",
       "      <td>1</td>\n",
       "      <td>13</td>\n",
       "    </tr>\n",
       "    <tr>\n",
       "      <th>644</th>\n",
       "      <td>ENSG00000271747</td>\n",
       "      <td>ENSG00000256263</td>\n",
       "      <td>False</td>\n",
       "      <td>True</td>\n",
       "      <td>1</td>\n",
       "      <td>13</td>\n",
       "    </tr>\n",
       "    <tr>\n",
       "      <th>645</th>\n",
       "      <td>ENSG00000272495</td>\n",
       "      <td>ENSG00000256263</td>\n",
       "      <td>False</td>\n",
       "      <td>True</td>\n",
       "      <td>1</td>\n",
       "      <td>13</td>\n",
       "    </tr>\n",
       "    <tr>\n",
       "      <th>53321</th>\n",
       "      <td>ENSG00000272877</td>\n",
       "      <td>ENSG00000256263</td>\n",
       "      <td>True</td>\n",
       "      <td>False</td>\n",
       "      <td>1</td>\n",
       "      <td>13</td>\n",
       "    </tr>\n",
       "    <tr>\n",
       "      <th>646</th>\n",
       "      <td>ENSG00000273127</td>\n",
       "      <td>ENSG00000256263</td>\n",
       "      <td>False</td>\n",
       "      <td>True</td>\n",
       "      <td>1</td>\n",
       "      <td>13</td>\n",
       "    </tr>\n",
       "  </tbody>\n",
       "</table>\n",
       "</div>"
      ],
      "text/plain": [
       "      input_ensembl_gene_id  ensembl_gene_id  input_current  \\\n",
       "636    ASMPATCHG00000001513  ENSG00000256263          False   \n",
       "44509       ENSG00000256263  ENSG00000256263           True   \n",
       "637         ENSG00000260270  ENSG00000256263          False   \n",
       "638         ENSG00000262195  ENSG00000256263          False   \n",
       "639         ENSG00000263289  ENSG00000256263          False   \n",
       "640         ENSG00000269129  ENSG00000256263          False   \n",
       "641         ENSG00000269829  ENSG00000256263          False   \n",
       "642         ENSG00000270320  ENSG00000256263          False   \n",
       "643         ENSG00000271301  ENSG00000256263          False   \n",
       "644         ENSG00000271747  ENSG00000256263          False   \n",
       "645         ENSG00000272495  ENSG00000256263          False   \n",
       "53321       ENSG00000272877  ENSG00000256263           True   \n",
       "646         ENSG00000273127  ENSG00000256263          False   \n",
       "\n",
       "       input_representative  input_maps_to_n_genes  n_inputs_map_to_gene  \n",
       "636                    True                      1                    13  \n",
       "44509                  True                      1                    13  \n",
       "637                    True                      1                    13  \n",
       "638                    True                      1                    13  \n",
       "639                    True                      1                    13  \n",
       "640                    True                      1                    13  \n",
       "641                    True                      1                    13  \n",
       "642                    True                      1                    13  \n",
       "643                    True                      1                    13  \n",
       "644                    True                      1                    13  \n",
       "645                    True                      1                    13  \n",
       "53321                 False                      1                    13  \n",
       "646                    True                      1                    13  "
      ]
     },
     "execution_count": 30,
     "metadata": {},
     "output_type": "execute_result"
    }
   ],
   "source": [
    "ensg.update_df.query(\"ensembl_gene_id == 'ENSG00000256263'\")"
   ]
  },
  {
   "cell_type": "code",
   "execution_count": 31,
   "id": "4277ebe5",
   "metadata": {
    "execution": {
     "iopub.execute_input": "2025-01-06T21:17:15.887523Z",
     "iopub.status.busy": "2025-01-06T21:17:15.887124Z",
     "iopub.status.idle": "2025-01-06T21:17:15.946026Z",
     "shell.execute_reply": "2025-01-06T21:17:15.945368Z"
    },
    "papermill": {
     "duration": 0.070373,
     "end_time": "2025-01-06T21:17:15.947444",
     "exception": false,
     "start_time": "2025-01-06T21:17:15.877071",
     "status": "completed"
    },
    "tags": []
   },
   "outputs": [
    {
     "name": "stdout",
     "output_type": "stream",
     "text": [
      "The omni-updater contains 95,990 rows for mapping 91,361 input genes to 78,043 current, representative genes.\n"
     ]
    }
   ],
   "source": [
    "print(\n",
    "    f\"The omni-updater contains {len(ensg.update_df):,} rows for mapping \"\n",
    "    f\"{ensg.update_df.input_ensembl_gene_id.nunique():,} input genes to \"\n",
    "    f\"{ensg.update_df.ensembl_gene_id.nunique():,} current, representative genes.\"\n",
    ")"
   ]
  },
  {
   "cell_type": "code",
   "execution_count": 32,
   "id": "56ceb690",
   "metadata": {
    "execution": {
     "iopub.execute_input": "2025-01-06T21:17:15.968716Z",
     "iopub.status.busy": "2025-01-06T21:17:15.968298Z",
     "iopub.status.idle": "2025-01-06T21:17:15.992731Z",
     "shell.execute_reply": "2025-01-06T21:17:15.992091Z"
    },
    "papermill": {
     "duration": 0.036245,
     "end_time": "2025-01-06T21:17:15.994090",
     "exception": false,
     "start_time": "2025-01-06T21:17:15.957845",
     "status": "completed"
    },
    "tags": []
   },
   "outputs": [
    {
     "data": {
      "text/html": [
       "<div>\n",
       "<style scoped>\n",
       "    .dataframe tbody tr th:only-of-type {\n",
       "        vertical-align: middle;\n",
       "    }\n",
       "\n",
       "    .dataframe tbody tr th {\n",
       "        vertical-align: top;\n",
       "    }\n",
       "\n",
       "    .dataframe thead th {\n",
       "        text-align: right;\n",
       "    }\n",
       "</style>\n",
       "<table border=\"1\" class=\"dataframe\">\n",
       "  <thead>\n",
       "    <tr style=\"text-align: right;\">\n",
       "      <th></th>\n",
       "      <th>input_ensembl_gene_id</th>\n",
       "      <th>ensembl_gene_id</th>\n",
       "      <th>input_current</th>\n",
       "      <th>input_representative</th>\n",
       "      <th>input_maps_to_n_genes</th>\n",
       "      <th>n_inputs_map_to_gene</th>\n",
       "    </tr>\n",
       "  </thead>\n",
       "  <tbody>\n",
       "    <tr>\n",
       "      <th>5701</th>\n",
       "      <td>ENSG00000201456</td>\n",
       "      <td>ENSG00000199482</td>\n",
       "      <td>False</td>\n",
       "      <td>True</td>\n",
       "      <td>90</td>\n",
       "      <td>2</td>\n",
       "    </tr>\n",
       "    <tr>\n",
       "      <th>3469</th>\n",
       "      <td>ENSG00000201456</td>\n",
       "      <td>ENSG00000199601</td>\n",
       "      <td>False</td>\n",
       "      <td>True</td>\n",
       "      <td>90</td>\n",
       "      <td>7</td>\n",
       "    </tr>\n",
       "    <tr>\n",
       "      <th>5702</th>\n",
       "      <td>ENSG00000201456</td>\n",
       "      <td>ENSG00000199664</td>\n",
       "      <td>False</td>\n",
       "      <td>True</td>\n",
       "      <td>90</td>\n",
       "      <td>3</td>\n",
       "    </tr>\n",
       "  </tbody>\n",
       "</table>\n",
       "</div>"
      ],
      "text/plain": [
       "     input_ensembl_gene_id  ensembl_gene_id  input_current  \\\n",
       "5701       ENSG00000201456  ENSG00000199482          False   \n",
       "3469       ENSG00000201456  ENSG00000199601          False   \n",
       "5702       ENSG00000201456  ENSG00000199664          False   \n",
       "\n",
       "      input_representative  input_maps_to_n_genes  n_inputs_map_to_gene  \n",
       "5701                  True                     90                     2  \n",
       "3469                  True                     90                     7  \n",
       "5702                  True                     90                     3  "
      ]
     },
     "execution_count": 32,
     "metadata": {},
     "output_type": "execute_result"
    }
   ],
   "source": [
    "# https://useast.ensembl.org/Homo_sapiens/Tools/IDMapper/Results?tl=P45VLMbogubpI0QA-6815464\n",
    "ensg.update_df.query(\"input_ensembl_gene_id == 'ENSG00000201456'\").head(3)"
   ]
  },
  {
   "cell_type": "markdown",
   "id": "115b08a7",
   "metadata": {
    "papermill": {
     "duration": 0.009574,
     "end_time": "2025-01-06T21:17:16.013710",
     "exception": false,
     "start_time": "2025-01-06T21:17:16.004136",
     "status": "completed"
    },
    "tags": []
   },
   "source": [
    "## cross-refrences (xrefs)"
   ]
  },
  {
   "cell_type": "code",
   "execution_count": 33,
   "id": "0daeffc9",
   "metadata": {
    "execution": {
     "iopub.execute_input": "2025-01-06T21:17:16.034077Z",
     "iopub.status.busy": "2025-01-06T21:17:16.033537Z",
     "iopub.status.idle": "2025-01-06T21:22:39.717942Z",
     "shell.execute_reply": "2025-01-06T21:22:39.717199Z"
    },
    "papermill": {
     "duration": 323.706262,
     "end_time": "2025-01-06T21:22:39.729576",
     "exception": false,
     "start_time": "2025-01-06T21:17:16.023314",
     "status": "completed"
    },
    "tags": []
   },
   "outputs": [
    {
     "data": {
      "text/html": [
       "<div>\n",
       "<style scoped>\n",
       "    .dataframe tbody tr th:only-of-type {\n",
       "        vertical-align: middle;\n",
       "    }\n",
       "\n",
       "    .dataframe tbody tr th {\n",
       "        vertical-align: top;\n",
       "    }\n",
       "\n",
       "    .dataframe thead th {\n",
       "        text-align: right;\n",
       "    }\n",
       "</style>\n",
       "<table border=\"1\" class=\"dataframe\">\n",
       "  <thead>\n",
       "    <tr style=\"text-align: right;\">\n",
       "      <th></th>\n",
       "      <th>ensembl_representative_gene_id</th>\n",
       "      <th>ensembl_gene_id</th>\n",
       "      <th>gene_symbol</th>\n",
       "      <th>xref_source</th>\n",
       "      <th>xref_accession</th>\n",
       "      <th>xref_label</th>\n",
       "      <th>xref_description</th>\n",
       "      <th>xref_info_type</th>\n",
       "      <th>xref_linkage_annotation</th>\n",
       "      <th>xref_curie</th>\n",
       "    </tr>\n",
       "  </thead>\n",
       "  <tbody>\n",
       "    <tr>\n",
       "      <th>0</th>\n",
       "      <td>ENSG00000000003</td>\n",
       "      <td>ENSG00000000003</td>\n",
       "      <td>TSPAN6</td>\n",
       "      <td>ArrayExpress</td>\n",
       "      <td>ENSG00000000003</td>\n",
       "      <td>ENSG00000000003</td>\n",
       "      <td>None</td>\n",
       "      <td>DIRECT</td>\n",
       "      <td>None</td>\n",
       "      <td>arrayexpress:ENSG00000000003</td>\n",
       "    </tr>\n",
       "    <tr>\n",
       "      <th>1</th>\n",
       "      <td>ENSG00000000003</td>\n",
       "      <td>ENSG00000000003</td>\n",
       "      <td>TSPAN6</td>\n",
       "      <td>EntrezGene</td>\n",
       "      <td>7105</td>\n",
       "      <td>TSPAN6</td>\n",
       "      <td>tetraspanin 6</td>\n",
       "      <td>DEPENDENT</td>\n",
       "      <td>None</td>\n",
       "      <td>ncbigene:7105</td>\n",
       "    </tr>\n",
       "    <tr>\n",
       "      <th>2</th>\n",
       "      <td>ENSG00000000003</td>\n",
       "      <td>ENSG00000000003</td>\n",
       "      <td>TSPAN6</td>\n",
       "      <td>GeneCards</td>\n",
       "      <td>11858</td>\n",
       "      <td>TSPAN6</td>\n",
       "      <td>tetraspanin 6</td>\n",
       "      <td>DEPENDENT</td>\n",
       "      <td>None</td>\n",
       "      <td>genecards:11858</td>\n",
       "    </tr>\n",
       "    <tr>\n",
       "      <th>3</th>\n",
       "      <td>ENSG00000000003</td>\n",
       "      <td>ENSG00000000003</td>\n",
       "      <td>TSPAN6</td>\n",
       "      <td>HGNC</td>\n",
       "      <td>HGNC:11858</td>\n",
       "      <td>TSPAN6</td>\n",
       "      <td>tetraspanin 6</td>\n",
       "      <td>DIRECT</td>\n",
       "      <td>None</td>\n",
       "      <td>hgnc:11858</td>\n",
       "    </tr>\n",
       "    <tr>\n",
       "      <th>4</th>\n",
       "      <td>ENSG00000000003</td>\n",
       "      <td>ENSG00000000003</td>\n",
       "      <td>TSPAN6</td>\n",
       "      <td>MIM_GENE</td>\n",
       "      <td>300191</td>\n",
       "      <td>TETRASPANIN 6; TSPAN6 [*300191]</td>\n",
       "      <td>TETRASPANIN 6; TSPAN6;;TRANSMEMBRANE 4 SUPERFA...</td>\n",
       "      <td>DEPENDENT</td>\n",
       "      <td>None</td>\n",
       "      <td>omim:300191</td>\n",
       "    </tr>\n",
       "  </tbody>\n",
       "</table>\n",
       "</div>"
      ],
      "text/plain": [
       "  ensembl_representative_gene_id  ensembl_gene_id gene_symbol   xref_source  \\\n",
       "0                ENSG00000000003  ENSG00000000003      TSPAN6  ArrayExpress   \n",
       "1                ENSG00000000003  ENSG00000000003      TSPAN6    EntrezGene   \n",
       "2                ENSG00000000003  ENSG00000000003      TSPAN6     GeneCards   \n",
       "3                ENSG00000000003  ENSG00000000003      TSPAN6          HGNC   \n",
       "4                ENSG00000000003  ENSG00000000003      TSPAN6      MIM_GENE   \n",
       "\n",
       "    xref_accession                       xref_label  \\\n",
       "0  ENSG00000000003                  ENSG00000000003   \n",
       "1             7105                           TSPAN6   \n",
       "2            11858                           TSPAN6   \n",
       "3       HGNC:11858                           TSPAN6   \n",
       "4           300191  TETRASPANIN 6; TSPAN6 [*300191]   \n",
       "\n",
       "                                    xref_description xref_info_type  \\\n",
       "0                                               None         DIRECT   \n",
       "1                                      tetraspanin 6      DEPENDENT   \n",
       "2                                      tetraspanin 6      DEPENDENT   \n",
       "3                                      tetraspanin 6         DIRECT   \n",
       "4  TETRASPANIN 6; TSPAN6;;TRANSMEMBRANE 4 SUPERFA...      DEPENDENT   \n",
       "\n",
       "  xref_linkage_annotation                    xref_curie  \n",
       "0                    None  arrayexpress:ENSG00000000003  \n",
       "1                    None                 ncbigene:7105  \n",
       "2                    None               genecards:11858  \n",
       "3                    None                    hgnc:11858  \n",
       "4                    None                   omim:300191  "
      ]
     },
     "execution_count": 33,
     "metadata": {},
     "output_type": "execute_result"
    }
   ],
   "source": [
    "ensg.xref_df.head()"
   ]
  },
  {
   "cell_type": "code",
   "execution_count": 34,
   "id": "84690812",
   "metadata": {
    "execution": {
     "iopub.execute_input": "2025-01-06T21:22:39.750890Z",
     "iopub.status.busy": "2025-01-06T21:22:39.750507Z",
     "iopub.status.idle": "2025-01-06T21:22:40.071519Z",
     "shell.execute_reply": "2025-01-06T21:22:40.070817Z"
    },
    "papermill": {
     "duration": 0.333033,
     "end_time": "2025-01-06T21:22:40.072866",
     "exception": false,
     "start_time": "2025-01-06T21:22:39.739833",
     "status": "completed"
    },
    "tags": []
   },
   "outputs": [
    {
     "data": {
      "text/plain": [
       "Series([], Name: xref_source, dtype: int64)"
      ]
     },
     "execution_count": 34,
     "metadata": {},
     "output_type": "execute_result"
    }
   ],
   "source": [
    "# datasets where there are ensembl_gene_id-xref_source-xref_accession pairs might not be distinct \n",
    "xref_dup_df = ensg.xref_df[ensg.xref_df.duplicated(subset=[\"ensembl_gene_id\", \"xref_source\", \"xref_accession\"], keep=False)]\n",
    "xref_dup_df.xref_source.value_counts()"
   ]
  },
  {
   "cell_type": "code",
   "execution_count": 35,
   "id": "46a52a0f",
   "metadata": {
    "execution": {
     "iopub.execute_input": "2025-01-06T21:22:40.094462Z",
     "iopub.status.busy": "2025-01-06T21:22:40.094028Z",
     "iopub.status.idle": "2025-01-06T21:22:40.598685Z",
     "shell.execute_reply": "2025-01-06T21:22:40.597962Z"
    },
    "papermill": {
     "duration": 0.516819,
     "end_time": "2025-01-06T21:22:40.600142",
     "exception": false,
     "start_time": "2025-01-06T21:22:40.083323",
     "status": "completed"
    },
    "tags": []
   },
   "outputs": [
    {
     "data": {
      "text/html": [
       "<div>\n",
       "<style scoped>\n",
       "    .dataframe tbody tr th:only-of-type {\n",
       "        vertical-align: middle;\n",
       "    }\n",
       "\n",
       "    .dataframe tbody tr th {\n",
       "        vertical-align: top;\n",
       "    }\n",
       "\n",
       "    .dataframe thead th {\n",
       "        text-align: right;\n",
       "    }\n",
       "</style>\n",
       "<table border=\"1\" class=\"dataframe\">\n",
       "  <thead>\n",
       "    <tr style=\"text-align: right;\">\n",
       "      <th>xref_info_type</th>\n",
       "      <th>DEPENDENT</th>\n",
       "      <th>DIRECT</th>\n",
       "      <th>MISC</th>\n",
       "      <th>All</th>\n",
       "      <th>bioregistry_prefix</th>\n",
       "    </tr>\n",
       "    <tr>\n",
       "      <th>xref_source</th>\n",
       "      <th></th>\n",
       "      <th></th>\n",
       "      <th></th>\n",
       "      <th></th>\n",
       "      <th></th>\n",
       "    </tr>\n",
       "  </thead>\n",
       "  <tbody>\n",
       "    <tr>\n",
       "      <th>ArrayExpress</th>\n",
       "      <td>0</td>\n",
       "      <td>86402</td>\n",
       "      <td>0</td>\n",
       "      <td>86402</td>\n",
       "      <td>arrayexpress</td>\n",
       "    </tr>\n",
       "    <tr>\n",
       "      <th>DBASS3</th>\n",
       "      <td>0</td>\n",
       "      <td>19</td>\n",
       "      <td>0</td>\n",
       "      <td>19</td>\n",
       "      <td>None</td>\n",
       "    </tr>\n",
       "    <tr>\n",
       "      <th>DBASS5</th>\n",
       "      <td>0</td>\n",
       "      <td>14</td>\n",
       "      <td>0</td>\n",
       "      <td>14</td>\n",
       "      <td>None</td>\n",
       "    </tr>\n",
       "    <tr>\n",
       "      <th>ENS_LRG_gene</th>\n",
       "      <td>0</td>\n",
       "      <td>1324</td>\n",
       "      <td>0</td>\n",
       "      <td>1324</td>\n",
       "      <td>lrg</td>\n",
       "    </tr>\n",
       "    <tr>\n",
       "      <th>EntrezGene</th>\n",
       "      <td>36711</td>\n",
       "      <td>0</td>\n",
       "      <td>0</td>\n",
       "      <td>36711</td>\n",
       "      <td>ncbigene</td>\n",
       "    </tr>\n",
       "    <tr>\n",
       "      <th>GeneCards</th>\n",
       "      <td>44881</td>\n",
       "      <td>0</td>\n",
       "      <td>0</td>\n",
       "      <td>44881</td>\n",
       "      <td>genecards</td>\n",
       "    </tr>\n",
       "    <tr>\n",
       "      <th>HGNC</th>\n",
       "      <td>1715</td>\n",
       "      <td>44881</td>\n",
       "      <td>0</td>\n",
       "      <td>46596</td>\n",
       "      <td>hgnc</td>\n",
       "    </tr>\n",
       "    <tr>\n",
       "      <th>MIM_GENE</th>\n",
       "      <td>19206</td>\n",
       "      <td>0</td>\n",
       "      <td>0</td>\n",
       "      <td>19206</td>\n",
       "      <td>omim</td>\n",
       "    </tr>\n",
       "    <tr>\n",
       "      <th>MIM_MORBID</th>\n",
       "      <td>8173</td>\n",
       "      <td>0</td>\n",
       "      <td>0</td>\n",
       "      <td>8173</td>\n",
       "      <td>omim</td>\n",
       "    </tr>\n",
       "    <tr>\n",
       "      <th>RFAM</th>\n",
       "      <td>0</td>\n",
       "      <td>5122</td>\n",
       "      <td>0</td>\n",
       "      <td>5122</td>\n",
       "      <td>rfam</td>\n",
       "    </tr>\n",
       "    <tr>\n",
       "      <th>Reactome_gene</th>\n",
       "      <td>0</td>\n",
       "      <td>146165</td>\n",
       "      <td>0</td>\n",
       "      <td>146165</td>\n",
       "      <td>reactome</td>\n",
       "    </tr>\n",
       "    <tr>\n",
       "      <th>Uniprot_gn</th>\n",
       "      <td>92961</td>\n",
       "      <td>0</td>\n",
       "      <td>0</td>\n",
       "      <td>92961</td>\n",
       "      <td>uniprot</td>\n",
       "    </tr>\n",
       "    <tr>\n",
       "      <th>WikiGene</th>\n",
       "      <td>36711</td>\n",
       "      <td>0</td>\n",
       "      <td>0</td>\n",
       "      <td>36711</td>\n",
       "      <td>wikigenes</td>\n",
       "    </tr>\n",
       "    <tr>\n",
       "      <th>miRBase</th>\n",
       "      <td>0</td>\n",
       "      <td>0</td>\n",
       "      <td>2138</td>\n",
       "      <td>2138</td>\n",
       "      <td>mirbase</td>\n",
       "    </tr>\n",
       "    <tr>\n",
       "      <th>All</th>\n",
       "      <td>240358</td>\n",
       "      <td>283927</td>\n",
       "      <td>2138</td>\n",
       "      <td>526423</td>\n",
       "      <td>None</td>\n",
       "    </tr>\n",
       "  </tbody>\n",
       "</table>\n",
       "</div>"
      ],
      "text/plain": [
       "xref_info_type  DEPENDENT  DIRECT  MISC     All bioregistry_prefix\n",
       "xref_source                                                       \n",
       "ArrayExpress            0   86402     0   86402       arrayexpress\n",
       "DBASS3                  0      19     0      19               None\n",
       "DBASS5                  0      14     0      14               None\n",
       "ENS_LRG_gene            0    1324     0    1324                lrg\n",
       "EntrezGene          36711       0     0   36711           ncbigene\n",
       "GeneCards           44881       0     0   44881          genecards\n",
       "HGNC                 1715   44881     0   46596               hgnc\n",
       "MIM_GENE            19206       0     0   19206               omim\n",
       "MIM_MORBID           8173       0     0    8173               omim\n",
       "RFAM                    0    5122     0    5122               rfam\n",
       "Reactome_gene           0  146165     0  146165           reactome\n",
       "Uniprot_gn          92961       0     0   92961            uniprot\n",
       "WikiGene            36711       0     0   36711          wikigenes\n",
       "miRBase                 0       0  2138    2138            mirbase\n",
       "All                240358  283927  2138  526423               None"
      ]
     },
     "execution_count": 35,
     "metadata": {},
     "output_type": "execute_result"
    }
   ],
   "source": [
    "# xref sources versus info_types\n",
    "df = pd.crosstab(ensg.xref_df.xref_source, ensg.xref_df.xref_info_type, margins=True)\n",
    "df[\"bioregistry_prefix\"] = df.index.to_series().replace(ensg._xref_prefix_updater).map(normalize_prefix)\n",
    "df"
   ]
  },
  {
   "cell_type": "markdown",
   "id": "cac7fa32",
   "metadata": {
    "papermill": {
     "duration": 0.009933,
     "end_time": "2025-01-06T21:22:40.620605",
     "exception": false,
     "start_time": "2025-01-06T21:22:40.610672",
     "status": "completed"
    },
    "tags": []
   },
   "source": [
    "## Gene Ontology xrefs"
   ]
  },
  {
   "cell_type": "code",
   "execution_count": 36,
   "id": "bb2569b6",
   "metadata": {
    "execution": {
     "iopub.execute_input": "2025-01-06T21:22:40.642028Z",
     "iopub.status.busy": "2025-01-06T21:22:40.641581Z",
     "iopub.status.idle": "2025-01-06T21:23:21.702143Z",
     "shell.execute_reply": "2025-01-06T21:23:21.701393Z"
    },
    "papermill": {
     "duration": 41.083648,
     "end_time": "2025-01-06T21:23:21.714316",
     "exception": false,
     "start_time": "2025-01-06T21:22:40.630668",
     "status": "completed"
    },
    "tags": []
   },
   "outputs": [
    {
     "data": {
      "text/html": [
       "<div>\n",
       "<style scoped>\n",
       "    .dataframe tbody tr th:only-of-type {\n",
       "        vertical-align: middle;\n",
       "    }\n",
       "\n",
       "    .dataframe tbody tr th {\n",
       "        vertical-align: top;\n",
       "    }\n",
       "\n",
       "    .dataframe thead th {\n",
       "        text-align: right;\n",
       "    }\n",
       "</style>\n",
       "<table border=\"1\" class=\"dataframe\">\n",
       "  <thead>\n",
       "    <tr style=\"text-align: right;\">\n",
       "      <th></th>\n",
       "      <th>ensembl_gene_id</th>\n",
       "      <th>go_id</th>\n",
       "      <th>go_label</th>\n",
       "      <th>go_evidence_codes</th>\n",
       "      <th>xref_info_types</th>\n",
       "      <th>xref_info_texts</th>\n",
       "      <th>ensembl_transcript_ids</th>\n",
       "      <th>ensembl_representative_gene_id</th>\n",
       "    </tr>\n",
       "  </thead>\n",
       "  <tbody>\n",
       "    <tr>\n",
       "      <th>0</th>\n",
       "      <td>ENSG00000000003</td>\n",
       "      <td>GO:0005515</td>\n",
       "      <td>protein binding</td>\n",
       "      <td>IPI</td>\n",
       "      <td>DIRECT</td>\n",
       "      <td>UniProt</td>\n",
       "      <td>ENST00000373020</td>\n",
       "      <td>ENSG00000000003</td>\n",
       "    </tr>\n",
       "    <tr>\n",
       "      <th>1</th>\n",
       "      <td>ENSG00000000003</td>\n",
       "      <td>GO:0005886</td>\n",
       "      <td>plasma membrane</td>\n",
       "      <td>IBA</td>\n",
       "      <td>DIRECT</td>\n",
       "      <td>GO_Central</td>\n",
       "      <td>ENST00000373020</td>\n",
       "      <td>ENSG00000000003</td>\n",
       "    </tr>\n",
       "    <tr>\n",
       "      <th>2</th>\n",
       "      <td>ENSG00000000003</td>\n",
       "      <td>GO:0016020</td>\n",
       "      <td>membrane</td>\n",
       "      <td>IEA</td>\n",
       "      <td>DEPENDENT,DIRECT</td>\n",
       "      <td>,InterPro,UniProt</td>\n",
       "      <td>ENST00000373020,ENST00000612152</td>\n",
       "      <td>ENSG00000000003</td>\n",
       "    </tr>\n",
       "  </tbody>\n",
       "</table>\n",
       "</div>"
      ],
      "text/plain": [
       "   ensembl_gene_id       go_id         go_label go_evidence_codes  \\\n",
       "0  ENSG00000000003  GO:0005515  protein binding               IPI   \n",
       "1  ENSG00000000003  GO:0005886  plasma membrane               IBA   \n",
       "2  ENSG00000000003  GO:0016020         membrane               IEA   \n",
       "\n",
       "    xref_info_types    xref_info_texts           ensembl_transcript_ids  \\\n",
       "0            DIRECT            UniProt                  ENST00000373020   \n",
       "1            DIRECT         GO_Central                  ENST00000373020   \n",
       "2  DEPENDENT,DIRECT  ,InterPro,UniProt  ENST00000373020,ENST00000612152   \n",
       "\n",
       "  ensembl_representative_gene_id  \n",
       "0                ENSG00000000003  \n",
       "1                ENSG00000000003  \n",
       "2                ENSG00000000003  "
      ]
     },
     "execution_count": 36,
     "metadata": {},
     "output_type": "execute_result"
    }
   ],
   "source": [
    "ensg.xref_go_df.head(3)"
   ]
  },
  {
   "cell_type": "code",
   "execution_count": 37,
   "id": "11cf06cb",
   "metadata": {
    "execution": {
     "iopub.execute_input": "2025-01-06T21:23:21.736130Z",
     "iopub.status.busy": "2025-01-06T21:23:21.735906Z",
     "iopub.status.idle": "2025-01-06T21:23:21.767642Z",
     "shell.execute_reply": "2025-01-06T21:23:21.766942Z"
    },
    "papermill": {
     "duration": 0.044159,
     "end_time": "2025-01-06T21:23:21.768988",
     "exception": false,
     "start_time": "2025-01-06T21:23:21.724829",
     "status": "completed"
    },
    "tags": []
   },
   "outputs": [
    {
     "data": {
      "text/plain": [
       "['C-C chemokine binding',\n",
       " 'C-C chemokine receptor activity',\n",
       " 'G protein-coupled receptor activity',\n",
       " 'G protein-coupled receptor signaling pathway',\n",
       " 'MAPK cascade',\n",
       " 'actin binding',\n",
       " 'calcium ion transport',\n",
       " 'calcium-mediated signaling',\n",
       " 'cell chemotaxis',\n",
       " 'cell surface',\n",
       " 'cell surface receptor signaling pathway',\n",
       " 'cell-cell signaling',\n",
       " 'cellular defense response',\n",
       " 'cellular response to lipopolysaccharide',\n",
       " 'chemokine (C-C motif) ligand 5 binding',\n",
       " 'chemokine receptor activity',\n",
       " 'chemokine-mediated signaling pathway',\n",
       " 'chemotaxis',\n",
       " 'coreceptor activity',\n",
       " 'cytoplasm',\n",
       " 'defense response',\n",
       " 'dendritic cell chemotaxis',\n",
       " 'endosome',\n",
       " 'external side of plasma membrane',\n",
       " 'identical protein binding',\n",
       " 'immune response',\n",
       " 'inflammatory response',\n",
       " 'membrane',\n",
       " 'negative regulation of macrophage apoptotic process',\n",
       " 'phosphatidylinositol phospholipase C activity',\n",
       " 'plasma membrane',\n",
       " 'positive regulation of cytosolic calcium ion concentration',\n",
       " 'protein binding',\n",
       " 'release of sequestered calcium ion into cytosol by sarcoplasmic reticulum',\n",
       " 'response to cholesterol',\n",
       " 'signaling',\n",
       " 'symbiont entry into host cell',\n",
       " 'virus receptor activity']"
      ]
     },
     "execution_count": 37,
     "metadata": {},
     "output_type": "execute_result"
    }
   ],
   "source": [
    "# GO terms for CCR5\n",
    "# compare to http://useast.ensembl.org/Homo_sapiens/Gene/Ontologies/molecular_function?g=ENSG00000160791\n",
    "sorted(ensg.xref_go_df.query(\"ensembl_gene_id == 'ENSG00000160791'\").go_label)"
   ]
  },
  {
   "cell_type": "markdown",
   "id": "1049dade",
   "metadata": {
    "papermill": {
     "duration": 0.010405,
     "end_time": "2025-01-06T21:23:21.790604",
     "exception": false,
     "start_time": "2025-01-06T21:23:21.780199",
     "status": "completed"
    },
    "tags": []
   },
   "source": [
    "## lrg xrefs"
   ]
  },
  {
   "cell_type": "code",
   "execution_count": 38,
   "id": "bef367aa",
   "metadata": {
    "execution": {
     "iopub.execute_input": "2025-01-06T21:23:21.812570Z",
     "iopub.status.busy": "2025-01-06T21:23:21.812164Z",
     "iopub.status.idle": "2025-01-06T21:23:21.828978Z",
     "shell.execute_reply": "2025-01-06T21:23:21.828413Z"
    },
    "papermill": {
     "duration": 0.029239,
     "end_time": "2025-01-06T21:23:21.830255",
     "exception": false,
     "start_time": "2025-01-06T21:23:21.801016",
     "status": "completed"
    },
    "tags": []
   },
   "outputs": [
    {
     "data": {
      "text/html": [
       "<div>\n",
       "<style scoped>\n",
       "    .dataframe tbody tr th:only-of-type {\n",
       "        vertical-align: middle;\n",
       "    }\n",
       "\n",
       "    .dataframe tbody tr th {\n",
       "        vertical-align: top;\n",
       "    }\n",
       "\n",
       "    .dataframe thead th {\n",
       "        text-align: right;\n",
       "    }\n",
       "</style>\n",
       "<table border=\"1\" class=\"dataframe\">\n",
       "  <thead>\n",
       "    <tr style=\"text-align: right;\">\n",
       "      <th></th>\n",
       "      <th>ensembl_gene_id</th>\n",
       "      <th>lrg_gene_id</th>\n",
       "    </tr>\n",
       "  </thead>\n",
       "  <tbody>\n",
       "    <tr>\n",
       "      <th>100</th>\n",
       "      <td>ENSG00000000971</td>\n",
       "      <td>LRG_47</td>\n",
       "    </tr>\n",
       "    <tr>\n",
       "      <th>155</th>\n",
       "      <td>ENSG00000001084</td>\n",
       "      <td>LRG_1166</td>\n",
       "    </tr>\n",
       "  </tbody>\n",
       "</table>\n",
       "</div>"
      ],
      "text/plain": [
       "     ensembl_gene_id lrg_gene_id\n",
       "100  ENSG00000000971      LRG_47\n",
       "155  ENSG00000001084    LRG_1166"
      ]
     },
     "execution_count": 38,
     "metadata": {},
     "output_type": "execute_result"
    }
   ],
   "source": [
    "ensg.xref_lrg_df.head(2)"
   ]
  },
  {
   "cell_type": "code",
   "execution_count": 39,
   "id": "39955953",
   "metadata": {
    "execution": {
     "iopub.execute_input": "2025-01-06T21:23:21.852600Z",
     "iopub.status.busy": "2025-01-06T21:23:21.852142Z",
     "iopub.status.idle": "2025-01-06T21:23:21.865954Z",
     "shell.execute_reply": "2025-01-06T21:23:21.865311Z"
    },
    "papermill": {
     "duration": 0.026252,
     "end_time": "2025-01-06T21:23:21.867181",
     "exception": false,
     "start_time": "2025-01-06T21:23:21.840929",
     "status": "completed"
    },
    "tags": []
   },
   "outputs": [
    {
     "data": {
      "text/plain": [
       "1324"
      ]
     },
     "execution_count": 39,
     "metadata": {},
     "output_type": "execute_result"
    }
   ],
   "source": [
    "len(ensg.xref_lrg_df)"
   ]
  },
  {
   "cell_type": "markdown",
   "id": "2f433207",
   "metadata": {
    "papermill": {
     "duration": 0.01043,
     "end_time": "2025-01-06T21:23:21.888282",
     "exception": false,
     "start_time": "2025-01-06T21:23:21.877852",
     "status": "completed"
    },
    "tags": []
   },
   "source": [
    "### ncbigene xrefs"
   ]
  },
  {
   "cell_type": "code",
   "execution_count": 40,
   "id": "a69c8a5e",
   "metadata": {
    "execution": {
     "iopub.execute_input": "2025-01-06T21:23:21.910521Z",
     "iopub.status.busy": "2025-01-06T21:23:21.910067Z",
     "iopub.status.idle": "2025-01-06T21:23:22.015889Z",
     "shell.execute_reply": "2025-01-06T21:23:22.015198Z"
    },
    "papermill": {
     "duration": 0.118512,
     "end_time": "2025-01-06T21:23:22.017252",
     "exception": false,
     "start_time": "2025-01-06T21:23:21.898740",
     "status": "completed"
    },
    "tags": []
   },
   "outputs": [
    {
     "data": {
      "text/html": [
       "<div>\n",
       "<style scoped>\n",
       "    .dataframe tbody tr th:only-of-type {\n",
       "        vertical-align: middle;\n",
       "    }\n",
       "\n",
       "    .dataframe tbody tr th {\n",
       "        vertical-align: top;\n",
       "    }\n",
       "\n",
       "    .dataframe thead th {\n",
       "        text-align: right;\n",
       "    }\n",
       "</style>\n",
       "<table border=\"1\" class=\"dataframe\">\n",
       "  <thead>\n",
       "    <tr style=\"text-align: right;\">\n",
       "      <th></th>\n",
       "      <th>ensembl_representative_gene_id</th>\n",
       "      <th>ncbigene_id</th>\n",
       "      <th>gene_symbol</th>\n",
       "      <th>ncbigene_symbol</th>\n",
       "    </tr>\n",
       "  </thead>\n",
       "  <tbody>\n",
       "    <tr>\n",
       "      <th>1</th>\n",
       "      <td>ENSG00000000003</td>\n",
       "      <td>7105</td>\n",
       "      <td>TSPAN6</td>\n",
       "      <td>TSPAN6</td>\n",
       "    </tr>\n",
       "    <tr>\n",
       "      <th>9</th>\n",
       "      <td>ENSG00000000005</td>\n",
       "      <td>64102</td>\n",
       "      <td>TNMD</td>\n",
       "      <td>TNMD</td>\n",
       "    </tr>\n",
       "    <tr>\n",
       "      <th>16</th>\n",
       "      <td>ENSG00000000419</td>\n",
       "      <td>8813</td>\n",
       "      <td>DPM1</td>\n",
       "      <td>DPM1</td>\n",
       "    </tr>\n",
       "    <tr>\n",
       "      <th>45</th>\n",
       "      <td>ENSG00000000457</td>\n",
       "      <td>57147</td>\n",
       "      <td>SCYL3</td>\n",
       "      <td>SCYL3</td>\n",
       "    </tr>\n",
       "    <tr>\n",
       "      <th>53</th>\n",
       "      <td>ENSG00000000460</td>\n",
       "      <td>55732</td>\n",
       "      <td>FIRRM</td>\n",
       "      <td>FIRRM</td>\n",
       "    </tr>\n",
       "  </tbody>\n",
       "</table>\n",
       "</div>"
      ],
      "text/plain": [
       "   ensembl_representative_gene_id ncbigene_id gene_symbol ncbigene_symbol\n",
       "1                 ENSG00000000003        7105      TSPAN6          TSPAN6\n",
       "9                 ENSG00000000005       64102        TNMD            TNMD\n",
       "16                ENSG00000000419        8813        DPM1            DPM1\n",
       "45                ENSG00000000457       57147       SCYL3           SCYL3\n",
       "53                ENSG00000000460       55732       FIRRM           FIRRM"
      ]
     },
     "execution_count": 40,
     "metadata": {},
     "output_type": "execute_result"
    }
   ],
   "source": [
    "ensg.xref_ncbigene_df.head()"
   ]
  },
  {
   "cell_type": "code",
   "execution_count": 41,
   "id": "66749364",
   "metadata": {
    "execution": {
     "iopub.execute_input": "2025-01-06T21:23:22.041090Z",
     "iopub.status.busy": "2025-01-06T21:23:22.040681Z",
     "iopub.status.idle": "2025-01-06T21:23:22.066011Z",
     "shell.execute_reply": "2025-01-06T21:23:22.065373Z"
    },
    "papermill": {
     "duration": 0.038366,
     "end_time": "2025-01-06T21:23:22.067321",
     "exception": false,
     "start_time": "2025-01-06T21:23:22.028955",
     "status": "completed"
    },
    "tags": []
   },
   "outputs": [
    {
     "data": {
      "text/plain": [
       "ENSG00000000003    1\n",
       "ENSG00000207653    1\n",
       "ENSG00000207651    1\n",
       "Name: ensembl_representative_gene_id, dtype: int64"
      ]
     },
     "execution_count": 41,
     "metadata": {},
     "output_type": "execute_result"
    }
   ],
   "source": [
    "# ensembl gene mapped to by multiple ncbigenes\n",
    "ensg.xref_ncbigene_df.ensembl_representative_gene_id.value_counts().head(3)"
   ]
  },
  {
   "cell_type": "code",
   "execution_count": 42,
   "id": "30f293d1",
   "metadata": {
    "execution": {
     "iopub.execute_input": "2025-01-06T21:23:22.090218Z",
     "iopub.status.busy": "2025-01-06T21:23:22.089691Z",
     "iopub.status.idle": "2025-01-06T21:23:22.105655Z",
     "shell.execute_reply": "2025-01-06T21:23:22.105142Z"
    },
    "papermill": {
     "duration": 0.028542,
     "end_time": "2025-01-06T21:23:22.106907",
     "exception": false,
     "start_time": "2025-01-06T21:23:22.078365",
     "status": "completed"
    },
    "tags": []
   },
   "outputs": [
    {
     "data": {
      "text/plain": [
       "(27536, 0)"
      ]
     },
     "execution_count": 42,
     "metadata": {},
     "output_type": "execute_result"
    }
   ],
   "source": [
    "len(ensg.xref_ncbigene_df), ensg.xref_ncbigene_df.ensembl_representative_gene_id.duplicated().sum()"
   ]
  },
  {
   "cell_type": "code",
   "execution_count": 43,
   "id": "24dd2620",
   "metadata": {
    "execution": {
     "iopub.execute_input": "2025-01-06T21:23:22.129779Z",
     "iopub.status.busy": "2025-01-06T21:23:22.129405Z",
     "iopub.status.idle": "2025-01-06T21:23:22.155852Z",
     "shell.execute_reply": "2025-01-06T21:23:22.155184Z"
    },
    "papermill": {
     "duration": 0.039266,
     "end_time": "2025-01-06T21:23:22.157103",
     "exception": false,
     "start_time": "2025-01-06T21:23:22.117837",
     "status": "completed"
    },
    "tags": []
   },
   "outputs": [
    {
     "data": {
      "text/plain": [
       "124906683    9\n",
       "9437         7\n",
       "147798       7\n",
       "Name: ncbigene_id, dtype: int64"
      ]
     },
     "execution_count": 43,
     "metadata": {},
     "output_type": "execute_result"
    }
   ],
   "source": [
    "# ncbigene mapped to by multiple ensembl genes, likely due to alt gene alleles\n",
    "ensg.xref_ncbigene_df.ncbigene_id.value_counts().head(3)"
   ]
  },
  {
   "cell_type": "code",
   "execution_count": 44,
   "id": "0f48492e",
   "metadata": {
    "execution": {
     "iopub.execute_input": "2025-01-06T21:23:22.180865Z",
     "iopub.status.busy": "2025-01-06T21:23:22.180397Z",
     "iopub.status.idle": "2025-01-06T21:23:22.197489Z",
     "shell.execute_reply": "2025-01-06T21:23:22.196967Z"
    },
    "papermill": {
     "duration": 0.030117,
     "end_time": "2025-01-06T21:23:22.198741",
     "exception": false,
     "start_time": "2025-01-06T21:23:22.168624",
     "status": "completed"
    },
    "tags": []
   },
   "outputs": [
    {
     "data": {
      "text/plain": [
       "(27536, 93)"
      ]
     },
     "execution_count": 44,
     "metadata": {},
     "output_type": "execute_result"
    }
   ],
   "source": [
    "len(ensg.xref_ncbigene_df), ensg.xref_ncbigene_df.ncbigene_id.duplicated().sum()"
   ]
  },
  {
   "cell_type": "code",
   "execution_count": 45,
   "id": "c7127156",
   "metadata": {
    "execution": {
     "iopub.execute_input": "2025-01-06T21:23:22.222142Z",
     "iopub.status.busy": "2025-01-06T21:23:22.221749Z",
     "iopub.status.idle": "2025-01-06T21:23:22.235094Z",
     "shell.execute_reply": "2025-01-06T21:23:22.234572Z"
    },
    "papermill": {
     "duration": 0.026591,
     "end_time": "2025-01-06T21:23:22.236439",
     "exception": false,
     "start_time": "2025-01-06T21:23:22.209848",
     "status": "completed"
    },
    "tags": []
   },
   "outputs": [],
   "source": [
    "# ensg.xref_ncbigene_df.query(\"ensembl_representative_gene_id == 'ENSG00000231500'\")\n",
    "# ensg.xref_ncbigene_df.query(\"ncbigene_id == '51206'\")"
   ]
  },
  {
   "cell_type": "code",
   "execution_count": 46,
   "id": "19054854",
   "metadata": {
    "execution": {
     "iopub.execute_input": "2025-01-06T21:23:22.260310Z",
     "iopub.status.busy": "2025-01-06T21:23:22.259917Z",
     "iopub.status.idle": "2025-01-06T21:23:22.287589Z",
     "shell.execute_reply": "2025-01-06T21:23:22.286892Z"
    },
    "papermill": {
     "duration": 0.040882,
     "end_time": "2025-01-06T21:23:22.288947",
     "exception": false,
     "start_time": "2025-01-06T21:23:22.248065",
     "status": "completed"
    },
    "tags": []
   },
   "outputs": [
    {
     "data": {
      "text/plain": [
       "78043"
      ]
     },
     "execution_count": 46,
     "metadata": {},
     "output_type": "execute_result"
    }
   ],
   "source": [
    "repr_ensembl_gene_ids = set(ensg.gene_df.ensembl_representative_gene_id)\n",
    "len(repr_ensembl_gene_ids)"
   ]
  },
  {
   "cell_type": "code",
   "execution_count": 47,
   "id": "88bf04bd",
   "metadata": {
    "execution": {
     "iopub.execute_input": "2025-01-06T21:23:22.315879Z",
     "iopub.status.busy": "2025-01-06T21:23:22.315662Z",
     "iopub.status.idle": "2025-01-06T21:23:22.360603Z",
     "shell.execute_reply": "2025-01-06T21:23:22.359887Z"
    },
    "papermill": {
     "duration": 0.061004,
     "end_time": "2025-01-06T21:23:22.362066",
     "exception": false,
     "start_time": "2025-01-06T21:23:22.301062",
     "status": "completed"
    },
    "scrolled": true,
    "tags": []
   },
   "outputs": [
    {
     "data": {
      "text/html": [
       "<div>\n",
       "<style scoped>\n",
       "    .dataframe tbody tr th:only-of-type {\n",
       "        vertical-align: middle;\n",
       "    }\n",
       "\n",
       "    .dataframe tbody tr th {\n",
       "        vertical-align: top;\n",
       "    }\n",
       "\n",
       "    .dataframe thead th {\n",
       "        text-align: right;\n",
       "    }\n",
       "</style>\n",
       "<table border=\"1\" class=\"dataframe\">\n",
       "  <thead>\n",
       "    <tr style=\"text-align: right;\">\n",
       "      <th></th>\n",
       "      <th>ensembl_gene_id</th>\n",
       "      <th>ensembl_gene_version</th>\n",
       "      <th>gene_symbol</th>\n",
       "      <th>gene_symbol_source_db</th>\n",
       "      <th>gene_symbol_source_id</th>\n",
       "      <th>gene_biotype</th>\n",
       "      <th>ensembl_source</th>\n",
       "      <th>ensembl_created_date</th>\n",
       "      <th>ensembl_modified_date</th>\n",
       "      <th>coord_system_version</th>\n",
       "      <th>...</th>\n",
       "      <th>seq_region_start</th>\n",
       "      <th>seq_region_end</th>\n",
       "      <th>seq_region_strand</th>\n",
       "      <th>primary_assembly</th>\n",
       "      <th>lrg_gene_id</th>\n",
       "      <th>mhc</th>\n",
       "      <th>gene_description</th>\n",
       "      <th>gene_description_source_db</th>\n",
       "      <th>gene_description_source_id</th>\n",
       "      <th>ensembl_representative_gene_id</th>\n",
       "    </tr>\n",
       "  </thead>\n",
       "  <tbody>\n",
       "    <tr>\n",
       "      <th>16981</th>\n",
       "      <td>ENSG00000196101</td>\n",
       "      <td>10</td>\n",
       "      <td>HLA-DRB3</td>\n",
       "      <td>HGNC</td>\n",
       "      <td>HGNC:4951</td>\n",
       "      <td>protein_coding</td>\n",
       "      <td>ensembl_havana</td>\n",
       "      <td>2008-04-29 11:17:41</td>\n",
       "      <td>2023-04-14 17:13:51</td>\n",
       "      <td>GRCh38</td>\n",
       "      <td>...</td>\n",
       "      <td>3715355</td>\n",
       "      <td>3728422</td>\n",
       "      <td>-1</td>\n",
       "      <td>False</td>\n",
       "      <td>NaN</td>\n",
       "      <td>no</td>\n",
       "      <td>major histocompatibility complex, class II, DR...</td>\n",
       "      <td>HGNC Symbol</td>\n",
       "      <td>HGNC:4951</td>\n",
       "      <td>ENSG00000196101</td>\n",
       "    </tr>\n",
       "    <tr>\n",
       "      <th>23326</th>\n",
       "      <td>ENSG00000215523</td>\n",
       "      <td>7</td>\n",
       "      <td>ENSG00000215523</td>\n",
       "      <td>None</td>\n",
       "      <td>None</td>\n",
       "      <td>lncRNA</td>\n",
       "      <td>havana</td>\n",
       "      <td>2007-09-07 00:01:32</td>\n",
       "      <td>2015-06-01 18:57:05</td>\n",
       "      <td>GRCh38</td>\n",
       "      <td>...</td>\n",
       "      <td>2053740</td>\n",
       "      <td>2085765</td>\n",
       "      <td>-1</td>\n",
       "      <td>False</td>\n",
       "      <td>NaN</td>\n",
       "      <td>no</td>\n",
       "      <td>chromosome 6 open reading frame 214 (putative)</td>\n",
       "      <td>NaN</td>\n",
       "      <td>NaN</td>\n",
       "      <td>ENSG00000215523</td>\n",
       "    </tr>\n",
       "    <tr>\n",
       "      <th>24775</th>\n",
       "      <td>ENSG00000223359</td>\n",
       "      <td>2</td>\n",
       "      <td>ENSG00000223359</td>\n",
       "      <td>None</td>\n",
       "      <td>None</td>\n",
       "      <td>unprocessed_pseudogene</td>\n",
       "      <td>havana</td>\n",
       "      <td>2009-05-19 09:47:17</td>\n",
       "      <td>2010-03-18 16:07:21</td>\n",
       "      <td>GRCh38</td>\n",
       "      <td>...</td>\n",
       "      <td>3789961</td>\n",
       "      <td>3790056</td>\n",
       "      <td>-1</td>\n",
       "      <td>False</td>\n",
       "      <td>NaN</td>\n",
       "      <td>no</td>\n",
       "      <td>major histocompatibility complex, class II, DR...</td>\n",
       "      <td>NaN</td>\n",
       "      <td>NaN</td>\n",
       "      <td>ENSG00000223359</td>\n",
       "    </tr>\n",
       "    <tr>\n",
       "      <th>24914</th>\n",
       "      <td>ENSG00000223557</td>\n",
       "      <td>1</td>\n",
       "      <td>ENSG00000223557</td>\n",
       "      <td>None</td>\n",
       "      <td>None</td>\n",
       "      <td>lncRNA</td>\n",
       "      <td>havana</td>\n",
       "      <td>2009-05-19 09:47:17</td>\n",
       "      <td>2009-05-19 09:47:17</td>\n",
       "      <td>GRCh38</td>\n",
       "      <td>...</td>\n",
       "      <td>3361186</td>\n",
       "      <td>3361479</td>\n",
       "      <td>1</td>\n",
       "      <td>False</td>\n",
       "      <td>NaN</td>\n",
       "      <td>no</td>\n",
       "      <td>novel transcript</td>\n",
       "      <td>NaN</td>\n",
       "      <td>NaN</td>\n",
       "      <td>ENSG00000223557</td>\n",
       "    </tr>\n",
       "    <tr>\n",
       "      <th>25134</th>\n",
       "      <td>ENSG00000223844</td>\n",
       "      <td>1</td>\n",
       "      <td>ENSG00000223844</td>\n",
       "      <td>None</td>\n",
       "      <td>None</td>\n",
       "      <td>processed_pseudogene</td>\n",
       "      <td>havana</td>\n",
       "      <td>2009-05-19 09:47:17</td>\n",
       "      <td>2009-05-19 09:47:17</td>\n",
       "      <td>GRCh38</td>\n",
       "      <td>...</td>\n",
       "      <td>3948261</td>\n",
       "      <td>3949391</td>\n",
       "      <td>1</td>\n",
       "      <td>False</td>\n",
       "      <td>NaN</td>\n",
       "      <td>no</td>\n",
       "      <td>family with sequence similarity 8, member A5 p...</td>\n",
       "      <td>NaN</td>\n",
       "      <td>NaN</td>\n",
       "      <td>ENSG00000223844</td>\n",
       "    </tr>\n",
       "    <tr>\n",
       "      <th>...</th>\n",
       "      <td>...</td>\n",
       "      <td>...</td>\n",
       "      <td>...</td>\n",
       "      <td>...</td>\n",
       "      <td>...</td>\n",
       "      <td>...</td>\n",
       "      <td>...</td>\n",
       "      <td>...</td>\n",
       "      <td>...</td>\n",
       "      <td>...</td>\n",
       "      <td>...</td>\n",
       "      <td>...</td>\n",
       "      <td>...</td>\n",
       "      <td>...</td>\n",
       "      <td>...</td>\n",
       "      <td>...</td>\n",
       "      <td>...</td>\n",
       "      <td>...</td>\n",
       "      <td>...</td>\n",
       "      <td>...</td>\n",
       "      <td>...</td>\n",
       "    </tr>\n",
       "    <tr>\n",
       "      <th>86126</th>\n",
       "      <td>ENSG00000310277</td>\n",
       "      <td>1</td>\n",
       "      <td>ENSG00000310277</td>\n",
       "      <td>None</td>\n",
       "      <td>None</td>\n",
       "      <td>lncRNA</td>\n",
       "      <td>havana_tagene</td>\n",
       "      <td>2024-04-29 16:53:40</td>\n",
       "      <td>2024-04-29 16:53:40</td>\n",
       "      <td>GRCh38</td>\n",
       "      <td>...</td>\n",
       "      <td>67572</td>\n",
       "      <td>97360</td>\n",
       "      <td>-1</td>\n",
       "      <td>False</td>\n",
       "      <td>NaN</td>\n",
       "      <td>no</td>\n",
       "      <td>novel transcript</td>\n",
       "      <td>NaN</td>\n",
       "      <td>NaN</td>\n",
       "      <td>ENSG00000310277</td>\n",
       "    </tr>\n",
       "    <tr>\n",
       "      <th>86196</th>\n",
       "      <td>ENSG00000310347</td>\n",
       "      <td>1</td>\n",
       "      <td>ENSG00000310347</td>\n",
       "      <td>None</td>\n",
       "      <td>None</td>\n",
       "      <td>lncRNA</td>\n",
       "      <td>havana_tagene</td>\n",
       "      <td>2024-04-29 16:53:40</td>\n",
       "      <td>2024-04-29 16:53:40</td>\n",
       "      <td>GRCh38</td>\n",
       "      <td>...</td>\n",
       "      <td>6600</td>\n",
       "      <td>8034</td>\n",
       "      <td>1</td>\n",
       "      <td>False</td>\n",
       "      <td>NaN</td>\n",
       "      <td>no</td>\n",
       "      <td>novel transcript</td>\n",
       "      <td>NaN</td>\n",
       "      <td>NaN</td>\n",
       "      <td>ENSG00000310347</td>\n",
       "    </tr>\n",
       "    <tr>\n",
       "      <th>86225</th>\n",
       "      <td>ENSG00000310376</td>\n",
       "      <td>1</td>\n",
       "      <td>ENSG00000310376</td>\n",
       "      <td>None</td>\n",
       "      <td>None</td>\n",
       "      <td>lncRNA</td>\n",
       "      <td>havana_tagene</td>\n",
       "      <td>2024-04-29 16:53:40</td>\n",
       "      <td>2024-04-29 16:53:40</td>\n",
       "      <td>GRCh38</td>\n",
       "      <td>...</td>\n",
       "      <td>113837</td>\n",
       "      <td>140657</td>\n",
       "      <td>1</td>\n",
       "      <td>False</td>\n",
       "      <td>NaN</td>\n",
       "      <td>no</td>\n",
       "      <td>novel transcript</td>\n",
       "      <td>NaN</td>\n",
       "      <td>NaN</td>\n",
       "      <td>ENSG00000310376</td>\n",
       "    </tr>\n",
       "    <tr>\n",
       "      <th>86241</th>\n",
       "      <td>ENSG00000310392</td>\n",
       "      <td>1</td>\n",
       "      <td>ENSG00000310392</td>\n",
       "      <td>None</td>\n",
       "      <td>None</td>\n",
       "      <td>lncRNA</td>\n",
       "      <td>havana_tagene</td>\n",
       "      <td>2024-04-29 16:53:40</td>\n",
       "      <td>2024-04-29 16:53:40</td>\n",
       "      <td>GRCh38</td>\n",
       "      <td>...</td>\n",
       "      <td>120506</td>\n",
       "      <td>121345</td>\n",
       "      <td>-1</td>\n",
       "      <td>False</td>\n",
       "      <td>NaN</td>\n",
       "      <td>no</td>\n",
       "      <td>novel transcript</td>\n",
       "      <td>NaN</td>\n",
       "      <td>NaN</td>\n",
       "      <td>ENSG00000310392</td>\n",
       "    </tr>\n",
       "    <tr>\n",
       "      <th>86250</th>\n",
       "      <td>ENSG00000310401</td>\n",
       "      <td>1</td>\n",
       "      <td>ENSG00000310401</td>\n",
       "      <td>None</td>\n",
       "      <td>None</td>\n",
       "      <td>lncRNA</td>\n",
       "      <td>havana_tagene</td>\n",
       "      <td>2024-04-29 16:53:40</td>\n",
       "      <td>2024-04-29 16:53:40</td>\n",
       "      <td>GRCh38</td>\n",
       "      <td>...</td>\n",
       "      <td>24947</td>\n",
       "      <td>37269</td>\n",
       "      <td>1</td>\n",
       "      <td>False</td>\n",
       "      <td>NaN</td>\n",
       "      <td>no</td>\n",
       "      <td>novel transcript</td>\n",
       "      <td>NaN</td>\n",
       "      <td>NaN</td>\n",
       "      <td>ENSG00000310401</td>\n",
       "    </tr>\n",
       "  </tbody>\n",
       "</table>\n",
       "<p>934 rows × 23 columns</p>\n",
       "</div>"
      ],
      "text/plain": [
       "       ensembl_gene_id  ensembl_gene_version      gene_symbol  \\\n",
       "16981  ENSG00000196101                    10         HLA-DRB3   \n",
       "23326  ENSG00000215523                     7  ENSG00000215523   \n",
       "24775  ENSG00000223359                     2  ENSG00000223359   \n",
       "24914  ENSG00000223557                     1  ENSG00000223557   \n",
       "25134  ENSG00000223844                     1  ENSG00000223844   \n",
       "...                ...                   ...              ...   \n",
       "86126  ENSG00000310277                     1  ENSG00000310277   \n",
       "86196  ENSG00000310347                     1  ENSG00000310347   \n",
       "86225  ENSG00000310376                     1  ENSG00000310376   \n",
       "86241  ENSG00000310392                     1  ENSG00000310392   \n",
       "86250  ENSG00000310401                     1  ENSG00000310401   \n",
       "\n",
       "      gene_symbol_source_db gene_symbol_source_id            gene_biotype  \\\n",
       "16981                  HGNC             HGNC:4951          protein_coding   \n",
       "23326                  None                  None                  lncRNA   \n",
       "24775                  None                  None  unprocessed_pseudogene   \n",
       "24914                  None                  None                  lncRNA   \n",
       "25134                  None                  None    processed_pseudogene   \n",
       "...                     ...                   ...                     ...   \n",
       "86126                  None                  None                  lncRNA   \n",
       "86196                  None                  None                  lncRNA   \n",
       "86225                  None                  None                  lncRNA   \n",
       "86241                  None                  None                  lncRNA   \n",
       "86250                  None                  None                  lncRNA   \n",
       "\n",
       "       ensembl_source ensembl_created_date ensembl_modified_date  \\\n",
       "16981  ensembl_havana  2008-04-29 11:17:41   2023-04-14 17:13:51   \n",
       "23326          havana  2007-09-07 00:01:32   2015-06-01 18:57:05   \n",
       "24775          havana  2009-05-19 09:47:17   2010-03-18 16:07:21   \n",
       "24914          havana  2009-05-19 09:47:17   2009-05-19 09:47:17   \n",
       "25134          havana  2009-05-19 09:47:17   2009-05-19 09:47:17   \n",
       "...               ...                  ...                   ...   \n",
       "86126   havana_tagene  2024-04-29 16:53:40   2024-04-29 16:53:40   \n",
       "86196   havana_tagene  2024-04-29 16:53:40   2024-04-29 16:53:40   \n",
       "86225   havana_tagene  2024-04-29 16:53:40   2024-04-29 16:53:40   \n",
       "86241   havana_tagene  2024-04-29 16:53:40   2024-04-29 16:53:40   \n",
       "86250   havana_tagene  2024-04-29 16:53:40   2024-04-29 16:53:40   \n",
       "\n",
       "      coord_system_version  ... seq_region_start seq_region_end  \\\n",
       "16981               GRCh38  ...          3715355        3728422   \n",
       "23326               GRCh38  ...          2053740        2085765   \n",
       "24775               GRCh38  ...          3789961        3790056   \n",
       "24914               GRCh38  ...          3361186        3361479   \n",
       "25134               GRCh38  ...          3948261        3949391   \n",
       "...                    ...  ...              ...            ...   \n",
       "86126               GRCh38  ...            67572          97360   \n",
       "86196               GRCh38  ...             6600           8034   \n",
       "86225               GRCh38  ...           113837         140657   \n",
       "86241               GRCh38  ...           120506         121345   \n",
       "86250               GRCh38  ...            24947          37269   \n",
       "\n",
       "      seq_region_strand  primary_assembly  lrg_gene_id  mhc  \\\n",
       "16981                -1             False          NaN   no   \n",
       "23326                -1             False          NaN   no   \n",
       "24775                -1             False          NaN   no   \n",
       "24914                 1             False          NaN   no   \n",
       "25134                 1             False          NaN   no   \n",
       "...                 ...               ...          ...  ...   \n",
       "86126                -1             False          NaN   no   \n",
       "86196                 1             False          NaN   no   \n",
       "86225                 1             False          NaN   no   \n",
       "86241                -1             False          NaN   no   \n",
       "86250                 1             False          NaN   no   \n",
       "\n",
       "                                        gene_description  \\\n",
       "16981  major histocompatibility complex, class II, DR...   \n",
       "23326     chromosome 6 open reading frame 214 (putative)   \n",
       "24775  major histocompatibility complex, class II, DR...   \n",
       "24914                                   novel transcript   \n",
       "25134  family with sequence similarity 8, member A5 p...   \n",
       "...                                                  ...   \n",
       "86126                                   novel transcript   \n",
       "86196                                   novel transcript   \n",
       "86225                                   novel transcript   \n",
       "86241                                   novel transcript   \n",
       "86250                                   novel transcript   \n",
       "\n",
       "      gene_description_source_db gene_description_source_id  \\\n",
       "16981                HGNC Symbol                  HGNC:4951   \n",
       "23326                        NaN                        NaN   \n",
       "24775                        NaN                        NaN   \n",
       "24914                        NaN                        NaN   \n",
       "25134                        NaN                        NaN   \n",
       "...                          ...                        ...   \n",
       "86126                        NaN                        NaN   \n",
       "86196                        NaN                        NaN   \n",
       "86225                        NaN                        NaN   \n",
       "86241                        NaN                        NaN   \n",
       "86250                        NaN                        NaN   \n",
       "\n",
       "      ensembl_representative_gene_id  \n",
       "16981                ENSG00000196101  \n",
       "23326                ENSG00000215523  \n",
       "24775                ENSG00000223359  \n",
       "24914                ENSG00000223557  \n",
       "25134                ENSG00000223844  \n",
       "...                              ...  \n",
       "86126                ENSG00000310277  \n",
       "86196                ENSG00000310347  \n",
       "86225                ENSG00000310376  \n",
       "86241                ENSG00000310392  \n",
       "86250                ENSG00000310401  \n",
       "\n",
       "[934 rows x 23 columns]"
      ]
     },
     "execution_count": 47,
     "metadata": {},
     "output_type": "execute_result"
    }
   ],
   "source": [
    "# many of these genes should probably be alternative alleles rather than representative\n",
    "ensg.gene_df.query(\"not primary_assembly and ensembl_gene_id==ensembl_representative_gene_id\")"
   ]
  }
 ],
 "metadata": {
  "celltoolbar": "Tags",
  "kernelspec": {
   "display_name": "Python 3 (ipykernel)",
   "language": "python",
   "name": "python3"
  },
  "language_info": {
   "codemirror_mode": {
    "name": "ipython",
    "version": 3
   },
   "file_extension": ".py",
   "mimetype": "text/x-python",
   "name": "python",
   "nbconvert_exporter": "python",
   "pygments_lexer": "ipython3",
   "version": "3.10.15"
  },
  "papermill": {
   "default_parameters": {},
   "duration": 582.423028,
   "end_time": "2025-01-06T21:23:23.093285",
   "environment_variables": {},
   "exception": null,
   "input_path": "ensembl_genes/notebooks/ensembl_genes_eda.ipynb",
   "output_path": "output/homo_sapiens_core_113_38/ensembl_genes_eda.ipynb",
   "parameters": {
    "release": "113",
    "species": "human"
   },
   "start_time": "2025-01-06T21:13:40.670257",
   "version": "2.4.0"
  }
 },
 "nbformat": 4,
 "nbformat_minor": 5
}