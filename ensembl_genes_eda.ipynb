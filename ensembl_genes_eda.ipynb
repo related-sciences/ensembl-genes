{
 "cells": [
  {
   "cell_type": "markdown",
   "id": "2d0d40f4",
   "metadata": {
    "papermill": {
     "duration": 0.006078,
     "end_time": "2025-05-07T18:27:19.429617",
     "exception": false,
     "start_time": "2025-05-07T18:27:19.423539",
     "status": "completed"
    },
    "tags": []
   },
   "source": [
    "# Ensembl genes table extraction EDA\n",
    "\n",
    "This notebook is useful for development as well as exploratory data analysis on the extracted tables.\n",
    "It is currently automically executed and saved as part of exports using `papermill`."
   ]
  },
  {
   "cell_type": "code",
   "execution_count": 1,
   "id": "b1577b40",
   "metadata": {
    "execution": {
     "iopub.execute_input": "2025-05-07T18:27:19.441945Z",
     "iopub.status.busy": "2025-05-07T18:27:19.441712Z",
     "iopub.status.idle": "2025-05-07T18:27:19.459100Z",
     "shell.execute_reply": "2025-05-07T18:27:19.458578Z"
    },
    "papermill": {
     "duration": 0.02506,
     "end_time": "2025-05-07T18:27:19.460386",
     "exception": false,
     "start_time": "2025-05-07T18:27:19.435326",
     "status": "completed"
    },
    "tags": []
   },
   "outputs": [],
   "source": [
    "%load_ext autoreload\n",
    "%autoreload 2"
   ]
  },
  {
   "cell_type": "code",
   "execution_count": 2,
   "id": "0a7c2713",
   "metadata": {
    "execution": {
     "iopub.execute_input": "2025-05-07T18:27:19.473009Z",
     "iopub.status.busy": "2025-05-07T18:27:19.472391Z",
     "iopub.status.idle": "2025-05-07T18:27:21.388417Z",
     "shell.execute_reply": "2025-05-07T18:27:21.387714Z"
    },
    "papermill": {
     "duration": 1.924004,
     "end_time": "2025-05-07T18:27:21.390106",
     "exception": false,
     "start_time": "2025-05-07T18:27:19.466102",
     "status": "completed"
    },
    "tags": []
   },
   "outputs": [],
   "source": [
    "import pandas as pd\n",
    "from bioregistry import normalize_prefix\n",
    "\n",
    "from ensembl_genes import ensembl_genes"
   ]
  },
  {
   "cell_type": "code",
   "execution_count": 3,
   "id": "00d55bb1",
   "metadata": {
    "execution": {
     "iopub.execute_input": "2025-05-07T18:27:21.403524Z",
     "iopub.status.busy": "2025-05-07T18:27:21.402995Z",
     "iopub.status.idle": "2025-05-07T18:27:21.415946Z",
     "shell.execute_reply": "2025-05-07T18:27:21.415402Z"
    },
    "papermill": {
     "duration": 0.020827,
     "end_time": "2025-05-07T18:27:21.417259",
     "exception": false,
     "start_time": "2025-05-07T18:27:21.396432",
     "status": "completed"
    },
    "tags": [
     "parameters"
    ]
   },
   "outputs": [],
   "source": [
    "# parameters cell\n",
    "species = \"human\"\n",
    "release = \"111\""
   ]
  },
  {
   "cell_type": "code",
   "execution_count": 4,
   "id": "c01c06b4",
   "metadata": {
    "execution": {
     "iopub.execute_input": "2025-05-07T18:27:21.429859Z",
     "iopub.status.busy": "2025-05-07T18:27:21.429427Z",
     "iopub.status.idle": "2025-05-07T18:27:21.441982Z",
     "shell.execute_reply": "2025-05-07T18:27:21.441304Z"
    },
    "papermill": {
     "duration": 0.020379,
     "end_time": "2025-05-07T18:27:21.443392",
     "exception": false,
     "start_time": "2025-05-07T18:27:21.423013",
     "status": "completed"
    },
    "tags": [
     "injected-parameters"
    ]
   },
   "outputs": [],
   "source": [
    "# Parameters\n",
    "species = \"human\"\n",
    "release = \"114\"\n"
   ]
  },
  {
   "cell_type": "code",
   "execution_count": 5,
   "id": "4354d32a",
   "metadata": {
    "execution": {
     "iopub.execute_input": "2025-05-07T18:27:21.455929Z",
     "iopub.status.busy": "2025-05-07T18:27:21.455738Z",
     "iopub.status.idle": "2025-05-07T18:27:21.540849Z",
     "shell.execute_reply": "2025-05-07T18:27:21.540116Z"
    },
    "papermill": {
     "duration": 0.092977,
     "end_time": "2025-05-07T18:27:21.542251",
     "exception": false,
     "start_time": "2025-05-07T18:27:21.449274",
     "status": "completed"
    },
    "tags": []
   },
   "outputs": [
    {
     "data": {
      "text/plain": [
       "'mysql+mysqlconnector://anonymous@ensembldb.ensembl.org:3306/homo_sapiens_core_114_38'"
      ]
     },
     "execution_count": 5,
     "metadata": {},
     "output_type": "execute_result"
    }
   ],
   "source": [
    "ensg = ensembl_genes.Ensembl_Gene_Queries(release=release, species=species)\n",
    "ensg.connection_url"
   ]
  },
  {
   "cell_type": "code",
   "execution_count": 6,
   "id": "dfb0c0af",
   "metadata": {
    "execution": {
     "iopub.execute_input": "2025-05-07T18:27:21.555597Z",
     "iopub.status.busy": "2025-05-07T18:27:21.555295Z",
     "iopub.status.idle": "2025-05-07T18:27:21.569828Z",
     "shell.execute_reply": "2025-05-07T18:27:21.569273Z"
    },
    "papermill": {
     "duration": 0.022612,
     "end_time": "2025-05-07T18:27:21.571131",
     "exception": false,
     "start_time": "2025-05-07T18:27:21.548519",
     "status": "completed"
    },
    "tags": []
   },
   "outputs": [
    {
     "data": {
      "text/plain": [
       "'homo_sapiens_core_114_38'"
      ]
     },
     "execution_count": 6,
     "metadata": {},
     "output_type": "execute_result"
    }
   ],
   "source": [
    "database = ensg.database\n",
    "database"
   ]
  },
  {
   "cell_type": "markdown",
   "id": "608bcd60",
   "metadata": {
    "papermill": {
     "duration": 0.005943,
     "end_time": "2025-05-07T18:27:21.583006",
     "exception": false,
     "start_time": "2025-05-07T18:27:21.577063",
     "status": "completed"
    },
    "tags": []
   },
   "source": [
    "## Extract data"
   ]
  },
  {
   "cell_type": "markdown",
   "id": "db7d165b",
   "metadata": {
    "papermill": {
     "duration": 0.005883,
     "end_time": "2025-05-07T18:27:21.594999",
     "exception": false,
     "start_time": "2025-05-07T18:27:21.589116",
     "status": "completed"
    },
    "tags": []
   },
   "source": [
    "## gene attrib counts"
   ]
  },
  {
   "cell_type": "code",
   "execution_count": 7,
   "id": "75742e20",
   "metadata": {
    "execution": {
     "iopub.execute_input": "2025-05-07T18:27:21.608052Z",
     "iopub.status.busy": "2025-05-07T18:27:21.607657Z",
     "iopub.status.idle": "2025-05-07T18:27:24.276920Z",
     "shell.execute_reply": "2025-05-07T18:27:24.276239Z"
    },
    "papermill": {
     "duration": 2.677259,
     "end_time": "2025-05-07T18:27:24.278274",
     "exception": false,
     "start_time": "2025-05-07T18:27:21.601015",
     "status": "completed"
    },
    "tags": []
   },
   "outputs": [
    {
     "data": {
      "text/html": [
       "<div>\n",
       "<style scoped>\n",
       "    .dataframe tbody tr th:only-of-type {\n",
       "        vertical-align: middle;\n",
       "    }\n",
       "\n",
       "    .dataframe tbody tr th {\n",
       "        vertical-align: top;\n",
       "    }\n",
       "\n",
       "    .dataframe thead th {\n",
       "        text-align: right;\n",
       "    }\n",
       "</style>\n",
       "<table border=\"1\" class=\"dataframe\">\n",
       "  <thead>\n",
       "    <tr style=\"text-align: right;\">\n",
       "      <th></th>\n",
       "      <th>attrib_type_id</th>\n",
       "      <th>code</th>\n",
       "      <th>name</th>\n",
       "      <th>description</th>\n",
       "      <th>attrib_type_count</th>\n",
       "      <th>attrib_type_examples</th>\n",
       "    </tr>\n",
       "  </thead>\n",
       "  <tbody>\n",
       "    <tr>\n",
       "      <th>0</th>\n",
       "      <td>142</td>\n",
       "      <td>GeneGC</td>\n",
       "      <td>Gene GC</td>\n",
       "      <td>Percentage GC content for this gene</td>\n",
       "      <td>86364</td>\n",
       "      <td>54.09, 58.79, 50.91, 35.86, 47.50, 60.01, 52.0...</td>\n",
       "    </tr>\n",
       "    <tr>\n",
       "      <th>1</th>\n",
       "      <td>4</td>\n",
       "      <td>name</td>\n",
       "      <td>Name</td>\n",
       "      <td>Alternative/long name</td>\n",
       "      <td>84541</td>\n",
       "      <td>ZNF614, RP11-105A22.1, OR1C1, RP11-8P17.3, RP1...</td>\n",
       "    </tr>\n",
       "    <tr>\n",
       "      <th>2</th>\n",
       "      <td>395</td>\n",
       "      <td>xref_id</td>\n",
       "      <td>Xref ID</td>\n",
       "      <td>ID of associated database reference</td>\n",
       "      <td>56025</td>\n",
       "      <td>OTTHUMG00000018462, OTTHUMG00000014534, OTTHUM...</td>\n",
       "    </tr>\n",
       "    <tr>\n",
       "      <th>3</th>\n",
       "      <td>538</td>\n",
       "      <td>legacy_biotype</td>\n",
       "      <td>Legacy biotype</td>\n",
       "      <td>Obsolete biotype previously assigned to this E...</td>\n",
       "      <td>36492</td>\n",
       "      <td>lincRNA, sense_intronic, antisense, processed_...</td>\n",
       "    </tr>\n",
       "    <tr>\n",
       "      <th>4</th>\n",
       "      <td>54</td>\n",
       "      <td>remark</td>\n",
       "      <td>Remark</td>\n",
       "      <td>Annotation remark</td>\n",
       "      <td>20799</td>\n",
       "      <td>TAGENE_gene, Assembled from SLRseq reads (ENA:...</td>\n",
       "    </tr>\n",
       "    <tr>\n",
       "      <th>5</th>\n",
       "      <td>536</td>\n",
       "      <td>Ensembl_Select</td>\n",
       "      <td>Ensembl Select</td>\n",
       "      <td>The Ensembl Select is a transcript identified ...</td>\n",
       "      <td>19338</td>\n",
       "      <td>ENST00000440869, ENST00000304749, ENST00000366...</td>\n",
       "    </tr>\n",
       "    <tr>\n",
       "      <th>6</th>\n",
       "      <td>380</td>\n",
       "      <td>havana_cv</td>\n",
       "      <td>Havana CV term</td>\n",
       "      <td>Controlled vocabulary terms from Havana</td>\n",
       "      <td>19212</td>\n",
       "      <td>overlapping locus, ncRNA host, overlaps pseudo...</td>\n",
       "    </tr>\n",
       "    <tr>\n",
       "      <th>7</th>\n",
       "      <td>560</td>\n",
       "      <td>artef_dupl</td>\n",
       "      <td>Artifactual duplication</td>\n",
       "      <td>Annotation on artifactual regions of the genom...</td>\n",
       "      <td>19</td>\n",
       "      <td>Artifactual duplication. Real copy of this gen...</td>\n",
       "    </tr>\n",
       "    <tr>\n",
       "      <th>8</th>\n",
       "      <td>382</td>\n",
       "      <td>NoTransRefError</td>\n",
       "      <td>No translations due to reference error</td>\n",
       "      <td>This gene is believed to include protein codin...</td>\n",
       "      <td>10</td>\n",
       "      <td>1</td>\n",
       "    </tr>\n",
       "    <tr>\n",
       "      <th>9</th>\n",
       "      <td>1</td>\n",
       "      <td>embl_acc</td>\n",
       "      <td>European Nucleotide Archive (was EMBL) accession</td>\n",
       "      <td>ENA</td>\n",
       "      <td>0</td>\n",
       "      <td>None</td>\n",
       "    </tr>\n",
       "    <tr>\n",
       "      <th>10</th>\n",
       "      <td>2</td>\n",
       "      <td>status</td>\n",
       "      <td>Status</td>\n",
       "      <td>None</td>\n",
       "      <td>0</td>\n",
       "      <td>None</td>\n",
       "    </tr>\n",
       "    <tr>\n",
       "      <th>11</th>\n",
       "      <td>3</td>\n",
       "      <td>synonym</td>\n",
       "      <td>Synonym</td>\n",
       "      <td>None</td>\n",
       "      <td>0</td>\n",
       "      <td>None</td>\n",
       "    </tr>\n",
       "    <tr>\n",
       "      <th>12</th>\n",
       "      <td>5</td>\n",
       "      <td>type</td>\n",
       "      <td>Type of feature</td>\n",
       "      <td>None</td>\n",
       "      <td>0</td>\n",
       "      <td>None</td>\n",
       "    </tr>\n",
       "    <tr>\n",
       "      <th>13</th>\n",
       "      <td>6</td>\n",
       "      <td>toplevel</td>\n",
       "      <td>Top Level</td>\n",
       "      <td>Top Level Non-Redundant Sequence Region</td>\n",
       "      <td>0</td>\n",
       "      <td>None</td>\n",
       "    </tr>\n",
       "    <tr>\n",
       "      <th>14</th>\n",
       "      <td>7</td>\n",
       "      <td>GeneCount</td>\n",
       "      <td>Gene Count</td>\n",
       "      <td>Total Number of Genes</td>\n",
       "      <td>0</td>\n",
       "      <td>None</td>\n",
       "    </tr>\n",
       "  </tbody>\n",
       "</table>\n",
       "</div>"
      ],
      "text/plain": [
       "    attrib_type_id             code  \\\n",
       "0              142           GeneGC   \n",
       "1                4             name   \n",
       "2              395          xref_id   \n",
       "3              538   legacy_biotype   \n",
       "4               54           remark   \n",
       "5              536   Ensembl_Select   \n",
       "6              380        havana_cv   \n",
       "7              560       artef_dupl   \n",
       "8              382  NoTransRefError   \n",
       "9                1         embl_acc   \n",
       "10               2           status   \n",
       "11               3          synonym   \n",
       "12               5             type   \n",
       "13               6         toplevel   \n",
       "14               7        GeneCount   \n",
       "\n",
       "                                                name  \\\n",
       "0                                            Gene GC   \n",
       "1                                               Name   \n",
       "2                                            Xref ID   \n",
       "3                                     Legacy biotype   \n",
       "4                                             Remark   \n",
       "5                                     Ensembl Select   \n",
       "6                                     Havana CV term   \n",
       "7                            Artifactual duplication   \n",
       "8             No translations due to reference error   \n",
       "9   European Nucleotide Archive (was EMBL) accession   \n",
       "10                                            Status   \n",
       "11                                           Synonym   \n",
       "12                                   Type of feature   \n",
       "13                                         Top Level   \n",
       "14                                        Gene Count   \n",
       "\n",
       "                                          description  attrib_type_count  \\\n",
       "0                 Percentage GC content for this gene              86364   \n",
       "1                               Alternative/long name              84541   \n",
       "2                 ID of associated database reference              56025   \n",
       "3   Obsolete biotype previously assigned to this E...              36492   \n",
       "4                                   Annotation remark              20799   \n",
       "5   The Ensembl Select is a transcript identified ...              19338   \n",
       "6             Controlled vocabulary terms from Havana              19212   \n",
       "7   Annotation on artifactual regions of the genom...                 19   \n",
       "8   This gene is believed to include protein codin...                 10   \n",
       "9                                                 ENA                  0   \n",
       "10                                               None                  0   \n",
       "11                                               None                  0   \n",
       "12                                               None                  0   \n",
       "13            Top Level Non-Redundant Sequence Region                  0   \n",
       "14                              Total Number of Genes                  0   \n",
       "\n",
       "                                 attrib_type_examples  \n",
       "0   54.09, 58.79, 50.91, 35.86, 47.50, 60.01, 52.0...  \n",
       "1   ZNF614, RP11-105A22.1, OR1C1, RP11-8P17.3, RP1...  \n",
       "2   OTTHUMG00000018462, OTTHUMG00000014534, OTTHUM...  \n",
       "3   lincRNA, sense_intronic, antisense, processed_...  \n",
       "4   TAGENE_gene, Assembled from SLRseq reads (ENA:...  \n",
       "5   ENST00000440869, ENST00000304749, ENST00000366...  \n",
       "6   overlapping locus, ncRNA host, overlaps pseudo...  \n",
       "7   Artifactual duplication. Real copy of this gen...  \n",
       "8                                                   1  \n",
       "9                                                None  \n",
       "10                                               None  \n",
       "11                                               None  \n",
       "12                                               None  \n",
       "13                                               None  \n",
       "14                                               None  "
      ]
     },
     "execution_count": 7,
     "metadata": {},
     "output_type": "execute_result"
    }
   ],
   "source": [
    "ensg.run_query(\"gene_attrib_counts\").head(15)"
   ]
  },
  {
   "cell_type": "markdown",
   "id": "eaaa9127",
   "metadata": {
    "papermill": {
     "duration": 0.006196,
     "end_time": "2025-05-07T18:27:24.291039",
     "exception": false,
     "start_time": "2025-05-07T18:27:24.284843",
     "status": "completed"
    },
    "tags": []
   },
   "source": [
    "## genes"
   ]
  },
  {
   "cell_type": "code",
   "execution_count": 8,
   "id": "5387bc20",
   "metadata": {
    "execution": {
     "iopub.execute_input": "2025-05-07T18:27:24.304499Z",
     "iopub.status.busy": "2025-05-07T18:27:24.304097Z",
     "iopub.status.idle": "2025-05-07T18:30:55.230113Z",
     "shell.execute_reply": "2025-05-07T18:30:55.229330Z"
    },
    "papermill": {
     "duration": 210.940677,
     "end_time": "2025-05-07T18:30:55.237853",
     "exception": false,
     "start_time": "2025-05-07T18:27:24.297176",
     "status": "completed"
    },
    "tags": []
   },
   "outputs": [
    {
     "data": {
      "text/html": [
       "<div>\n",
       "<style scoped>\n",
       "    .dataframe tbody tr th:only-of-type {\n",
       "        vertical-align: middle;\n",
       "    }\n",
       "\n",
       "    .dataframe tbody tr th {\n",
       "        vertical-align: top;\n",
       "    }\n",
       "\n",
       "    .dataframe thead th {\n",
       "        text-align: right;\n",
       "    }\n",
       "</style>\n",
       "<table border=\"1\" class=\"dataframe\">\n",
       "  <thead>\n",
       "    <tr style=\"text-align: right;\">\n",
       "      <th></th>\n",
       "      <th>ensembl_gene_id</th>\n",
       "      <th>ensembl_gene_version</th>\n",
       "      <th>gene_symbol</th>\n",
       "      <th>gene_symbol_source_db</th>\n",
       "      <th>gene_symbol_source_id</th>\n",
       "      <th>gene_biotype</th>\n",
       "      <th>ensembl_source</th>\n",
       "      <th>ensembl_created_date</th>\n",
       "      <th>ensembl_modified_date</th>\n",
       "      <th>coord_system_version</th>\n",
       "      <th>...</th>\n",
       "      <th>seq_region_start</th>\n",
       "      <th>seq_region_end</th>\n",
       "      <th>seq_region_strand</th>\n",
       "      <th>primary_assembly</th>\n",
       "      <th>lrg_gene_id</th>\n",
       "      <th>mhc</th>\n",
       "      <th>gene_description</th>\n",
       "      <th>gene_description_source_db</th>\n",
       "      <th>gene_description_source_id</th>\n",
       "      <th>ensembl_representative_gene_id</th>\n",
       "    </tr>\n",
       "  </thead>\n",
       "  <tbody>\n",
       "    <tr>\n",
       "      <th>0</th>\n",
       "      <td>ENSG00000000003</td>\n",
       "      <td>16</td>\n",
       "      <td>TSPAN6</td>\n",
       "      <td>HGNC</td>\n",
       "      <td>HGNC:11858</td>\n",
       "      <td>protein_coding</td>\n",
       "      <td>ensembl_havana</td>\n",
       "      <td>2008-04-29 11:17:41</td>\n",
       "      <td>2022-12-27 00:10:08</td>\n",
       "      <td>GRCh38</td>\n",
       "      <td>...</td>\n",
       "      <td>100627108</td>\n",
       "      <td>100639991</td>\n",
       "      <td>-1</td>\n",
       "      <td>True</td>\n",
       "      <td>NaN</td>\n",
       "      <td>no</td>\n",
       "      <td>tetraspanin 6</td>\n",
       "      <td>HGNC Symbol</td>\n",
       "      <td>HGNC:11858</td>\n",
       "      <td>ENSG00000000003</td>\n",
       "    </tr>\n",
       "    <tr>\n",
       "      <th>1</th>\n",
       "      <td>ENSG00000000005</td>\n",
       "      <td>6</td>\n",
       "      <td>TNMD</td>\n",
       "      <td>HGNC</td>\n",
       "      <td>HGNC:17757</td>\n",
       "      <td>protein_coding</td>\n",
       "      <td>ensembl_havana</td>\n",
       "      <td>2008-04-29 11:17:41</td>\n",
       "      <td>2018-11-21 17:23:49</td>\n",
       "      <td>GRCh38</td>\n",
       "      <td>...</td>\n",
       "      <td>100584936</td>\n",
       "      <td>100599885</td>\n",
       "      <td>1</td>\n",
       "      <td>True</td>\n",
       "      <td>NaN</td>\n",
       "      <td>no</td>\n",
       "      <td>tenomodulin</td>\n",
       "      <td>HGNC Symbol</td>\n",
       "      <td>HGNC:17757</td>\n",
       "      <td>ENSG00000000005</td>\n",
       "    </tr>\n",
       "    <tr>\n",
       "      <th>2</th>\n",
       "      <td>ENSG00000000419</td>\n",
       "      <td>14</td>\n",
       "      <td>DPM1</td>\n",
       "      <td>HGNC</td>\n",
       "      <td>HGNC:3005</td>\n",
       "      <td>protein_coding</td>\n",
       "      <td>ensembl_havana</td>\n",
       "      <td>2008-04-29 11:17:41</td>\n",
       "      <td>2020-12-11 08:28:43</td>\n",
       "      <td>GRCh38</td>\n",
       "      <td>...</td>\n",
       "      <td>50934867</td>\n",
       "      <td>50959140</td>\n",
       "      <td>-1</td>\n",
       "      <td>True</td>\n",
       "      <td>NaN</td>\n",
       "      <td>no</td>\n",
       "      <td>dolichyl-phosphate mannosyltransferase subunit...</td>\n",
       "      <td>HGNC Symbol</td>\n",
       "      <td>HGNC:3005</td>\n",
       "      <td>ENSG00000000419</td>\n",
       "    </tr>\n",
       "    <tr>\n",
       "      <th>3</th>\n",
       "      <td>ENSG00000000457</td>\n",
       "      <td>14</td>\n",
       "      <td>SCYL3</td>\n",
       "      <td>HGNC</td>\n",
       "      <td>HGNC:19285</td>\n",
       "      <td>protein_coding</td>\n",
       "      <td>ensembl_havana</td>\n",
       "      <td>2008-04-29 11:17:41</td>\n",
       "      <td>2018-11-21 17:23:49</td>\n",
       "      <td>GRCh38</td>\n",
       "      <td>...</td>\n",
       "      <td>169849631</td>\n",
       "      <td>169894267</td>\n",
       "      <td>-1</td>\n",
       "      <td>True</td>\n",
       "      <td>NaN</td>\n",
       "      <td>no</td>\n",
       "      <td>SCY1 like pseudokinase 3</td>\n",
       "      <td>HGNC Symbol</td>\n",
       "      <td>HGNC:19285</td>\n",
       "      <td>ENSG00000000457</td>\n",
       "    </tr>\n",
       "    <tr>\n",
       "      <th>4</th>\n",
       "      <td>ENSG00000000460</td>\n",
       "      <td>17</td>\n",
       "      <td>FIRRM</td>\n",
       "      <td>HGNC</td>\n",
       "      <td>HGNC:25565</td>\n",
       "      <td>protein_coding</td>\n",
       "      <td>ensembl_havana</td>\n",
       "      <td>2008-04-29 11:17:41</td>\n",
       "      <td>2018-11-21 17:23:49</td>\n",
       "      <td>GRCh38</td>\n",
       "      <td>...</td>\n",
       "      <td>169662007</td>\n",
       "      <td>169854080</td>\n",
       "      <td>1</td>\n",
       "      <td>True</td>\n",
       "      <td>NaN</td>\n",
       "      <td>no</td>\n",
       "      <td>FIGNL1 interacting regulator of recombination ...</td>\n",
       "      <td>HGNC Symbol</td>\n",
       "      <td>HGNC:25565</td>\n",
       "      <td>ENSG00000000460</td>\n",
       "    </tr>\n",
       "  </tbody>\n",
       "</table>\n",
       "<p>5 rows × 23 columns</p>\n",
       "</div>"
      ],
      "text/plain": [
       "   ensembl_gene_id  ensembl_gene_version gene_symbol gene_symbol_source_db  \\\n",
       "0  ENSG00000000003                    16      TSPAN6                  HGNC   \n",
       "1  ENSG00000000005                     6        TNMD                  HGNC   \n",
       "2  ENSG00000000419                    14        DPM1                  HGNC   \n",
       "3  ENSG00000000457                    14       SCYL3                  HGNC   \n",
       "4  ENSG00000000460                    17       FIRRM                  HGNC   \n",
       "\n",
       "  gene_symbol_source_id    gene_biotype  ensembl_source ensembl_created_date  \\\n",
       "0            HGNC:11858  protein_coding  ensembl_havana  2008-04-29 11:17:41   \n",
       "1            HGNC:17757  protein_coding  ensembl_havana  2008-04-29 11:17:41   \n",
       "2             HGNC:3005  protein_coding  ensembl_havana  2008-04-29 11:17:41   \n",
       "3            HGNC:19285  protein_coding  ensembl_havana  2008-04-29 11:17:41   \n",
       "4            HGNC:25565  protein_coding  ensembl_havana  2008-04-29 11:17:41   \n",
       "\n",
       "  ensembl_modified_date coord_system_version  ... seq_region_start  \\\n",
       "0   2022-12-27 00:10:08               GRCh38  ...        100627108   \n",
       "1   2018-11-21 17:23:49               GRCh38  ...        100584936   \n",
       "2   2020-12-11 08:28:43               GRCh38  ...         50934867   \n",
       "3   2018-11-21 17:23:49               GRCh38  ...        169849631   \n",
       "4   2018-11-21 17:23:49               GRCh38  ...        169662007   \n",
       "\n",
       "  seq_region_end seq_region_strand  primary_assembly  lrg_gene_id  mhc  \\\n",
       "0      100639991                -1              True          NaN   no   \n",
       "1      100599885                 1              True          NaN   no   \n",
       "2       50959140                -1              True          NaN   no   \n",
       "3      169894267                -1              True          NaN   no   \n",
       "4      169854080                 1              True          NaN   no   \n",
       "\n",
       "                                    gene_description  \\\n",
       "0                                      tetraspanin 6   \n",
       "1                                        tenomodulin   \n",
       "2  dolichyl-phosphate mannosyltransferase subunit...   \n",
       "3                           SCY1 like pseudokinase 3   \n",
       "4  FIGNL1 interacting regulator of recombination ...   \n",
       "\n",
       "  gene_description_source_db gene_description_source_id  \\\n",
       "0                HGNC Symbol                 HGNC:11858   \n",
       "1                HGNC Symbol                 HGNC:17757   \n",
       "2                HGNC Symbol                  HGNC:3005   \n",
       "3                HGNC Symbol                 HGNC:19285   \n",
       "4                HGNC Symbol                 HGNC:25565   \n",
       "\n",
       "  ensembl_representative_gene_id  \n",
       "0                ENSG00000000003  \n",
       "1                ENSG00000000005  \n",
       "2                ENSG00000000419  \n",
       "3                ENSG00000000457  \n",
       "4                ENSG00000000460  \n",
       "\n",
       "[5 rows x 23 columns]"
      ]
     },
     "execution_count": 8,
     "metadata": {},
     "output_type": "execute_result"
    }
   ],
   "source": [
    "ensg.gene_df.head()"
   ]
  },
  {
   "cell_type": "code",
   "execution_count": 9,
   "id": "e9189e3f",
   "metadata": {
    "execution": {
     "iopub.execute_input": "2025-05-07T18:30:55.252448Z",
     "iopub.status.busy": "2025-05-07T18:30:55.251930Z",
     "iopub.status.idle": "2025-05-07T18:30:55.296666Z",
     "shell.execute_reply": "2025-05-07T18:30:55.295914Z"
    },
    "papermill": {
     "duration": 0.05375,
     "end_time": "2025-05-07T18:30:55.298174",
     "exception": false,
     "start_time": "2025-05-07T18:30:55.244424",
     "status": "completed"
    },
    "tags": []
   },
   "outputs": [
    {
     "data": {
      "text/html": [
       "<div>\n",
       "<style scoped>\n",
       "    .dataframe tbody tr th:only-of-type {\n",
       "        vertical-align: middle;\n",
       "    }\n",
       "\n",
       "    .dataframe tbody tr th {\n",
       "        vertical-align: top;\n",
       "    }\n",
       "\n",
       "    .dataframe thead th {\n",
       "        text-align: right;\n",
       "    }\n",
       "</style>\n",
       "<table border=\"1\" class=\"dataframe\">\n",
       "  <thead>\n",
       "    <tr style=\"text-align: right;\">\n",
       "      <th></th>\n",
       "      <th>ensembl_gene_id</th>\n",
       "      <th>ensembl_gene_version</th>\n",
       "      <th>gene_symbol</th>\n",
       "      <th>gene_symbol_source_db</th>\n",
       "      <th>gene_symbol_source_id</th>\n",
       "      <th>gene_biotype</th>\n",
       "      <th>ensembl_source</th>\n",
       "      <th>ensembl_created_date</th>\n",
       "      <th>ensembl_modified_date</th>\n",
       "      <th>coord_system_version</th>\n",
       "      <th>...</th>\n",
       "      <th>seq_region_start</th>\n",
       "      <th>seq_region_end</th>\n",
       "      <th>seq_region_strand</th>\n",
       "      <th>primary_assembly</th>\n",
       "      <th>lrg_gene_id</th>\n",
       "      <th>mhc</th>\n",
       "      <th>gene_description</th>\n",
       "      <th>gene_description_source_db</th>\n",
       "      <th>gene_description_source_id</th>\n",
       "      <th>ensembl_representative_gene_id</th>\n",
       "    </tr>\n",
       "  </thead>\n",
       "  <tbody>\n",
       "    <tr>\n",
       "      <th>1598</th>\n",
       "      <td>ENSG00000083622</td>\n",
       "      <td>8</td>\n",
       "      <td>ENSG00000083622</td>\n",
       "      <td>None</td>\n",
       "      <td>None</td>\n",
       "      <td>lncRNA</td>\n",
       "      <td>havana</td>\n",
       "      <td>2008-04-29 11:17:41</td>\n",
       "      <td>2009-05-19 09:47:17</td>\n",
       "      <td>GRCh38</td>\n",
       "      <td>...</td>\n",
       "      <td>117604791</td>\n",
       "      <td>117647415</td>\n",
       "      <td>-1</td>\n",
       "      <td>True</td>\n",
       "      <td>NaN</td>\n",
       "      <td>no</td>\n",
       "      <td>novel transcript, antisense to CFTR</td>\n",
       "      <td>NaN</td>\n",
       "      <td>NaN</td>\n",
       "      <td>ENSG00000083622</td>\n",
       "    </tr>\n",
       "    <tr>\n",
       "      <th>1995</th>\n",
       "      <td>ENSG00000093100</td>\n",
       "      <td>13</td>\n",
       "      <td>ENSG00000093100</td>\n",
       "      <td>None</td>\n",
       "      <td>None</td>\n",
       "      <td>lncRNA</td>\n",
       "      <td>havana</td>\n",
       "      <td>2008-04-29 11:17:41</td>\n",
       "      <td>2012-06-07 23:07:01</td>\n",
       "      <td>GRCh38</td>\n",
       "      <td>...</td>\n",
       "      <td>17787652</td>\n",
       "      <td>17811497</td>\n",
       "      <td>-1</td>\n",
       "      <td>True</td>\n",
       "      <td>NaN</td>\n",
       "      <td>no</td>\n",
       "      <td>novel transcript</td>\n",
       "      <td>NaN</td>\n",
       "      <td>NaN</td>\n",
       "      <td>ENSG00000093100</td>\n",
       "    </tr>\n",
       "  </tbody>\n",
       "</table>\n",
       "<p>2 rows × 23 columns</p>\n",
       "</div>"
      ],
      "text/plain": [
       "      ensembl_gene_id  ensembl_gene_version      gene_symbol  \\\n",
       "1598  ENSG00000083622                     8  ENSG00000083622   \n",
       "1995  ENSG00000093100                    13  ENSG00000093100   \n",
       "\n",
       "     gene_symbol_source_db gene_symbol_source_id gene_biotype ensembl_source  \\\n",
       "1598                  None                  None       lncRNA         havana   \n",
       "1995                  None                  None       lncRNA         havana   \n",
       "\n",
       "     ensembl_created_date ensembl_modified_date coord_system_version  ...  \\\n",
       "1598  2008-04-29 11:17:41   2009-05-19 09:47:17               GRCh38  ...   \n",
       "1995  2008-04-29 11:17:41   2012-06-07 23:07:01               GRCh38  ...   \n",
       "\n",
       "     seq_region_start seq_region_end seq_region_strand  primary_assembly  \\\n",
       "1598        117604791      117647415                -1              True   \n",
       "1995         17787652       17811497                -1              True   \n",
       "\n",
       "      lrg_gene_id  mhc                     gene_description  \\\n",
       "1598          NaN   no  novel transcript, antisense to CFTR   \n",
       "1995          NaN   no                     novel transcript   \n",
       "\n",
       "     gene_description_source_db gene_description_source_id  \\\n",
       "1598                        NaN                        NaN   \n",
       "1995                        NaN                        NaN   \n",
       "\n",
       "     ensembl_representative_gene_id  \n",
       "1598                ENSG00000083622  \n",
       "1995                ENSG00000093100  \n",
       "\n",
       "[2 rows x 23 columns]"
      ]
     },
     "execution_count": 9,
     "metadata": {},
     "output_type": "execute_result"
    }
   ],
   "source": [
    "# clone-based genes no longer get a symbol and are filled with the stable ID\n",
    "# https://www.ensembl.info/2021/03/15/retirement-of-clone-based-gene-names/\n",
    "ensg.gene_df.query(\"gene_symbol == ensembl_gene_id\").head(2)"
   ]
  },
  {
   "cell_type": "code",
   "execution_count": 10,
   "id": "c6823e2d",
   "metadata": {
    "execution": {
     "iopub.execute_input": "2025-05-07T18:30:55.315014Z",
     "iopub.status.busy": "2025-05-07T18:30:55.314387Z",
     "iopub.status.idle": "2025-05-07T18:30:55.434141Z",
     "shell.execute_reply": "2025-05-07T18:30:55.433432Z"
    },
    "papermill": {
     "duration": 0.128875,
     "end_time": "2025-05-07T18:30:55.435601",
     "exception": false,
     "start_time": "2025-05-07T18:30:55.306726",
     "status": "completed"
    },
    "tags": []
   },
   "outputs": [
    {
     "data": {
      "text/html": [
       "<div>\n",
       "<style scoped>\n",
       "    .dataframe tbody tr th:only-of-type {\n",
       "        vertical-align: middle;\n",
       "    }\n",
       "\n",
       "    .dataframe tbody tr th {\n",
       "        vertical-align: top;\n",
       "    }\n",
       "\n",
       "    .dataframe thead th {\n",
       "        text-align: right;\n",
       "    }\n",
       "</style>\n",
       "<table border=\"1\" class=\"dataframe\">\n",
       "  <thead>\n",
       "    <tr style=\"text-align: right;\">\n",
       "      <th>gene_symbol_source_db</th>\n",
       "      <th>EntrezGene</th>\n",
       "      <th>HGNC</th>\n",
       "      <th>RFAM</th>\n",
       "      <th>miRBase</th>\n",
       "      <th>missing (clone-based)</th>\n",
       "      <th>All</th>\n",
       "    </tr>\n",
       "    <tr>\n",
       "      <th>ensembl_source</th>\n",
       "      <th></th>\n",
       "      <th></th>\n",
       "      <th></th>\n",
       "      <th></th>\n",
       "      <th></th>\n",
       "      <th></th>\n",
       "    </tr>\n",
       "  </thead>\n",
       "  <tbody>\n",
       "    <tr>\n",
       "      <th>ensembl</th>\n",
       "      <td>0</td>\n",
       "      <td>4207</td>\n",
       "      <td>1469</td>\n",
       "      <td>0</td>\n",
       "      <td>855</td>\n",
       "      <td>6531</td>\n",
       "    </tr>\n",
       "    <tr>\n",
       "      <th>ensembl_havana</th>\n",
       "      <td>30</td>\n",
       "      <td>21642</td>\n",
       "      <td>1</td>\n",
       "      <td>0</td>\n",
       "      <td>278</td>\n",
       "      <td>21951</td>\n",
       "    </tr>\n",
       "    <tr>\n",
       "      <th>ensembl_havana_tagene</th>\n",
       "      <td>0</td>\n",
       "      <td>6</td>\n",
       "      <td>0</td>\n",
       "      <td>0</td>\n",
       "      <td>1</td>\n",
       "      <td>7</td>\n",
       "    </tr>\n",
       "    <tr>\n",
       "      <th>havana</th>\n",
       "      <td>270</td>\n",
       "      <td>18491</td>\n",
       "      <td>0</td>\n",
       "      <td>2</td>\n",
       "      <td>17210</td>\n",
       "      <td>35973</td>\n",
       "    </tr>\n",
       "    <tr>\n",
       "      <th>havana_tagene</th>\n",
       "      <td>14</td>\n",
       "      <td>313</td>\n",
       "      <td>0</td>\n",
       "      <td>0</td>\n",
       "      <td>19593</td>\n",
       "      <td>19920</td>\n",
       "    </tr>\n",
       "    <tr>\n",
       "      <th>insdc</th>\n",
       "      <td>0</td>\n",
       "      <td>37</td>\n",
       "      <td>0</td>\n",
       "      <td>0</td>\n",
       "      <td>0</td>\n",
       "      <td>37</td>\n",
       "    </tr>\n",
       "    <tr>\n",
       "      <th>mirbase</th>\n",
       "      <td>0</td>\n",
       "      <td>1918</td>\n",
       "      <td>0</td>\n",
       "      <td>1</td>\n",
       "      <td>26</td>\n",
       "      <td>1945</td>\n",
       "    </tr>\n",
       "    <tr>\n",
       "      <th>All</th>\n",
       "      <td>314</td>\n",
       "      <td>46614</td>\n",
       "      <td>1470</td>\n",
       "      <td>3</td>\n",
       "      <td>37963</td>\n",
       "      <td>86364</td>\n",
       "    </tr>\n",
       "  </tbody>\n",
       "</table>\n",
       "</div>"
      ],
      "text/plain": [
       "gene_symbol_source_db  EntrezGene   HGNC  RFAM  miRBase  \\\n",
       "ensembl_source                                            \n",
       "ensembl                         0   4207  1469        0   \n",
       "ensembl_havana                 30  21642     1        0   \n",
       "ensembl_havana_tagene           0      6     0        0   \n",
       "havana                        270  18491     0        2   \n",
       "havana_tagene                  14    313     0        0   \n",
       "insdc                           0     37     0        0   \n",
       "mirbase                         0   1918     0        1   \n",
       "All                           314  46614  1470        3   \n",
       "\n",
       "gene_symbol_source_db  missing (clone-based)    All  \n",
       "ensembl_source                                       \n",
       "ensembl                                  855   6531  \n",
       "ensembl_havana                           278  21951  \n",
       "ensembl_havana_tagene                      1      7  \n",
       "havana                                 17210  35973  \n",
       "havana_tagene                          19593  19920  \n",
       "insdc                                      0     37  \n",
       "mirbase                                   26   1945  \n",
       "All                                    37963  86364  "
      ]
     },
     "execution_count": 10,
     "metadata": {},
     "output_type": "execute_result"
    }
   ],
   "source": [
    "# which external database the gene symbol derives from versus the ensembl source\n",
    "pd.crosstab(\n",
    "    ensg.gene_df.ensembl_source,\n",
    "    ensg.gene_df.gene_symbol_source_db.fillna(\"missing (clone-based)\"),\n",
    "    margins=True,\n",
    ")"
   ]
  },
  {
   "cell_type": "code",
   "execution_count": 11,
   "id": "a4a96725",
   "metadata": {
    "execution": {
     "iopub.execute_input": "2025-05-07T18:30:55.451343Z",
     "iopub.status.busy": "2025-05-07T18:30:55.450928Z",
     "iopub.status.idle": "2025-05-07T18:30:55.478682Z",
     "shell.execute_reply": "2025-05-07T18:30:55.477944Z"
    },
    "papermill": {
     "duration": 0.036995,
     "end_time": "2025-05-07T18:30:55.480097",
     "exception": false,
     "start_time": "2025-05-07T18:30:55.443102",
     "status": "completed"
    },
    "tags": []
   },
   "outputs": [
    {
     "data": {
      "text/plain": [
       "chromosome    78686\n",
       "scaffold       7678\n",
       "Name: coord_system, dtype: int64"
      ]
     },
     "execution_count": 11,
     "metadata": {},
     "output_type": "execute_result"
    }
   ],
   "source": [
    "ensg.gene_df.coord_system.value_counts().head(10)"
   ]
  },
  {
   "cell_type": "code",
   "execution_count": 12,
   "id": "b722a089",
   "metadata": {
    "execution": {
     "iopub.execute_input": "2025-05-07T18:30:55.495553Z",
     "iopub.status.busy": "2025-05-07T18:30:55.495311Z",
     "iopub.status.idle": "2025-05-07T18:30:55.522299Z",
     "shell.execute_reply": "2025-05-07T18:30:55.521668Z"
    },
    "papermill": {
     "duration": 0.036188,
     "end_time": "2025-05-07T18:30:55.523721",
     "exception": false,
     "start_time": "2025-05-07T18:30:55.487533",
     "status": "completed"
    },
    "tags": []
   },
   "outputs": [
    {
     "data": {
      "text/plain": [
       "lncRNA                                36492\n",
       "protein_coding                        23262\n",
       "processed_pseudogene                  10233\n",
       "unprocessed_pseudogene                 2805\n",
       "misc_RNA                               2418\n",
       "snRNA                                  2094\n",
       "miRNA                                  1945\n",
       "transcribed_unprocessed_pseudogene     1810\n",
       "transcribed_processed_pseudogene       1225\n",
       "TEC                                    1084\n",
       "Name: gene_biotype, dtype: int64"
      ]
     },
     "execution_count": 12,
     "metadata": {},
     "output_type": "execute_result"
    }
   ],
   "source": [
    "ensg.gene_df.gene_biotype.value_counts().head(10)"
   ]
  },
  {
   "cell_type": "code",
   "execution_count": 13,
   "id": "b79f110e",
   "metadata": {
    "execution": {
     "iopub.execute_input": "2025-05-07T18:30:55.539614Z",
     "iopub.status.busy": "2025-05-07T18:30:55.539208Z",
     "iopub.status.idle": "2025-05-07T18:30:55.620266Z",
     "shell.execute_reply": "2025-05-07T18:30:55.619568Z"
    },
    "papermill": {
     "duration": 0.090434,
     "end_time": "2025-05-07T18:30:55.621802",
     "exception": false,
     "start_time": "2025-05-07T18:30:55.531368",
     "status": "completed"
    },
    "tags": []
   },
   "outputs": [
    {
     "data": {
      "text/html": [
       "<div>\n",
       "<style scoped>\n",
       "    .dataframe tbody tr th:only-of-type {\n",
       "        vertical-align: middle;\n",
       "    }\n",
       "\n",
       "    .dataframe tbody tr th {\n",
       "        vertical-align: top;\n",
       "    }\n",
       "\n",
       "    .dataframe thead th {\n",
       "        text-align: right;\n",
       "    }\n",
       "</style>\n",
       "<table border=\"1\" class=\"dataframe\">\n",
       "  <thead>\n",
       "    <tr style=\"text-align: right;\">\n",
       "      <th>primary_assembly</th>\n",
       "      <th>False</th>\n",
       "      <th>True</th>\n",
       "      <th>All</th>\n",
       "    </tr>\n",
       "    <tr>\n",
       "      <th>coord_system</th>\n",
       "      <th></th>\n",
       "      <th></th>\n",
       "      <th></th>\n",
       "    </tr>\n",
       "  </thead>\n",
       "  <tbody>\n",
       "    <tr>\n",
       "      <th>chromosome</th>\n",
       "      <td>0</td>\n",
       "      <td>78686</td>\n",
       "      <td>78686</td>\n",
       "    </tr>\n",
       "    <tr>\n",
       "      <th>scaffold</th>\n",
       "      <td>7678</td>\n",
       "      <td>0</td>\n",
       "      <td>7678</td>\n",
       "    </tr>\n",
       "    <tr>\n",
       "      <th>All</th>\n",
       "      <td>7678</td>\n",
       "      <td>78686</td>\n",
       "      <td>86364</td>\n",
       "    </tr>\n",
       "  </tbody>\n",
       "</table>\n",
       "</div>"
      ],
      "text/plain": [
       "primary_assembly  False   True    All\n",
       "coord_system                         \n",
       "chromosome            0  78686  78686\n",
       "scaffold           7678      0   7678\n",
       "All                7678  78686  86364"
      ]
     },
     "execution_count": 13,
     "metadata": {},
     "output_type": "execute_result"
    }
   ],
   "source": [
    "pd.crosstab(ensg.gene_df.coord_system, ensg.gene_df.primary_assembly, margins=True)"
   ]
  },
  {
   "cell_type": "code",
   "execution_count": 14,
   "id": "6b72bf99",
   "metadata": {
    "execution": {
     "iopub.execute_input": "2025-05-07T18:30:55.638529Z",
     "iopub.status.busy": "2025-05-07T18:30:55.637936Z",
     "iopub.status.idle": "2025-05-07T18:30:55.657451Z",
     "shell.execute_reply": "2025-05-07T18:30:55.656797Z"
    },
    "papermill": {
     "duration": 0.029163,
     "end_time": "2025-05-07T18:30:55.658852",
     "exception": false,
     "start_time": "2025-05-07T18:30:55.629689",
     "status": "completed"
    },
    "tags": []
   },
   "outputs": [
    {
     "data": {
      "text/plain": [
       "no      85636\n",
       "MHC       494\n",
       "xMHC      234\n",
       "Name: mhc, dtype: int64"
      ]
     },
     "execution_count": 14,
     "metadata": {},
     "output_type": "execute_result"
    }
   ],
   "source": [
    "ensg.gene_df.mhc.value_counts()"
   ]
  },
  {
   "cell_type": "code",
   "execution_count": 15,
   "id": "fe15724a",
   "metadata": {
    "execution": {
     "iopub.execute_input": "2025-05-07T18:30:55.675579Z",
     "iopub.status.busy": "2025-05-07T18:30:55.675107Z",
     "iopub.status.idle": "2025-05-07T18:30:55.691142Z",
     "shell.execute_reply": "2025-05-07T18:30:55.690450Z"
    },
    "papermill": {
     "duration": 0.025741,
     "end_time": "2025-05-07T18:30:55.692568",
     "exception": false,
     "start_time": "2025-05-07T18:30:55.666827",
     "status": "completed"
    },
    "tags": []
   },
   "outputs": [
    {
     "data": {
      "text/plain": [
       "86364"
      ]
     },
     "execution_count": 15,
     "metadata": {},
     "output_type": "execute_result"
    }
   ],
   "source": [
    "len(ensg.gene_df)"
   ]
  },
  {
   "cell_type": "markdown",
   "id": "57cc1799",
   "metadata": {
    "papermill": {
     "duration": 0.007485,
     "end_time": "2025-05-07T18:30:55.707938",
     "exception": false,
     "start_time": "2025-05-07T18:30:55.700453",
     "status": "completed"
    },
    "tags": []
   },
   "source": [
    "## alternative gene alleles\n",
    "\n",
    "Related:\n",
    "\n",
    "- [OTP: Origin of genes_with_non_reference_ensembl_ids.tsv](https://github.com/opentargets/platform/issues/702)\n",
    "- [biostars: map between different assemblies of one ensembl release](https://www.biostars.org/p/143956/)\n",
    "- using `attrib_type.code = \"non_ref\"` for `primary_assembly` doesn't appear to return any results"
   ]
  },
  {
   "cell_type": "code",
   "execution_count": 16,
   "id": "7d2e7b2f",
   "metadata": {
    "execution": {
     "iopub.execute_input": "2025-05-07T18:30:55.724326Z",
     "iopub.status.busy": "2025-05-07T18:30:55.723846Z",
     "iopub.status.idle": "2025-05-07T18:30:55.745960Z",
     "shell.execute_reply": "2025-05-07T18:30:55.745214Z"
    },
    "papermill": {
     "duration": 0.032254,
     "end_time": "2025-05-07T18:30:55.747597",
     "exception": false,
     "start_time": "2025-05-07T18:30:55.715343",
     "status": "completed"
    },
    "tags": []
   },
   "outputs": [
    {
     "data": {
      "text/html": [
       "<div>\n",
       "<style scoped>\n",
       "    .dataframe tbody tr th:only-of-type {\n",
       "        vertical-align: middle;\n",
       "    }\n",
       "\n",
       "    .dataframe tbody tr th {\n",
       "        vertical-align: top;\n",
       "    }\n",
       "\n",
       "    .dataframe thead th {\n",
       "        text-align: right;\n",
       "    }\n",
       "</style>\n",
       "<table border=\"1\" class=\"dataframe\">\n",
       "  <thead>\n",
       "    <tr style=\"text-align: right;\">\n",
       "      <th></th>\n",
       "      <th>rs_allele_group</th>\n",
       "      <th>ensembl_gene_id</th>\n",
       "      <th>gene_symbol</th>\n",
       "      <th>ensembl_created_date</th>\n",
       "      <th>seq_region</th>\n",
       "      <th>primary_assembly</th>\n",
       "      <th>alt_allele_group_id</th>\n",
       "      <th>alt_allele_attrib</th>\n",
       "      <th>alt_allele_is_representative</th>\n",
       "      <th>ensembl_representative_gene_id</th>\n",
       "      <th>is_representative_gene</th>\n",
       "    </tr>\n",
       "  </thead>\n",
       "  <tbody>\n",
       "    <tr>\n",
       "      <th>0</th>\n",
       "      <td>44430</td>\n",
       "      <td>ENSG00000273644</td>\n",
       "      <td>None</td>\n",
       "      <td>2014-06-09 10:49:07</td>\n",
       "      <td>7</td>\n",
       "      <td>True</td>\n",
       "      <td>44430.0</td>\n",
       "      <td>IS_REPRESENTATIVE</td>\n",
       "      <td>True</td>\n",
       "      <td>ENSG00000273644</td>\n",
       "      <td>True</td>\n",
       "    </tr>\n",
       "    <tr>\n",
       "      <th>2</th>\n",
       "      <td>44430</td>\n",
       "      <td>ENSG00000282333</td>\n",
       "      <td>None</td>\n",
       "      <td>2015-06-01 18:57:05</td>\n",
       "      <td>HSCHR7_2_CTG1</td>\n",
       "      <td>False</td>\n",
       "      <td>44430.0</td>\n",
       "      <td>AUTOMATICALLY_ASSIGNED</td>\n",
       "      <td>False</td>\n",
       "      <td>ENSG00000273644</td>\n",
       "      <td>False</td>\n",
       "    </tr>\n",
       "    <tr>\n",
       "      <th>3</th>\n",
       "      <td>44431</td>\n",
       "      <td>ENSG00000281993</td>\n",
       "      <td>None</td>\n",
       "      <td>2015-06-01 18:57:05</td>\n",
       "      <td>HSCHR7_1_CTG1</td>\n",
       "      <td>False</td>\n",
       "      <td>44431.0</td>\n",
       "      <td>AUTOMATICALLY_ASSIGNED</td>\n",
       "      <td>False</td>\n",
       "      <td>ENSG00000281993</td>\n",
       "      <td>True</td>\n",
       "    </tr>\n",
       "    <tr>\n",
       "      <th>4</th>\n",
       "      <td>44431</td>\n",
       "      <td>ENSG00000282645</td>\n",
       "      <td>None</td>\n",
       "      <td>2015-06-01 18:57:05</td>\n",
       "      <td>HSCHR7_2_CTG1</td>\n",
       "      <td>False</td>\n",
       "      <td>44431.0</td>\n",
       "      <td>AUTOMATICALLY_ASSIGNED</td>\n",
       "      <td>False</td>\n",
       "      <td>ENSG00000281993</td>\n",
       "      <td>False</td>\n",
       "    </tr>\n",
       "    <tr>\n",
       "      <th>5</th>\n",
       "      <td>44431</td>\n",
       "      <td>ENSG00000288372</td>\n",
       "      <td>None</td>\n",
       "      <td>2019-06-15 05:41:31</td>\n",
       "      <td>HG1309_PATCH</td>\n",
       "      <td>False</td>\n",
       "      <td>44431.0</td>\n",
       "      <td>AUTOMATICALLY_ASSIGNED</td>\n",
       "      <td>False</td>\n",
       "      <td>ENSG00000281993</td>\n",
       "      <td>False</td>\n",
       "    </tr>\n",
       "  </tbody>\n",
       "</table>\n",
       "</div>"
      ],
      "text/plain": [
       "  rs_allele_group  ensembl_gene_id gene_symbol ensembl_created_date  \\\n",
       "0           44430  ENSG00000273644        None  2014-06-09 10:49:07   \n",
       "2           44430  ENSG00000282333        None  2015-06-01 18:57:05   \n",
       "3           44431  ENSG00000281993        None  2015-06-01 18:57:05   \n",
       "4           44431  ENSG00000282645        None  2015-06-01 18:57:05   \n",
       "5           44431  ENSG00000288372        None  2019-06-15 05:41:31   \n",
       "\n",
       "      seq_region  primary_assembly  alt_allele_group_id  \\\n",
       "0              7              True              44430.0   \n",
       "2  HSCHR7_2_CTG1             False              44430.0   \n",
       "3  HSCHR7_1_CTG1             False              44431.0   \n",
       "4  HSCHR7_2_CTG1             False              44431.0   \n",
       "5   HG1309_PATCH             False              44431.0   \n",
       "\n",
       "        alt_allele_attrib  alt_allele_is_representative  \\\n",
       "0       IS_REPRESENTATIVE                          True   \n",
       "2  AUTOMATICALLY_ASSIGNED                         False   \n",
       "3  AUTOMATICALLY_ASSIGNED                         False   \n",
       "4  AUTOMATICALLY_ASSIGNED                         False   \n",
       "5  AUTOMATICALLY_ASSIGNED                         False   \n",
       "\n",
       "  ensembl_representative_gene_id  is_representative_gene  \n",
       "0                ENSG00000273644                    True  \n",
       "2                ENSG00000273644                   False  \n",
       "3                ENSG00000281993                    True  \n",
       "4                ENSG00000281993                   False  \n",
       "5                ENSG00000281993                   False  "
      ]
     },
     "execution_count": 16,
     "metadata": {},
     "output_type": "execute_result"
    }
   ],
   "source": [
    "ensg.representative_gene_df.head()"
   ]
  },
  {
   "cell_type": "code",
   "execution_count": 17,
   "id": "567c27d3",
   "metadata": {
    "execution": {
     "iopub.execute_input": "2025-05-07T18:30:55.765341Z",
     "iopub.status.busy": "2025-05-07T18:30:55.764883Z",
     "iopub.status.idle": "2025-05-07T18:30:57.792447Z",
     "shell.execute_reply": "2025-05-07T18:30:57.791748Z"
    },
    "papermill": {
     "duration": 2.037721,
     "end_time": "2025-05-07T18:30:57.793840",
     "exception": false,
     "start_time": "2025-05-07T18:30:55.756119",
     "status": "completed"
    },
    "tags": []
   },
   "outputs": [
    {
     "data": {
      "text/html": [
       "<div>\n",
       "<style scoped>\n",
       "    .dataframe tbody tr th:only-of-type {\n",
       "        vertical-align: middle;\n",
       "    }\n",
       "\n",
       "    .dataframe tbody tr th {\n",
       "        vertical-align: top;\n",
       "    }\n",
       "\n",
       "    .dataframe thead th {\n",
       "        text-align: right;\n",
       "    }\n",
       "</style>\n",
       "<table border=\"1\" class=\"dataframe\">\n",
       "  <thead>\n",
       "    <tr style=\"text-align: right;\">\n",
       "      <th></th>\n",
       "      <th>gene_id</th>\n",
       "      <th>attrib_type_id</th>\n",
       "      <th>value</th>\n",
       "      <th>attrib_type_id</th>\n",
       "      <th>code</th>\n",
       "      <th>name</th>\n",
       "      <th>description</th>\n",
       "    </tr>\n",
       "  </thead>\n",
       "  <tbody>\n",
       "  </tbody>\n",
       "</table>\n",
       "</div>"
      ],
      "text/plain": [
       "Empty DataFrame\n",
       "Columns: [gene_id, attrib_type_id, value, attrib_type_id, code, name, description]\n",
       "Index: []"
      ]
     },
     "execution_count": 17,
     "metadata": {},
     "output_type": "execute_result"
    }
   ],
   "source": [
    "# looks like non_ref isn't set for human genes\n",
    "query = '''\n",
    "SELECT *\n",
    "FROM gene_attrib\n",
    "LEFT JOIN attrib_type\n",
    "  ON gene_attrib.attrib_type_id = attrib_type.attrib_type_id\n",
    "WHERE attrib_type.code = \"non_ref\"\n",
    "LIMIT 5\n",
    "'''\n",
    "pd.read_sql(sql=query, con=ensg.connection_url)"
   ]
  },
  {
   "cell_type": "code",
   "execution_count": 18,
   "id": "b8acf8fd",
   "metadata": {
    "execution": {
     "iopub.execute_input": "2025-05-07T18:30:57.810835Z",
     "iopub.status.busy": "2025-05-07T18:30:57.810615Z",
     "iopub.status.idle": "2025-05-07T18:30:57.828051Z",
     "shell.execute_reply": "2025-05-07T18:30:57.827368Z"
    },
    "papermill": {
     "duration": 0.027346,
     "end_time": "2025-05-07T18:30:57.829421",
     "exception": false,
     "start_time": "2025-05-07T18:30:57.802075",
     "status": "completed"
    },
    "tags": []
   },
   "outputs": [
    {
     "data": {
      "text/plain": [
       "AUTOMATICALLY_ASSIGNED    6469\n",
       "IS_REPRESENTATIVE         3905\n",
       "IS_PAR                      79\n",
       "MANUALLY_ASSIGNED           74\n",
       "Name: alt_allele_attrib, dtype: int64"
      ]
     },
     "execution_count": 18,
     "metadata": {},
     "output_type": "execute_result"
    }
   ],
   "source": [
    "ensg.representative_gene_df.alt_allele_attrib.value_counts()"
   ]
  },
  {
   "cell_type": "code",
   "execution_count": 19,
   "id": "d711bbc4",
   "metadata": {
    "execution": {
     "iopub.execute_input": "2025-05-07T18:30:57.847112Z",
     "iopub.status.busy": "2025-05-07T18:30:57.846569Z",
     "iopub.status.idle": "2025-05-07T18:30:57.877677Z",
     "shell.execute_reply": "2025-05-07T18:30:57.876965Z"
    },
    "papermill": {
     "duration": 0.041222,
     "end_time": "2025-05-07T18:30:57.879006",
     "exception": false,
     "start_time": "2025-05-07T18:30:57.837784",
     "status": "completed"
    },
    "tags": []
   },
   "outputs": [
    {
     "data": {
      "text/html": [
       "<div>\n",
       "<style scoped>\n",
       "    .dataframe tbody tr th:only-of-type {\n",
       "        vertical-align: middle;\n",
       "    }\n",
       "\n",
       "    .dataframe tbody tr th {\n",
       "        vertical-align: top;\n",
       "    }\n",
       "\n",
       "    .dataframe thead th {\n",
       "        text-align: right;\n",
       "    }\n",
       "</style>\n",
       "<table border=\"1\" class=\"dataframe\">\n",
       "  <thead>\n",
       "    <tr style=\"text-align: right;\">\n",
       "      <th></th>\n",
       "      <th>rs_allele_group</th>\n",
       "      <th>ensembl_gene_id</th>\n",
       "      <th>gene_symbol</th>\n",
       "      <th>ensembl_created_date</th>\n",
       "      <th>seq_region</th>\n",
       "      <th>primary_assembly</th>\n",
       "      <th>alt_allele_group_id</th>\n",
       "      <th>alt_allele_attrib</th>\n",
       "      <th>alt_allele_is_representative</th>\n",
       "      <th>ensembl_representative_gene_id</th>\n",
       "      <th>is_representative_gene</th>\n",
       "    </tr>\n",
       "  </thead>\n",
       "  <tbody>\n",
       "    <tr>\n",
       "      <th>2</th>\n",
       "      <td>44430</td>\n",
       "      <td>ENSG00000282333</td>\n",
       "      <td>None</td>\n",
       "      <td>2015-06-01 18:57:05</td>\n",
       "      <td>HSCHR7_2_CTG1</td>\n",
       "      <td>False</td>\n",
       "      <td>44430.0</td>\n",
       "      <td>AUTOMATICALLY_ASSIGNED</td>\n",
       "      <td>False</td>\n",
       "      <td>ENSG00000273644</td>\n",
       "      <td>False</td>\n",
       "    </tr>\n",
       "    <tr>\n",
       "      <th>4</th>\n",
       "      <td>44431</td>\n",
       "      <td>ENSG00000282645</td>\n",
       "      <td>None</td>\n",
       "      <td>2015-06-01 18:57:05</td>\n",
       "      <td>HSCHR7_2_CTG1</td>\n",
       "      <td>False</td>\n",
       "      <td>44431.0</td>\n",
       "      <td>AUTOMATICALLY_ASSIGNED</td>\n",
       "      <td>False</td>\n",
       "      <td>ENSG00000281993</td>\n",
       "      <td>False</td>\n",
       "    </tr>\n",
       "  </tbody>\n",
       "</table>\n",
       "</div>"
      ],
      "text/plain": [
       "  rs_allele_group  ensembl_gene_id gene_symbol ensembl_created_date  \\\n",
       "2           44430  ENSG00000282333        None  2015-06-01 18:57:05   \n",
       "4           44431  ENSG00000282645        None  2015-06-01 18:57:05   \n",
       "\n",
       "      seq_region  primary_assembly  alt_allele_group_id  \\\n",
       "2  HSCHR7_2_CTG1             False              44430.0   \n",
       "4  HSCHR7_2_CTG1             False              44431.0   \n",
       "\n",
       "        alt_allele_attrib  alt_allele_is_representative  \\\n",
       "2  AUTOMATICALLY_ASSIGNED                         False   \n",
       "4  AUTOMATICALLY_ASSIGNED                         False   \n",
       "\n",
       "  ensembl_representative_gene_id  is_representative_gene  \n",
       "2                ENSG00000273644                   False  \n",
       "4                ENSG00000281993                   False  "
      ]
     },
     "execution_count": 19,
     "metadata": {},
     "output_type": "execute_result"
    }
   ],
   "source": [
    "ensg.representative_gene_df.query(\"ensembl_gene_id != ensembl_representative_gene_id\").head(2)"
   ]
  },
  {
   "cell_type": "markdown",
   "id": "5ecd28f1",
   "metadata": {
    "papermill": {
     "duration": 0.007937,
     "end_time": "2025-05-07T18:30:57.895457",
     "exception": false,
     "start_time": "2025-05-07T18:30:57.887520",
     "status": "completed"
    },
    "tags": []
   },
   "source": [
    "# replaced ID converter\n",
    "\n",
    "A single `old_stable_id` can map to multiple `new_stable_id`. For example, `ENSG00000152006`\n",
    "\n",
    "https://uswest.ensembl.org/Homo_sapiens/Tools/IDMapper/Results?tl=AzhM62SpkvdiLC4H-6808613\n",
    "\n",
    "Requested ID | Matched ID(s) | Releases\n",
    "-- | -- | --\n",
    "ENSG00000152006 | ENSG00000196273 | 26: ENSG00000196273.1\n",
    "ENSG00000152006 | ENSG00000197016 | 26: ENSG00000197016.1\n",
    "ENSG00000152006 | ENSG00000196239 | 26: ENSG00000196239.1"
   ]
  },
  {
   "cell_type": "code",
   "execution_count": 20,
   "id": "36d36158",
   "metadata": {
    "execution": {
     "iopub.execute_input": "2025-05-07T18:30:57.912616Z",
     "iopub.status.busy": "2025-05-07T18:30:57.912229Z",
     "iopub.status.idle": "2025-05-07T18:31:00.256705Z",
     "shell.execute_reply": "2025-05-07T18:31:00.255926Z"
    },
    "papermill": {
     "duration": 2.354596,
     "end_time": "2025-05-07T18:31:00.258004",
     "exception": false,
     "start_time": "2025-05-07T18:30:57.903408",
     "status": "completed"
    },
    "tags": []
   },
   "outputs": [
    {
     "data": {
      "text/html": [
       "<div>\n",
       "<style scoped>\n",
       "    .dataframe tbody tr th:only-of-type {\n",
       "        vertical-align: middle;\n",
       "    }\n",
       "\n",
       "    .dataframe tbody tr th {\n",
       "        vertical-align: top;\n",
       "    }\n",
       "\n",
       "    .dataframe thead th {\n",
       "        text-align: right;\n",
       "    }\n",
       "</style>\n",
       "<table border=\"1\" class=\"dataframe\">\n",
       "  <thead>\n",
       "    <tr style=\"text-align: right;\">\n",
       "      <th></th>\n",
       "      <th>old_ensembl_gene_id</th>\n",
       "      <th>new_ensembl_gene_id</th>\n",
       "    </tr>\n",
       "  </thead>\n",
       "  <tbody>\n",
       "    <tr>\n",
       "      <th>0</th>\n",
       "      <td>ENSG00000011319</td>\n",
       "      <td>ENSG00000187391</td>\n",
       "    </tr>\n",
       "    <tr>\n",
       "      <th>1</th>\n",
       "      <td>ENSG00000077754</td>\n",
       "      <td>ENSG00000197226</td>\n",
       "    </tr>\n",
       "  </tbody>\n",
       "</table>\n",
       "</div>"
      ],
      "text/plain": [
       "  old_ensembl_gene_id new_ensembl_gene_id\n",
       "0     ENSG00000011319     ENSG00000187391\n",
       "1     ENSG00000077754     ENSG00000197226"
      ]
     },
     "execution_count": 20,
     "metadata": {},
     "output_type": "execute_result"
    }
   ],
   "source": [
    "ensg.old_to_new_df.head(2)"
   ]
  },
  {
   "cell_type": "code",
   "execution_count": 21,
   "id": "136eeedb",
   "metadata": {
    "execution": {
     "iopub.execute_input": "2025-05-07T18:31:00.276103Z",
     "iopub.status.busy": "2025-05-07T18:31:00.275672Z",
     "iopub.status.idle": "2025-05-07T18:31:00.295894Z",
     "shell.execute_reply": "2025-05-07T18:31:00.295286Z"
    },
    "papermill": {
     "duration": 0.030589,
     "end_time": "2025-05-07T18:31:00.297290",
     "exception": false,
     "start_time": "2025-05-07T18:31:00.266701",
     "status": "completed"
    },
    "tags": []
   },
   "outputs": [
    {
     "data": {
      "text/plain": [
       "ENSG00000201456    91\n",
       "ENSG00000193147    90\n",
       "Name: old_ensembl_gene_id, dtype: int64"
      ]
     },
     "execution_count": 21,
     "metadata": {},
     "output_type": "execute_result"
    }
   ],
   "source": [
    "# some ensembl genes replaced by many new ensembl genes\n",
    "ensg.old_to_new_df.old_ensembl_gene_id.value_counts().head(2)"
   ]
  },
  {
   "cell_type": "code",
   "execution_count": 22,
   "id": "83ac94a7",
   "metadata": {
    "execution": {
     "iopub.execute_input": "2025-05-07T18:31:00.315085Z",
     "iopub.status.busy": "2025-05-07T18:31:00.314888Z",
     "iopub.status.idle": "2025-05-07T18:31:00.436066Z",
     "shell.execute_reply": "2025-05-07T18:31:00.435389Z"
    },
    "papermill": {
     "duration": 0.131594,
     "end_time": "2025-05-07T18:31:00.437470",
     "exception": false,
     "start_time": "2025-05-07T18:31:00.305876",
     "status": "completed"
    },
    "tags": []
   },
   "outputs": [
    {
     "data": {
      "text/plain": [
       "{'ENSG00000196239', 'ENSG00000196273', 'ENSG00000197016'}"
      ]
     },
     "execution_count": 22,
     "metadata": {},
     "output_type": "execute_result"
    }
   ],
   "source": [
    "# example\n",
    "ensg._update_ensembl_gene(\"ENSG00000152006\")"
   ]
  },
  {
   "cell_type": "code",
   "execution_count": 23,
   "id": "b76bf283",
   "metadata": {
    "execution": {
     "iopub.execute_input": "2025-05-07T18:31:00.456122Z",
     "iopub.status.busy": "2025-05-07T18:31:00.455684Z",
     "iopub.status.idle": "2025-05-07T18:31:00.943178Z",
     "shell.execute_reply": "2025-05-07T18:31:00.942448Z"
    },
    "papermill": {
     "duration": 0.498202,
     "end_time": "2025-05-07T18:31:00.944593",
     "exception": false,
     "start_time": "2025-05-07T18:31:00.446391",
     "status": "completed"
    },
    "tags": []
   },
   "outputs": [
    {
     "data": {
      "text/html": [
       "<div>\n",
       "<style scoped>\n",
       "    .dataframe tbody tr th:only-of-type {\n",
       "        vertical-align: middle;\n",
       "    }\n",
       "\n",
       "    .dataframe tbody tr th {\n",
       "        vertical-align: top;\n",
       "    }\n",
       "\n",
       "    .dataframe thead th {\n",
       "        text-align: right;\n",
       "    }\n",
       "</style>\n",
       "<table border=\"1\" class=\"dataframe\">\n",
       "  <thead>\n",
       "    <tr style=\"text-align: right;\">\n",
       "      <th></th>\n",
       "      <th>old_ensembl_gene_id</th>\n",
       "      <th>newest_ensembl_gene_id</th>\n",
       "      <th>is_current</th>\n",
       "    </tr>\n",
       "  </thead>\n",
       "  <tbody>\n",
       "    <tr>\n",
       "      <th>0</th>\n",
       "      <td>ASMPATCHG00000000170</td>\n",
       "      <td>ENSG00000256229</td>\n",
       "      <td>True</td>\n",
       "    </tr>\n",
       "    <tr>\n",
       "      <th>1</th>\n",
       "      <td>ASMPATCHG00000000174</td>\n",
       "      <td>ENSG00000188171</td>\n",
       "      <td>True</td>\n",
       "    </tr>\n",
       "  </tbody>\n",
       "</table>\n",
       "</div>"
      ],
      "text/plain": [
       "    old_ensembl_gene_id newest_ensembl_gene_id  is_current\n",
       "0  ASMPATCHG00000000170        ENSG00000256229        True\n",
       "1  ASMPATCHG00000000174        ENSG00000188171        True"
      ]
     },
     "execution_count": 23,
     "metadata": {},
     "output_type": "execute_result"
    }
   ],
   "source": [
    "ensg.old_to_newest_df.head(2)"
   ]
  },
  {
   "cell_type": "code",
   "execution_count": 24,
   "id": "f3960900",
   "metadata": {
    "execution": {
     "iopub.execute_input": "2025-05-07T18:31:00.963399Z",
     "iopub.status.busy": "2025-05-07T18:31:00.962947Z",
     "iopub.status.idle": "2025-05-07T18:31:00.978095Z",
     "shell.execute_reply": "2025-05-07T18:31:00.977516Z"
    },
    "papermill": {
     "duration": 0.025773,
     "end_time": "2025-05-07T18:31:00.979372",
     "exception": false,
     "start_time": "2025-05-07T18:31:00.953599",
     "status": "completed"
    },
    "tags": []
   },
   "outputs": [
    {
     "data": {
      "text/plain": [
       "20479"
      ]
     },
     "execution_count": 24,
     "metadata": {},
     "output_type": "execute_result"
    }
   ],
   "source": [
    "len(ensg.old_to_newest_df)"
   ]
  },
  {
   "cell_type": "code",
   "execution_count": 25,
   "id": "0328ceec",
   "metadata": {
    "execution": {
     "iopub.execute_input": "2025-05-07T18:31:00.998462Z",
     "iopub.status.busy": "2025-05-07T18:31:00.997898Z",
     "iopub.status.idle": "2025-05-07T18:31:01.014270Z",
     "shell.execute_reply": "2025-05-07T18:31:01.013691Z"
    },
    "papermill": {
     "duration": 0.027497,
     "end_time": "2025-05-07T18:31:01.015704",
     "exception": false,
     "start_time": "2025-05-07T18:31:00.988207",
     "status": "completed"
    },
    "tags": []
   },
   "outputs": [
    {
     "data": {
      "text/plain": [
       "True     11440\n",
       "False     9039\n",
       "Name: is_current, dtype: int64"
      ]
     },
     "execution_count": 25,
     "metadata": {},
     "output_type": "execute_result"
    }
   ],
   "source": [
    "ensg.old_to_newest_df.is_current.value_counts()"
   ]
  },
  {
   "cell_type": "markdown",
   "id": "e9ccf8fd",
   "metadata": {
    "papermill": {
     "duration": 0.012837,
     "end_time": "2025-05-07T18:31:01.039113",
     "exception": false,
     "start_time": "2025-05-07T18:31:01.026276",
     "status": "completed"
    },
    "tags": []
   },
   "source": [
    "## omni-updater\n",
    "\n",
    "The omni-updater dataset is designed to convert ensembl gene IDs from input data to the current, representative ensembl_gene_ids for this ensembl release. It assumes:\n",
    "\n",
    "- users want to update outdated genes with their replacements\n",
    "- users want a dataset of representative genes only, and want to convert alternative alleles to representative genes\n",
    "\n",
    "An inner join of a dataset with `update_df` on `input_ensembl_gene_id` will do the following:\n",
    "\n",
    "- produce output ensembl_gene_ids that are current and representatives\n",
    "- update outdated genes with their current identifiers. Outdated genes with no current replacement will be removed by the inner join.\n",
    "- update alternative gene alleles with their representatives\n",
    "- genes that are already represenative and current will map to themselves"
   ]
  },
  {
   "cell_type": "code",
   "execution_count": 26,
   "id": "0322e164",
   "metadata": {
    "execution": {
     "iopub.execute_input": "2025-05-07T18:31:01.061359Z",
     "iopub.status.busy": "2025-05-07T18:31:01.060899Z",
     "iopub.status.idle": "2025-05-07T18:31:01.505695Z",
     "shell.execute_reply": "2025-05-07T18:31:01.504963Z"
    },
    "papermill": {
     "duration": 0.456255,
     "end_time": "2025-05-07T18:31:01.507096",
     "exception": false,
     "start_time": "2025-05-07T18:31:01.050841",
     "status": "completed"
    },
    "tags": []
   },
   "outputs": [
    {
     "data": {
      "text/html": [
       "<div>\n",
       "<style scoped>\n",
       "    .dataframe tbody tr th:only-of-type {\n",
       "        vertical-align: middle;\n",
       "    }\n",
       "\n",
       "    .dataframe tbody tr th {\n",
       "        vertical-align: top;\n",
       "    }\n",
       "\n",
       "    .dataframe thead th {\n",
       "        text-align: right;\n",
       "    }\n",
       "</style>\n",
       "<table border=\"1\" class=\"dataframe\">\n",
       "  <thead>\n",
       "    <tr style=\"text-align: right;\">\n",
       "      <th></th>\n",
       "      <th>input_ensembl_gene_id</th>\n",
       "      <th>ensembl_gene_id</th>\n",
       "      <th>input_current</th>\n",
       "      <th>input_representative</th>\n",
       "      <th>input_maps_to_n_genes</th>\n",
       "      <th>n_inputs_map_to_gene</th>\n",
       "    </tr>\n",
       "  </thead>\n",
       "  <tbody>\n",
       "    <tr>\n",
       "      <th>0</th>\n",
       "      <td>ASMPATCHG00000000170</td>\n",
       "      <td>ENSG00000256229</td>\n",
       "      <td>False</td>\n",
       "      <td>True</td>\n",
       "      <td>1</td>\n",
       "      <td>3</td>\n",
       "    </tr>\n",
       "    <tr>\n",
       "      <th>2</th>\n",
       "      <td>ASMPATCHG00000000174</td>\n",
       "      <td>ENSG00000188171</td>\n",
       "      <td>False</td>\n",
       "      <td>True</td>\n",
       "      <td>1</td>\n",
       "      <td>3</td>\n",
       "    </tr>\n",
       "  </tbody>\n",
       "</table>\n",
       "</div>"
      ],
      "text/plain": [
       "  input_ensembl_gene_id  ensembl_gene_id  input_current  input_representative  \\\n",
       "0  ASMPATCHG00000000170  ENSG00000256229          False                  True   \n",
       "2  ASMPATCHG00000000174  ENSG00000188171          False                  True   \n",
       "\n",
       "   input_maps_to_n_genes  n_inputs_map_to_gene  \n",
       "0                      1                     3  \n",
       "2                      1                     3  "
      ]
     },
     "execution_count": 26,
     "metadata": {},
     "output_type": "execute_result"
    }
   ],
   "source": [
    "ensg.update_df.head(2)"
   ]
  },
  {
   "cell_type": "code",
   "execution_count": 27,
   "id": "ea7c50fa",
   "metadata": {
    "execution": {
     "iopub.execute_input": "2025-05-07T18:31:01.526685Z",
     "iopub.status.busy": "2025-05-07T18:31:01.526226Z",
     "iopub.status.idle": "2025-05-07T18:31:01.553300Z",
     "shell.execute_reply": "2025-05-07T18:31:01.552608Z"
    },
    "papermill": {
     "duration": 0.038284,
     "end_time": "2025-05-07T18:31:01.554743",
     "exception": false,
     "start_time": "2025-05-07T18:31:01.516459",
     "status": "completed"
    },
    "tags": []
   },
   "outputs": [
    {
     "data": {
      "text/html": [
       "<div>\n",
       "<style scoped>\n",
       "    .dataframe tbody tr th:only-of-type {\n",
       "        vertical-align: middle;\n",
       "    }\n",
       "\n",
       "    .dataframe tbody tr th {\n",
       "        vertical-align: top;\n",
       "    }\n",
       "\n",
       "    .dataframe thead th {\n",
       "        text-align: right;\n",
       "    }\n",
       "</style>\n",
       "<table border=\"1\" class=\"dataframe\">\n",
       "  <thead>\n",
       "    <tr style=\"text-align: right;\">\n",
       "      <th></th>\n",
       "      <th>input_ensembl_gene_id</th>\n",
       "      <th>ensembl_gene_id</th>\n",
       "      <th>input_current</th>\n",
       "      <th>input_representative</th>\n",
       "      <th>input_maps_to_n_genes</th>\n",
       "      <th>n_inputs_map_to_gene</th>\n",
       "    </tr>\n",
       "  </thead>\n",
       "  <tbody>\n",
       "    <tr>\n",
       "      <th>4025</th>\n",
       "      <td>ENSG00000201456</td>\n",
       "      <td>ENSG00000206708</td>\n",
       "      <td>False</td>\n",
       "      <td>True</td>\n",
       "      <td>90</td>\n",
       "      <td>6</td>\n",
       "    </tr>\n",
       "    <tr>\n",
       "      <th>3571</th>\n",
       "      <td>ENSG00000201456</td>\n",
       "      <td>ENSG00000206675</td>\n",
       "      <td>False</td>\n",
       "      <td>True</td>\n",
       "      <td>90</td>\n",
       "      <td>9</td>\n",
       "    </tr>\n",
       "  </tbody>\n",
       "</table>\n",
       "</div>"
      ],
      "text/plain": [
       "     input_ensembl_gene_id  ensembl_gene_id  input_current  \\\n",
       "4025       ENSG00000201456  ENSG00000206708          False   \n",
       "3571       ENSG00000201456  ENSG00000206675          False   \n",
       "\n",
       "      input_representative  input_maps_to_n_genes  n_inputs_map_to_gene  \n",
       "4025                  True                     90                     6  \n",
       "3571                  True                     90                     9  "
      ]
     },
     "execution_count": 27,
     "metadata": {},
     "output_type": "execute_result"
    }
   ],
   "source": [
    "ensg.update_df.sort_values(\"input_maps_to_n_genes\", ascending=False).head(2)"
   ]
  },
  {
   "cell_type": "code",
   "execution_count": 28,
   "id": "f6406632",
   "metadata": {
    "execution": {
     "iopub.execute_input": "2025-05-07T18:31:01.574935Z",
     "iopub.status.busy": "2025-05-07T18:31:01.574377Z",
     "iopub.status.idle": "2025-05-07T18:31:01.602899Z",
     "shell.execute_reply": "2025-05-07T18:31:01.602198Z"
    },
    "papermill": {
     "duration": 0.040063,
     "end_time": "2025-05-07T18:31:01.604338",
     "exception": false,
     "start_time": "2025-05-07T18:31:01.564275",
     "status": "completed"
    },
    "tags": []
   },
   "outputs": [
    {
     "data": {
      "text/html": [
       "<div>\n",
       "<style scoped>\n",
       "    .dataframe tbody tr th:only-of-type {\n",
       "        vertical-align: middle;\n",
       "    }\n",
       "\n",
       "    .dataframe tbody tr th {\n",
       "        vertical-align: top;\n",
       "    }\n",
       "\n",
       "    .dataframe thead th {\n",
       "        text-align: right;\n",
       "    }\n",
       "</style>\n",
       "<table border=\"1\" class=\"dataframe\">\n",
       "  <thead>\n",
       "    <tr style=\"text-align: right;\">\n",
       "      <th></th>\n",
       "      <th>input_ensembl_gene_id</th>\n",
       "      <th>ensembl_gene_id</th>\n",
       "      <th>input_current</th>\n",
       "      <th>input_representative</th>\n",
       "      <th>input_maps_to_n_genes</th>\n",
       "      <th>n_inputs_map_to_gene</th>\n",
       "    </tr>\n",
       "  </thead>\n",
       "  <tbody>\n",
       "    <tr>\n",
       "      <th>19167</th>\n",
       "      <td>ENSG00000201724</td>\n",
       "      <td>ENSG00000202251</td>\n",
       "      <td>True</td>\n",
       "      <td>False</td>\n",
       "      <td>1</td>\n",
       "      <td>914</td>\n",
       "    </tr>\n",
       "    <tr>\n",
       "      <th>48794</th>\n",
       "      <td>ENSG00000263833</td>\n",
       "      <td>ENSG00000202251</td>\n",
       "      <td>True</td>\n",
       "      <td>False</td>\n",
       "      <td>1</td>\n",
       "      <td>914</td>\n",
       "    </tr>\n",
       "  </tbody>\n",
       "</table>\n",
       "</div>"
      ],
      "text/plain": [
       "      input_ensembl_gene_id  ensembl_gene_id  input_current  \\\n",
       "19167       ENSG00000201724  ENSG00000202251           True   \n",
       "48794       ENSG00000263833  ENSG00000202251           True   \n",
       "\n",
       "       input_representative  input_maps_to_n_genes  n_inputs_map_to_gene  \n",
       "19167                 False                      1                   914  \n",
       "48794                 False                      1                   914  "
      ]
     },
     "execution_count": 28,
     "metadata": {},
     "output_type": "execute_result"
    }
   ],
   "source": [
    "ensg.update_df.sort_values(\"n_inputs_map_to_gene\", ascending=False).head(2)"
   ]
  },
  {
   "cell_type": "code",
   "execution_count": 29,
   "id": "071cd8a1",
   "metadata": {
    "execution": {
     "iopub.execute_input": "2025-05-07T18:31:01.624734Z",
     "iopub.status.busy": "2025-05-07T18:31:01.624140Z",
     "iopub.status.idle": "2025-05-07T18:31:01.640252Z",
     "shell.execute_reply": "2025-05-07T18:31:01.639621Z"
    },
    "papermill": {
     "duration": 0.027718,
     "end_time": "2025-05-07T18:31:01.641680",
     "exception": false,
     "start_time": "2025-05-07T18:31:01.613962",
     "status": "completed"
    },
    "tags": []
   },
   "outputs": [
    {
     "data": {
      "text/plain": [
       "0.9438620258441017"
      ]
     },
     "execution_count": 29,
     "metadata": {},
     "output_type": "execute_result"
    }
   ],
   "source": [
    "(ensg.update_df.input_maps_to_n_genes == 1).mean()"
   ]
  },
  {
   "cell_type": "code",
   "execution_count": 30,
   "id": "098ef8dc",
   "metadata": {
    "execution": {
     "iopub.execute_input": "2025-05-07T18:31:01.662030Z",
     "iopub.status.busy": "2025-05-07T18:31:01.661572Z",
     "iopub.status.idle": "2025-05-07T18:31:01.687177Z",
     "shell.execute_reply": "2025-05-07T18:31:01.686460Z"
    },
    "papermill": {
     "duration": 0.037259,
     "end_time": "2025-05-07T18:31:01.688692",
     "exception": false,
     "start_time": "2025-05-07T18:31:01.651433",
     "status": "completed"
    },
    "tags": []
   },
   "outputs": [
    {
     "data": {
      "text/html": [
       "<div>\n",
       "<style scoped>\n",
       "    .dataframe tbody tr th:only-of-type {\n",
       "        vertical-align: middle;\n",
       "    }\n",
       "\n",
       "    .dataframe tbody tr th {\n",
       "        vertical-align: top;\n",
       "    }\n",
       "\n",
       "    .dataframe thead th {\n",
       "        text-align: right;\n",
       "    }\n",
       "</style>\n",
       "<table border=\"1\" class=\"dataframe\">\n",
       "  <thead>\n",
       "    <tr style=\"text-align: right;\">\n",
       "      <th></th>\n",
       "      <th>input_ensembl_gene_id</th>\n",
       "      <th>ensembl_gene_id</th>\n",
       "      <th>input_current</th>\n",
       "      <th>input_representative</th>\n",
       "      <th>input_maps_to_n_genes</th>\n",
       "      <th>n_inputs_map_to_gene</th>\n",
       "    </tr>\n",
       "  </thead>\n",
       "  <tbody>\n",
       "    <tr>\n",
       "      <th>636</th>\n",
       "      <td>ASMPATCHG00000001513</td>\n",
       "      <td>ENSG00000256263</td>\n",
       "      <td>False</td>\n",
       "      <td>True</td>\n",
       "      <td>1</td>\n",
       "      <td>13</td>\n",
       "    </tr>\n",
       "    <tr>\n",
       "      <th>44496</th>\n",
       "      <td>ENSG00000256263</td>\n",
       "      <td>ENSG00000256263</td>\n",
       "      <td>True</td>\n",
       "      <td>True</td>\n",
       "      <td>1</td>\n",
       "      <td>13</td>\n",
       "    </tr>\n",
       "    <tr>\n",
       "      <th>637</th>\n",
       "      <td>ENSG00000260270</td>\n",
       "      <td>ENSG00000256263</td>\n",
       "      <td>False</td>\n",
       "      <td>True</td>\n",
       "      <td>1</td>\n",
       "      <td>13</td>\n",
       "    </tr>\n",
       "    <tr>\n",
       "      <th>638</th>\n",
       "      <td>ENSG00000262195</td>\n",
       "      <td>ENSG00000256263</td>\n",
       "      <td>False</td>\n",
       "      <td>True</td>\n",
       "      <td>1</td>\n",
       "      <td>13</td>\n",
       "    </tr>\n",
       "    <tr>\n",
       "      <th>639</th>\n",
       "      <td>ENSG00000263289</td>\n",
       "      <td>ENSG00000256263</td>\n",
       "      <td>False</td>\n",
       "      <td>True</td>\n",
       "      <td>1</td>\n",
       "      <td>13</td>\n",
       "    </tr>\n",
       "    <tr>\n",
       "      <th>640</th>\n",
       "      <td>ENSG00000269129</td>\n",
       "      <td>ENSG00000256263</td>\n",
       "      <td>False</td>\n",
       "      <td>True</td>\n",
       "      <td>1</td>\n",
       "      <td>13</td>\n",
       "    </tr>\n",
       "    <tr>\n",
       "      <th>641</th>\n",
       "      <td>ENSG00000269829</td>\n",
       "      <td>ENSG00000256263</td>\n",
       "      <td>False</td>\n",
       "      <td>True</td>\n",
       "      <td>1</td>\n",
       "      <td>13</td>\n",
       "    </tr>\n",
       "    <tr>\n",
       "      <th>642</th>\n",
       "      <td>ENSG00000270320</td>\n",
       "      <td>ENSG00000256263</td>\n",
       "      <td>False</td>\n",
       "      <td>True</td>\n",
       "      <td>1</td>\n",
       "      <td>13</td>\n",
       "    </tr>\n",
       "    <tr>\n",
       "      <th>643</th>\n",
       "      <td>ENSG00000271301</td>\n",
       "      <td>ENSG00000256263</td>\n",
       "      <td>False</td>\n",
       "      <td>True</td>\n",
       "      <td>1</td>\n",
       "      <td>13</td>\n",
       "    </tr>\n",
       "    <tr>\n",
       "      <th>644</th>\n",
       "      <td>ENSG00000271747</td>\n",
       "      <td>ENSG00000256263</td>\n",
       "      <td>False</td>\n",
       "      <td>True</td>\n",
       "      <td>1</td>\n",
       "      <td>13</td>\n",
       "    </tr>\n",
       "    <tr>\n",
       "      <th>645</th>\n",
       "      <td>ENSG00000272495</td>\n",
       "      <td>ENSG00000256263</td>\n",
       "      <td>False</td>\n",
       "      <td>True</td>\n",
       "      <td>1</td>\n",
       "      <td>13</td>\n",
       "    </tr>\n",
       "    <tr>\n",
       "      <th>53308</th>\n",
       "      <td>ENSG00000272877</td>\n",
       "      <td>ENSG00000256263</td>\n",
       "      <td>True</td>\n",
       "      <td>False</td>\n",
       "      <td>1</td>\n",
       "      <td>13</td>\n",
       "    </tr>\n",
       "    <tr>\n",
       "      <th>646</th>\n",
       "      <td>ENSG00000273127</td>\n",
       "      <td>ENSG00000256263</td>\n",
       "      <td>False</td>\n",
       "      <td>True</td>\n",
       "      <td>1</td>\n",
       "      <td>13</td>\n",
       "    </tr>\n",
       "  </tbody>\n",
       "</table>\n",
       "</div>"
      ],
      "text/plain": [
       "      input_ensembl_gene_id  ensembl_gene_id  input_current  \\\n",
       "636    ASMPATCHG00000001513  ENSG00000256263          False   \n",
       "44496       ENSG00000256263  ENSG00000256263           True   \n",
       "637         ENSG00000260270  ENSG00000256263          False   \n",
       "638         ENSG00000262195  ENSG00000256263          False   \n",
       "639         ENSG00000263289  ENSG00000256263          False   \n",
       "640         ENSG00000269129  ENSG00000256263          False   \n",
       "641         ENSG00000269829  ENSG00000256263          False   \n",
       "642         ENSG00000270320  ENSG00000256263          False   \n",
       "643         ENSG00000271301  ENSG00000256263          False   \n",
       "644         ENSG00000271747  ENSG00000256263          False   \n",
       "645         ENSG00000272495  ENSG00000256263          False   \n",
       "53308       ENSG00000272877  ENSG00000256263           True   \n",
       "646         ENSG00000273127  ENSG00000256263          False   \n",
       "\n",
       "       input_representative  input_maps_to_n_genes  n_inputs_map_to_gene  \n",
       "636                    True                      1                    13  \n",
       "44496                  True                      1                    13  \n",
       "637                    True                      1                    13  \n",
       "638                    True                      1                    13  \n",
       "639                    True                      1                    13  \n",
       "640                    True                      1                    13  \n",
       "641                    True                      1                    13  \n",
       "642                    True                      1                    13  \n",
       "643                    True                      1                    13  \n",
       "644                    True                      1                    13  \n",
       "645                    True                      1                    13  \n",
       "53308                 False                      1                    13  \n",
       "646                    True                      1                    13  "
      ]
     },
     "execution_count": 30,
     "metadata": {},
     "output_type": "execute_result"
    }
   ],
   "source": [
    "ensg.update_df.query(\"ensembl_gene_id == 'ENSG00000256263'\")"
   ]
  },
  {
   "cell_type": "code",
   "execution_count": 31,
   "id": "4fa06620",
   "metadata": {
    "execution": {
     "iopub.execute_input": "2025-05-07T18:31:01.709292Z",
     "iopub.status.busy": "2025-05-07T18:31:01.708895Z",
     "iopub.status.idle": "2025-05-07T18:31:01.776306Z",
     "shell.execute_reply": "2025-05-07T18:31:01.775596Z"
    },
    "papermill": {
     "duration": 0.079033,
     "end_time": "2025-05-07T18:31:01.777686",
     "exception": false,
     "start_time": "2025-05-07T18:31:01.698653",
     "status": "completed"
    },
    "tags": []
   },
   "outputs": [
    {
     "name": "stdout",
     "output_type": "stream",
     "text": [
      "The omni-updater contains 95,960 rows for mapping 91,330 input genes to 77,985 current, representative genes.\n"
     ]
    }
   ],
   "source": [
    "print(\n",
    "    f\"The omni-updater contains {len(ensg.update_df):,} rows for mapping \"\n",
    "    f\"{ensg.update_df.input_ensembl_gene_id.nunique():,} input genes to \"\n",
    "    f\"{ensg.update_df.ensembl_gene_id.nunique():,} current, representative genes.\"\n",
    ")"
   ]
  },
  {
   "cell_type": "code",
   "execution_count": 32,
   "id": "ca913c85",
   "metadata": {
    "execution": {
     "iopub.execute_input": "2025-05-07T18:31:01.798810Z",
     "iopub.status.busy": "2025-05-07T18:31:01.798369Z",
     "iopub.status.idle": "2025-05-07T18:31:01.823866Z",
     "shell.execute_reply": "2025-05-07T18:31:01.823140Z"
    },
    "papermill": {
     "duration": 0.037406,
     "end_time": "2025-05-07T18:31:01.825293",
     "exception": false,
     "start_time": "2025-05-07T18:31:01.787887",
     "status": "completed"
    },
    "tags": []
   },
   "outputs": [
    {
     "data": {
      "text/html": [
       "<div>\n",
       "<style scoped>\n",
       "    .dataframe tbody tr th:only-of-type {\n",
       "        vertical-align: middle;\n",
       "    }\n",
       "\n",
       "    .dataframe tbody tr th {\n",
       "        vertical-align: top;\n",
       "    }\n",
       "\n",
       "    .dataframe thead th {\n",
       "        text-align: right;\n",
       "    }\n",
       "</style>\n",
       "<table border=\"1\" class=\"dataframe\">\n",
       "  <thead>\n",
       "    <tr style=\"text-align: right;\">\n",
       "      <th></th>\n",
       "      <th>input_ensembl_gene_id</th>\n",
       "      <th>ensembl_gene_id</th>\n",
       "      <th>input_current</th>\n",
       "      <th>input_representative</th>\n",
       "      <th>input_maps_to_n_genes</th>\n",
       "      <th>n_inputs_map_to_gene</th>\n",
       "    </tr>\n",
       "  </thead>\n",
       "  <tbody>\n",
       "    <tr>\n",
       "      <th>5704</th>\n",
       "      <td>ENSG00000201456</td>\n",
       "      <td>ENSG00000199482</td>\n",
       "      <td>False</td>\n",
       "      <td>True</td>\n",
       "      <td>90</td>\n",
       "      <td>2</td>\n",
       "    </tr>\n",
       "    <tr>\n",
       "      <th>3472</th>\n",
       "      <td>ENSG00000201456</td>\n",
       "      <td>ENSG00000199601</td>\n",
       "      <td>False</td>\n",
       "      <td>True</td>\n",
       "      <td>90</td>\n",
       "      <td>7</td>\n",
       "    </tr>\n",
       "    <tr>\n",
       "      <th>5705</th>\n",
       "      <td>ENSG00000201456</td>\n",
       "      <td>ENSG00000199664</td>\n",
       "      <td>False</td>\n",
       "      <td>True</td>\n",
       "      <td>90</td>\n",
       "      <td>3</td>\n",
       "    </tr>\n",
       "  </tbody>\n",
       "</table>\n",
       "</div>"
      ],
      "text/plain": [
       "     input_ensembl_gene_id  ensembl_gene_id  input_current  \\\n",
       "5704       ENSG00000201456  ENSG00000199482          False   \n",
       "3472       ENSG00000201456  ENSG00000199601          False   \n",
       "5705       ENSG00000201456  ENSG00000199664          False   \n",
       "\n",
       "      input_representative  input_maps_to_n_genes  n_inputs_map_to_gene  \n",
       "5704                  True                     90                     2  \n",
       "3472                  True                     90                     7  \n",
       "5705                  True                     90                     3  "
      ]
     },
     "execution_count": 32,
     "metadata": {},
     "output_type": "execute_result"
    }
   ],
   "source": [
    "# https://useast.ensembl.org/Homo_sapiens/Tools/IDMapper/Results?tl=P45VLMbogubpI0QA-6815464\n",
    "ensg.update_df.query(\"input_ensembl_gene_id == 'ENSG00000201456'\").head(3)"
   ]
  },
  {
   "cell_type": "markdown",
   "id": "730f7e4e",
   "metadata": {
    "papermill": {
     "duration": 0.009738,
     "end_time": "2025-05-07T18:31:01.845260",
     "exception": false,
     "start_time": "2025-05-07T18:31:01.835522",
     "status": "completed"
    },
    "tags": []
   },
   "source": [
    "## cross-refrences (xrefs)"
   ]
  },
  {
   "cell_type": "code",
   "execution_count": 33,
   "id": "25a0f476",
   "metadata": {
    "execution": {
     "iopub.execute_input": "2025-05-07T18:31:01.866506Z",
     "iopub.status.busy": "2025-05-07T18:31:01.865776Z",
     "iopub.status.idle": "2025-05-07T18:36:33.099078Z",
     "shell.execute_reply": "2025-05-07T18:36:33.098374Z"
    },
    "papermill": {
     "duration": 331.254896,
     "end_time": "2025-05-07T18:36:33.109840",
     "exception": false,
     "start_time": "2025-05-07T18:31:01.854944",
     "status": "completed"
    },
    "tags": []
   },
   "outputs": [
    {
     "data": {
      "text/html": [
       "<div>\n",
       "<style scoped>\n",
       "    .dataframe tbody tr th:only-of-type {\n",
       "        vertical-align: middle;\n",
       "    }\n",
       "\n",
       "    .dataframe tbody tr th {\n",
       "        vertical-align: top;\n",
       "    }\n",
       "\n",
       "    .dataframe thead th {\n",
       "        text-align: right;\n",
       "    }\n",
       "</style>\n",
       "<table border=\"1\" class=\"dataframe\">\n",
       "  <thead>\n",
       "    <tr style=\"text-align: right;\">\n",
       "      <th></th>\n",
       "      <th>ensembl_representative_gene_id</th>\n",
       "      <th>ensembl_gene_id</th>\n",
       "      <th>gene_symbol</th>\n",
       "      <th>xref_source</th>\n",
       "      <th>xref_accession</th>\n",
       "      <th>xref_label</th>\n",
       "      <th>xref_description</th>\n",
       "      <th>xref_info_type</th>\n",
       "      <th>xref_linkage_annotation</th>\n",
       "      <th>xref_curie</th>\n",
       "    </tr>\n",
       "  </thead>\n",
       "  <tbody>\n",
       "    <tr>\n",
       "      <th>0</th>\n",
       "      <td>ENSG00000000003</td>\n",
       "      <td>ENSG00000000003</td>\n",
       "      <td>TSPAN6</td>\n",
       "      <td>ArrayExpress</td>\n",
       "      <td>ENSG00000000003</td>\n",
       "      <td>ENSG00000000003</td>\n",
       "      <td>None</td>\n",
       "      <td>DIRECT</td>\n",
       "      <td>None</td>\n",
       "      <td>arrayexpress:ENSG00000000003</td>\n",
       "    </tr>\n",
       "    <tr>\n",
       "      <th>1</th>\n",
       "      <td>ENSG00000000003</td>\n",
       "      <td>ENSG00000000003</td>\n",
       "      <td>TSPAN6</td>\n",
       "      <td>EntrezGene</td>\n",
       "      <td>7105</td>\n",
       "      <td>TSPAN6</td>\n",
       "      <td>tetraspanin 6</td>\n",
       "      <td>DEPENDENT</td>\n",
       "      <td>None</td>\n",
       "      <td>ncbigene:7105</td>\n",
       "    </tr>\n",
       "    <tr>\n",
       "      <th>2</th>\n",
       "      <td>ENSG00000000003</td>\n",
       "      <td>ENSG00000000003</td>\n",
       "      <td>TSPAN6</td>\n",
       "      <td>GeneCards</td>\n",
       "      <td>11858</td>\n",
       "      <td>TSPAN6</td>\n",
       "      <td>tetraspanin 6</td>\n",
       "      <td>DEPENDENT</td>\n",
       "      <td>None</td>\n",
       "      <td>genecards:11858</td>\n",
       "    </tr>\n",
       "    <tr>\n",
       "      <th>3</th>\n",
       "      <td>ENSG00000000003</td>\n",
       "      <td>ENSG00000000003</td>\n",
       "      <td>TSPAN6</td>\n",
       "      <td>HGNC</td>\n",
       "      <td>HGNC:11858</td>\n",
       "      <td>TSPAN6</td>\n",
       "      <td>tetraspanin 6</td>\n",
       "      <td>DIRECT</td>\n",
       "      <td>None</td>\n",
       "      <td>hgnc:11858</td>\n",
       "    </tr>\n",
       "    <tr>\n",
       "      <th>4</th>\n",
       "      <td>ENSG00000000003</td>\n",
       "      <td>ENSG00000000003</td>\n",
       "      <td>TSPAN6</td>\n",
       "      <td>MIM_GENE</td>\n",
       "      <td>300191</td>\n",
       "      <td>TETRASPANIN 6; TSPAN6 [*300191]</td>\n",
       "      <td>TETRASPANIN 6; TSPAN6;;TRANSMEMBRANE 4 SUPERFA...</td>\n",
       "      <td>DEPENDENT</td>\n",
       "      <td>None</td>\n",
       "      <td>omim:300191</td>\n",
       "    </tr>\n",
       "  </tbody>\n",
       "</table>\n",
       "</div>"
      ],
      "text/plain": [
       "  ensembl_representative_gene_id  ensembl_gene_id gene_symbol   xref_source  \\\n",
       "0                ENSG00000000003  ENSG00000000003      TSPAN6  ArrayExpress   \n",
       "1                ENSG00000000003  ENSG00000000003      TSPAN6    EntrezGene   \n",
       "2                ENSG00000000003  ENSG00000000003      TSPAN6     GeneCards   \n",
       "3                ENSG00000000003  ENSG00000000003      TSPAN6          HGNC   \n",
       "4                ENSG00000000003  ENSG00000000003      TSPAN6      MIM_GENE   \n",
       "\n",
       "    xref_accession                       xref_label  \\\n",
       "0  ENSG00000000003                  ENSG00000000003   \n",
       "1             7105                           TSPAN6   \n",
       "2            11858                           TSPAN6   \n",
       "3       HGNC:11858                           TSPAN6   \n",
       "4           300191  TETRASPANIN 6; TSPAN6 [*300191]   \n",
       "\n",
       "                                    xref_description xref_info_type  \\\n",
       "0                                               None         DIRECT   \n",
       "1                                      tetraspanin 6      DEPENDENT   \n",
       "2                                      tetraspanin 6      DEPENDENT   \n",
       "3                                      tetraspanin 6         DIRECT   \n",
       "4  TETRASPANIN 6; TSPAN6;;TRANSMEMBRANE 4 SUPERFA...      DEPENDENT   \n",
       "\n",
       "  xref_linkage_annotation                    xref_curie  \n",
       "0                    None  arrayexpress:ENSG00000000003  \n",
       "1                    None                 ncbigene:7105  \n",
       "2                    None               genecards:11858  \n",
       "3                    None                    hgnc:11858  \n",
       "4                    None                   omim:300191  "
      ]
     },
     "execution_count": 33,
     "metadata": {},
     "output_type": "execute_result"
    }
   ],
   "source": [
    "ensg.xref_df.head()"
   ]
  },
  {
   "cell_type": "code",
   "execution_count": 34,
   "id": "0ebf7176",
   "metadata": {
    "execution": {
     "iopub.execute_input": "2025-05-07T18:36:33.130512Z",
     "iopub.status.busy": "2025-05-07T18:36:33.130219Z",
     "iopub.status.idle": "2025-05-07T18:36:33.449896Z",
     "shell.execute_reply": "2025-05-07T18:36:33.449187Z"
    },
    "papermill": {
     "duration": 0.331683,
     "end_time": "2025-05-07T18:36:33.451302",
     "exception": false,
     "start_time": "2025-05-07T18:36:33.119619",
     "status": "completed"
    },
    "tags": []
   },
   "outputs": [
    {
     "data": {
      "text/plain": [
       "Series([], Name: xref_source, dtype: int64)"
      ]
     },
     "execution_count": 34,
     "metadata": {},
     "output_type": "execute_result"
    }
   ],
   "source": [
    "# datasets where there are ensembl_gene_id-xref_source-xref_accession pairs might not be distinct\n",
    "xref_dup_df = ensg.xref_df[ensg.xref_df.duplicated(subset=[\"ensembl_gene_id\", \"xref_source\", \"xref_accession\"], keep=False)]\n",
    "xref_dup_df.xref_source.value_counts()"
   ]
  },
  {
   "cell_type": "code",
   "execution_count": 35,
   "id": "75a00ecf",
   "metadata": {
    "execution": {
     "iopub.execute_input": "2025-05-07T18:36:33.472980Z",
     "iopub.status.busy": "2025-05-07T18:36:33.472562Z",
     "iopub.status.idle": "2025-05-07T18:36:33.990975Z",
     "shell.execute_reply": "2025-05-07T18:36:33.990248Z"
    },
    "papermill": {
     "duration": 0.530666,
     "end_time": "2025-05-07T18:36:33.992428",
     "exception": false,
     "start_time": "2025-05-07T18:36:33.461762",
     "status": "completed"
    },
    "tags": []
   },
   "outputs": [
    {
     "data": {
      "text/html": [
       "<div>\n",
       "<style scoped>\n",
       "    .dataframe tbody tr th:only-of-type {\n",
       "        vertical-align: middle;\n",
       "    }\n",
       "\n",
       "    .dataframe tbody tr th {\n",
       "        vertical-align: top;\n",
       "    }\n",
       "\n",
       "    .dataframe thead th {\n",
       "        text-align: right;\n",
       "    }\n",
       "</style>\n",
       "<table border=\"1\" class=\"dataframe\">\n",
       "  <thead>\n",
       "    <tr style=\"text-align: right;\">\n",
       "      <th>xref_info_type</th>\n",
       "      <th>DEPENDENT</th>\n",
       "      <th>DIRECT</th>\n",
       "      <th>MISC</th>\n",
       "      <th>All</th>\n",
       "      <th>bioregistry_prefix</th>\n",
       "    </tr>\n",
       "    <tr>\n",
       "      <th>xref_source</th>\n",
       "      <th></th>\n",
       "      <th></th>\n",
       "      <th></th>\n",
       "      <th></th>\n",
       "      <th></th>\n",
       "    </tr>\n",
       "  </thead>\n",
       "  <tbody>\n",
       "    <tr>\n",
       "      <th>ArrayExpress</th>\n",
       "      <td>0</td>\n",
       "      <td>86364</td>\n",
       "      <td>0</td>\n",
       "      <td>86364</td>\n",
       "      <td>arrayexpress</td>\n",
       "    </tr>\n",
       "    <tr>\n",
       "      <th>DBASS3</th>\n",
       "      <td>0</td>\n",
       "      <td>19</td>\n",
       "      <td>0</td>\n",
       "      <td>19</td>\n",
       "      <td>None</td>\n",
       "    </tr>\n",
       "    <tr>\n",
       "      <th>DBASS5</th>\n",
       "      <td>0</td>\n",
       "      <td>14</td>\n",
       "      <td>0</td>\n",
       "      <td>14</td>\n",
       "      <td>None</td>\n",
       "    </tr>\n",
       "    <tr>\n",
       "      <th>ENS_LRG_gene</th>\n",
       "      <td>0</td>\n",
       "      <td>1324</td>\n",
       "      <td>0</td>\n",
       "      <td>1324</td>\n",
       "      <td>lrg</td>\n",
       "    </tr>\n",
       "    <tr>\n",
       "      <th>EntrezGene</th>\n",
       "      <td>36707</td>\n",
       "      <td>0</td>\n",
       "      <td>0</td>\n",
       "      <td>36707</td>\n",
       "      <td>ncbigene</td>\n",
       "    </tr>\n",
       "    <tr>\n",
       "      <th>GeneCards</th>\n",
       "      <td>44899</td>\n",
       "      <td>0</td>\n",
       "      <td>0</td>\n",
       "      <td>44899</td>\n",
       "      <td>genecards</td>\n",
       "    </tr>\n",
       "    <tr>\n",
       "      <th>HGNC</th>\n",
       "      <td>1719</td>\n",
       "      <td>44899</td>\n",
       "      <td>0</td>\n",
       "      <td>46618</td>\n",
       "      <td>hgnc</td>\n",
       "    </tr>\n",
       "    <tr>\n",
       "      <th>MIM_GENE</th>\n",
       "      <td>19302</td>\n",
       "      <td>0</td>\n",
       "      <td>0</td>\n",
       "      <td>19302</td>\n",
       "      <td>omim</td>\n",
       "    </tr>\n",
       "    <tr>\n",
       "      <th>MIM_MORBID</th>\n",
       "      <td>8109</td>\n",
       "      <td>0</td>\n",
       "      <td>0</td>\n",
       "      <td>8109</td>\n",
       "      <td>omim</td>\n",
       "    </tr>\n",
       "    <tr>\n",
       "      <th>RFAM</th>\n",
       "      <td>0</td>\n",
       "      <td>5111</td>\n",
       "      <td>0</td>\n",
       "      <td>5111</td>\n",
       "      <td>rfam</td>\n",
       "    </tr>\n",
       "    <tr>\n",
       "      <th>Reactome_gene</th>\n",
       "      <td>0</td>\n",
       "      <td>147077</td>\n",
       "      <td>0</td>\n",
       "      <td>147077</td>\n",
       "      <td>reactome</td>\n",
       "    </tr>\n",
       "    <tr>\n",
       "      <th>Uniprot_gn</th>\n",
       "      <td>93342</td>\n",
       "      <td>0</td>\n",
       "      <td>0</td>\n",
       "      <td>93342</td>\n",
       "      <td>uniprot</td>\n",
       "    </tr>\n",
       "    <tr>\n",
       "      <th>WikiGene</th>\n",
       "      <td>36707</td>\n",
       "      <td>0</td>\n",
       "      <td>0</td>\n",
       "      <td>36707</td>\n",
       "      <td>wikigenes</td>\n",
       "    </tr>\n",
       "    <tr>\n",
       "      <th>miRBase</th>\n",
       "      <td>0</td>\n",
       "      <td>0</td>\n",
       "      <td>2138</td>\n",
       "      <td>2138</td>\n",
       "      <td>mirbase</td>\n",
       "    </tr>\n",
       "    <tr>\n",
       "      <th>All</th>\n",
       "      <td>240785</td>\n",
       "      <td>284808</td>\n",
       "      <td>2138</td>\n",
       "      <td>527731</td>\n",
       "      <td>None</td>\n",
       "    </tr>\n",
       "  </tbody>\n",
       "</table>\n",
       "</div>"
      ],
      "text/plain": [
       "xref_info_type  DEPENDENT  DIRECT  MISC     All bioregistry_prefix\n",
       "xref_source                                                       \n",
       "ArrayExpress            0   86364     0   86364       arrayexpress\n",
       "DBASS3                  0      19     0      19               None\n",
       "DBASS5                  0      14     0      14               None\n",
       "ENS_LRG_gene            0    1324     0    1324                lrg\n",
       "EntrezGene          36707       0     0   36707           ncbigene\n",
       "GeneCards           44899       0     0   44899          genecards\n",
       "HGNC                 1719   44899     0   46618               hgnc\n",
       "MIM_GENE            19302       0     0   19302               omim\n",
       "MIM_MORBID           8109       0     0    8109               omim\n",
       "RFAM                    0    5111     0    5111               rfam\n",
       "Reactome_gene           0  147077     0  147077           reactome\n",
       "Uniprot_gn          93342       0     0   93342            uniprot\n",
       "WikiGene            36707       0     0   36707          wikigenes\n",
       "miRBase                 0       0  2138    2138            mirbase\n",
       "All                240785  284808  2138  527731               None"
      ]
     },
     "execution_count": 35,
     "metadata": {},
     "output_type": "execute_result"
    }
   ],
   "source": [
    "# xref sources versus info_types\n",
    "df = pd.crosstab(ensg.xref_df.xref_source, ensg.xref_df.xref_info_type, margins=True)\n",
    "df[\"bioregistry_prefix\"] = df.index.to_series().replace(ensg._xref_prefix_updater).map(normalize_prefix)\n",
    "df"
   ]
  },
  {
   "cell_type": "markdown",
   "id": "688937be",
   "metadata": {
    "papermill": {
     "duration": 0.009962,
     "end_time": "2025-05-07T18:36:34.013034",
     "exception": false,
     "start_time": "2025-05-07T18:36:34.003072",
     "status": "completed"
    },
    "tags": []
   },
   "source": [
    "## Gene Ontology xrefs"
   ]
  },
  {
   "cell_type": "code",
   "execution_count": 36,
   "id": "a1aa700a",
   "metadata": {
    "execution": {
     "iopub.execute_input": "2025-05-07T18:36:34.034434Z",
     "iopub.status.busy": "2025-05-07T18:36:34.033986Z",
     "iopub.status.idle": "2025-05-07T18:37:04.591965Z",
     "shell.execute_reply": "2025-05-07T18:37:04.591178Z"
    },
    "papermill": {
     "duration": 30.580372,
     "end_time": "2025-05-07T18:37:04.603570",
     "exception": false,
     "start_time": "2025-05-07T18:36:34.023198",
     "status": "completed"
    },
    "tags": []
   },
   "outputs": [
    {
     "data": {
      "text/html": [
       "<div>\n",
       "<style scoped>\n",
       "    .dataframe tbody tr th:only-of-type {\n",
       "        vertical-align: middle;\n",
       "    }\n",
       "\n",
       "    .dataframe tbody tr th {\n",
       "        vertical-align: top;\n",
       "    }\n",
       "\n",
       "    .dataframe thead th {\n",
       "        text-align: right;\n",
       "    }\n",
       "</style>\n",
       "<table border=\"1\" class=\"dataframe\">\n",
       "  <thead>\n",
       "    <tr style=\"text-align: right;\">\n",
       "      <th></th>\n",
       "      <th>ensembl_gene_id</th>\n",
       "      <th>go_id</th>\n",
       "      <th>go_label</th>\n",
       "      <th>go_evidence_codes</th>\n",
       "      <th>xref_info_types</th>\n",
       "      <th>xref_info_texts</th>\n",
       "      <th>ensembl_transcript_ids</th>\n",
       "      <th>ensembl_representative_gene_id</th>\n",
       "    </tr>\n",
       "  </thead>\n",
       "  <tbody>\n",
       "    <tr>\n",
       "      <th>0</th>\n",
       "      <td>ENSG00000000003</td>\n",
       "      <td>GO:0005515</td>\n",
       "      <td>protein binding</td>\n",
       "      <td>IPI</td>\n",
       "      <td>DIRECT</td>\n",
       "      <td>UniProt</td>\n",
       "      <td>ENST00000373020</td>\n",
       "      <td>ENSG00000000003</td>\n",
       "    </tr>\n",
       "    <tr>\n",
       "      <th>1</th>\n",
       "      <td>ENSG00000000003</td>\n",
       "      <td>GO:0005886</td>\n",
       "      <td>plasma membrane</td>\n",
       "      <td>IBA</td>\n",
       "      <td>DIRECT</td>\n",
       "      <td>GO_Central</td>\n",
       "      <td>ENST00000373020</td>\n",
       "      <td>ENSG00000000003</td>\n",
       "    </tr>\n",
       "    <tr>\n",
       "      <th>2</th>\n",
       "      <td>ENSG00000000003</td>\n",
       "      <td>GO:0016020</td>\n",
       "      <td>membrane</td>\n",
       "      <td>IEA</td>\n",
       "      <td>DEPENDENT,DIRECT</td>\n",
       "      <td>,InterPro,UniProt</td>\n",
       "      <td>ENST00000373020,ENST00000612152</td>\n",
       "      <td>ENSG00000000003</td>\n",
       "    </tr>\n",
       "  </tbody>\n",
       "</table>\n",
       "</div>"
      ],
      "text/plain": [
       "   ensembl_gene_id       go_id         go_label go_evidence_codes  \\\n",
       "0  ENSG00000000003  GO:0005515  protein binding               IPI   \n",
       "1  ENSG00000000003  GO:0005886  plasma membrane               IBA   \n",
       "2  ENSG00000000003  GO:0016020         membrane               IEA   \n",
       "\n",
       "    xref_info_types    xref_info_texts           ensembl_transcript_ids  \\\n",
       "0            DIRECT            UniProt                  ENST00000373020   \n",
       "1            DIRECT         GO_Central                  ENST00000373020   \n",
       "2  DEPENDENT,DIRECT  ,InterPro,UniProt  ENST00000373020,ENST00000612152   \n",
       "\n",
       "  ensembl_representative_gene_id  \n",
       "0                ENSG00000000003  \n",
       "1                ENSG00000000003  \n",
       "2                ENSG00000000003  "
      ]
     },
     "execution_count": 36,
     "metadata": {},
     "output_type": "execute_result"
    }
   ],
   "source": [
    "ensg.xref_go_df.head(3)"
   ]
  },
  {
   "cell_type": "code",
   "execution_count": 37,
   "id": "14d9e9eb",
   "metadata": {
    "execution": {
     "iopub.execute_input": "2025-05-07T18:37:04.625211Z",
     "iopub.status.busy": "2025-05-07T18:37:04.624769Z",
     "iopub.status.idle": "2025-05-07T18:37:04.657363Z",
     "shell.execute_reply": "2025-05-07T18:37:04.656651Z"
    },
    "papermill": {
     "duration": 0.044899,
     "end_time": "2025-05-07T18:37:04.658702",
     "exception": false,
     "start_time": "2025-05-07T18:37:04.613803",
     "status": "completed"
    },
    "tags": []
   },
   "outputs": [
    {
     "data": {
      "text/plain": [
       "['C-C chemokine binding',\n",
       " 'C-C chemokine receptor activity',\n",
       " 'G protein-coupled receptor activity',\n",
       " 'G protein-coupled receptor signaling pathway',\n",
       " 'MAPK cascade',\n",
       " 'actin binding',\n",
       " 'apoptotic process',\n",
       " 'calcium ion transport',\n",
       " 'calcium-mediated signaling',\n",
       " 'cell chemotaxis',\n",
       " 'cell surface',\n",
       " 'cell surface receptor signaling pathway',\n",
       " 'cell-cell signaling',\n",
       " 'cellular defense response',\n",
       " 'cellular response to lipopolysaccharide',\n",
       " 'chemokine (C-C motif) ligand 5 binding',\n",
       " 'chemokine receptor activity',\n",
       " 'chemokine-mediated signaling pathway',\n",
       " 'chemotaxis',\n",
       " 'coreceptor activity',\n",
       " 'cytoplasm',\n",
       " 'defense response',\n",
       " 'dendritic cell chemotaxis',\n",
       " 'endosome',\n",
       " 'external side of plasma membrane',\n",
       " 'identical protein binding',\n",
       " 'immune response',\n",
       " 'inflammatory response',\n",
       " 'membrane',\n",
       " 'negative regulation of macrophage apoptotic process',\n",
       " 'phosphatidylinositol phospholipase C activity',\n",
       " 'plasma membrane',\n",
       " 'positive regulation of cytosolic calcium ion concentration',\n",
       " 'protein binding',\n",
       " 'release of sequestered calcium ion into cytosol by sarcoplasmic reticulum',\n",
       " 'response to cholesterol',\n",
       " 'signaling',\n",
       " 'symbiont entry into host cell',\n",
       " 'virus receptor activity']"
      ]
     },
     "execution_count": 37,
     "metadata": {},
     "output_type": "execute_result"
    }
   ],
   "source": [
    "# GO terms for CCR5\n",
    "# compare to http://useast.ensembl.org/Homo_sapiens/Gene/Ontologies/molecular_function?g=ENSG00000160791\n",
    "sorted(ensg.xref_go_df.query(\"ensembl_gene_id == 'ENSG00000160791'\").go_label)"
   ]
  },
  {
   "cell_type": "markdown",
   "id": "6c310ccf",
   "metadata": {
    "papermill": {
     "duration": 0.010177,
     "end_time": "2025-05-07T18:37:04.679771",
     "exception": false,
     "start_time": "2025-05-07T18:37:04.669594",
     "status": "completed"
    },
    "tags": []
   },
   "source": [
    "## lrg xrefs"
   ]
  },
  {
   "cell_type": "code",
   "execution_count": 38,
   "id": "1ef00963",
   "metadata": {
    "execution": {
     "iopub.execute_input": "2025-05-07T18:37:04.701387Z",
     "iopub.status.busy": "2025-05-07T18:37:04.701127Z",
     "iopub.status.idle": "2025-05-07T18:37:04.718554Z",
     "shell.execute_reply": "2025-05-07T18:37:04.717883Z"
    },
    "papermill": {
     "duration": 0.029826,
     "end_time": "2025-05-07T18:37:04.719888",
     "exception": false,
     "start_time": "2025-05-07T18:37:04.690062",
     "status": "completed"
    },
    "tags": []
   },
   "outputs": [
    {
     "data": {
      "text/html": [
       "<div>\n",
       "<style scoped>\n",
       "    .dataframe tbody tr th:only-of-type {\n",
       "        vertical-align: middle;\n",
       "    }\n",
       "\n",
       "    .dataframe tbody tr th {\n",
       "        vertical-align: top;\n",
       "    }\n",
       "\n",
       "    .dataframe thead th {\n",
       "        text-align: right;\n",
       "    }\n",
       "</style>\n",
       "<table border=\"1\" class=\"dataframe\">\n",
       "  <thead>\n",
       "    <tr style=\"text-align: right;\">\n",
       "      <th></th>\n",
       "      <th>ensembl_gene_id</th>\n",
       "      <th>lrg_gene_id</th>\n",
       "    </tr>\n",
       "  </thead>\n",
       "  <tbody>\n",
       "    <tr>\n",
       "      <th>103</th>\n",
       "      <td>ENSG00000000971</td>\n",
       "      <td>LRG_47</td>\n",
       "    </tr>\n",
       "    <tr>\n",
       "      <th>158</th>\n",
       "      <td>ENSG00000001084</td>\n",
       "      <td>LRG_1166</td>\n",
       "    </tr>\n",
       "  </tbody>\n",
       "</table>\n",
       "</div>"
      ],
      "text/plain": [
       "     ensembl_gene_id lrg_gene_id\n",
       "103  ENSG00000000971      LRG_47\n",
       "158  ENSG00000001084    LRG_1166"
      ]
     },
     "execution_count": 38,
     "metadata": {},
     "output_type": "execute_result"
    }
   ],
   "source": [
    "ensg.xref_lrg_df.head(2)"
   ]
  },
  {
   "cell_type": "code",
   "execution_count": 39,
   "id": "f6d9206a",
   "metadata": {
    "execution": {
     "iopub.execute_input": "2025-05-07T18:37:04.741914Z",
     "iopub.status.busy": "2025-05-07T18:37:04.741714Z",
     "iopub.status.idle": "2025-05-07T18:37:04.756281Z",
     "shell.execute_reply": "2025-05-07T18:37:04.755625Z"
    },
    "papermill": {
     "duration": 0.02725,
     "end_time": "2025-05-07T18:37:04.757638",
     "exception": false,
     "start_time": "2025-05-07T18:37:04.730388",
     "status": "completed"
    },
    "tags": []
   },
   "outputs": [
    {
     "data": {
      "text/plain": [
       "1324"
      ]
     },
     "execution_count": 39,
     "metadata": {},
     "output_type": "execute_result"
    }
   ],
   "source": [
    "len(ensg.xref_lrg_df)"
   ]
  },
  {
   "cell_type": "markdown",
   "id": "09028566",
   "metadata": {
    "papermill": {
     "duration": 0.010413,
     "end_time": "2025-05-07T18:37:04.778514",
     "exception": false,
     "start_time": "2025-05-07T18:37:04.768101",
     "status": "completed"
    },
    "tags": []
   },
   "source": [
    "### ncbigene xrefs"
   ]
  },
  {
   "cell_type": "code",
   "execution_count": 40,
   "id": "3b1551cb",
   "metadata": {
    "execution": {
     "iopub.execute_input": "2025-05-07T18:37:04.800583Z",
     "iopub.status.busy": "2025-05-07T18:37:04.800222Z",
     "iopub.status.idle": "2025-05-07T18:37:04.907816Z",
     "shell.execute_reply": "2025-05-07T18:37:04.907105Z"
    },
    "papermill": {
     "duration": 0.120316,
     "end_time": "2025-05-07T18:37:04.909246",
     "exception": false,
     "start_time": "2025-05-07T18:37:04.788930",
     "status": "completed"
    },
    "tags": []
   },
   "outputs": [
    {
     "data": {
      "text/html": [
       "<div>\n",
       "<style scoped>\n",
       "    .dataframe tbody tr th:only-of-type {\n",
       "        vertical-align: middle;\n",
       "    }\n",
       "\n",
       "    .dataframe tbody tr th {\n",
       "        vertical-align: top;\n",
       "    }\n",
       "\n",
       "    .dataframe thead th {\n",
       "        text-align: right;\n",
       "    }\n",
       "</style>\n",
       "<table border=\"1\" class=\"dataframe\">\n",
       "  <thead>\n",
       "    <tr style=\"text-align: right;\">\n",
       "      <th></th>\n",
       "      <th>ensembl_representative_gene_id</th>\n",
       "      <th>ncbigene_id</th>\n",
       "      <th>gene_symbol</th>\n",
       "      <th>ncbigene_symbol</th>\n",
       "    </tr>\n",
       "  </thead>\n",
       "  <tbody>\n",
       "    <tr>\n",
       "      <th>1</th>\n",
       "      <td>ENSG00000000003</td>\n",
       "      <td>7105</td>\n",
       "      <td>TSPAN6</td>\n",
       "      <td>TSPAN6</td>\n",
       "    </tr>\n",
       "    <tr>\n",
       "      <th>9</th>\n",
       "      <td>ENSG00000000005</td>\n",
       "      <td>64102</td>\n",
       "      <td>TNMD</td>\n",
       "      <td>TNMD</td>\n",
       "    </tr>\n",
       "    <tr>\n",
       "      <th>16</th>\n",
       "      <td>ENSG00000000419</td>\n",
       "      <td>8813</td>\n",
       "      <td>DPM1</td>\n",
       "      <td>DPM1</td>\n",
       "    </tr>\n",
       "    <tr>\n",
       "      <th>45</th>\n",
       "      <td>ENSG00000000457</td>\n",
       "      <td>57147</td>\n",
       "      <td>SCYL3</td>\n",
       "      <td>SCYL3</td>\n",
       "    </tr>\n",
       "    <tr>\n",
       "      <th>53</th>\n",
       "      <td>ENSG00000000460</td>\n",
       "      <td>55732</td>\n",
       "      <td>FIRRM</td>\n",
       "      <td>FIRRM</td>\n",
       "    </tr>\n",
       "  </tbody>\n",
       "</table>\n",
       "</div>"
      ],
      "text/plain": [
       "   ensembl_representative_gene_id ncbigene_id gene_symbol ncbigene_symbol\n",
       "1                 ENSG00000000003        7105      TSPAN6          TSPAN6\n",
       "9                 ENSG00000000005       64102        TNMD            TNMD\n",
       "16                ENSG00000000419        8813        DPM1            DPM1\n",
       "45                ENSG00000000457       57147       SCYL3           SCYL3\n",
       "53                ENSG00000000460       55732       FIRRM           FIRRM"
      ]
     },
     "execution_count": 40,
     "metadata": {},
     "output_type": "execute_result"
    }
   ],
   "source": [
    "ensg.xref_ncbigene_df.head()"
   ]
  },
  {
   "cell_type": "code",
   "execution_count": 41,
   "id": "1016c157",
   "metadata": {
    "execution": {
     "iopub.execute_input": "2025-05-07T18:37:04.932618Z",
     "iopub.status.busy": "2025-05-07T18:37:04.932223Z",
     "iopub.status.idle": "2025-05-07T18:37:04.957263Z",
     "shell.execute_reply": "2025-05-07T18:37:04.956677Z"
    },
    "papermill": {
     "duration": 0.037935,
     "end_time": "2025-05-07T18:37:04.958594",
     "exception": false,
     "start_time": "2025-05-07T18:37:04.920659",
     "status": "completed"
    },
    "tags": []
   },
   "outputs": [
    {
     "data": {
      "text/plain": [
       "ENSG00000000003    1\n",
       "ENSG00000207656    1\n",
       "ENSG00000207653    1\n",
       "Name: ensembl_representative_gene_id, dtype: int64"
      ]
     },
     "execution_count": 41,
     "metadata": {},
     "output_type": "execute_result"
    }
   ],
   "source": [
    "# ensembl gene mapped to by multiple ncbigenes\n",
    "ensg.xref_ncbigene_df.ensembl_representative_gene_id.value_counts().head(3)"
   ]
  },
  {
   "cell_type": "code",
   "execution_count": 42,
   "id": "d5202295",
   "metadata": {
    "execution": {
     "iopub.execute_input": "2025-05-07T18:37:04.981468Z",
     "iopub.status.busy": "2025-05-07T18:37:04.981073Z",
     "iopub.status.idle": "2025-05-07T18:37:04.998865Z",
     "shell.execute_reply": "2025-05-07T18:37:04.998188Z"
    },
    "papermill": {
     "duration": 0.030726,
     "end_time": "2025-05-07T18:37:05.000222",
     "exception": false,
     "start_time": "2025-05-07T18:37:04.969496",
     "status": "completed"
    },
    "tags": []
   },
   "outputs": [
    {
     "data": {
      "text/plain": [
       "(27538, 0)"
      ]
     },
     "execution_count": 42,
     "metadata": {},
     "output_type": "execute_result"
    }
   ],
   "source": [
    "len(ensg.xref_ncbigene_df), ensg.xref_ncbigene_df.ensembl_representative_gene_id.duplicated().sum()"
   ]
  },
  {
   "cell_type": "code",
   "execution_count": 43,
   "id": "ea5f1c38",
   "metadata": {
    "execution": {
     "iopub.execute_input": "2025-05-07T18:37:05.023786Z",
     "iopub.status.busy": "2025-05-07T18:37:05.023387Z",
     "iopub.status.idle": "2025-05-07T18:37:05.050514Z",
     "shell.execute_reply": "2025-05-07T18:37:05.049825Z"
    },
    "papermill": {
     "duration": 0.040138,
     "end_time": "2025-05-07T18:37:05.051931",
     "exception": false,
     "start_time": "2025-05-07T18:37:05.011793",
     "status": "completed"
    },
    "tags": []
   },
   "outputs": [
    {
     "data": {
      "text/plain": [
       "124906683    9\n",
       "147798       7\n",
       "9437         7\n",
       "Name: ncbigene_id, dtype: int64"
      ]
     },
     "execution_count": 43,
     "metadata": {},
     "output_type": "execute_result"
    }
   ],
   "source": [
    "# ncbigene mapped to by multiple ensembl genes, likely due to alt gene alleles\n",
    "ensg.xref_ncbigene_df.ncbigene_id.value_counts().head(3)"
   ]
  },
  {
   "cell_type": "code",
   "execution_count": 44,
   "id": "30f06c07",
   "metadata": {
    "execution": {
     "iopub.execute_input": "2025-05-07T18:37:05.076527Z",
     "iopub.status.busy": "2025-05-07T18:37:05.076004Z",
     "iopub.status.idle": "2025-05-07T18:37:05.098035Z",
     "shell.execute_reply": "2025-05-07T18:37:05.097420Z"
    },
    "papermill": {
     "duration": 0.035546,
     "end_time": "2025-05-07T18:37:05.099389",
     "exception": false,
     "start_time": "2025-05-07T18:37:05.063843",
     "status": "completed"
    },
    "tags": []
   },
   "outputs": [
    {
     "data": {
      "text/plain": [
       "(27538, 91)"
      ]
     },
     "execution_count": 44,
     "metadata": {},
     "output_type": "execute_result"
    }
   ],
   "source": [
    "len(ensg.xref_ncbigene_df), ensg.xref_ncbigene_df.ncbigene_id.duplicated().sum()"
   ]
  },
  {
   "cell_type": "code",
   "execution_count": 45,
   "id": "f23bda6b",
   "metadata": {
    "execution": {
     "iopub.execute_input": "2025-05-07T18:37:05.123387Z",
     "iopub.status.busy": "2025-05-07T18:37:05.122917Z",
     "iopub.status.idle": "2025-05-07T18:37:05.137284Z",
     "shell.execute_reply": "2025-05-07T18:37:05.136758Z"
    },
    "papermill": {
     "duration": 0.027679,
     "end_time": "2025-05-07T18:37:05.138623",
     "exception": false,
     "start_time": "2025-05-07T18:37:05.110944",
     "status": "completed"
    },
    "tags": []
   },
   "outputs": [],
   "source": [
    "# ensg.xref_ncbigene_df.query(\"ensembl_representative_gene_id == 'ENSG00000231500'\")\n",
    "# ensg.xref_ncbigene_df.query(\"ncbigene_id == '51206'\")"
   ]
  },
  {
   "cell_type": "code",
   "execution_count": 46,
   "id": "5b1fbfd9",
   "metadata": {
    "execution": {
     "iopub.execute_input": "2025-05-07T18:37:05.162618Z",
     "iopub.status.busy": "2025-05-07T18:37:05.162297Z",
     "iopub.status.idle": "2025-05-07T18:37:05.190162Z",
     "shell.execute_reply": "2025-05-07T18:37:05.189501Z"
    },
    "papermill": {
     "duration": 0.041473,
     "end_time": "2025-05-07T18:37:05.191594",
     "exception": false,
     "start_time": "2025-05-07T18:37:05.150121",
     "status": "completed"
    },
    "tags": []
   },
   "outputs": [
    {
     "data": {
      "text/plain": [
       "77985"
      ]
     },
     "execution_count": 46,
     "metadata": {},
     "output_type": "execute_result"
    }
   ],
   "source": [
    "repr_ensembl_gene_ids = set(ensg.gene_df.ensembl_representative_gene_id)\n",
    "len(repr_ensembl_gene_ids)"
   ]
  },
  {
   "cell_type": "code",
   "execution_count": 47,
   "id": "2853db26",
   "metadata": {
    "execution": {
     "iopub.execute_input": "2025-05-07T18:37:05.215723Z",
     "iopub.status.busy": "2025-05-07T18:37:05.215495Z",
     "iopub.status.idle": "2025-05-07T18:37:05.259408Z",
     "shell.execute_reply": "2025-05-07T18:37:05.258747Z"
    },
    "papermill": {
     "duration": 0.057467,
     "end_time": "2025-05-07T18:37:05.260898",
     "exception": false,
     "start_time": "2025-05-07T18:37:05.203431",
     "status": "completed"
    },
    "scrolled": true,
    "tags": []
   },
   "outputs": [
    {
     "data": {
      "text/html": [
       "<div>\n",
       "<style scoped>\n",
       "    .dataframe tbody tr th:only-of-type {\n",
       "        vertical-align: middle;\n",
       "    }\n",
       "\n",
       "    .dataframe tbody tr th {\n",
       "        vertical-align: top;\n",
       "    }\n",
       "\n",
       "    .dataframe thead th {\n",
       "        text-align: right;\n",
       "    }\n",
       "</style>\n",
       "<table border=\"1\" class=\"dataframe\">\n",
       "  <thead>\n",
       "    <tr style=\"text-align: right;\">\n",
       "      <th></th>\n",
       "      <th>ensembl_gene_id</th>\n",
       "      <th>ensembl_gene_version</th>\n",
       "      <th>gene_symbol</th>\n",
       "      <th>gene_symbol_source_db</th>\n",
       "      <th>gene_symbol_source_id</th>\n",
       "      <th>gene_biotype</th>\n",
       "      <th>ensembl_source</th>\n",
       "      <th>ensembl_created_date</th>\n",
       "      <th>ensembl_modified_date</th>\n",
       "      <th>coord_system_version</th>\n",
       "      <th>...</th>\n",
       "      <th>seq_region_start</th>\n",
       "      <th>seq_region_end</th>\n",
       "      <th>seq_region_strand</th>\n",
       "      <th>primary_assembly</th>\n",
       "      <th>lrg_gene_id</th>\n",
       "      <th>mhc</th>\n",
       "      <th>gene_description</th>\n",
       "      <th>gene_description_source_db</th>\n",
       "      <th>gene_description_source_id</th>\n",
       "      <th>ensembl_representative_gene_id</th>\n",
       "    </tr>\n",
       "  </thead>\n",
       "  <tbody>\n",
       "    <tr>\n",
       "      <th>16975</th>\n",
       "      <td>ENSG00000196101</td>\n",
       "      <td>10</td>\n",
       "      <td>HLA-DRB3</td>\n",
       "      <td>HGNC</td>\n",
       "      <td>HGNC:4951</td>\n",
       "      <td>protein_coding</td>\n",
       "      <td>ensembl_havana</td>\n",
       "      <td>2008-04-29 11:17:41</td>\n",
       "      <td>2023-04-14 17:13:51</td>\n",
       "      <td>GRCh38</td>\n",
       "      <td>...</td>\n",
       "      <td>3715355</td>\n",
       "      <td>3728422</td>\n",
       "      <td>-1</td>\n",
       "      <td>False</td>\n",
       "      <td>NaN</td>\n",
       "      <td>no</td>\n",
       "      <td>major histocompatibility complex, class II, DR...</td>\n",
       "      <td>HGNC Symbol</td>\n",
       "      <td>HGNC:4951</td>\n",
       "      <td>ENSG00000196101</td>\n",
       "    </tr>\n",
       "    <tr>\n",
       "      <th>23319</th>\n",
       "      <td>ENSG00000215523</td>\n",
       "      <td>7</td>\n",
       "      <td>ENSG00000215523</td>\n",
       "      <td>None</td>\n",
       "      <td>None</td>\n",
       "      <td>lncRNA</td>\n",
       "      <td>havana</td>\n",
       "      <td>2007-09-07 00:01:32</td>\n",
       "      <td>2015-06-01 18:57:05</td>\n",
       "      <td>GRCh38</td>\n",
       "      <td>...</td>\n",
       "      <td>2053740</td>\n",
       "      <td>2085765</td>\n",
       "      <td>-1</td>\n",
       "      <td>False</td>\n",
       "      <td>NaN</td>\n",
       "      <td>no</td>\n",
       "      <td>chromosome 6 open reading frame 214 (putative)</td>\n",
       "      <td>NaN</td>\n",
       "      <td>NaN</td>\n",
       "      <td>ENSG00000215523</td>\n",
       "    </tr>\n",
       "    <tr>\n",
       "      <th>24768</th>\n",
       "      <td>ENSG00000223359</td>\n",
       "      <td>2</td>\n",
       "      <td>ENSG00000223359</td>\n",
       "      <td>None</td>\n",
       "      <td>None</td>\n",
       "      <td>unprocessed_pseudogene</td>\n",
       "      <td>havana</td>\n",
       "      <td>2009-05-19 09:47:17</td>\n",
       "      <td>2010-03-18 16:07:21</td>\n",
       "      <td>GRCh38</td>\n",
       "      <td>...</td>\n",
       "      <td>3789961</td>\n",
       "      <td>3790056</td>\n",
       "      <td>-1</td>\n",
       "      <td>False</td>\n",
       "      <td>NaN</td>\n",
       "      <td>no</td>\n",
       "      <td>major histocompatibility complex, class II, DR...</td>\n",
       "      <td>NaN</td>\n",
       "      <td>NaN</td>\n",
       "      <td>ENSG00000223359</td>\n",
       "    </tr>\n",
       "    <tr>\n",
       "      <th>24907</th>\n",
       "      <td>ENSG00000223557</td>\n",
       "      <td>1</td>\n",
       "      <td>ENSG00000223557</td>\n",
       "      <td>None</td>\n",
       "      <td>None</td>\n",
       "      <td>lncRNA</td>\n",
       "      <td>havana</td>\n",
       "      <td>2009-05-19 09:47:17</td>\n",
       "      <td>2009-05-19 09:47:17</td>\n",
       "      <td>GRCh38</td>\n",
       "      <td>...</td>\n",
       "      <td>3361186</td>\n",
       "      <td>3361479</td>\n",
       "      <td>1</td>\n",
       "      <td>False</td>\n",
       "      <td>NaN</td>\n",
       "      <td>no</td>\n",
       "      <td>novel transcript</td>\n",
       "      <td>NaN</td>\n",
       "      <td>NaN</td>\n",
       "      <td>ENSG00000223557</td>\n",
       "    </tr>\n",
       "    <tr>\n",
       "      <th>25127</th>\n",
       "      <td>ENSG00000223844</td>\n",
       "      <td>1</td>\n",
       "      <td>ENSG00000223844</td>\n",
       "      <td>None</td>\n",
       "      <td>None</td>\n",
       "      <td>processed_pseudogene</td>\n",
       "      <td>havana</td>\n",
       "      <td>2009-05-19 09:47:17</td>\n",
       "      <td>2009-05-19 09:47:17</td>\n",
       "      <td>GRCh38</td>\n",
       "      <td>...</td>\n",
       "      <td>3948261</td>\n",
       "      <td>3949391</td>\n",
       "      <td>1</td>\n",
       "      <td>False</td>\n",
       "      <td>NaN</td>\n",
       "      <td>no</td>\n",
       "      <td>family with sequence similarity 8, member A5 p...</td>\n",
       "      <td>NaN</td>\n",
       "      <td>NaN</td>\n",
       "      <td>ENSG00000223844</td>\n",
       "    </tr>\n",
       "    <tr>\n",
       "      <th>...</th>\n",
       "      <td>...</td>\n",
       "      <td>...</td>\n",
       "      <td>...</td>\n",
       "      <td>...</td>\n",
       "      <td>...</td>\n",
       "      <td>...</td>\n",
       "      <td>...</td>\n",
       "      <td>...</td>\n",
       "      <td>...</td>\n",
       "      <td>...</td>\n",
       "      <td>...</td>\n",
       "      <td>...</td>\n",
       "      <td>...</td>\n",
       "      <td>...</td>\n",
       "      <td>...</td>\n",
       "      <td>...</td>\n",
       "      <td>...</td>\n",
       "      <td>...</td>\n",
       "      <td>...</td>\n",
       "      <td>...</td>\n",
       "      <td>...</td>\n",
       "    </tr>\n",
       "    <tr>\n",
       "      <th>86078</th>\n",
       "      <td>ENSG00000310277</td>\n",
       "      <td>1</td>\n",
       "      <td>ENSG00000310277</td>\n",
       "      <td>None</td>\n",
       "      <td>None</td>\n",
       "      <td>lncRNA</td>\n",
       "      <td>havana_tagene</td>\n",
       "      <td>2024-04-29 16:53:40</td>\n",
       "      <td>2024-04-29 16:53:40</td>\n",
       "      <td>GRCh38</td>\n",
       "      <td>...</td>\n",
       "      <td>67572</td>\n",
       "      <td>97360</td>\n",
       "      <td>-1</td>\n",
       "      <td>False</td>\n",
       "      <td>NaN</td>\n",
       "      <td>no</td>\n",
       "      <td>novel transcript</td>\n",
       "      <td>NaN</td>\n",
       "      <td>NaN</td>\n",
       "      <td>ENSG00000310277</td>\n",
       "    </tr>\n",
       "    <tr>\n",
       "      <th>86148</th>\n",
       "      <td>ENSG00000310347</td>\n",
       "      <td>1</td>\n",
       "      <td>ENSG00000310347</td>\n",
       "      <td>None</td>\n",
       "      <td>None</td>\n",
       "      <td>lncRNA</td>\n",
       "      <td>havana_tagene</td>\n",
       "      <td>2024-04-29 16:53:40</td>\n",
       "      <td>2024-04-29 16:53:40</td>\n",
       "      <td>GRCh38</td>\n",
       "      <td>...</td>\n",
       "      <td>6600</td>\n",
       "      <td>8034</td>\n",
       "      <td>1</td>\n",
       "      <td>False</td>\n",
       "      <td>NaN</td>\n",
       "      <td>no</td>\n",
       "      <td>novel transcript</td>\n",
       "      <td>NaN</td>\n",
       "      <td>NaN</td>\n",
       "      <td>ENSG00000310347</td>\n",
       "    </tr>\n",
       "    <tr>\n",
       "      <th>86177</th>\n",
       "      <td>ENSG00000310376</td>\n",
       "      <td>1</td>\n",
       "      <td>ENSG00000310376</td>\n",
       "      <td>None</td>\n",
       "      <td>None</td>\n",
       "      <td>lncRNA</td>\n",
       "      <td>havana_tagene</td>\n",
       "      <td>2024-04-29 16:53:40</td>\n",
       "      <td>2024-04-29 16:53:40</td>\n",
       "      <td>GRCh38</td>\n",
       "      <td>...</td>\n",
       "      <td>113837</td>\n",
       "      <td>140657</td>\n",
       "      <td>1</td>\n",
       "      <td>False</td>\n",
       "      <td>NaN</td>\n",
       "      <td>no</td>\n",
       "      <td>novel transcript</td>\n",
       "      <td>NaN</td>\n",
       "      <td>NaN</td>\n",
       "      <td>ENSG00000310376</td>\n",
       "    </tr>\n",
       "    <tr>\n",
       "      <th>86193</th>\n",
       "      <td>ENSG00000310392</td>\n",
       "      <td>1</td>\n",
       "      <td>ENSG00000310392</td>\n",
       "      <td>None</td>\n",
       "      <td>None</td>\n",
       "      <td>lncRNA</td>\n",
       "      <td>havana_tagene</td>\n",
       "      <td>2024-04-29 16:53:40</td>\n",
       "      <td>2024-04-29 16:53:40</td>\n",
       "      <td>GRCh38</td>\n",
       "      <td>...</td>\n",
       "      <td>120506</td>\n",
       "      <td>121345</td>\n",
       "      <td>-1</td>\n",
       "      <td>False</td>\n",
       "      <td>NaN</td>\n",
       "      <td>no</td>\n",
       "      <td>novel transcript</td>\n",
       "      <td>NaN</td>\n",
       "      <td>NaN</td>\n",
       "      <td>ENSG00000310392</td>\n",
       "    </tr>\n",
       "    <tr>\n",
       "      <th>86202</th>\n",
       "      <td>ENSG00000310401</td>\n",
       "      <td>1</td>\n",
       "      <td>ENSG00000310401</td>\n",
       "      <td>None</td>\n",
       "      <td>None</td>\n",
       "      <td>lncRNA</td>\n",
       "      <td>havana_tagene</td>\n",
       "      <td>2024-04-29 16:53:40</td>\n",
       "      <td>2024-04-29 16:53:40</td>\n",
       "      <td>GRCh38</td>\n",
       "      <td>...</td>\n",
       "      <td>24947</td>\n",
       "      <td>37269</td>\n",
       "      <td>1</td>\n",
       "      <td>False</td>\n",
       "      <td>NaN</td>\n",
       "      <td>no</td>\n",
       "      <td>novel transcript</td>\n",
       "      <td>NaN</td>\n",
       "      <td>NaN</td>\n",
       "      <td>ENSG00000310401</td>\n",
       "    </tr>\n",
       "  </tbody>\n",
       "</table>\n",
       "<p>934 rows × 23 columns</p>\n",
       "</div>"
      ],
      "text/plain": [
       "       ensembl_gene_id  ensembl_gene_version      gene_symbol  \\\n",
       "16975  ENSG00000196101                    10         HLA-DRB3   \n",
       "23319  ENSG00000215523                     7  ENSG00000215523   \n",
       "24768  ENSG00000223359                     2  ENSG00000223359   \n",
       "24907  ENSG00000223557                     1  ENSG00000223557   \n",
       "25127  ENSG00000223844                     1  ENSG00000223844   \n",
       "...                ...                   ...              ...   \n",
       "86078  ENSG00000310277                     1  ENSG00000310277   \n",
       "86148  ENSG00000310347                     1  ENSG00000310347   \n",
       "86177  ENSG00000310376                     1  ENSG00000310376   \n",
       "86193  ENSG00000310392                     1  ENSG00000310392   \n",
       "86202  ENSG00000310401                     1  ENSG00000310401   \n",
       "\n",
       "      gene_symbol_source_db gene_symbol_source_id            gene_biotype  \\\n",
       "16975                  HGNC             HGNC:4951          protein_coding   \n",
       "23319                  None                  None                  lncRNA   \n",
       "24768                  None                  None  unprocessed_pseudogene   \n",
       "24907                  None                  None                  lncRNA   \n",
       "25127                  None                  None    processed_pseudogene   \n",
       "...                     ...                   ...                     ...   \n",
       "86078                  None                  None                  lncRNA   \n",
       "86148                  None                  None                  lncRNA   \n",
       "86177                  None                  None                  lncRNA   \n",
       "86193                  None                  None                  lncRNA   \n",
       "86202                  None                  None                  lncRNA   \n",
       "\n",
       "       ensembl_source ensembl_created_date ensembl_modified_date  \\\n",
       "16975  ensembl_havana  2008-04-29 11:17:41   2023-04-14 17:13:51   \n",
       "23319          havana  2007-09-07 00:01:32   2015-06-01 18:57:05   \n",
       "24768          havana  2009-05-19 09:47:17   2010-03-18 16:07:21   \n",
       "24907          havana  2009-05-19 09:47:17   2009-05-19 09:47:17   \n",
       "25127          havana  2009-05-19 09:47:17   2009-05-19 09:47:17   \n",
       "...               ...                  ...                   ...   \n",
       "86078   havana_tagene  2024-04-29 16:53:40   2024-04-29 16:53:40   \n",
       "86148   havana_tagene  2024-04-29 16:53:40   2024-04-29 16:53:40   \n",
       "86177   havana_tagene  2024-04-29 16:53:40   2024-04-29 16:53:40   \n",
       "86193   havana_tagene  2024-04-29 16:53:40   2024-04-29 16:53:40   \n",
       "86202   havana_tagene  2024-04-29 16:53:40   2024-04-29 16:53:40   \n",
       "\n",
       "      coord_system_version  ... seq_region_start seq_region_end  \\\n",
       "16975               GRCh38  ...          3715355        3728422   \n",
       "23319               GRCh38  ...          2053740        2085765   \n",
       "24768               GRCh38  ...          3789961        3790056   \n",
       "24907               GRCh38  ...          3361186        3361479   \n",
       "25127               GRCh38  ...          3948261        3949391   \n",
       "...                    ...  ...              ...            ...   \n",
       "86078               GRCh38  ...            67572          97360   \n",
       "86148               GRCh38  ...             6600           8034   \n",
       "86177               GRCh38  ...           113837         140657   \n",
       "86193               GRCh38  ...           120506         121345   \n",
       "86202               GRCh38  ...            24947          37269   \n",
       "\n",
       "      seq_region_strand  primary_assembly  lrg_gene_id  mhc  \\\n",
       "16975                -1             False          NaN   no   \n",
       "23319                -1             False          NaN   no   \n",
       "24768                -1             False          NaN   no   \n",
       "24907                 1             False          NaN   no   \n",
       "25127                 1             False          NaN   no   \n",
       "...                 ...               ...          ...  ...   \n",
       "86078                -1             False          NaN   no   \n",
       "86148                 1             False          NaN   no   \n",
       "86177                 1             False          NaN   no   \n",
       "86193                -1             False          NaN   no   \n",
       "86202                 1             False          NaN   no   \n",
       "\n",
       "                                        gene_description  \\\n",
       "16975  major histocompatibility complex, class II, DR...   \n",
       "23319     chromosome 6 open reading frame 214 (putative)   \n",
       "24768  major histocompatibility complex, class II, DR...   \n",
       "24907                                   novel transcript   \n",
       "25127  family with sequence similarity 8, member A5 p...   \n",
       "...                                                  ...   \n",
       "86078                                   novel transcript   \n",
       "86148                                   novel transcript   \n",
       "86177                                   novel transcript   \n",
       "86193                                   novel transcript   \n",
       "86202                                   novel transcript   \n",
       "\n",
       "      gene_description_source_db gene_description_source_id  \\\n",
       "16975                HGNC Symbol                  HGNC:4951   \n",
       "23319                        NaN                        NaN   \n",
       "24768                        NaN                        NaN   \n",
       "24907                        NaN                        NaN   \n",
       "25127                        NaN                        NaN   \n",
       "...                          ...                        ...   \n",
       "86078                        NaN                        NaN   \n",
       "86148                        NaN                        NaN   \n",
       "86177                        NaN                        NaN   \n",
       "86193                        NaN                        NaN   \n",
       "86202                        NaN                        NaN   \n",
       "\n",
       "      ensembl_representative_gene_id  \n",
       "16975                ENSG00000196101  \n",
       "23319                ENSG00000215523  \n",
       "24768                ENSG00000223359  \n",
       "24907                ENSG00000223557  \n",
       "25127                ENSG00000223844  \n",
       "...                              ...  \n",
       "86078                ENSG00000310277  \n",
       "86148                ENSG00000310347  \n",
       "86177                ENSG00000310376  \n",
       "86193                ENSG00000310392  \n",
       "86202                ENSG00000310401  \n",
       "\n",
       "[934 rows x 23 columns]"
      ]
     },
     "execution_count": 47,
     "metadata": {},
     "output_type": "execute_result"
    }
   ],
   "source": [
    "# many of these genes should probably be alternative alleles rather than representative\n",
    "ensg.gene_df.query(\"not primary_assembly and ensembl_gene_id==ensembl_representative_gene_id\")"
   ]
  }
 ],
 "metadata": {
  "celltoolbar": "Tags",
  "kernelspec": {
   "display_name": "Python 3 (ipykernel)",
   "language": "python",
   "name": "python3"
  },
  "language_info": {
   "codemirror_mode": {
    "name": "ipython",
    "version": 3
   },
   "file_extension": ".py",
   "mimetype": "text/x-python",
   "name": "python",
   "nbconvert_exporter": "python",
   "pygments_lexer": "ipython3",
   "version": "3.10.17"
  },
  "papermill": {
   "default_parameters": {},
   "duration": 587.324066,
   "end_time": "2025-05-07T18:37:05.890278",
   "environment_variables": {},
   "exception": null,
   "input_path": "ensembl_genes/notebooks/ensembl_genes_eda.ipynb",
   "output_path": "output/homo_sapiens_core_114_38/ensembl_genes_eda.ipynb",
   "parameters": {
    "release": "114",
    "species": "human"
   },
   "start_time": "2025-05-07T18:27:18.566212",
   "version": "2.4.0"
  }
 },
 "nbformat": 4,
 "nbformat_minor": 5
}