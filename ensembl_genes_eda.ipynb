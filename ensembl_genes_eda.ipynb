{
 "cells": [
  {
   "cell_type": "markdown",
   "id": "d3561f1c",
   "metadata": {
    "papermill": {
     "duration": 0.006153,
     "end_time": "2025-05-07T18:21:45.519490",
     "exception": false,
     "start_time": "2025-05-07T18:21:45.513337",
     "status": "completed"
    },
    "tags": []
   },
   "source": [
    "# Ensembl genes table extraction EDA\n",
    "\n",
    "This notebook is useful for development as well as exploratory data analysis on the extracted tables.\n",
    "It is currently automically executed and saved as part of exports using `papermill`."
   ]
  },
  {
   "cell_type": "code",
   "execution_count": 1,
   "id": "7e811a76",
   "metadata": {
    "execution": {
     "iopub.execute_input": "2025-05-07T18:21:45.532863Z",
     "iopub.status.busy": "2025-05-07T18:21:45.532374Z",
     "iopub.status.idle": "2025-05-07T18:21:45.550164Z",
     "shell.execute_reply": "2025-05-07T18:21:45.549461Z"
    },
    "papermill": {
     "duration": 0.025993,
     "end_time": "2025-05-07T18:21:45.551526",
     "exception": false,
     "start_time": "2025-05-07T18:21:45.525533",
     "status": "completed"
    },
    "tags": []
   },
   "outputs": [],
   "source": [
    "%load_ext autoreload\n",
    "%autoreload 2"
   ]
  },
  {
   "cell_type": "code",
   "execution_count": 2,
   "id": "bb198130",
   "metadata": {
    "execution": {
     "iopub.execute_input": "2025-05-07T18:21:45.564248Z",
     "iopub.status.busy": "2025-05-07T18:21:45.564051Z",
     "iopub.status.idle": "2025-05-07T18:21:47.487932Z",
     "shell.execute_reply": "2025-05-07T18:21:47.487284Z"
    },
    "papermill": {
     "duration": 1.932021,
     "end_time": "2025-05-07T18:21:47.489525",
     "exception": false,
     "start_time": "2025-05-07T18:21:45.557504",
     "status": "completed"
    },
    "tags": []
   },
   "outputs": [],
   "source": [
    "import pandas as pd\n",
    "from bioregistry import normalize_prefix\n",
    "\n",
    "from ensembl_genes import ensembl_genes"
   ]
  },
  {
   "cell_type": "code",
   "execution_count": 3,
   "id": "c1846692",
   "metadata": {
    "execution": {
     "iopub.execute_input": "2025-05-07T18:21:47.502915Z",
     "iopub.status.busy": "2025-05-07T18:21:47.502594Z",
     "iopub.status.idle": "2025-05-07T18:21:47.516414Z",
     "shell.execute_reply": "2025-05-07T18:21:47.515829Z"
    },
    "papermill": {
     "duration": 0.021833,
     "end_time": "2025-05-07T18:21:47.517749",
     "exception": false,
     "start_time": "2025-05-07T18:21:47.495916",
     "status": "completed"
    },
    "tags": [
     "parameters"
    ]
   },
   "outputs": [],
   "source": [
    "# parameters cell\n",
    "species = \"human\"\n",
    "release = \"111\""
   ]
  },
  {
   "cell_type": "code",
   "execution_count": 4,
   "id": "7073ab0a",
   "metadata": {
    "execution": {
     "iopub.execute_input": "2025-05-07T18:21:47.530432Z",
     "iopub.status.busy": "2025-05-07T18:21:47.530199Z",
     "iopub.status.idle": "2025-05-07T18:21:47.541671Z",
     "shell.execute_reply": "2025-05-07T18:21:47.541160Z"
    },
    "papermill": {
     "duration": 0.019395,
     "end_time": "2025-05-07T18:21:47.543007",
     "exception": false,
     "start_time": "2025-05-07T18:21:47.523612",
     "status": "completed"
    },
    "tags": [
     "injected-parameters"
    ]
   },
   "outputs": [],
   "source": [
    "# Parameters\n",
    "species = \"rat\"\n",
    "release = \"114\"\n"
   ]
  },
  {
   "cell_type": "code",
   "execution_count": 5,
   "id": "41e412ce",
   "metadata": {
    "execution": {
     "iopub.execute_input": "2025-05-07T18:21:47.555576Z",
     "iopub.status.busy": "2025-05-07T18:21:47.555391Z",
     "iopub.status.idle": "2025-05-07T18:21:47.640756Z",
     "shell.execute_reply": "2025-05-07T18:21:47.640201Z"
    },
    "papermill": {
     "duration": 0.093301,
     "end_time": "2025-05-07T18:21:47.642152",
     "exception": false,
     "start_time": "2025-05-07T18:21:47.548851",
     "status": "completed"
    },
    "tags": []
   },
   "outputs": [
    {
     "data": {
      "text/plain": [
       "'mysql+mysqlconnector://anonymous@ensembldb.ensembl.org:3306/rattus_norvegicus_core_114_1'"
      ]
     },
     "execution_count": 5,
     "metadata": {},
     "output_type": "execute_result"
    }
   ],
   "source": [
    "ensg = ensembl_genes.Ensembl_Gene_Queries(release=release, species=species)\n",
    "ensg.connection_url"
   ]
  },
  {
   "cell_type": "code",
   "execution_count": 6,
   "id": "17d199af",
   "metadata": {
    "execution": {
     "iopub.execute_input": "2025-05-07T18:21:47.656067Z",
     "iopub.status.busy": "2025-05-07T18:21:47.655560Z",
     "iopub.status.idle": "2025-05-07T18:21:47.670164Z",
     "shell.execute_reply": "2025-05-07T18:21:47.669483Z"
    },
    "papermill": {
     "duration": 0.02289,
     "end_time": "2025-05-07T18:21:47.671512",
     "exception": false,
     "start_time": "2025-05-07T18:21:47.648622",
     "status": "completed"
    },
    "tags": []
   },
   "outputs": [
    {
     "data": {
      "text/plain": [
       "'rattus_norvegicus_core_114_1'"
      ]
     },
     "execution_count": 6,
     "metadata": {},
     "output_type": "execute_result"
    }
   ],
   "source": [
    "database = ensg.database\n",
    "database"
   ]
  },
  {
   "cell_type": "markdown",
   "id": "9de6c73c",
   "metadata": {
    "papermill": {
     "duration": 0.006253,
     "end_time": "2025-05-07T18:21:47.683875",
     "exception": false,
     "start_time": "2025-05-07T18:21:47.677622",
     "status": "completed"
    },
    "tags": []
   },
   "source": [
    "## Extract data"
   ]
  },
  {
   "cell_type": "markdown",
   "id": "5d20bc06",
   "metadata": {
    "papermill": {
     "duration": 0.006019,
     "end_time": "2025-05-07T18:21:47.696080",
     "exception": false,
     "start_time": "2025-05-07T18:21:47.690061",
     "status": "completed"
    },
    "tags": []
   },
   "source": [
    "## gene attrib counts"
   ]
  },
  {
   "cell_type": "code",
   "execution_count": 7,
   "id": "db2d61f6",
   "metadata": {
    "execution": {
     "iopub.execute_input": "2025-05-07T18:21:47.709203Z",
     "iopub.status.busy": "2025-05-07T18:21:47.708809Z",
     "iopub.status.idle": "2025-05-07T18:21:49.724268Z",
     "shell.execute_reply": "2025-05-07T18:21:49.723615Z"
    },
    "papermill": {
     "duration": 2.023436,
     "end_time": "2025-05-07T18:21:49.725549",
     "exception": false,
     "start_time": "2025-05-07T18:21:47.702113",
     "status": "completed"
    },
    "tags": []
   },
   "outputs": [
    {
     "data": {
      "text/html": [
       "<div>\n",
       "<style scoped>\n",
       "    .dataframe tbody tr th:only-of-type {\n",
       "        vertical-align: middle;\n",
       "    }\n",
       "\n",
       "    .dataframe tbody tr th {\n",
       "        vertical-align: top;\n",
       "    }\n",
       "\n",
       "    .dataframe thead th {\n",
       "        text-align: right;\n",
       "    }\n",
       "</style>\n",
       "<table border=\"1\" class=\"dataframe\">\n",
       "  <thead>\n",
       "    <tr style=\"text-align: right;\">\n",
       "      <th></th>\n",
       "      <th>attrib_type_id</th>\n",
       "      <th>code</th>\n",
       "      <th>name</th>\n",
       "      <th>description</th>\n",
       "      <th>attrib_type_count</th>\n",
       "      <th>attrib_type_examples</th>\n",
       "    </tr>\n",
       "  </thead>\n",
       "  <tbody>\n",
       "    <tr>\n",
       "      <th>0</th>\n",
       "      <td>142</td>\n",
       "      <td>GeneGC</td>\n",
       "      <td>Gene GC</td>\n",
       "      <td>Percentage GC content for this gene</td>\n",
       "      <td>43360</td>\n",
       "      <td>51.01, 48.89, 34.18, 45.40, 49.21, 44.47, 37.8...</td>\n",
       "    </tr>\n",
       "    <tr>\n",
       "      <th>1</th>\n",
       "      <td>559</td>\n",
       "      <td>added_seq_ann_pr_url</td>\n",
       "      <td>Added sequence annotation provider url</td>\n",
       "      <td>Source annotation provider url for the out of ...</td>\n",
       "      <td>0</td>\n",
       "      <td>None</td>\n",
       "    </tr>\n",
       "    <tr>\n",
       "      <th>2</th>\n",
       "      <td>127</td>\n",
       "      <td>cds_end_NF</td>\n",
       "      <td>CDS end not found</td>\n",
       "      <td>None</td>\n",
       "      <td>0</td>\n",
       "      <td>None</td>\n",
       "    </tr>\n",
       "    <tr>\n",
       "      <th>3</th>\n",
       "      <td>32</td>\n",
       "      <td>KnwnPCCount</td>\n",
       "      <td>protein_coding_KNOWN</td>\n",
       "      <td>Number of Known Protein Coding</td>\n",
       "      <td>0</td>\n",
       "      <td>None</td>\n",
       "    </tr>\n",
       "    <tr>\n",
       "      <th>4</th>\n",
       "      <td>90</td>\n",
       "      <td>bacend_well_nam</td>\n",
       "      <td>BACend well name</td>\n",
       "      <td>None</td>\n",
       "      <td>0</td>\n",
       "      <td>None</td>\n",
       "    </tr>\n",
       "    <tr>\n",
       "      <th>5</th>\n",
       "      <td>118</td>\n",
       "      <td>ensembl_name</td>\n",
       "      <td>Ensembl name</td>\n",
       "      <td>Name of equivalent Ensembl chromosome</td>\n",
       "      <td>0</td>\n",
       "      <td>None</td>\n",
       "    </tr>\n",
       "    <tr>\n",
       "      <th>6</th>\n",
       "      <td>565</td>\n",
       "      <td>samples_mutation</td>\n",
       "      <td>Number samples with mutation type</td>\n",
       "      <td>Number of samples with mutation type from the ...</td>\n",
       "      <td>0</td>\n",
       "      <td>None</td>\n",
       "    </tr>\n",
       "    <tr>\n",
       "      <th>7</th>\n",
       "      <td>520</td>\n",
       "      <td>proj_parent_g</td>\n",
       "      <td>projection parent gene</td>\n",
       "      <td>Stable identifier of the parent gene this gene...</td>\n",
       "      <td>0</td>\n",
       "      <td>None</td>\n",
       "    </tr>\n",
       "    <tr>\n",
       "      <th>8</th>\n",
       "      <td>358</td>\n",
       "      <td>PHIbase_mutant</td>\n",
       "      <td>PHI-base mutant</td>\n",
       "      <td>PHI-base phenotype of the mutants</td>\n",
       "      <td>0</td>\n",
       "      <td>None</td>\n",
       "    </tr>\n",
       "    <tr>\n",
       "      <th>9</th>\n",
       "      <td>560</td>\n",
       "      <td>artef_dupl</td>\n",
       "      <td>Artifactual duplication</td>\n",
       "      <td>Annotation on artifactual regions of the genom...</td>\n",
       "      <td>0</td>\n",
       "      <td>None</td>\n",
       "    </tr>\n",
       "    <tr>\n",
       "      <th>10</th>\n",
       "      <td>532</td>\n",
       "      <td>dbnsfp_revel_pred</td>\n",
       "      <td>dbNSFP REVEL prediction</td>\n",
       "      <td>dbNSFP REVEL prediction</td>\n",
       "      <td>0</td>\n",
       "      <td>None</td>\n",
       "    </tr>\n",
       "    <tr>\n",
       "      <th>11</th>\n",
       "      <td>16</td>\n",
       "      <td>non_ref</td>\n",
       "      <td>Non Reference</td>\n",
       "      <td>Non Reference Sequence Region</td>\n",
       "      <td>0</td>\n",
       "      <td>None</td>\n",
       "    </tr>\n",
       "    <tr>\n",
       "      <th>12</th>\n",
       "      <td>55</td>\n",
       "      <td>transcr_class</td>\n",
       "      <td>Transcript class</td>\n",
       "      <td>Transcript class</td>\n",
       "      <td>0</td>\n",
       "      <td>None</td>\n",
       "    </tr>\n",
       "    <tr>\n",
       "      <th>13</th>\n",
       "      <td>512</td>\n",
       "      <td>cmscan_truncated</td>\n",
       "      <td>Truncated</td>\n",
       "      <td>In a cmscan alignment, the end of the gene whi...</td>\n",
       "      <td>0</td>\n",
       "      <td>None</td>\n",
       "    </tr>\n",
       "    <tr>\n",
       "      <th>14</th>\n",
       "      <td>437</td>\n",
       "      <td>lncRNACount</td>\n",
       "      <td>lncRNA_Count</td>\n",
       "      <td>Number of lncRNAs</td>\n",
       "      <td>0</td>\n",
       "      <td>None</td>\n",
       "    </tr>\n",
       "  </tbody>\n",
       "</table>\n",
       "</div>"
      ],
      "text/plain": [
       "    attrib_type_id                  code  \\\n",
       "0              142                GeneGC   \n",
       "1              559  added_seq_ann_pr_url   \n",
       "2              127            cds_end_NF   \n",
       "3               32           KnwnPCCount   \n",
       "4               90       bacend_well_nam   \n",
       "5              118          ensembl_name   \n",
       "6              565      samples_mutation   \n",
       "7              520         proj_parent_g   \n",
       "8              358        PHIbase_mutant   \n",
       "9              560            artef_dupl   \n",
       "10             532     dbnsfp_revel_pred   \n",
       "11              16               non_ref   \n",
       "12              55         transcr_class   \n",
       "13             512      cmscan_truncated   \n",
       "14             437           lncRNACount   \n",
       "\n",
       "                                      name  \\\n",
       "0                                  Gene GC   \n",
       "1   Added sequence annotation provider url   \n",
       "2                        CDS end not found   \n",
       "3                     protein_coding_KNOWN   \n",
       "4                         BACend well name   \n",
       "5                             Ensembl name   \n",
       "6        Number samples with mutation type   \n",
       "7                   projection parent gene   \n",
       "8                          PHI-base mutant   \n",
       "9                  Artifactual duplication   \n",
       "10                 dbNSFP REVEL prediction   \n",
       "11                           Non Reference   \n",
       "12                        Transcript class   \n",
       "13                               Truncated   \n",
       "14                            lncRNA_Count   \n",
       "\n",
       "                                          description  attrib_type_count  \\\n",
       "0                 Percentage GC content for this gene              43360   \n",
       "1   Source annotation provider url for the out of ...                  0   \n",
       "2                                                None                  0   \n",
       "3                      Number of Known Protein Coding                  0   \n",
       "4                                                None                  0   \n",
       "5               Name of equivalent Ensembl chromosome                  0   \n",
       "6   Number of samples with mutation type from the ...                  0   \n",
       "7   Stable identifier of the parent gene this gene...                  0   \n",
       "8                   PHI-base phenotype of the mutants                  0   \n",
       "9   Annotation on artifactual regions of the genom...                  0   \n",
       "10                            dbNSFP REVEL prediction                  0   \n",
       "11                      Non Reference Sequence Region                  0   \n",
       "12                                   Transcript class                  0   \n",
       "13  In a cmscan alignment, the end of the gene whi...                  0   \n",
       "14                                  Number of lncRNAs                  0   \n",
       "\n",
       "                                 attrib_type_examples  \n",
       "0   51.01, 48.89, 34.18, 45.40, 49.21, 44.47, 37.8...  \n",
       "1                                                None  \n",
       "2                                                None  \n",
       "3                                                None  \n",
       "4                                                None  \n",
       "5                                                None  \n",
       "6                                                None  \n",
       "7                                                None  \n",
       "8                                                None  \n",
       "9                                                None  \n",
       "10                                               None  \n",
       "11                                               None  \n",
       "12                                               None  \n",
       "13                                               None  \n",
       "14                                               None  "
      ]
     },
     "execution_count": 7,
     "metadata": {},
     "output_type": "execute_result"
    }
   ],
   "source": [
    "ensg.run_query(\"gene_attrib_counts\").head(15)"
   ]
  },
  {
   "cell_type": "markdown",
   "id": "7ac6d029",
   "metadata": {
    "papermill": {
     "duration": 0.006308,
     "end_time": "2025-05-07T18:21:49.738623",
     "exception": false,
     "start_time": "2025-05-07T18:21:49.732315",
     "status": "completed"
    },
    "tags": []
   },
   "source": [
    "## genes"
   ]
  },
  {
   "cell_type": "code",
   "execution_count": 8,
   "id": "a5c4e973",
   "metadata": {
    "execution": {
     "iopub.execute_input": "2025-05-07T18:21:49.752397Z",
     "iopub.status.busy": "2025-05-07T18:21:49.751918Z",
     "iopub.status.idle": "2025-05-07T18:23:40.422140Z",
     "shell.execute_reply": "2025-05-07T18:23:40.421343Z"
    },
    "papermill": {
     "duration": 110.685168,
     "end_time": "2025-05-07T18:23:40.430021",
     "exception": false,
     "start_time": "2025-05-07T18:21:49.744853",
     "status": "completed"
    },
    "tags": []
   },
   "outputs": [
    {
     "data": {
      "text/html": [
       "<div>\n",
       "<style scoped>\n",
       "    .dataframe tbody tr th:only-of-type {\n",
       "        vertical-align: middle;\n",
       "    }\n",
       "\n",
       "    .dataframe tbody tr th {\n",
       "        vertical-align: top;\n",
       "    }\n",
       "\n",
       "    .dataframe thead th {\n",
       "        text-align: right;\n",
       "    }\n",
       "</style>\n",
       "<table border=\"1\" class=\"dataframe\">\n",
       "  <thead>\n",
       "    <tr style=\"text-align: right;\">\n",
       "      <th></th>\n",
       "      <th>ensembl_gene_id</th>\n",
       "      <th>ensembl_gene_version</th>\n",
       "      <th>gene_symbol</th>\n",
       "      <th>gene_symbol_source_db</th>\n",
       "      <th>gene_symbol_source_id</th>\n",
       "      <th>gene_biotype</th>\n",
       "      <th>ensembl_source</th>\n",
       "      <th>ensembl_created_date</th>\n",
       "      <th>ensembl_modified_date</th>\n",
       "      <th>coord_system_version</th>\n",
       "      <th>...</th>\n",
       "      <th>seq_region_start</th>\n",
       "      <th>seq_region_end</th>\n",
       "      <th>seq_region_strand</th>\n",
       "      <th>primary_assembly</th>\n",
       "      <th>lrg_gene_id</th>\n",
       "      <th>mhc</th>\n",
       "      <th>gene_description</th>\n",
       "      <th>gene_description_source_db</th>\n",
       "      <th>gene_description_source_id</th>\n",
       "      <th>ensembl_representative_gene_id</th>\n",
       "    </tr>\n",
       "  </thead>\n",
       "  <tbody>\n",
       "    <tr>\n",
       "      <th>0</th>\n",
       "      <td>ENSRNOG00000000001</td>\n",
       "      <td>7</td>\n",
       "      <td>Arsj</td>\n",
       "      <td>RGD</td>\n",
       "      <td>1307640</td>\n",
       "      <td>protein_coding</td>\n",
       "      <td>ensembl</td>\n",
       "      <td>2009-07-29 15:36:02</td>\n",
       "      <td>2024-05-09 12:20:34</td>\n",
       "      <td>GRCr8</td>\n",
       "      <td>...</td>\n",
       "      <td>217449147</td>\n",
       "      <td>217529142</td>\n",
       "      <td>1</td>\n",
       "      <td>True</td>\n",
       "      <td>NaN</td>\n",
       "      <td>None</td>\n",
       "      <td>arylsulfatase family, member J</td>\n",
       "      <td>RGD Symbol</td>\n",
       "      <td>1307640</td>\n",
       "      <td>ENSRNOG00000000001</td>\n",
       "    </tr>\n",
       "    <tr>\n",
       "      <th>1</th>\n",
       "      <td>ENSRNOG00000000007</td>\n",
       "      <td>9</td>\n",
       "      <td>Gad1</td>\n",
       "      <td>RGD</td>\n",
       "      <td>2652</td>\n",
       "      <td>protein_coding</td>\n",
       "      <td>ensembl</td>\n",
       "      <td>2009-07-29 15:36:02</td>\n",
       "      <td>2024-05-09 12:20:34</td>\n",
       "      <td>GRCr8</td>\n",
       "      <td>...</td>\n",
       "      <td>75777534</td>\n",
       "      <td>75818759</td>\n",
       "      <td>1</td>\n",
       "      <td>True</td>\n",
       "      <td>NaN</td>\n",
       "      <td>None</td>\n",
       "      <td>glutamate decarboxylase 1</td>\n",
       "      <td>RGD Symbol</td>\n",
       "      <td>2652</td>\n",
       "      <td>ENSRNOG00000000007</td>\n",
       "    </tr>\n",
       "    <tr>\n",
       "      <th>2</th>\n",
       "      <td>ENSRNOG00000000008</td>\n",
       "      <td>9</td>\n",
       "      <td>Alx4</td>\n",
       "      <td>RGD</td>\n",
       "      <td>1310201</td>\n",
       "      <td>protein_coding</td>\n",
       "      <td>ensembl</td>\n",
       "      <td>2009-07-29 15:36:02</td>\n",
       "      <td>2024-05-09 12:20:34</td>\n",
       "      <td>GRCr8</td>\n",
       "      <td>...</td>\n",
       "      <td>100067052</td>\n",
       "      <td>100103624</td>\n",
       "      <td>1</td>\n",
       "      <td>True</td>\n",
       "      <td>NaN</td>\n",
       "      <td>None</td>\n",
       "      <td>ALX homeobox 4</td>\n",
       "      <td>RGD Symbol</td>\n",
       "      <td>1310201</td>\n",
       "      <td>ENSRNOG00000000008</td>\n",
       "    </tr>\n",
       "    <tr>\n",
       "      <th>3</th>\n",
       "      <td>ENSRNOG00000000009</td>\n",
       "      <td>7</td>\n",
       "      <td>Tmco5b</td>\n",
       "      <td>RGD</td>\n",
       "      <td>1561237</td>\n",
       "      <td>protein_coding</td>\n",
       "      <td>ensembl</td>\n",
       "      <td>2009-07-29 15:36:02</td>\n",
       "      <td>2024-05-09 12:20:34</td>\n",
       "      <td>GRCr8</td>\n",
       "      <td>...</td>\n",
       "      <td>120519323</td>\n",
       "      <td>120537501</td>\n",
       "      <td>1</td>\n",
       "      <td>True</td>\n",
       "      <td>NaN</td>\n",
       "      <td>None</td>\n",
       "      <td>transmembrane and coiled-coil domains 5B</td>\n",
       "      <td>RGD Symbol</td>\n",
       "      <td>1561237</td>\n",
       "      <td>ENSRNOG00000000009</td>\n",
       "    </tr>\n",
       "    <tr>\n",
       "      <th>4</th>\n",
       "      <td>ENSRNOG00000000010</td>\n",
       "      <td>7</td>\n",
       "      <td>Cbln1</td>\n",
       "      <td>RGD</td>\n",
       "      <td>1562813</td>\n",
       "      <td>protein_coding</td>\n",
       "      <td>ensembl</td>\n",
       "      <td>2009-07-29 15:36:02</td>\n",
       "      <td>2024-05-09 12:20:34</td>\n",
       "      <td>GRCr8</td>\n",
       "      <td>...</td>\n",
       "      <td>35781952</td>\n",
       "      <td>35785960</td>\n",
       "      <td>1</td>\n",
       "      <td>True</td>\n",
       "      <td>NaN</td>\n",
       "      <td>None</td>\n",
       "      <td>cerebellin 1 precursor</td>\n",
       "      <td>RGD Symbol</td>\n",
       "      <td>1562813</td>\n",
       "      <td>ENSRNOG00000000010</td>\n",
       "    </tr>\n",
       "  </tbody>\n",
       "</table>\n",
       "<p>5 rows × 23 columns</p>\n",
       "</div>"
      ],
      "text/plain": [
       "      ensembl_gene_id  ensembl_gene_version gene_symbol gene_symbol_source_db  \\\n",
       "0  ENSRNOG00000000001                     7        Arsj                   RGD   \n",
       "1  ENSRNOG00000000007                     9        Gad1                   RGD   \n",
       "2  ENSRNOG00000000008                     9        Alx4                   RGD   \n",
       "3  ENSRNOG00000000009                     7      Tmco5b                   RGD   \n",
       "4  ENSRNOG00000000010                     7       Cbln1                   RGD   \n",
       "\n",
       "  gene_symbol_source_id    gene_biotype ensembl_source ensembl_created_date  \\\n",
       "0               1307640  protein_coding        ensembl  2009-07-29 15:36:02   \n",
       "1                  2652  protein_coding        ensembl  2009-07-29 15:36:02   \n",
       "2               1310201  protein_coding        ensembl  2009-07-29 15:36:02   \n",
       "3               1561237  protein_coding        ensembl  2009-07-29 15:36:02   \n",
       "4               1562813  protein_coding        ensembl  2009-07-29 15:36:02   \n",
       "\n",
       "  ensembl_modified_date coord_system_version  ... seq_region_start  \\\n",
       "0   2024-05-09 12:20:34                GRCr8  ...        217449147   \n",
       "1   2024-05-09 12:20:34                GRCr8  ...         75777534   \n",
       "2   2024-05-09 12:20:34                GRCr8  ...        100067052   \n",
       "3   2024-05-09 12:20:34                GRCr8  ...        120519323   \n",
       "4   2024-05-09 12:20:34                GRCr8  ...         35781952   \n",
       "\n",
       "  seq_region_end seq_region_strand  primary_assembly  lrg_gene_id   mhc  \\\n",
       "0      217529142                 1              True          NaN  None   \n",
       "1       75818759                 1              True          NaN  None   \n",
       "2      100103624                 1              True          NaN  None   \n",
       "3      120537501                 1              True          NaN  None   \n",
       "4       35785960                 1              True          NaN  None   \n",
       "\n",
       "                           gene_description gene_description_source_db  \\\n",
       "0            arylsulfatase family, member J                 RGD Symbol   \n",
       "1                 glutamate decarboxylase 1                 RGD Symbol   \n",
       "2                            ALX homeobox 4                 RGD Symbol   \n",
       "3  transmembrane and coiled-coil domains 5B                 RGD Symbol   \n",
       "4                    cerebellin 1 precursor                 RGD Symbol   \n",
       "\n",
       "  gene_description_source_id ensembl_representative_gene_id  \n",
       "0                    1307640             ENSRNOG00000000001  \n",
       "1                       2652             ENSRNOG00000000007  \n",
       "2                    1310201             ENSRNOG00000000008  \n",
       "3                    1561237             ENSRNOG00000000009  \n",
       "4                    1562813             ENSRNOG00000000010  \n",
       "\n",
       "[5 rows x 23 columns]"
      ]
     },
     "execution_count": 8,
     "metadata": {},
     "output_type": "execute_result"
    }
   ],
   "source": [
    "ensg.gene_df.head()"
   ]
  },
  {
   "cell_type": "code",
   "execution_count": 9,
   "id": "e76e19dd",
   "metadata": {
    "execution": {
     "iopub.execute_input": "2025-05-07T18:23:40.444565Z",
     "iopub.status.busy": "2025-05-07T18:23:40.444122Z",
     "iopub.status.idle": "2025-05-07T18:23:40.477416Z",
     "shell.execute_reply": "2025-05-07T18:23:40.476723Z"
    },
    "papermill": {
     "duration": 0.042005,
     "end_time": "2025-05-07T18:23:40.478691",
     "exception": false,
     "start_time": "2025-05-07T18:23:40.436686",
     "status": "completed"
    },
    "tags": []
   },
   "outputs": [
    {
     "data": {
      "text/html": [
       "<div>\n",
       "<style scoped>\n",
       "    .dataframe tbody tr th:only-of-type {\n",
       "        vertical-align: middle;\n",
       "    }\n",
       "\n",
       "    .dataframe tbody tr th {\n",
       "        vertical-align: top;\n",
       "    }\n",
       "\n",
       "    .dataframe thead th {\n",
       "        text-align: right;\n",
       "    }\n",
       "</style>\n",
       "<table border=\"1\" class=\"dataframe\">\n",
       "  <thead>\n",
       "    <tr style=\"text-align: right;\">\n",
       "      <th></th>\n",
       "      <th>ensembl_gene_id</th>\n",
       "      <th>ensembl_gene_version</th>\n",
       "      <th>gene_symbol</th>\n",
       "      <th>gene_symbol_source_db</th>\n",
       "      <th>gene_symbol_source_id</th>\n",
       "      <th>gene_biotype</th>\n",
       "      <th>ensembl_source</th>\n",
       "      <th>ensembl_created_date</th>\n",
       "      <th>ensembl_modified_date</th>\n",
       "      <th>coord_system_version</th>\n",
       "      <th>...</th>\n",
       "      <th>seq_region_start</th>\n",
       "      <th>seq_region_end</th>\n",
       "      <th>seq_region_strand</th>\n",
       "      <th>primary_assembly</th>\n",
       "      <th>lrg_gene_id</th>\n",
       "      <th>mhc</th>\n",
       "      <th>gene_description</th>\n",
       "      <th>gene_description_source_db</th>\n",
       "      <th>gene_description_source_id</th>\n",
       "      <th>ensembl_representative_gene_id</th>\n",
       "    </tr>\n",
       "  </thead>\n",
       "  <tbody>\n",
       "    <tr>\n",
       "      <th>4678</th>\n",
       "      <td>ENSRNOG00000009738</td>\n",
       "      <td>7</td>\n",
       "      <td>ENSRNOG00000009738</td>\n",
       "      <td>None</td>\n",
       "      <td>None</td>\n",
       "      <td>protein_coding</td>\n",
       "      <td>ensembl</td>\n",
       "      <td>2009-07-29 15:36:02</td>\n",
       "      <td>2024-05-09 12:20:34</td>\n",
       "      <td>GRCr8</td>\n",
       "      <td>...</td>\n",
       "      <td>5556327</td>\n",
       "      <td>5599662</td>\n",
       "      <td>1</td>\n",
       "      <td>True</td>\n",
       "      <td>NaN</td>\n",
       "      <td>None</td>\n",
       "      <td>NaN</td>\n",
       "      <td>NaN</td>\n",
       "      <td>NaN</td>\n",
       "      <td>ENSRNOG00000009738</td>\n",
       "    </tr>\n",
       "    <tr>\n",
       "      <th>7069</th>\n",
       "      <td>ENSRNOG00000014455</td>\n",
       "      <td>5</td>\n",
       "      <td>ENSRNOG00000014455</td>\n",
       "      <td>None</td>\n",
       "      <td>None</td>\n",
       "      <td>protein_coding</td>\n",
       "      <td>ensembl</td>\n",
       "      <td>2009-07-29 15:36:02</td>\n",
       "      <td>2024-05-09 12:20:34</td>\n",
       "      <td>GRCr8</td>\n",
       "      <td>...</td>\n",
       "      <td>101889328</td>\n",
       "      <td>101891012</td>\n",
       "      <td>-1</td>\n",
       "      <td>True</td>\n",
       "      <td>NaN</td>\n",
       "      <td>None</td>\n",
       "      <td>NaN</td>\n",
       "      <td>NaN</td>\n",
       "      <td>NaN</td>\n",
       "      <td>ENSRNOG00000014455</td>\n",
       "    </tr>\n",
       "  </tbody>\n",
       "</table>\n",
       "<p>2 rows × 23 columns</p>\n",
       "</div>"
      ],
      "text/plain": [
       "         ensembl_gene_id  ensembl_gene_version         gene_symbol  \\\n",
       "4678  ENSRNOG00000009738                     7  ENSRNOG00000009738   \n",
       "7069  ENSRNOG00000014455                     5  ENSRNOG00000014455   \n",
       "\n",
       "     gene_symbol_source_db gene_symbol_source_id    gene_biotype  \\\n",
       "4678                  None                  None  protein_coding   \n",
       "7069                  None                  None  protein_coding   \n",
       "\n",
       "     ensembl_source ensembl_created_date ensembl_modified_date  \\\n",
       "4678        ensembl  2009-07-29 15:36:02   2024-05-09 12:20:34   \n",
       "7069        ensembl  2009-07-29 15:36:02   2024-05-09 12:20:34   \n",
       "\n",
       "     coord_system_version  ... seq_region_start seq_region_end  \\\n",
       "4678                GRCr8  ...          5556327        5599662   \n",
       "7069                GRCr8  ...        101889328      101891012   \n",
       "\n",
       "     seq_region_strand  primary_assembly  lrg_gene_id   mhc  gene_description  \\\n",
       "4678                 1              True          NaN  None               NaN   \n",
       "7069                -1              True          NaN  None               NaN   \n",
       "\n",
       "     gene_description_source_db gene_description_source_id  \\\n",
       "4678                        NaN                        NaN   \n",
       "7069                        NaN                        NaN   \n",
       "\n",
       "     ensembl_representative_gene_id  \n",
       "4678             ENSRNOG00000009738  \n",
       "7069             ENSRNOG00000014455  \n",
       "\n",
       "[2 rows x 23 columns]"
      ]
     },
     "execution_count": 9,
     "metadata": {},
     "output_type": "execute_result"
    }
   ],
   "source": [
    "# clone-based genes no longer get a symbol and are filled with the stable ID\n",
    "# https://www.ensembl.info/2021/03/15/retirement-of-clone-based-gene-names/\n",
    "ensg.gene_df.query(\"gene_symbol == ensembl_gene_id\").head(2)"
   ]
  },
  {
   "cell_type": "code",
   "execution_count": 10,
   "id": "63d6e814",
   "metadata": {
    "execution": {
     "iopub.execute_input": "2025-05-07T18:23:40.493618Z",
     "iopub.status.busy": "2025-05-07T18:23:40.493238Z",
     "iopub.status.idle": "2025-05-07T18:23:40.559792Z",
     "shell.execute_reply": "2025-05-07T18:23:40.559086Z"
    },
    "papermill": {
     "duration": 0.075484,
     "end_time": "2025-05-07T18:23:40.561130",
     "exception": false,
     "start_time": "2025-05-07T18:23:40.485646",
     "status": "completed"
    },
    "tags": []
   },
   "outputs": [
    {
     "data": {
      "text/html": [
       "<div>\n",
       "<style scoped>\n",
       "    .dataframe tbody tr th:only-of-type {\n",
       "        vertical-align: middle;\n",
       "    }\n",
       "\n",
       "    .dataframe tbody tr th {\n",
       "        vertical-align: top;\n",
       "    }\n",
       "\n",
       "    .dataframe thead th {\n",
       "        text-align: right;\n",
       "    }\n",
       "</style>\n",
       "<table border=\"1\" class=\"dataframe\">\n",
       "  <thead>\n",
       "    <tr style=\"text-align: right;\">\n",
       "      <th>gene_symbol_source_db</th>\n",
       "      <th>EntrezGene</th>\n",
       "      <th>MGI</th>\n",
       "      <th>RFAM</th>\n",
       "      <th>RGD</th>\n",
       "      <th>miRBase</th>\n",
       "      <th>missing (clone-based)</th>\n",
       "      <th>All</th>\n",
       "    </tr>\n",
       "    <tr>\n",
       "      <th>ensembl_source</th>\n",
       "      <th></th>\n",
       "      <th></th>\n",
       "      <th></th>\n",
       "      <th></th>\n",
       "      <th></th>\n",
       "      <th></th>\n",
       "      <th></th>\n",
       "    </tr>\n",
       "  </thead>\n",
       "  <tbody>\n",
       "    <tr>\n",
       "      <th>RefSeq</th>\n",
       "      <td>0</td>\n",
       "      <td>0</td>\n",
       "      <td>0</td>\n",
       "      <td>36</td>\n",
       "      <td>0</td>\n",
       "      <td>1</td>\n",
       "      <td>37</td>\n",
       "    </tr>\n",
       "    <tr>\n",
       "      <th>ensembl</th>\n",
       "      <td>1302</td>\n",
       "      <td>289</td>\n",
       "      <td>1071</td>\n",
       "      <td>22016</td>\n",
       "      <td>1</td>\n",
       "      <td>18644</td>\n",
       "      <td>43323</td>\n",
       "    </tr>\n",
       "    <tr>\n",
       "      <th>All</th>\n",
       "      <td>1302</td>\n",
       "      <td>289</td>\n",
       "      <td>1071</td>\n",
       "      <td>22052</td>\n",
       "      <td>1</td>\n",
       "      <td>18645</td>\n",
       "      <td>43360</td>\n",
       "    </tr>\n",
       "  </tbody>\n",
       "</table>\n",
       "</div>"
      ],
      "text/plain": [
       "gene_symbol_source_db  EntrezGene  MGI  RFAM    RGD  miRBase  \\\n",
       "ensembl_source                                                 \n",
       "RefSeq                          0    0     0     36        0   \n",
       "ensembl                      1302  289  1071  22016        1   \n",
       "All                          1302  289  1071  22052        1   \n",
       "\n",
       "gene_symbol_source_db  missing (clone-based)    All  \n",
       "ensembl_source                                       \n",
       "RefSeq                                     1     37  \n",
       "ensembl                                18644  43323  \n",
       "All                                    18645  43360  "
      ]
     },
     "execution_count": 10,
     "metadata": {},
     "output_type": "execute_result"
    }
   ],
   "source": [
    "# which external database the gene symbol derives from versus the ensembl source\n",
    "pd.crosstab(\n",
    "    ensg.gene_df.ensembl_source,\n",
    "    ensg.gene_df.gene_symbol_source_db.fillna(\"missing (clone-based)\"),\n",
    "    margins=True,\n",
    ")"
   ]
  },
  {
   "cell_type": "code",
   "execution_count": 11,
   "id": "83617040",
   "metadata": {
    "execution": {
     "iopub.execute_input": "2025-05-07T18:23:40.576776Z",
     "iopub.status.busy": "2025-05-07T18:23:40.576404Z",
     "iopub.status.idle": "2025-05-07T18:23:40.595526Z",
     "shell.execute_reply": "2025-05-07T18:23:40.594836Z"
    },
    "papermill": {
     "duration": 0.028136,
     "end_time": "2025-05-07T18:23:40.596824",
     "exception": false,
     "start_time": "2025-05-07T18:23:40.568688",
     "status": "completed"
    },
    "tags": []
   },
   "outputs": [
    {
     "data": {
      "text/plain": [
       "primary_assembly    43360\n",
       "Name: coord_system, dtype: int64"
      ]
     },
     "execution_count": 11,
     "metadata": {},
     "output_type": "execute_result"
    }
   ],
   "source": [
    "ensg.gene_df.coord_system.value_counts().head(10)"
   ]
  },
  {
   "cell_type": "code",
   "execution_count": 12,
   "id": "f7c5c6be",
   "metadata": {
    "execution": {
     "iopub.execute_input": "2025-05-07T18:23:40.611956Z",
     "iopub.status.busy": "2025-05-07T18:23:40.611582Z",
     "iopub.status.idle": "2025-05-07T18:23:40.630161Z",
     "shell.execute_reply": "2025-05-07T18:23:40.629466Z"
    },
    "papermill": {
     "duration": 0.027584,
     "end_time": "2025-05-07T18:23:40.631529",
     "exception": false,
     "start_time": "2025-05-07T18:23:40.603945",
     "status": "completed"
    },
    "tags": []
   },
   "outputs": [
    {
     "data": {
      "text/plain": [
       "protein_coding          22016\n",
       "lncRNA                  16149\n",
       "snoRNA                   1988\n",
       "snRNA                    1561\n",
       "pseudogene                402\n",
       "IG_V_gene                 324\n",
       "rRNA                      279\n",
       "miRNA                     245\n",
       "TR_V_gene                 180\n",
       "processed_pseudogene       45\n",
       "Name: gene_biotype, dtype: int64"
      ]
     },
     "execution_count": 12,
     "metadata": {},
     "output_type": "execute_result"
    }
   ],
   "source": [
    "ensg.gene_df.gene_biotype.value_counts().head(10)"
   ]
  },
  {
   "cell_type": "code",
   "execution_count": 13,
   "id": "cbc5e4a7",
   "metadata": {
    "execution": {
     "iopub.execute_input": "2025-05-07T18:23:40.646829Z",
     "iopub.status.busy": "2025-05-07T18:23:40.646441Z",
     "iopub.status.idle": "2025-05-07T18:23:40.691560Z",
     "shell.execute_reply": "2025-05-07T18:23:40.690869Z"
    },
    "papermill": {
     "duration": 0.054409,
     "end_time": "2025-05-07T18:23:40.693049",
     "exception": false,
     "start_time": "2025-05-07T18:23:40.638640",
     "status": "completed"
    },
    "tags": []
   },
   "outputs": [
    {
     "data": {
      "text/html": [
       "<div>\n",
       "<style scoped>\n",
       "    .dataframe tbody tr th:only-of-type {\n",
       "        vertical-align: middle;\n",
       "    }\n",
       "\n",
       "    .dataframe tbody tr th {\n",
       "        vertical-align: top;\n",
       "    }\n",
       "\n",
       "    .dataframe thead th {\n",
       "        text-align: right;\n",
       "    }\n",
       "</style>\n",
       "<table border=\"1\" class=\"dataframe\">\n",
       "  <thead>\n",
       "    <tr style=\"text-align: right;\">\n",
       "      <th>primary_assembly</th>\n",
       "      <th>False</th>\n",
       "      <th>True</th>\n",
       "      <th>All</th>\n",
       "    </tr>\n",
       "    <tr>\n",
       "      <th>coord_system</th>\n",
       "      <th></th>\n",
       "      <th></th>\n",
       "      <th></th>\n",
       "    </tr>\n",
       "  </thead>\n",
       "  <tbody>\n",
       "    <tr>\n",
       "      <th>primary_assembly</th>\n",
       "      <td>29</td>\n",
       "      <td>43331</td>\n",
       "      <td>43360</td>\n",
       "    </tr>\n",
       "    <tr>\n",
       "      <th>All</th>\n",
       "      <td>29</td>\n",
       "      <td>43331</td>\n",
       "      <td>43360</td>\n",
       "    </tr>\n",
       "  </tbody>\n",
       "</table>\n",
       "</div>"
      ],
      "text/plain": [
       "primary_assembly  False   True    All\n",
       "coord_system                         \n",
       "primary_assembly     29  43331  43360\n",
       "All                  29  43331  43360"
      ]
     },
     "execution_count": 13,
     "metadata": {},
     "output_type": "execute_result"
    }
   ],
   "source": [
    "pd.crosstab(ensg.gene_df.coord_system, ensg.gene_df.primary_assembly, margins=True)"
   ]
  },
  {
   "cell_type": "code",
   "execution_count": 14,
   "id": "768cb4ec",
   "metadata": {
    "execution": {
     "iopub.execute_input": "2025-05-07T18:23:40.709265Z",
     "iopub.status.busy": "2025-05-07T18:23:40.708772Z",
     "iopub.status.idle": "2025-05-07T18:23:40.725148Z",
     "shell.execute_reply": "2025-05-07T18:23:40.724497Z"
    },
    "papermill": {
     "duration": 0.025779,
     "end_time": "2025-05-07T18:23:40.726493",
     "exception": false,
     "start_time": "2025-05-07T18:23:40.700714",
     "status": "completed"
    },
    "tags": []
   },
   "outputs": [
    {
     "data": {
      "text/plain": [
       "Series([], Name: mhc, dtype: int64)"
      ]
     },
     "execution_count": 14,
     "metadata": {},
     "output_type": "execute_result"
    }
   ],
   "source": [
    "ensg.gene_df.mhc.value_counts()"
   ]
  },
  {
   "cell_type": "code",
   "execution_count": 15,
   "id": "135c2c41",
   "metadata": {
    "execution": {
     "iopub.execute_input": "2025-05-07T18:23:40.742466Z",
     "iopub.status.busy": "2025-05-07T18:23:40.742081Z",
     "iopub.status.idle": "2025-05-07T18:23:40.755705Z",
     "shell.execute_reply": "2025-05-07T18:23:40.755050Z"
    },
    "papermill": {
     "duration": 0.023051,
     "end_time": "2025-05-07T18:23:40.757103",
     "exception": false,
     "start_time": "2025-05-07T18:23:40.734052",
     "status": "completed"
    },
    "tags": []
   },
   "outputs": [
    {
     "data": {
      "text/plain": [
       "43360"
      ]
     },
     "execution_count": 15,
     "metadata": {},
     "output_type": "execute_result"
    }
   ],
   "source": [
    "len(ensg.gene_df)"
   ]
  },
  {
   "cell_type": "markdown",
   "id": "573e23d3",
   "metadata": {
    "papermill": {
     "duration": 0.007309,
     "end_time": "2025-05-07T18:23:40.771791",
     "exception": false,
     "start_time": "2025-05-07T18:23:40.764482",
     "status": "completed"
    },
    "tags": []
   },
   "source": [
    "## alternative gene alleles\n",
    "\n",
    "Related:\n",
    "\n",
    "- [OTP: Origin of genes_with_non_reference_ensembl_ids.tsv](https://github.com/opentargets/platform/issues/702)\n",
    "- [biostars: map between different assemblies of one ensembl release](https://www.biostars.org/p/143956/)\n",
    "- using `attrib_type.code = \"non_ref\"` for `primary_assembly` doesn't appear to return any results"
   ]
  },
  {
   "cell_type": "code",
   "execution_count": 16,
   "id": "13aa68fa",
   "metadata": {
    "execution": {
     "iopub.execute_input": "2025-05-07T18:23:40.787509Z",
     "iopub.status.busy": "2025-05-07T18:23:40.787276Z",
     "iopub.status.idle": "2025-05-07T18:23:40.806817Z",
     "shell.execute_reply": "2025-05-07T18:23:40.806256Z"
    },
    "papermill": {
     "duration": 0.029009,
     "end_time": "2025-05-07T18:23:40.808199",
     "exception": false,
     "start_time": "2025-05-07T18:23:40.779190",
     "status": "completed"
    },
    "tags": []
   },
   "outputs": [
    {
     "data": {
      "text/html": [
       "<div>\n",
       "<style scoped>\n",
       "    .dataframe tbody tr th:only-of-type {\n",
       "        vertical-align: middle;\n",
       "    }\n",
       "\n",
       "    .dataframe tbody tr th {\n",
       "        vertical-align: top;\n",
       "    }\n",
       "\n",
       "    .dataframe thead th {\n",
       "        text-align: right;\n",
       "    }\n",
       "</style>\n",
       "<table border=\"1\" class=\"dataframe\">\n",
       "  <thead>\n",
       "    <tr style=\"text-align: right;\">\n",
       "      <th></th>\n",
       "      <th>rs_allele_group</th>\n",
       "      <th>ensembl_gene_id</th>\n",
       "      <th>gene_symbol</th>\n",
       "      <th>ensembl_created_date</th>\n",
       "      <th>seq_region</th>\n",
       "      <th>primary_assembly</th>\n",
       "      <th>alt_allele_group_id</th>\n",
       "      <th>alt_allele_attrib</th>\n",
       "      <th>alt_allele_is_representative</th>\n",
       "      <th>ensembl_representative_gene_id</th>\n",
       "      <th>is_representative_gene</th>\n",
       "    </tr>\n",
       "  </thead>\n",
       "  <tbody>\n",
       "    <tr>\n",
       "      <th>0</th>\n",
       "      <td>1700001K19Rikl</td>\n",
       "      <td>ENSRNOG00000007184</td>\n",
       "      <td>1700001K19Rikl</td>\n",
       "      <td>2009-07-29 15:36:02</td>\n",
       "      <td>6</td>\n",
       "      <td>True</td>\n",
       "      <td>None</td>\n",
       "      <td>None</td>\n",
       "      <td>False</td>\n",
       "      <td>ENSRNOG00000007184</td>\n",
       "      <td>True</td>\n",
       "    </tr>\n",
       "    <tr>\n",
       "      <th>1</th>\n",
       "      <td>1700006A11Rikl</td>\n",
       "      <td>ENSRNOG00000024928</td>\n",
       "      <td>1700006A11Rikl</td>\n",
       "      <td>2009-07-29 15:36:02</td>\n",
       "      <td>2</td>\n",
       "      <td>True</td>\n",
       "      <td>None</td>\n",
       "      <td>None</td>\n",
       "      <td>False</td>\n",
       "      <td>ENSRNOG00000024928</td>\n",
       "      <td>True</td>\n",
       "    </tr>\n",
       "    <tr>\n",
       "      <th>2</th>\n",
       "      <td>1700009N14Rikl</td>\n",
       "      <td>ENSRNOG00000031013</td>\n",
       "      <td>1700009N14Rikl</td>\n",
       "      <td>2005-03-02 00:00:00</td>\n",
       "      <td>5</td>\n",
       "      <td>True</td>\n",
       "      <td>None</td>\n",
       "      <td>None</td>\n",
       "      <td>False</td>\n",
       "      <td>ENSRNOG00000031013</td>\n",
       "      <td>True</td>\n",
       "    </tr>\n",
       "    <tr>\n",
       "      <th>3</th>\n",
       "      <td>1700012A03Rikl</td>\n",
       "      <td>ENSRNOG00000027055</td>\n",
       "      <td>1700012A03Rikl</td>\n",
       "      <td>2009-07-29 15:36:02</td>\n",
       "      <td>4</td>\n",
       "      <td>True</td>\n",
       "      <td>None</td>\n",
       "      <td>None</td>\n",
       "      <td>False</td>\n",
       "      <td>ENSRNOG00000027055</td>\n",
       "      <td>True</td>\n",
       "    </tr>\n",
       "    <tr>\n",
       "      <th>4</th>\n",
       "      <td>1700012B07Rkl</td>\n",
       "      <td>ENSRNOG00000024233</td>\n",
       "      <td>1700012B07Rkl</td>\n",
       "      <td>2009-07-29 15:36:02</td>\n",
       "      <td>10</td>\n",
       "      <td>True</td>\n",
       "      <td>None</td>\n",
       "      <td>None</td>\n",
       "      <td>False</td>\n",
       "      <td>ENSRNOG00000024233</td>\n",
       "      <td>True</td>\n",
       "    </tr>\n",
       "  </tbody>\n",
       "</table>\n",
       "</div>"
      ],
      "text/plain": [
       "  rs_allele_group     ensembl_gene_id     gene_symbol ensembl_created_date  \\\n",
       "0  1700001K19Rikl  ENSRNOG00000007184  1700001K19Rikl  2009-07-29 15:36:02   \n",
       "1  1700006A11Rikl  ENSRNOG00000024928  1700006A11Rikl  2009-07-29 15:36:02   \n",
       "2  1700009N14Rikl  ENSRNOG00000031013  1700009N14Rikl  2005-03-02 00:00:00   \n",
       "3  1700012A03Rikl  ENSRNOG00000027055  1700012A03Rikl  2009-07-29 15:36:02   \n",
       "4   1700012B07Rkl  ENSRNOG00000024233   1700012B07Rkl  2009-07-29 15:36:02   \n",
       "\n",
       "  seq_region  primary_assembly alt_allele_group_id alt_allele_attrib  \\\n",
       "0          6              True                None              None   \n",
       "1          2              True                None              None   \n",
       "2          5              True                None              None   \n",
       "3          4              True                None              None   \n",
       "4         10              True                None              None   \n",
       "\n",
       "   alt_allele_is_representative ensembl_representative_gene_id  \\\n",
       "0                         False             ENSRNOG00000007184   \n",
       "1                         False             ENSRNOG00000024928   \n",
       "2                         False             ENSRNOG00000031013   \n",
       "3                         False             ENSRNOG00000027055   \n",
       "4                         False             ENSRNOG00000024233   \n",
       "\n",
       "   is_representative_gene  \n",
       "0                    True  \n",
       "1                    True  \n",
       "2                    True  \n",
       "3                    True  \n",
       "4                    True  "
      ]
     },
     "execution_count": 16,
     "metadata": {},
     "output_type": "execute_result"
    }
   ],
   "source": [
    "ensg.representative_gene_df.head()"
   ]
  },
  {
   "cell_type": "code",
   "execution_count": 17,
   "id": "a24b6c47",
   "metadata": {
    "execution": {
     "iopub.execute_input": "2025-05-07T18:23:40.825726Z",
     "iopub.status.busy": "2025-05-07T18:23:40.825254Z",
     "iopub.status.idle": "2025-05-07T18:23:42.980283Z",
     "shell.execute_reply": "2025-05-07T18:23:42.979549Z"
    },
    "papermill": {
     "duration": 2.165268,
     "end_time": "2025-05-07T18:23:42.981652",
     "exception": false,
     "start_time": "2025-05-07T18:23:40.816384",
     "status": "completed"
    },
    "tags": []
   },
   "outputs": [
    {
     "data": {
      "text/html": [
       "<div>\n",
       "<style scoped>\n",
       "    .dataframe tbody tr th:only-of-type {\n",
       "        vertical-align: middle;\n",
       "    }\n",
       "\n",
       "    .dataframe tbody tr th {\n",
       "        vertical-align: top;\n",
       "    }\n",
       "\n",
       "    .dataframe thead th {\n",
       "        text-align: right;\n",
       "    }\n",
       "</style>\n",
       "<table border=\"1\" class=\"dataframe\">\n",
       "  <thead>\n",
       "    <tr style=\"text-align: right;\">\n",
       "      <th></th>\n",
       "      <th>gene_id</th>\n",
       "      <th>attrib_type_id</th>\n",
       "      <th>value</th>\n",
       "      <th>attrib_type_id</th>\n",
       "      <th>code</th>\n",
       "      <th>name</th>\n",
       "      <th>description</th>\n",
       "    </tr>\n",
       "  </thead>\n",
       "  <tbody>\n",
       "  </tbody>\n",
       "</table>\n",
       "</div>"
      ],
      "text/plain": [
       "Empty DataFrame\n",
       "Columns: [gene_id, attrib_type_id, value, attrib_type_id, code, name, description]\n",
       "Index: []"
      ]
     },
     "execution_count": 17,
     "metadata": {},
     "output_type": "execute_result"
    }
   ],
   "source": [
    "# looks like non_ref isn't set for human genes\n",
    "query = '''\n",
    "SELECT *\n",
    "FROM gene_attrib\n",
    "LEFT JOIN attrib_type\n",
    "  ON gene_attrib.attrib_type_id = attrib_type.attrib_type_id\n",
    "WHERE attrib_type.code = \"non_ref\"\n",
    "LIMIT 5\n",
    "'''\n",
    "pd.read_sql(sql=query, con=ensg.connection_url)"
   ]
  },
  {
   "cell_type": "code",
   "execution_count": 18,
   "id": "a422e86d",
   "metadata": {
    "execution": {
     "iopub.execute_input": "2025-05-07T18:23:42.998924Z",
     "iopub.status.busy": "2025-05-07T18:23:42.998393Z",
     "iopub.status.idle": "2025-05-07T18:23:43.015551Z",
     "shell.execute_reply": "2025-05-07T18:23:43.014907Z"
    },
    "papermill": {
     "duration": 0.027106,
     "end_time": "2025-05-07T18:23:43.016876",
     "exception": false,
     "start_time": "2025-05-07T18:23:42.989770",
     "status": "completed"
    },
    "tags": []
   },
   "outputs": [
    {
     "data": {
      "text/plain": [
       "Series([], Name: alt_allele_attrib, dtype: int64)"
      ]
     },
     "execution_count": 18,
     "metadata": {},
     "output_type": "execute_result"
    }
   ],
   "source": [
    "ensg.representative_gene_df.alt_allele_attrib.value_counts()"
   ]
  },
  {
   "cell_type": "code",
   "execution_count": 19,
   "id": "e5965c58",
   "metadata": {
    "execution": {
     "iopub.execute_input": "2025-05-07T18:23:43.034128Z",
     "iopub.status.busy": "2025-05-07T18:23:43.033678Z",
     "iopub.status.idle": "2025-05-07T18:23:43.057132Z",
     "shell.execute_reply": "2025-05-07T18:23:43.056469Z"
    },
    "papermill": {
     "duration": 0.033332,
     "end_time": "2025-05-07T18:23:43.058459",
     "exception": false,
     "start_time": "2025-05-07T18:23:43.025127",
     "status": "completed"
    },
    "tags": []
   },
   "outputs": [
    {
     "data": {
      "text/html": [
       "<div>\n",
       "<style scoped>\n",
       "    .dataframe tbody tr th:only-of-type {\n",
       "        vertical-align: middle;\n",
       "    }\n",
       "\n",
       "    .dataframe tbody tr th {\n",
       "        vertical-align: top;\n",
       "    }\n",
       "\n",
       "    .dataframe thead th {\n",
       "        text-align: right;\n",
       "    }\n",
       "</style>\n",
       "<table border=\"1\" class=\"dataframe\">\n",
       "  <thead>\n",
       "    <tr style=\"text-align: right;\">\n",
       "      <th></th>\n",
       "      <th>rs_allele_group</th>\n",
       "      <th>ensembl_gene_id</th>\n",
       "      <th>gene_symbol</th>\n",
       "      <th>ensembl_created_date</th>\n",
       "      <th>seq_region</th>\n",
       "      <th>primary_assembly</th>\n",
       "      <th>alt_allele_group_id</th>\n",
       "      <th>alt_allele_attrib</th>\n",
       "      <th>alt_allele_is_representative</th>\n",
       "      <th>ensembl_representative_gene_id</th>\n",
       "      <th>is_representative_gene</th>\n",
       "    </tr>\n",
       "  </thead>\n",
       "  <tbody>\n",
       "    <tr>\n",
       "      <th>50</th>\n",
       "      <td>5S_rRNA</td>\n",
       "      <td>ENSRNOG00000071469</td>\n",
       "      <td>5S_rRNA</td>\n",
       "      <td>2024-05-09 12:20:34</td>\n",
       "      <td>12</td>\n",
       "      <td>True</td>\n",
       "      <td>None</td>\n",
       "      <td>None</td>\n",
       "      <td>False</td>\n",
       "      <td>ENSRNOG00000071358</td>\n",
       "      <td>False</td>\n",
       "    </tr>\n",
       "    <tr>\n",
       "      <th>51</th>\n",
       "      <td>5S_rRNA</td>\n",
       "      <td>ENSRNOG00000071766</td>\n",
       "      <td>5S_rRNA</td>\n",
       "      <td>2024-05-09 12:20:34</td>\n",
       "      <td>12</td>\n",
       "      <td>True</td>\n",
       "      <td>None</td>\n",
       "      <td>None</td>\n",
       "      <td>False</td>\n",
       "      <td>ENSRNOG00000071358</td>\n",
       "      <td>False</td>\n",
       "    </tr>\n",
       "  </tbody>\n",
       "</table>\n",
       "</div>"
      ],
      "text/plain": [
       "   rs_allele_group     ensembl_gene_id gene_symbol ensembl_created_date  \\\n",
       "50         5S_rRNA  ENSRNOG00000071469     5S_rRNA  2024-05-09 12:20:34   \n",
       "51         5S_rRNA  ENSRNOG00000071766     5S_rRNA  2024-05-09 12:20:34   \n",
       "\n",
       "   seq_region  primary_assembly alt_allele_group_id alt_allele_attrib  \\\n",
       "50         12              True                None              None   \n",
       "51         12              True                None              None   \n",
       "\n",
       "    alt_allele_is_representative ensembl_representative_gene_id  \\\n",
       "50                         False             ENSRNOG00000071358   \n",
       "51                         False             ENSRNOG00000071358   \n",
       "\n",
       "    is_representative_gene  \n",
       "50                   False  \n",
       "51                   False  "
      ]
     },
     "execution_count": 19,
     "metadata": {},
     "output_type": "execute_result"
    }
   ],
   "source": [
    "ensg.representative_gene_df.query(\"ensembl_gene_id != ensembl_representative_gene_id\").head(2)"
   ]
  },
  {
   "cell_type": "markdown",
   "id": "cf57d99f",
   "metadata": {
    "papermill": {
     "duration": 0.007979,
     "end_time": "2025-05-07T18:23:43.074589",
     "exception": false,
     "start_time": "2025-05-07T18:23:43.066610",
     "status": "completed"
    },
    "tags": []
   },
   "source": [
    "# replaced ID converter\n",
    "\n",
    "A single `old_stable_id` can map to multiple `new_stable_id`. For example, `ENSG00000152006`\n",
    "\n",
    "https://uswest.ensembl.org/Homo_sapiens/Tools/IDMapper/Results?tl=AzhM62SpkvdiLC4H-6808613\n",
    "\n",
    "Requested ID | Matched ID(s) | Releases\n",
    "-- | -- | --\n",
    "ENSG00000152006 | ENSG00000196273 | 26: ENSG00000196273.1\n",
    "ENSG00000152006 | ENSG00000197016 | 26: ENSG00000197016.1\n",
    "ENSG00000152006 | ENSG00000196239 | 26: ENSG00000196239.1"
   ]
  },
  {
   "cell_type": "code",
   "execution_count": 20,
   "id": "fec24f1b",
   "metadata": {
    "execution": {
     "iopub.execute_input": "2025-05-07T18:23:43.091285Z",
     "iopub.status.busy": "2025-05-07T18:23:43.091102Z",
     "iopub.status.idle": "2025-05-07T18:23:45.599948Z",
     "shell.execute_reply": "2025-05-07T18:23:45.599259Z"
    },
    "papermill": {
     "duration": 2.518884,
     "end_time": "2025-05-07T18:23:45.601347",
     "exception": false,
     "start_time": "2025-05-07T18:23:43.082463",
     "status": "completed"
    },
    "tags": []
   },
   "outputs": [
    {
     "data": {
      "text/html": [
       "<div>\n",
       "<style scoped>\n",
       "    .dataframe tbody tr th:only-of-type {\n",
       "        vertical-align: middle;\n",
       "    }\n",
       "\n",
       "    .dataframe tbody tr th {\n",
       "        vertical-align: top;\n",
       "    }\n",
       "\n",
       "    .dataframe thead th {\n",
       "        text-align: right;\n",
       "    }\n",
       "</style>\n",
       "<table border=\"1\" class=\"dataframe\">\n",
       "  <thead>\n",
       "    <tr style=\"text-align: right;\">\n",
       "      <th></th>\n",
       "      <th>old_ensembl_gene_id</th>\n",
       "      <th>new_ensembl_gene_id</th>\n",
       "    </tr>\n",
       "  </thead>\n",
       "  <tbody>\n",
       "    <tr>\n",
       "      <th>0</th>\n",
       "      <td>ENSRNOG00000000132</td>\n",
       "      <td>ENSRNOG00000031425</td>\n",
       "    </tr>\n",
       "    <tr>\n",
       "      <th>1</th>\n",
       "      <td>ENSRNOG00000000194</td>\n",
       "      <td>ENSRNOG00000031589</td>\n",
       "    </tr>\n",
       "  </tbody>\n",
       "</table>\n",
       "</div>"
      ],
      "text/plain": [
       "  old_ensembl_gene_id new_ensembl_gene_id\n",
       "0  ENSRNOG00000000132  ENSRNOG00000031425\n",
       "1  ENSRNOG00000000194  ENSRNOG00000031589"
      ]
     },
     "execution_count": 20,
     "metadata": {},
     "output_type": "execute_result"
    }
   ],
   "source": [
    "ensg.old_to_new_df.head(2)"
   ]
  },
  {
   "cell_type": "code",
   "execution_count": 21,
   "id": "a17f6a09",
   "metadata": {
    "execution": {
     "iopub.execute_input": "2025-05-07T18:23:45.619180Z",
     "iopub.status.busy": "2025-05-07T18:23:45.618892Z",
     "iopub.status.idle": "2025-05-07T18:23:45.642923Z",
     "shell.execute_reply": "2025-05-07T18:23:45.642345Z"
    },
    "papermill": {
     "duration": 0.034247,
     "end_time": "2025-05-07T18:23:45.644204",
     "exception": false,
     "start_time": "2025-05-07T18:23:45.609957",
     "status": "completed"
    },
    "tags": []
   },
   "outputs": [
    {
     "data": {
      "text/plain": [
       "ENSRNOG00000034138    202\n",
       "ENSRNOG00000066427    157\n",
       "Name: old_ensembl_gene_id, dtype: int64"
      ]
     },
     "execution_count": 21,
     "metadata": {},
     "output_type": "execute_result"
    }
   ],
   "source": [
    "# some ensembl genes replaced by many new ensembl genes\n",
    "ensg.old_to_new_df.old_ensembl_gene_id.value_counts().head(2)"
   ]
  },
  {
   "cell_type": "code",
   "execution_count": 22,
   "id": "1a0bcd1c",
   "metadata": {
    "execution": {
     "iopub.execute_input": "2025-05-07T18:23:45.661943Z",
     "iopub.status.busy": "2025-05-07T18:23:45.661735Z",
     "iopub.status.idle": "2025-05-07T18:23:45.785249Z",
     "shell.execute_reply": "2025-05-07T18:23:45.784638Z"
    },
    "papermill": {
     "duration": 0.133845,
     "end_time": "2025-05-07T18:23:45.786609",
     "exception": false,
     "start_time": "2025-05-07T18:23:45.652764",
     "status": "completed"
    },
    "tags": []
   },
   "outputs": [
    {
     "data": {
      "text/plain": [
       "{'ENSG00000152006'}"
      ]
     },
     "execution_count": 22,
     "metadata": {},
     "output_type": "execute_result"
    }
   ],
   "source": [
    "# example\n",
    "ensg._update_ensembl_gene(\"ENSG00000152006\")"
   ]
  },
  {
   "cell_type": "code",
   "execution_count": 23,
   "id": "7260a630",
   "metadata": {
    "execution": {
     "iopub.execute_input": "2025-05-07T18:23:45.804960Z",
     "iopub.status.busy": "2025-05-07T18:23:45.804758Z",
     "iopub.status.idle": "2025-05-07T18:23:52.013942Z",
     "shell.execute_reply": "2025-05-07T18:23:52.013233Z"
    },
    "papermill": {
     "duration": 6.219788,
     "end_time": "2025-05-07T18:23:52.015314",
     "exception": false,
     "start_time": "2025-05-07T18:23:45.795526",
     "status": "completed"
    },
    "tags": []
   },
   "outputs": [
    {
     "data": {
      "text/html": [
       "<div>\n",
       "<style scoped>\n",
       "    .dataframe tbody tr th:only-of-type {\n",
       "        vertical-align: middle;\n",
       "    }\n",
       "\n",
       "    .dataframe tbody tr th {\n",
       "        vertical-align: top;\n",
       "    }\n",
       "\n",
       "    .dataframe thead th {\n",
       "        text-align: right;\n",
       "    }\n",
       "</style>\n",
       "<table border=\"1\" class=\"dataframe\">\n",
       "  <thead>\n",
       "    <tr style=\"text-align: right;\">\n",
       "      <th></th>\n",
       "      <th>old_ensembl_gene_id</th>\n",
       "      <th>newest_ensembl_gene_id</th>\n",
       "      <th>is_current</th>\n",
       "    </tr>\n",
       "  </thead>\n",
       "  <tbody>\n",
       "    <tr>\n",
       "      <th>0</th>\n",
       "      <td>ENSRNOG00000000132</td>\n",
       "      <td>ENSRNOG00000031425</td>\n",
       "      <td>True</td>\n",
       "    </tr>\n",
       "    <tr>\n",
       "      <th>1</th>\n",
       "      <td>ENSRNOG00000000194</td>\n",
       "      <td>ENSRNOG00000031589</td>\n",
       "      <td>False</td>\n",
       "    </tr>\n",
       "  </tbody>\n",
       "</table>\n",
       "</div>"
      ],
      "text/plain": [
       "  old_ensembl_gene_id newest_ensembl_gene_id  is_current\n",
       "0  ENSRNOG00000000132     ENSRNOG00000031425        True\n",
       "1  ENSRNOG00000000194     ENSRNOG00000031589       False"
      ]
     },
     "execution_count": 23,
     "metadata": {},
     "output_type": "execute_result"
    }
   ],
   "source": [
    "ensg.old_to_newest_df.head(2)"
   ]
  },
  {
   "cell_type": "code",
   "execution_count": 24,
   "id": "8364763f",
   "metadata": {
    "execution": {
     "iopub.execute_input": "2025-05-07T18:23:52.033515Z",
     "iopub.status.busy": "2025-05-07T18:23:52.033315Z",
     "iopub.status.idle": "2025-05-07T18:23:52.048311Z",
     "shell.execute_reply": "2025-05-07T18:23:52.047639Z"
    },
    "papermill": {
     "duration": 0.025516,
     "end_time": "2025-05-07T18:23:52.049634",
     "exception": false,
     "start_time": "2025-05-07T18:23:52.024118",
     "status": "completed"
    },
    "tags": []
   },
   "outputs": [
    {
     "data": {
      "text/plain": [
       "94320"
      ]
     },
     "execution_count": 24,
     "metadata": {},
     "output_type": "execute_result"
    }
   ],
   "source": [
    "len(ensg.old_to_newest_df)"
   ]
  },
  {
   "cell_type": "code",
   "execution_count": 25,
   "id": "a4b8bdb9",
   "metadata": {
    "execution": {
     "iopub.execute_input": "2025-05-07T18:23:52.068040Z",
     "iopub.status.busy": "2025-05-07T18:23:52.067513Z",
     "iopub.status.idle": "2025-05-07T18:23:52.082609Z",
     "shell.execute_reply": "2025-05-07T18:23:52.082060Z"
    },
    "papermill": {
     "duration": 0.025572,
     "end_time": "2025-05-07T18:23:52.083873",
     "exception": false,
     "start_time": "2025-05-07T18:23:52.058301",
     "status": "completed"
    },
    "tags": []
   },
   "outputs": [
    {
     "data": {
      "text/plain": [
       "True     87285\n",
       "False     7035\n",
       "Name: is_current, dtype: int64"
      ]
     },
     "execution_count": 25,
     "metadata": {},
     "output_type": "execute_result"
    }
   ],
   "source": [
    "ensg.old_to_newest_df.is_current.value_counts()"
   ]
  },
  {
   "cell_type": "markdown",
   "id": "d051fade",
   "metadata": {
    "papermill": {
     "duration": 0.008621,
     "end_time": "2025-05-07T18:23:52.101204",
     "exception": false,
     "start_time": "2025-05-07T18:23:52.092583",
     "status": "completed"
    },
    "tags": []
   },
   "source": [
    "## omni-updater\n",
    "\n",
    "The omni-updater dataset is designed to convert ensembl gene IDs from input data to the current, representative ensembl_gene_ids for this ensembl release. It assumes:\n",
    "\n",
    "- users want to update outdated genes with their replacements\n",
    "- users want a dataset of representative genes only, and want to convert alternative alleles to representative genes\n",
    "\n",
    "An inner join of a dataset with `update_df` on `input_ensembl_gene_id` will do the following:\n",
    "\n",
    "- produce output ensembl_gene_ids that are current and representatives\n",
    "- update outdated genes with their current identifiers. Outdated genes with no current replacement will be removed by the inner join.\n",
    "- update alternative gene alleles with their representatives\n",
    "- genes that are already represenative and current will map to themselves"
   ]
  },
  {
   "cell_type": "code",
   "execution_count": 26,
   "id": "e4222917",
   "metadata": {
    "execution": {
     "iopub.execute_input": "2025-05-07T18:23:52.119436Z",
     "iopub.status.busy": "2025-05-07T18:23:52.119244Z",
     "iopub.status.idle": "2025-05-07T18:23:52.369617Z",
     "shell.execute_reply": "2025-05-07T18:23:52.368920Z"
    },
    "papermill": {
     "duration": 0.261025,
     "end_time": "2025-05-07T18:23:52.370903",
     "exception": false,
     "start_time": "2025-05-07T18:23:52.109878",
     "status": "completed"
    },
    "tags": []
   },
   "outputs": [
    {
     "name": "stderr",
     "output_type": "stream",
     "text": [
      "WARNING:root:Duplicated updates via union of update_alt_df and update_old_df:\n",
      "input_ensembl_gene_id    ensembl_gene_id  input_current  input_representative\n",
      "   ENSRNOG00000031896 ENSRNOG00000031896           True                  True\n",
      "   ENSRNOG00000031896 ENSRNOG00000031896          False                 False\n",
      "   ENSRNOG00000034061 ENSRNOG00000034061           True                  True\n",
      "   ENSRNOG00000034061 ENSRNOG00000034061          False                 False\n"
     ]
    },
    {
     "data": {
      "text/html": [
       "<div>\n",
       "<style scoped>\n",
       "    .dataframe tbody tr th:only-of-type {\n",
       "        vertical-align: middle;\n",
       "    }\n",
       "\n",
       "    .dataframe tbody tr th {\n",
       "        vertical-align: top;\n",
       "    }\n",
       "\n",
       "    .dataframe thead th {\n",
       "        text-align: right;\n",
       "    }\n",
       "</style>\n",
       "<table border=\"1\" class=\"dataframe\">\n",
       "  <thead>\n",
       "    <tr style=\"text-align: right;\">\n",
       "      <th></th>\n",
       "      <th>input_ensembl_gene_id</th>\n",
       "      <th>ensembl_gene_id</th>\n",
       "      <th>input_current</th>\n",
       "      <th>input_representative</th>\n",
       "      <th>input_maps_to_n_genes</th>\n",
       "      <th>n_inputs_map_to_gene</th>\n",
       "    </tr>\n",
       "  </thead>\n",
       "  <tbody>\n",
       "    <tr>\n",
       "      <th>0</th>\n",
       "      <td>ENSRNOG00000000001</td>\n",
       "      <td>ENSRNOG00000000001</td>\n",
       "      <td>True</td>\n",
       "      <td>True</td>\n",
       "      <td>1</td>\n",
       "      <td>1</td>\n",
       "    </tr>\n",
       "    <tr>\n",
       "      <th>1</th>\n",
       "      <td>ENSRNOG00000000007</td>\n",
       "      <td>ENSRNOG00000000007</td>\n",
       "      <td>True</td>\n",
       "      <td>True</td>\n",
       "      <td>1</td>\n",
       "      <td>1</td>\n",
       "    </tr>\n",
       "  </tbody>\n",
       "</table>\n",
       "</div>"
      ],
      "text/plain": [
       "  input_ensembl_gene_id     ensembl_gene_id  input_current  \\\n",
       "0    ENSRNOG00000000001  ENSRNOG00000000001           True   \n",
       "1    ENSRNOG00000000007  ENSRNOG00000000007           True   \n",
       "\n",
       "   input_representative  input_maps_to_n_genes  n_inputs_map_to_gene  \n",
       "0                  True                      1                     1  \n",
       "1                  True                      1                     1  "
      ]
     },
     "execution_count": 26,
     "metadata": {},
     "output_type": "execute_result"
    }
   ],
   "source": [
    "ensg.update_df.head(2)"
   ]
  },
  {
   "cell_type": "code",
   "execution_count": 27,
   "id": "cada6102",
   "metadata": {
    "execution": {
     "iopub.execute_input": "2025-05-07T18:23:52.390484Z",
     "iopub.status.busy": "2025-05-07T18:23:52.390257Z",
     "iopub.status.idle": "2025-05-07T18:23:52.415742Z",
     "shell.execute_reply": "2025-05-07T18:23:52.415059Z"
    },
    "papermill": {
     "duration": 0.036755,
     "end_time": "2025-05-07T18:23:52.417120",
     "exception": false,
     "start_time": "2025-05-07T18:23:52.380365",
     "status": "completed"
    },
    "tags": []
   },
   "outputs": [
    {
     "data": {
      "text/html": [
       "<div>\n",
       "<style scoped>\n",
       "    .dataframe tbody tr th:only-of-type {\n",
       "        vertical-align: middle;\n",
       "    }\n",
       "\n",
       "    .dataframe tbody tr th {\n",
       "        vertical-align: top;\n",
       "    }\n",
       "\n",
       "    .dataframe thead th {\n",
       "        text-align: right;\n",
       "    }\n",
       "</style>\n",
       "<table border=\"1\" class=\"dataframe\">\n",
       "  <thead>\n",
       "    <tr style=\"text-align: right;\">\n",
       "      <th></th>\n",
       "      <th>input_ensembl_gene_id</th>\n",
       "      <th>ensembl_gene_id</th>\n",
       "      <th>input_current</th>\n",
       "      <th>input_representative</th>\n",
       "      <th>input_maps_to_n_genes</th>\n",
       "      <th>n_inputs_map_to_gene</th>\n",
       "    </tr>\n",
       "  </thead>\n",
       "  <tbody>\n",
       "    <tr>\n",
       "      <th>7285</th>\n",
       "      <td>ENSRNOG00000027074</td>\n",
       "      <td>ENSRNOG00000077598</td>\n",
       "      <td>False</td>\n",
       "      <td>True</td>\n",
       "      <td>158</td>\n",
       "      <td>14</td>\n",
       "    </tr>\n",
       "    <tr>\n",
       "      <th>8910</th>\n",
       "      <td>ENSRNOG00000005656</td>\n",
       "      <td>ENSRNOG00000085205</td>\n",
       "      <td>False</td>\n",
       "      <td>True</td>\n",
       "      <td>158</td>\n",
       "      <td>32</td>\n",
       "    </tr>\n",
       "  </tbody>\n",
       "</table>\n",
       "</div>"
      ],
      "text/plain": [
       "     input_ensembl_gene_id     ensembl_gene_id  input_current  \\\n",
       "7285    ENSRNOG00000027074  ENSRNOG00000077598          False   \n",
       "8910    ENSRNOG00000005656  ENSRNOG00000085205          False   \n",
       "\n",
       "      input_representative  input_maps_to_n_genes  n_inputs_map_to_gene  \n",
       "7285                  True                    158                    14  \n",
       "8910                  True                    158                    32  "
      ]
     },
     "execution_count": 27,
     "metadata": {},
     "output_type": "execute_result"
    }
   ],
   "source": [
    "ensg.update_df.sort_values(\"input_maps_to_n_genes\", ascending=False).head(2)"
   ]
  },
  {
   "cell_type": "code",
   "execution_count": 28,
   "id": "ec76625b",
   "metadata": {
    "execution": {
     "iopub.execute_input": "2025-05-07T18:23:52.436840Z",
     "iopub.status.busy": "2025-05-07T18:23:52.436397Z",
     "iopub.status.idle": "2025-05-07T18:23:52.462219Z",
     "shell.execute_reply": "2025-05-07T18:23:52.461548Z"
    },
    "papermill": {
     "duration": 0.036985,
     "end_time": "2025-05-07T18:23:52.463560",
     "exception": false,
     "start_time": "2025-05-07T18:23:52.426575",
     "status": "completed"
    },
    "tags": []
   },
   "outputs": [
    {
     "data": {
      "text/html": [
       "<div>\n",
       "<style scoped>\n",
       "    .dataframe tbody tr th:only-of-type {\n",
       "        vertical-align: middle;\n",
       "    }\n",
       "\n",
       "    .dataframe tbody tr th {\n",
       "        vertical-align: top;\n",
       "    }\n",
       "\n",
       "    .dataframe thead th {\n",
       "        text-align: right;\n",
       "    }\n",
       "</style>\n",
       "<table border=\"1\" class=\"dataframe\">\n",
       "  <thead>\n",
       "    <tr style=\"text-align: right;\">\n",
       "      <th></th>\n",
       "      <th>input_ensembl_gene_id</th>\n",
       "      <th>ensembl_gene_id</th>\n",
       "      <th>input_current</th>\n",
       "      <th>input_representative</th>\n",
       "      <th>input_maps_to_n_genes</th>\n",
       "      <th>n_inputs_map_to_gene</th>\n",
       "    </tr>\n",
       "  </thead>\n",
       "  <tbody>\n",
       "    <tr>\n",
       "      <th>25934</th>\n",
       "      <td>ENSRNOG00000073965</td>\n",
       "      <td>ENSRNOG00000071338</td>\n",
       "      <td>True</td>\n",
       "      <td>False</td>\n",
       "      <td>1</td>\n",
       "      <td>929</td>\n",
       "    </tr>\n",
       "    <tr>\n",
       "      <th>30954</th>\n",
       "      <td>ENSRNOG00000078985</td>\n",
       "      <td>ENSRNOG00000071338</td>\n",
       "      <td>True</td>\n",
       "      <td>False</td>\n",
       "      <td>1</td>\n",
       "      <td>929</td>\n",
       "    </tr>\n",
       "  </tbody>\n",
       "</table>\n",
       "</div>"
      ],
      "text/plain": [
       "      input_ensembl_gene_id     ensembl_gene_id  input_current  \\\n",
       "25934    ENSRNOG00000073965  ENSRNOG00000071338           True   \n",
       "30954    ENSRNOG00000078985  ENSRNOG00000071338           True   \n",
       "\n",
       "       input_representative  input_maps_to_n_genes  n_inputs_map_to_gene  \n",
       "25934                 False                      1                   929  \n",
       "30954                 False                      1                   929  "
      ]
     },
     "execution_count": 28,
     "metadata": {},
     "output_type": "execute_result"
    }
   ],
   "source": [
    "ensg.update_df.sort_values(\"n_inputs_map_to_gene\", ascending=False).head(2)"
   ]
  },
  {
   "cell_type": "code",
   "execution_count": 29,
   "id": "8ca40168",
   "metadata": {
    "execution": {
     "iopub.execute_input": "2025-05-07T18:23:52.483272Z",
     "iopub.status.busy": "2025-05-07T18:23:52.482763Z",
     "iopub.status.idle": "2025-05-07T18:23:52.497991Z",
     "shell.execute_reply": "2025-05-07T18:23:52.497457Z"
    },
    "papermill": {
     "duration": 0.026415,
     "end_time": "2025-05-07T18:23:52.499258",
     "exception": false,
     "start_time": "2025-05-07T18:23:52.472843",
     "status": "completed"
    },
    "tags": []
   },
   "outputs": [
    {
     "data": {
      "text/plain": [
       "0.5244852531997775"
      ]
     },
     "execution_count": 29,
     "metadata": {},
     "output_type": "execute_result"
    }
   ],
   "source": [
    "(ensg.update_df.input_maps_to_n_genes == 1).mean()"
   ]
  },
  {
   "cell_type": "code",
   "execution_count": 30,
   "id": "6014205f",
   "metadata": {
    "execution": {
     "iopub.execute_input": "2025-05-07T18:23:52.518769Z",
     "iopub.status.busy": "2025-05-07T18:23:52.518574Z",
     "iopub.status.idle": "2025-05-07T18:23:52.539047Z",
     "shell.execute_reply": "2025-05-07T18:23:52.538433Z"
    },
    "papermill": {
     "duration": 0.031776,
     "end_time": "2025-05-07T18:23:52.540388",
     "exception": false,
     "start_time": "2025-05-07T18:23:52.508612",
     "status": "completed"
    },
    "tags": []
   },
   "outputs": [
    {
     "data": {
      "text/html": [
       "<div>\n",
       "<style scoped>\n",
       "    .dataframe tbody tr th:only-of-type {\n",
       "        vertical-align: middle;\n",
       "    }\n",
       "\n",
       "    .dataframe tbody tr th {\n",
       "        vertical-align: top;\n",
       "    }\n",
       "\n",
       "    .dataframe thead th {\n",
       "        text-align: right;\n",
       "    }\n",
       "</style>\n",
       "<table border=\"1\" class=\"dataframe\">\n",
       "  <thead>\n",
       "    <tr style=\"text-align: right;\">\n",
       "      <th></th>\n",
       "      <th>input_ensembl_gene_id</th>\n",
       "      <th>ensembl_gene_id</th>\n",
       "      <th>input_current</th>\n",
       "      <th>input_representative</th>\n",
       "      <th>input_maps_to_n_genes</th>\n",
       "      <th>n_inputs_map_to_gene</th>\n",
       "    </tr>\n",
       "  </thead>\n",
       "  <tbody>\n",
       "  </tbody>\n",
       "</table>\n",
       "</div>"
      ],
      "text/plain": [
       "Empty DataFrame\n",
       "Columns: [input_ensembl_gene_id, ensembl_gene_id, input_current, input_representative, input_maps_to_n_genes, n_inputs_map_to_gene]\n",
       "Index: []"
      ]
     },
     "execution_count": 30,
     "metadata": {},
     "output_type": "execute_result"
    }
   ],
   "source": [
    "ensg.update_df.query(\"ensembl_gene_id == 'ENSG00000256263'\")"
   ]
  },
  {
   "cell_type": "code",
   "execution_count": 31,
   "id": "0e0b3e0a",
   "metadata": {
    "execution": {
     "iopub.execute_input": "2025-05-07T18:23:52.560244Z",
     "iopub.status.busy": "2025-05-07T18:23:52.559872Z",
     "iopub.status.idle": "2025-05-07T18:23:52.590640Z",
     "shell.execute_reply": "2025-05-07T18:23:52.590066Z"
    },
    "papermill": {
     "duration": 0.042053,
     "end_time": "2025-05-07T18:23:52.591926",
     "exception": false,
     "start_time": "2025-05-07T18:23:52.549873",
     "status": "completed"
    },
    "tags": []
   },
   "outputs": [
    {
     "name": "stdout",
     "output_type": "stream",
     "text": [
      "The omni-updater contains 86,256 rows for mapping 48,813 input genes to 42,013 current, representative genes.\n"
     ]
    }
   ],
   "source": [
    "print(\n",
    "    f\"The omni-updater contains {len(ensg.update_df):,} rows for mapping \"\n",
    "    f\"{ensg.update_df.input_ensembl_gene_id.nunique():,} input genes to \"\n",
    "    f\"{ensg.update_df.ensembl_gene_id.nunique():,} current, representative genes.\"\n",
    ")"
   ]
  },
  {
   "cell_type": "code",
   "execution_count": 32,
   "id": "99db4567",
   "metadata": {
    "execution": {
     "iopub.execute_input": "2025-05-07T18:23:52.611960Z",
     "iopub.status.busy": "2025-05-07T18:23:52.611758Z",
     "iopub.status.idle": "2025-05-07T18:23:52.631468Z",
     "shell.execute_reply": "2025-05-07T18:23:52.630867Z"
    },
    "papermill": {
     "duration": 0.031097,
     "end_time": "2025-05-07T18:23:52.632826",
     "exception": false,
     "start_time": "2025-05-07T18:23:52.601729",
     "status": "completed"
    },
    "tags": []
   },
   "outputs": [
    {
     "data": {
      "text/html": [
       "<div>\n",
       "<style scoped>\n",
       "    .dataframe tbody tr th:only-of-type {\n",
       "        vertical-align: middle;\n",
       "    }\n",
       "\n",
       "    .dataframe tbody tr th {\n",
       "        vertical-align: top;\n",
       "    }\n",
       "\n",
       "    .dataframe thead th {\n",
       "        text-align: right;\n",
       "    }\n",
       "</style>\n",
       "<table border=\"1\" class=\"dataframe\">\n",
       "  <thead>\n",
       "    <tr style=\"text-align: right;\">\n",
       "      <th></th>\n",
       "      <th>input_ensembl_gene_id</th>\n",
       "      <th>ensembl_gene_id</th>\n",
       "      <th>input_current</th>\n",
       "      <th>input_representative</th>\n",
       "      <th>input_maps_to_n_genes</th>\n",
       "      <th>n_inputs_map_to_gene</th>\n",
       "    </tr>\n",
       "  </thead>\n",
       "  <tbody>\n",
       "  </tbody>\n",
       "</table>\n",
       "</div>"
      ],
      "text/plain": [
       "Empty DataFrame\n",
       "Columns: [input_ensembl_gene_id, ensembl_gene_id, input_current, input_representative, input_maps_to_n_genes, n_inputs_map_to_gene]\n",
       "Index: []"
      ]
     },
     "execution_count": 32,
     "metadata": {},
     "output_type": "execute_result"
    }
   ],
   "source": [
    "# https://useast.ensembl.org/Homo_sapiens/Tools/IDMapper/Results?tl=P45VLMbogubpI0QA-6815464\n",
    "ensg.update_df.query(\"input_ensembl_gene_id == 'ENSG00000201456'\").head(3)"
   ]
  },
  {
   "cell_type": "markdown",
   "id": "490c282e",
   "metadata": {
    "papermill": {
     "duration": 0.009554,
     "end_time": "2025-05-07T18:23:52.652041",
     "exception": false,
     "start_time": "2025-05-07T18:23:52.642487",
     "status": "completed"
    },
    "tags": []
   },
   "source": [
    "## cross-refrences (xrefs)"
   ]
  },
  {
   "cell_type": "code",
   "execution_count": 33,
   "id": "582b6376",
   "metadata": {
    "execution": {
     "iopub.execute_input": "2025-05-07T18:23:52.671965Z",
     "iopub.status.busy": "2025-05-07T18:23:52.671768Z",
     "iopub.status.idle": "2025-05-07T18:26:50.268334Z",
     "shell.execute_reply": "2025-05-07T18:26:50.267590Z"
    },
    "papermill": {
     "duration": 177.618031,
     "end_time": "2025-05-07T18:26:50.279546",
     "exception": false,
     "start_time": "2025-05-07T18:23:52.661515",
     "status": "completed"
    },
    "tags": []
   },
   "outputs": [
    {
     "data": {
      "text/html": [
       "<div>\n",
       "<style scoped>\n",
       "    .dataframe tbody tr th:only-of-type {\n",
       "        vertical-align: middle;\n",
       "    }\n",
       "\n",
       "    .dataframe tbody tr th {\n",
       "        vertical-align: top;\n",
       "    }\n",
       "\n",
       "    .dataframe thead th {\n",
       "        text-align: right;\n",
       "    }\n",
       "</style>\n",
       "<table border=\"1\" class=\"dataframe\">\n",
       "  <thead>\n",
       "    <tr style=\"text-align: right;\">\n",
       "      <th></th>\n",
       "      <th>ensembl_representative_gene_id</th>\n",
       "      <th>ensembl_gene_id</th>\n",
       "      <th>gene_symbol</th>\n",
       "      <th>xref_source</th>\n",
       "      <th>xref_accession</th>\n",
       "      <th>xref_label</th>\n",
       "      <th>xref_description</th>\n",
       "      <th>xref_info_type</th>\n",
       "      <th>xref_linkage_annotation</th>\n",
       "      <th>xref_curie</th>\n",
       "    </tr>\n",
       "  </thead>\n",
       "  <tbody>\n",
       "    <tr>\n",
       "      <th>0</th>\n",
       "      <td>ENSRNOG00000000001</td>\n",
       "      <td>ENSRNOG00000000001</td>\n",
       "      <td>Arsj</td>\n",
       "      <td>ArrayExpress</td>\n",
       "      <td>ENSRNOG00000000001</td>\n",
       "      <td>ENSRNOG00000000001</td>\n",
       "      <td>None</td>\n",
       "      <td>DIRECT</td>\n",
       "      <td>None</td>\n",
       "      <td>arrayexpress:ENSRNOG00000000001</td>\n",
       "    </tr>\n",
       "    <tr>\n",
       "      <th>1</th>\n",
       "      <td>ENSRNOG00000000001</td>\n",
       "      <td>ENSRNOG00000000001</td>\n",
       "      <td>Arsj</td>\n",
       "      <td>EntrezGene</td>\n",
       "      <td>311013</td>\n",
       "      <td>Arsj</td>\n",
       "      <td>arylsulfatase family, member J</td>\n",
       "      <td>DEPENDENT</td>\n",
       "      <td>None</td>\n",
       "      <td>ncbigene:311013</td>\n",
       "    </tr>\n",
       "    <tr>\n",
       "      <th>2</th>\n",
       "      <td>ENSRNOG00000000001</td>\n",
       "      <td>ENSRNOG00000000001</td>\n",
       "      <td>Arsj</td>\n",
       "      <td>HGNC</td>\n",
       "      <td>HGNC:26286</td>\n",
       "      <td>ARSJ</td>\n",
       "      <td>arylsulfatase family member J</td>\n",
       "      <td>NONE</td>\n",
       "      <td>None</td>\n",
       "      <td>hgnc:26286</td>\n",
       "    </tr>\n",
       "    <tr>\n",
       "      <th>12</th>\n",
       "      <td>ENSRNOG00000000001</td>\n",
       "      <td>ENSRNOG00000000001</td>\n",
       "      <td>Arsj</td>\n",
       "      <td>RGD</td>\n",
       "      <td>1307640</td>\n",
       "      <td>Arsj</td>\n",
       "      <td>arylsulfatase family, member J</td>\n",
       "      <td>DIRECT</td>\n",
       "      <td>None</td>\n",
       "      <td>rgd:1307640</td>\n",
       "    </tr>\n",
       "    <tr>\n",
       "      <th>13</th>\n",
       "      <td>ENSRNOG00000000001</td>\n",
       "      <td>ENSRNOG00000000001</td>\n",
       "      <td>Arsj</td>\n",
       "      <td>RGD</td>\n",
       "      <td>15003202</td>\n",
       "      <td>AABR07013255.1</td>\n",
       "      <td>None</td>\n",
       "      <td>DIRECT</td>\n",
       "      <td>None</td>\n",
       "      <td>rgd:15003202</td>\n",
       "    </tr>\n",
       "  </tbody>\n",
       "</table>\n",
       "</div>"
      ],
      "text/plain": [
       "   ensembl_representative_gene_id     ensembl_gene_id gene_symbol  \\\n",
       "0              ENSRNOG00000000001  ENSRNOG00000000001        Arsj   \n",
       "1              ENSRNOG00000000001  ENSRNOG00000000001        Arsj   \n",
       "2              ENSRNOG00000000001  ENSRNOG00000000001        Arsj   \n",
       "12             ENSRNOG00000000001  ENSRNOG00000000001        Arsj   \n",
       "13             ENSRNOG00000000001  ENSRNOG00000000001        Arsj   \n",
       "\n",
       "     xref_source      xref_accession          xref_label  \\\n",
       "0   ArrayExpress  ENSRNOG00000000001  ENSRNOG00000000001   \n",
       "1     EntrezGene              311013                Arsj   \n",
       "2           HGNC          HGNC:26286                ARSJ   \n",
       "12           RGD             1307640                Arsj   \n",
       "13           RGD            15003202      AABR07013255.1   \n",
       "\n",
       "                  xref_description xref_info_type xref_linkage_annotation  \\\n",
       "0                             None         DIRECT                    None   \n",
       "1   arylsulfatase family, member J      DEPENDENT                    None   \n",
       "2    arylsulfatase family member J           NONE                    None   \n",
       "12  arylsulfatase family, member J         DIRECT                    None   \n",
       "13                            None         DIRECT                    None   \n",
       "\n",
       "                         xref_curie  \n",
       "0   arrayexpress:ENSRNOG00000000001  \n",
       "1                   ncbigene:311013  \n",
       "2                        hgnc:26286  \n",
       "12                      rgd:1307640  \n",
       "13                     rgd:15003202  "
      ]
     },
     "execution_count": 33,
     "metadata": {},
     "output_type": "execute_result"
    }
   ],
   "source": [
    "ensg.xref_df.head()"
   ]
  },
  {
   "cell_type": "code",
   "execution_count": 34,
   "id": "4622ee84",
   "metadata": {
    "execution": {
     "iopub.execute_input": "2025-05-07T18:26:50.300597Z",
     "iopub.status.busy": "2025-05-07T18:26:50.300219Z",
     "iopub.status.idle": "2025-05-07T18:26:50.462268Z",
     "shell.execute_reply": "2025-05-07T18:26:50.461509Z"
    },
    "papermill": {
     "duration": 0.174309,
     "end_time": "2025-05-07T18:26:50.463679",
     "exception": false,
     "start_time": "2025-05-07T18:26:50.289370",
     "status": "completed"
    },
    "tags": []
   },
   "outputs": [
    {
     "data": {
      "text/plain": [
       "MGI    134\n",
       "Name: xref_source, dtype: int64"
      ]
     },
     "execution_count": 34,
     "metadata": {},
     "output_type": "execute_result"
    }
   ],
   "source": [
    "# datasets where there are ensembl_gene_id-xref_source-xref_accession pairs might not be distinct\n",
    "xref_dup_df = ensg.xref_df[ensg.xref_df.duplicated(subset=[\"ensembl_gene_id\", \"xref_source\", \"xref_accession\"], keep=False)]\n",
    "xref_dup_df.xref_source.value_counts()"
   ]
  },
  {
   "cell_type": "code",
   "execution_count": 35,
   "id": "3fdcc419",
   "metadata": {
    "execution": {
     "iopub.execute_input": "2025-05-07T18:26:50.485353Z",
     "iopub.status.busy": "2025-05-07T18:26:50.484801Z",
     "iopub.status.idle": "2025-05-07T18:26:50.777920Z",
     "shell.execute_reply": "2025-05-07T18:26:50.777218Z"
    },
    "papermill": {
     "duration": 0.305249,
     "end_time": "2025-05-07T18:26:50.779309",
     "exception": false,
     "start_time": "2025-05-07T18:26:50.474060",
     "status": "completed"
    },
    "tags": []
   },
   "outputs": [
    {
     "data": {
      "text/html": [
       "<div>\n",
       "<style scoped>\n",
       "    .dataframe tbody tr th:only-of-type {\n",
       "        vertical-align: middle;\n",
       "    }\n",
       "\n",
       "    .dataframe tbody tr th {\n",
       "        vertical-align: top;\n",
       "    }\n",
       "\n",
       "    .dataframe thead th {\n",
       "        text-align: right;\n",
       "    }\n",
       "</style>\n",
       "<table border=\"1\" class=\"dataframe\">\n",
       "  <thead>\n",
       "    <tr style=\"text-align: right;\">\n",
       "      <th>xref_info_type</th>\n",
       "      <th>DEPENDENT</th>\n",
       "      <th>DIRECT</th>\n",
       "      <th>MISC</th>\n",
       "      <th>NONE</th>\n",
       "      <th>PROJECTION</th>\n",
       "      <th>All</th>\n",
       "      <th>bioregistry_prefix</th>\n",
       "    </tr>\n",
       "    <tr>\n",
       "      <th>xref_source</th>\n",
       "      <th></th>\n",
       "      <th></th>\n",
       "      <th></th>\n",
       "      <th></th>\n",
       "      <th></th>\n",
       "      <th></th>\n",
       "      <th></th>\n",
       "    </tr>\n",
       "  </thead>\n",
       "  <tbody>\n",
       "    <tr>\n",
       "      <th>ArrayExpress</th>\n",
       "      <td>0</td>\n",
       "      <td>43360</td>\n",
       "      <td>0</td>\n",
       "      <td>0</td>\n",
       "      <td>0</td>\n",
       "      <td>43360</td>\n",
       "      <td>arrayexpress</td>\n",
       "    </tr>\n",
       "    <tr>\n",
       "      <th>EntrezGene</th>\n",
       "      <td>38097</td>\n",
       "      <td>0</td>\n",
       "      <td>0</td>\n",
       "      <td>0</td>\n",
       "      <td>0</td>\n",
       "      <td>38097</td>\n",
       "      <td>ncbigene</td>\n",
       "    </tr>\n",
       "    <tr>\n",
       "      <th>FlyBaseName_gene</th>\n",
       "      <td>0</td>\n",
       "      <td>0</td>\n",
       "      <td>0</td>\n",
       "      <td>1</td>\n",
       "      <td>0</td>\n",
       "      <td>1</td>\n",
       "      <td>None</td>\n",
       "    </tr>\n",
       "    <tr>\n",
       "      <th>HGNC</th>\n",
       "      <td>0</td>\n",
       "      <td>0</td>\n",
       "      <td>0</td>\n",
       "      <td>15210</td>\n",
       "      <td>0</td>\n",
       "      <td>15210</td>\n",
       "      <td>hgnc</td>\n",
       "    </tr>\n",
       "    <tr>\n",
       "      <th>MGI</th>\n",
       "      <td>0</td>\n",
       "      <td>0</td>\n",
       "      <td>0</td>\n",
       "      <td>2812</td>\n",
       "      <td>289</td>\n",
       "      <td>3101</td>\n",
       "      <td>mgi</td>\n",
       "    </tr>\n",
       "    <tr>\n",
       "      <th>RFAM</th>\n",
       "      <td>0</td>\n",
       "      <td>2379</td>\n",
       "      <td>0</td>\n",
       "      <td>0</td>\n",
       "      <td>0</td>\n",
       "      <td>2379</td>\n",
       "      <td>rfam</td>\n",
       "    </tr>\n",
       "    <tr>\n",
       "      <th>RGD</th>\n",
       "      <td>0</td>\n",
       "      <td>23685</td>\n",
       "      <td>0</td>\n",
       "      <td>0</td>\n",
       "      <td>0</td>\n",
       "      <td>23685</td>\n",
       "      <td>rgd</td>\n",
       "    </tr>\n",
       "    <tr>\n",
       "      <th>Reactome_gene</th>\n",
       "      <td>0</td>\n",
       "      <td>80038</td>\n",
       "      <td>0</td>\n",
       "      <td>0</td>\n",
       "      <td>0</td>\n",
       "      <td>80038</td>\n",
       "      <td>reactome</td>\n",
       "    </tr>\n",
       "    <tr>\n",
       "      <th>SGD_GENE</th>\n",
       "      <td>0</td>\n",
       "      <td>0</td>\n",
       "      <td>0</td>\n",
       "      <td>1</td>\n",
       "      <td>0</td>\n",
       "      <td>1</td>\n",
       "      <td>None</td>\n",
       "    </tr>\n",
       "    <tr>\n",
       "      <th>Uniprot_gn</th>\n",
       "      <td>36758</td>\n",
       "      <td>0</td>\n",
       "      <td>0</td>\n",
       "      <td>0</td>\n",
       "      <td>0</td>\n",
       "      <td>36758</td>\n",
       "      <td>uniprot</td>\n",
       "    </tr>\n",
       "    <tr>\n",
       "      <th>WikiGene</th>\n",
       "      <td>38097</td>\n",
       "      <td>0</td>\n",
       "      <td>0</td>\n",
       "      <td>0</td>\n",
       "      <td>0</td>\n",
       "      <td>38097</td>\n",
       "      <td>wikigenes</td>\n",
       "    </tr>\n",
       "    <tr>\n",
       "      <th>ZFIN_ID</th>\n",
       "      <td>0</td>\n",
       "      <td>0</td>\n",
       "      <td>0</td>\n",
       "      <td>761</td>\n",
       "      <td>0</td>\n",
       "      <td>761</td>\n",
       "      <td>None</td>\n",
       "    </tr>\n",
       "    <tr>\n",
       "      <th>miRBase</th>\n",
       "      <td>0</td>\n",
       "      <td>0</td>\n",
       "      <td>222</td>\n",
       "      <td>0</td>\n",
       "      <td>0</td>\n",
       "      <td>222</td>\n",
       "      <td>mirbase</td>\n",
       "    </tr>\n",
       "    <tr>\n",
       "      <th>All</th>\n",
       "      <td>112952</td>\n",
       "      <td>149462</td>\n",
       "      <td>222</td>\n",
       "      <td>18785</td>\n",
       "      <td>289</td>\n",
       "      <td>281710</td>\n",
       "      <td>None</td>\n",
       "    </tr>\n",
       "  </tbody>\n",
       "</table>\n",
       "</div>"
      ],
      "text/plain": [
       "xref_info_type    DEPENDENT  DIRECT  MISC   NONE  PROJECTION     All  \\\n",
       "xref_source                                                            \n",
       "ArrayExpress              0   43360     0      0           0   43360   \n",
       "EntrezGene            38097       0     0      0           0   38097   \n",
       "FlyBaseName_gene          0       0     0      1           0       1   \n",
       "HGNC                      0       0     0  15210           0   15210   \n",
       "MGI                       0       0     0   2812         289    3101   \n",
       "RFAM                      0    2379     0      0           0    2379   \n",
       "RGD                       0   23685     0      0           0   23685   \n",
       "Reactome_gene             0   80038     0      0           0   80038   \n",
       "SGD_GENE                  0       0     0      1           0       1   \n",
       "Uniprot_gn            36758       0     0      0           0   36758   \n",
       "WikiGene              38097       0     0      0           0   38097   \n",
       "ZFIN_ID                   0       0     0    761           0     761   \n",
       "miRBase                   0       0   222      0           0     222   \n",
       "All                  112952  149462   222  18785         289  281710   \n",
       "\n",
       "xref_info_type   bioregistry_prefix  \n",
       "xref_source                          \n",
       "ArrayExpress           arrayexpress  \n",
       "EntrezGene                 ncbigene  \n",
       "FlyBaseName_gene               None  \n",
       "HGNC                           hgnc  \n",
       "MGI                             mgi  \n",
       "RFAM                           rfam  \n",
       "RGD                             rgd  \n",
       "Reactome_gene              reactome  \n",
       "SGD_GENE                       None  \n",
       "Uniprot_gn                  uniprot  \n",
       "WikiGene                  wikigenes  \n",
       "ZFIN_ID                        None  \n",
       "miRBase                     mirbase  \n",
       "All                            None  "
      ]
     },
     "execution_count": 35,
     "metadata": {},
     "output_type": "execute_result"
    }
   ],
   "source": [
    "# xref sources versus info_types\n",
    "df = pd.crosstab(ensg.xref_df.xref_source, ensg.xref_df.xref_info_type, margins=True)\n",
    "df[\"bioregistry_prefix\"] = df.index.to_series().replace(ensg._xref_prefix_updater).map(normalize_prefix)\n",
    "df"
   ]
  },
  {
   "cell_type": "markdown",
   "id": "65d28f9d",
   "metadata": {
    "papermill": {
     "duration": 0.010236,
     "end_time": "2025-05-07T18:26:50.800552",
     "exception": false,
     "start_time": "2025-05-07T18:26:50.790316",
     "status": "completed"
    },
    "tags": []
   },
   "source": [
    "## Gene Ontology xrefs"
   ]
  },
  {
   "cell_type": "code",
   "execution_count": 36,
   "id": "5d891366",
   "metadata": {
    "execution": {
     "iopub.execute_input": "2025-05-07T18:26:50.821822Z",
     "iopub.status.busy": "2025-05-07T18:26:50.821557Z",
     "iopub.status.idle": "2025-05-07T18:27:05.294362Z",
     "shell.execute_reply": "2025-05-07T18:27:05.293578Z"
    },
    "papermill": {
     "duration": 14.485102,
     "end_time": "2025-05-07T18:27:05.295706",
     "exception": false,
     "start_time": "2025-05-07T18:26:50.810604",
     "status": "completed"
    },
    "tags": []
   },
   "outputs": [
    {
     "data": {
      "text/html": [
       "<div>\n",
       "<style scoped>\n",
       "    .dataframe tbody tr th:only-of-type {\n",
       "        vertical-align: middle;\n",
       "    }\n",
       "\n",
       "    .dataframe tbody tr th {\n",
       "        vertical-align: top;\n",
       "    }\n",
       "\n",
       "    .dataframe thead th {\n",
       "        text-align: right;\n",
       "    }\n",
       "</style>\n",
       "<table border=\"1\" class=\"dataframe\">\n",
       "  <thead>\n",
       "    <tr style=\"text-align: right;\">\n",
       "      <th></th>\n",
       "      <th>ensembl_gene_id</th>\n",
       "      <th>go_id</th>\n",
       "      <th>go_label</th>\n",
       "      <th>go_evidence_codes</th>\n",
       "      <th>xref_info_types</th>\n",
       "      <th>xref_info_texts</th>\n",
       "      <th>ensembl_transcript_ids</th>\n",
       "      <th>ensembl_representative_gene_id</th>\n",
       "    </tr>\n",
       "  </thead>\n",
       "  <tbody>\n",
       "    <tr>\n",
       "      <th>0</th>\n",
       "      <td>ENSRNOG00000000001</td>\n",
       "      <td>GO:0008484</td>\n",
       "      <td>sulfuric ester hydrolase activity</td>\n",
       "      <td>None</td>\n",
       "      <td>DEPENDENT</td>\n",
       "      <td></td>\n",
       "      <td>ENSRNOT00000055633</td>\n",
       "      <td>ENSRNOG00000000001</td>\n",
       "    </tr>\n",
       "    <tr>\n",
       "      <th>1</th>\n",
       "      <td>ENSRNOG00000000001</td>\n",
       "      <td>GO:0015629</td>\n",
       "      <td>actin cytoskeleton</td>\n",
       "      <td>IEA</td>\n",
       "      <td>PROJECTION</td>\n",
       "      <td>from homo_sapiens translation ENSP00000320219</td>\n",
       "      <td>ENSRNOT00000055633</td>\n",
       "      <td>ENSRNOG00000000001</td>\n",
       "    </tr>\n",
       "    <tr>\n",
       "      <th>2</th>\n",
       "      <td>ENSRNOG00000000007</td>\n",
       "      <td>GO:0004351</td>\n",
       "      <td>glutamate decarboxylase activity</td>\n",
       "      <td>IEA</td>\n",
       "      <td>PROJECTION</td>\n",
       "      <td>from homo_sapiens translation ENSP00000350928,...</td>\n",
       "      <td>ENSRNOT00000087134</td>\n",
       "      <td>ENSRNOG00000000007</td>\n",
       "    </tr>\n",
       "  </tbody>\n",
       "</table>\n",
       "</div>"
      ],
      "text/plain": [
       "      ensembl_gene_id       go_id                           go_label  \\\n",
       "0  ENSRNOG00000000001  GO:0008484  sulfuric ester hydrolase activity   \n",
       "1  ENSRNOG00000000001  GO:0015629                 actin cytoskeleton   \n",
       "2  ENSRNOG00000000007  GO:0004351   glutamate decarboxylase activity   \n",
       "\n",
       "  go_evidence_codes xref_info_types  \\\n",
       "0              None       DEPENDENT   \n",
       "1               IEA      PROJECTION   \n",
       "2               IEA      PROJECTION   \n",
       "\n",
       "                                     xref_info_texts ensembl_transcript_ids  \\\n",
       "0                                                        ENSRNOT00000055633   \n",
       "1      from homo_sapiens translation ENSP00000320219     ENSRNOT00000055633   \n",
       "2  from homo_sapiens translation ENSP00000350928,...     ENSRNOT00000087134   \n",
       "\n",
       "  ensembl_representative_gene_id  \n",
       "0             ENSRNOG00000000001  \n",
       "1             ENSRNOG00000000001  \n",
       "2             ENSRNOG00000000007  "
      ]
     },
     "execution_count": 36,
     "metadata": {},
     "output_type": "execute_result"
    }
   ],
   "source": [
    "ensg.xref_go_df.head(3)"
   ]
  },
  {
   "cell_type": "code",
   "execution_count": 37,
   "id": "43ba6c30",
   "metadata": {
    "execution": {
     "iopub.execute_input": "2025-05-07T18:27:05.317610Z",
     "iopub.status.busy": "2025-05-07T18:27:05.317371Z",
     "iopub.status.idle": "2025-05-07T18:27:05.339336Z",
     "shell.execute_reply": "2025-05-07T18:27:05.338717Z"
    },
    "papermill": {
     "duration": 0.034373,
     "end_time": "2025-05-07T18:27:05.340671",
     "exception": false,
     "start_time": "2025-05-07T18:27:05.306298",
     "status": "completed"
    },
    "tags": []
   },
   "outputs": [
    {
     "data": {
      "text/plain": [
       "[]"
      ]
     },
     "execution_count": 37,
     "metadata": {},
     "output_type": "execute_result"
    }
   ],
   "source": [
    "# GO terms for CCR5\n",
    "# compare to http://useast.ensembl.org/Homo_sapiens/Gene/Ontologies/molecular_function?g=ENSG00000160791\n",
    "sorted(ensg.xref_go_df.query(\"ensembl_gene_id == 'ENSG00000160791'\").go_label)"
   ]
  },
  {
   "cell_type": "markdown",
   "id": "831ae523",
   "metadata": {
    "papermill": {
     "duration": 0.01014,
     "end_time": "2025-05-07T18:27:05.361417",
     "exception": false,
     "start_time": "2025-05-07T18:27:05.351277",
     "status": "completed"
    },
    "tags": []
   },
   "source": [
    "## lrg xrefs"
   ]
  },
  {
   "cell_type": "code",
   "execution_count": 38,
   "id": "39ecfb25",
   "metadata": {
    "execution": {
     "iopub.execute_input": "2025-05-07T18:27:05.382827Z",
     "iopub.status.busy": "2025-05-07T18:27:05.382598Z",
     "iopub.status.idle": "2025-05-07T18:27:05.399463Z",
     "shell.execute_reply": "2025-05-07T18:27:05.398767Z"
    },
    "papermill": {
     "duration": 0.029223,
     "end_time": "2025-05-07T18:27:05.400823",
     "exception": false,
     "start_time": "2025-05-07T18:27:05.371600",
     "status": "completed"
    },
    "tags": []
   },
   "outputs": [
    {
     "data": {
      "text/html": [
       "<div>\n",
       "<style scoped>\n",
       "    .dataframe tbody tr th:only-of-type {\n",
       "        vertical-align: middle;\n",
       "    }\n",
       "\n",
       "    .dataframe tbody tr th {\n",
       "        vertical-align: top;\n",
       "    }\n",
       "\n",
       "    .dataframe thead th {\n",
       "        text-align: right;\n",
       "    }\n",
       "</style>\n",
       "<table border=\"1\" class=\"dataframe\">\n",
       "  <thead>\n",
       "    <tr style=\"text-align: right;\">\n",
       "      <th></th>\n",
       "      <th>ensembl_gene_id</th>\n",
       "      <th>lrg_gene_id</th>\n",
       "    </tr>\n",
       "  </thead>\n",
       "  <tbody>\n",
       "  </tbody>\n",
       "</table>\n",
       "</div>"
      ],
      "text/plain": [
       "Empty DataFrame\n",
       "Columns: [ensembl_gene_id, lrg_gene_id]\n",
       "Index: []"
      ]
     },
     "execution_count": 38,
     "metadata": {},
     "output_type": "execute_result"
    }
   ],
   "source": [
    "ensg.xref_lrg_df.head(2)"
   ]
  },
  {
   "cell_type": "code",
   "execution_count": 39,
   "id": "ae90f513",
   "metadata": {
    "execution": {
     "iopub.execute_input": "2025-05-07T18:27:05.422790Z",
     "iopub.status.busy": "2025-05-07T18:27:05.422432Z",
     "iopub.status.idle": "2025-05-07T18:27:05.438055Z",
     "shell.execute_reply": "2025-05-07T18:27:05.437395Z"
    },
    "papermill": {
     "duration": 0.02797,
     "end_time": "2025-05-07T18:27:05.439345",
     "exception": false,
     "start_time": "2025-05-07T18:27:05.411375",
     "status": "completed"
    },
    "tags": []
   },
   "outputs": [
    {
     "data": {
      "text/plain": [
       "0"
      ]
     },
     "execution_count": 39,
     "metadata": {},
     "output_type": "execute_result"
    }
   ],
   "source": [
    "len(ensg.xref_lrg_df)"
   ]
  },
  {
   "cell_type": "markdown",
   "id": "83e572ea",
   "metadata": {
    "papermill": {
     "duration": 0.010379,
     "end_time": "2025-05-07T18:27:05.460203",
     "exception": false,
     "start_time": "2025-05-07T18:27:05.449824",
     "status": "completed"
    },
    "tags": []
   },
   "source": [
    "### ncbigene xrefs"
   ]
  },
  {
   "cell_type": "code",
   "execution_count": 40,
   "id": "e2eb8490",
   "metadata": {
    "execution": {
     "iopub.execute_input": "2025-05-07T18:27:05.482185Z",
     "iopub.status.busy": "2025-05-07T18:27:05.481764Z",
     "iopub.status.idle": "2025-05-07T18:27:05.568678Z",
     "shell.execute_reply": "2025-05-07T18:27:05.567988Z"
    },
    "papermill": {
     "duration": 0.099432,
     "end_time": "2025-05-07T18:27:05.570088",
     "exception": false,
     "start_time": "2025-05-07T18:27:05.470656",
     "status": "completed"
    },
    "tags": []
   },
   "outputs": [
    {
     "data": {
      "text/html": [
       "<div>\n",
       "<style scoped>\n",
       "    .dataframe tbody tr th:only-of-type {\n",
       "        vertical-align: middle;\n",
       "    }\n",
       "\n",
       "    .dataframe tbody tr th {\n",
       "        vertical-align: top;\n",
       "    }\n",
       "\n",
       "    .dataframe thead th {\n",
       "        text-align: right;\n",
       "    }\n",
       "</style>\n",
       "<table border=\"1\" class=\"dataframe\">\n",
       "  <thead>\n",
       "    <tr style=\"text-align: right;\">\n",
       "      <th></th>\n",
       "      <th>ensembl_representative_gene_id</th>\n",
       "      <th>ncbigene_id</th>\n",
       "      <th>gene_symbol</th>\n",
       "      <th>ncbigene_symbol</th>\n",
       "    </tr>\n",
       "  </thead>\n",
       "  <tbody>\n",
       "    <tr>\n",
       "      <th>1</th>\n",
       "      <td>ENSRNOG00000000001</td>\n",
       "      <td>311013</td>\n",
       "      <td>Arsj</td>\n",
       "      <td>Arsj</td>\n",
       "    </tr>\n",
       "    <tr>\n",
       "      <th>18</th>\n",
       "      <td>ENSRNOG00000000007</td>\n",
       "      <td>24379</td>\n",
       "      <td>Gad1</td>\n",
       "      <td>Gad1</td>\n",
       "    </tr>\n",
       "    <tr>\n",
       "      <th>32</th>\n",
       "      <td>ENSRNOG00000000008</td>\n",
       "      <td>296511</td>\n",
       "      <td>Alx4</td>\n",
       "      <td>Alx4</td>\n",
       "    </tr>\n",
       "    <tr>\n",
       "      <th>40</th>\n",
       "      <td>ENSRNOG00000000009</td>\n",
       "      <td>366158</td>\n",
       "      <td>Tmco5b</td>\n",
       "      <td>Tmco5b</td>\n",
       "    </tr>\n",
       "    <tr>\n",
       "      <th>46</th>\n",
       "      <td>ENSRNOG00000000010</td>\n",
       "      <td>498922</td>\n",
       "      <td>Cbln1</td>\n",
       "      <td>Cbln1</td>\n",
       "    </tr>\n",
       "  </tbody>\n",
       "</table>\n",
       "</div>"
      ],
      "text/plain": [
       "   ensembl_representative_gene_id ncbigene_id gene_symbol ncbigene_symbol\n",
       "1              ENSRNOG00000000001      311013        Arsj            Arsj\n",
       "18             ENSRNOG00000000007       24379        Gad1            Gad1\n",
       "32             ENSRNOG00000000008      296511        Alx4            Alx4\n",
       "40             ENSRNOG00000000009      366158      Tmco5b          Tmco5b\n",
       "46             ENSRNOG00000000010      498922       Cbln1           Cbln1"
      ]
     },
     "execution_count": 40,
     "metadata": {},
     "output_type": "execute_result"
    }
   ],
   "source": [
    "ensg.xref_ncbigene_df.head()"
   ]
  },
  {
   "cell_type": "code",
   "execution_count": 41,
   "id": "bd4e03e9",
   "metadata": {
    "execution": {
     "iopub.execute_input": "2025-05-07T18:27:05.595826Z",
     "iopub.status.busy": "2025-05-07T18:27:05.595630Z",
     "iopub.status.idle": "2025-05-07T18:27:05.618202Z",
     "shell.execute_reply": "2025-05-07T18:27:05.617504Z"
    },
    "papermill": {
     "duration": 0.035312,
     "end_time": "2025-05-07T18:27:05.619604",
     "exception": false,
     "start_time": "2025-05-07T18:27:05.584292",
     "status": "completed"
    },
    "tags": []
   },
   "outputs": [
    {
     "data": {
      "text/plain": [
       "ENSRNOG00000000001    1\n",
       "ENSRNOG00000046918    1\n",
       "ENSRNOG00000046959    1\n",
       "Name: ensembl_representative_gene_id, dtype: int64"
      ]
     },
     "execution_count": 41,
     "metadata": {},
     "output_type": "execute_result"
    }
   ],
   "source": [
    "# ensembl gene mapped to by multiple ncbigenes\n",
    "ensg.xref_ncbigene_df.ensembl_representative_gene_id.value_counts().head(3)"
   ]
  },
  {
   "cell_type": "code",
   "execution_count": 42,
   "id": "120ab909",
   "metadata": {
    "execution": {
     "iopub.execute_input": "2025-05-07T18:27:05.642376Z",
     "iopub.status.busy": "2025-05-07T18:27:05.641989Z",
     "iopub.status.idle": "2025-05-07T18:27:05.657989Z",
     "shell.execute_reply": "2025-05-07T18:27:05.657424Z"
    },
    "papermill": {
     "duration": 0.028766,
     "end_time": "2025-05-07T18:27:05.659318",
     "exception": false,
     "start_time": "2025-05-07T18:27:05.630552",
     "status": "completed"
    },
    "tags": []
   },
   "outputs": [
    {
     "data": {
      "text/plain": [
       "(22527, 0)"
      ]
     },
     "execution_count": 42,
     "metadata": {},
     "output_type": "execute_result"
    }
   ],
   "source": [
    "len(ensg.xref_ncbigene_df), ensg.xref_ncbigene_df.ensembl_representative_gene_id.duplicated().sum()"
   ]
  },
  {
   "cell_type": "code",
   "execution_count": 43,
   "id": "100ee5a7",
   "metadata": {
    "execution": {
     "iopub.execute_input": "2025-05-07T18:27:05.685956Z",
     "iopub.status.busy": "2025-05-07T18:27:05.685492Z",
     "iopub.status.idle": "2025-05-07T18:27:05.709851Z",
     "shell.execute_reply": "2025-05-07T18:27:05.709291Z"
    },
    "papermill": {
     "duration": 0.037326,
     "end_time": "2025-05-07T18:27:05.711173",
     "exception": false,
     "start_time": "2025-05-07T18:27:05.673847",
     "status": "completed"
    },
    "tags": []
   },
   "outputs": [
    {
     "data": {
      "text/plain": [
       "120100370    4\n",
       "57809        3\n",
       "102554391    2\n",
       "Name: ncbigene_id, dtype: int64"
      ]
     },
     "execution_count": 43,
     "metadata": {},
     "output_type": "execute_result"
    }
   ],
   "source": [
    "# ncbigene mapped to by multiple ensembl genes, likely due to alt gene alleles\n",
    "ensg.xref_ncbigene_df.ncbigene_id.value_counts().head(3)"
   ]
  },
  {
   "cell_type": "code",
   "execution_count": 44,
   "id": "cf15bba4",
   "metadata": {
    "execution": {
     "iopub.execute_input": "2025-05-07T18:27:05.734300Z",
     "iopub.status.busy": "2025-05-07T18:27:05.733787Z",
     "iopub.status.idle": "2025-05-07T18:27:05.749947Z",
     "shell.execute_reply": "2025-05-07T18:27:05.749418Z"
    },
    "papermill": {
     "duration": 0.029038,
     "end_time": "2025-05-07T18:27:05.751298",
     "exception": false,
     "start_time": "2025-05-07T18:27:05.722260",
     "status": "completed"
    },
    "tags": []
   },
   "outputs": [
    {
     "data": {
      "text/plain": [
       "(22527, 27)"
      ]
     },
     "execution_count": 44,
     "metadata": {},
     "output_type": "execute_result"
    }
   ],
   "source": [
    "len(ensg.xref_ncbigene_df), ensg.xref_ncbigene_df.ncbigene_id.duplicated().sum()"
   ]
  },
  {
   "cell_type": "code",
   "execution_count": 45,
   "id": "50e50c26",
   "metadata": {
    "execution": {
     "iopub.execute_input": "2025-05-07T18:27:05.774269Z",
     "iopub.status.busy": "2025-05-07T18:27:05.774087Z",
     "iopub.status.idle": "2025-05-07T18:27:05.786779Z",
     "shell.execute_reply": "2025-05-07T18:27:05.786271Z"
    },
    "papermill": {
     "duration": 0.02566,
     "end_time": "2025-05-07T18:27:05.788096",
     "exception": false,
     "start_time": "2025-05-07T18:27:05.762436",
     "status": "completed"
    },
    "tags": []
   },
   "outputs": [],
   "source": [
    "# ensg.xref_ncbigene_df.query(\"ensembl_representative_gene_id == 'ENSG00000231500'\")\n",
    "# ensg.xref_ncbigene_df.query(\"ncbigene_id == '51206'\")"
   ]
  },
  {
   "cell_type": "code",
   "execution_count": 46,
   "id": "9e0b0001",
   "metadata": {
    "execution": {
     "iopub.execute_input": "2025-05-07T18:27:05.811146Z",
     "iopub.status.busy": "2025-05-07T18:27:05.810933Z",
     "iopub.status.idle": "2025-05-07T18:27:05.830409Z",
     "shell.execute_reply": "2025-05-07T18:27:05.829830Z"
    },
    "papermill": {
     "duration": 0.032316,
     "end_time": "2025-05-07T18:27:05.831682",
     "exception": false,
     "start_time": "2025-05-07T18:27:05.799366",
     "status": "completed"
    },
    "tags": []
   },
   "outputs": [
    {
     "data": {
      "text/plain": [
       "42013"
      ]
     },
     "execution_count": 46,
     "metadata": {},
     "output_type": "execute_result"
    }
   ],
   "source": [
    "repr_ensembl_gene_ids = set(ensg.gene_df.ensembl_representative_gene_id)\n",
    "len(repr_ensembl_gene_ids)"
   ]
  },
  {
   "cell_type": "code",
   "execution_count": 47,
   "id": "aac3fad3",
   "metadata": {
    "execution": {
     "iopub.execute_input": "2025-05-07T18:27:05.855036Z",
     "iopub.status.busy": "2025-05-07T18:27:05.854587Z",
     "iopub.status.idle": "2025-05-07T18:27:05.891014Z",
     "shell.execute_reply": "2025-05-07T18:27:05.890353Z"
    },
    "papermill": {
     "duration": 0.049513,
     "end_time": "2025-05-07T18:27:05.892363",
     "exception": false,
     "start_time": "2025-05-07T18:27:05.842850",
     "status": "completed"
    },
    "scrolled": true,
    "tags": []
   },
   "outputs": [
    {
     "data": {
      "text/html": [
       "<div>\n",
       "<style scoped>\n",
       "    .dataframe tbody tr th:only-of-type {\n",
       "        vertical-align: middle;\n",
       "    }\n",
       "\n",
       "    .dataframe tbody tr th {\n",
       "        vertical-align: top;\n",
       "    }\n",
       "\n",
       "    .dataframe thead th {\n",
       "        text-align: right;\n",
       "    }\n",
       "</style>\n",
       "<table border=\"1\" class=\"dataframe\">\n",
       "  <thead>\n",
       "    <tr style=\"text-align: right;\">\n",
       "      <th></th>\n",
       "      <th>ensembl_gene_id</th>\n",
       "      <th>ensembl_gene_version</th>\n",
       "      <th>gene_symbol</th>\n",
       "      <th>gene_symbol_source_db</th>\n",
       "      <th>gene_symbol_source_id</th>\n",
       "      <th>gene_biotype</th>\n",
       "      <th>ensembl_source</th>\n",
       "      <th>ensembl_created_date</th>\n",
       "      <th>ensembl_modified_date</th>\n",
       "      <th>coord_system_version</th>\n",
       "      <th>...</th>\n",
       "      <th>seq_region_start</th>\n",
       "      <th>seq_region_end</th>\n",
       "      <th>seq_region_strand</th>\n",
       "      <th>primary_assembly</th>\n",
       "      <th>lrg_gene_id</th>\n",
       "      <th>mhc</th>\n",
       "      <th>gene_description</th>\n",
       "      <th>gene_description_source_db</th>\n",
       "      <th>gene_description_source_id</th>\n",
       "      <th>ensembl_representative_gene_id</th>\n",
       "    </tr>\n",
       "  </thead>\n",
       "  <tbody>\n",
       "    <tr>\n",
       "      <th>20198</th>\n",
       "      <td>ENSRNOG00000062265</td>\n",
       "      <td>3</td>\n",
       "      <td>AABR07034262.1</td>\n",
       "      <td>RGD</td>\n",
       "      <td>15014745</td>\n",
       "      <td>lncRNA</td>\n",
       "      <td>ensembl</td>\n",
       "      <td>2017-01-18 14:25:58</td>\n",
       "      <td>2024-05-09 12:20:34</td>\n",
       "      <td>GRCr8</td>\n",
       "      <td>...</td>\n",
       "      <td>910449</td>\n",
       "      <td>989594</td>\n",
       "      <td>1</td>\n",
       "      <td>False</td>\n",
       "      <td>NaN</td>\n",
       "      <td>None</td>\n",
       "      <td>NaN</td>\n",
       "      <td>NaN</td>\n",
       "      <td>NaN</td>\n",
       "      <td>ENSRNOG00000062265</td>\n",
       "    </tr>\n",
       "    <tr>\n",
       "      <th>20623</th>\n",
       "      <td>ENSRNOG00000063513</td>\n",
       "      <td>2</td>\n",
       "      <td>ENSRNOG00000063513</td>\n",
       "      <td>None</td>\n",
       "      <td>None</td>\n",
       "      <td>lncRNA</td>\n",
       "      <td>ensembl</td>\n",
       "      <td>2021-02-26 12:35:27</td>\n",
       "      <td>2024-05-09 12:20:34</td>\n",
       "      <td>GRCr8</td>\n",
       "      <td>...</td>\n",
       "      <td>1224634</td>\n",
       "      <td>1231178</td>\n",
       "      <td>1</td>\n",
       "      <td>False</td>\n",
       "      <td>NaN</td>\n",
       "      <td>None</td>\n",
       "      <td>NaN</td>\n",
       "      <td>NaN</td>\n",
       "      <td>NaN</td>\n",
       "      <td>ENSRNOG00000063513</td>\n",
       "    </tr>\n",
       "    <tr>\n",
       "      <th>26743</th>\n",
       "      <td>ENSRNOG00000074774</td>\n",
       "      <td>1</td>\n",
       "      <td>ENSRNOG00000074774</td>\n",
       "      <td>None</td>\n",
       "      <td>None</td>\n",
       "      <td>lncRNA</td>\n",
       "      <td>ensembl</td>\n",
       "      <td>2024-05-09 12:20:34</td>\n",
       "      <td>2024-05-09 12:20:34</td>\n",
       "      <td>GRCr8</td>\n",
       "      <td>...</td>\n",
       "      <td>355420</td>\n",
       "      <td>450968</td>\n",
       "      <td>-1</td>\n",
       "      <td>False</td>\n",
       "      <td>NaN</td>\n",
       "      <td>None</td>\n",
       "      <td>NaN</td>\n",
       "      <td>NaN</td>\n",
       "      <td>NaN</td>\n",
       "      <td>ENSRNOG00000074774</td>\n",
       "    </tr>\n",
       "    <tr>\n",
       "      <th>26879</th>\n",
       "      <td>ENSRNOG00000074910</td>\n",
       "      <td>1</td>\n",
       "      <td>ENSRNOG00000074910</td>\n",
       "      <td>None</td>\n",
       "      <td>None</td>\n",
       "      <td>lncRNA</td>\n",
       "      <td>ensembl</td>\n",
       "      <td>2024-05-09 12:20:34</td>\n",
       "      <td>2024-05-09 12:20:34</td>\n",
       "      <td>GRCr8</td>\n",
       "      <td>...</td>\n",
       "      <td>181720</td>\n",
       "      <td>192666</td>\n",
       "      <td>-1</td>\n",
       "      <td>False</td>\n",
       "      <td>NaN</td>\n",
       "      <td>None</td>\n",
       "      <td>NaN</td>\n",
       "      <td>NaN</td>\n",
       "      <td>NaN</td>\n",
       "      <td>ENSRNOG00000074910</td>\n",
       "    </tr>\n",
       "    <tr>\n",
       "      <th>26996</th>\n",
       "      <td>ENSRNOG00000075027</td>\n",
       "      <td>1</td>\n",
       "      <td>ENSRNOG00000075027</td>\n",
       "      <td>None</td>\n",
       "      <td>None</td>\n",
       "      <td>lncRNA</td>\n",
       "      <td>ensembl</td>\n",
       "      <td>2024-05-09 12:20:34</td>\n",
       "      <td>2024-05-09 12:20:34</td>\n",
       "      <td>GRCr8</td>\n",
       "      <td>...</td>\n",
       "      <td>655686</td>\n",
       "      <td>833957</td>\n",
       "      <td>1</td>\n",
       "      <td>False</td>\n",
       "      <td>NaN</td>\n",
       "      <td>None</td>\n",
       "      <td>NaN</td>\n",
       "      <td>NaN</td>\n",
       "      <td>NaN</td>\n",
       "      <td>ENSRNOG00000075027</td>\n",
       "    </tr>\n",
       "    <tr>\n",
       "      <th>27786</th>\n",
       "      <td>ENSRNOG00000075817</td>\n",
       "      <td>1</td>\n",
       "      <td>ENSRNOG00000075817</td>\n",
       "      <td>None</td>\n",
       "      <td>None</td>\n",
       "      <td>lncRNA</td>\n",
       "      <td>ensembl</td>\n",
       "      <td>2024-05-09 12:20:34</td>\n",
       "      <td>2024-05-09 12:20:34</td>\n",
       "      <td>GRCr8</td>\n",
       "      <td>...</td>\n",
       "      <td>1239880</td>\n",
       "      <td>1271675</td>\n",
       "      <td>1</td>\n",
       "      <td>False</td>\n",
       "      <td>NaN</td>\n",
       "      <td>None</td>\n",
       "      <td>NaN</td>\n",
       "      <td>NaN</td>\n",
       "      <td>NaN</td>\n",
       "      <td>ENSRNOG00000075817</td>\n",
       "    </tr>\n",
       "    <tr>\n",
       "      <th>28831</th>\n",
       "      <td>ENSRNOG00000076862</td>\n",
       "      <td>1</td>\n",
       "      <td>ENSRNOG00000076862</td>\n",
       "      <td>None</td>\n",
       "      <td>None</td>\n",
       "      <td>lncRNA</td>\n",
       "      <td>ensembl</td>\n",
       "      <td>2024-05-09 12:20:34</td>\n",
       "      <td>2024-05-09 12:20:34</td>\n",
       "      <td>GRCr8</td>\n",
       "      <td>...</td>\n",
       "      <td>632225</td>\n",
       "      <td>722368</td>\n",
       "      <td>-1</td>\n",
       "      <td>False</td>\n",
       "      <td>NaN</td>\n",
       "      <td>None</td>\n",
       "      <td>NaN</td>\n",
       "      <td>NaN</td>\n",
       "      <td>NaN</td>\n",
       "      <td>ENSRNOG00000076862</td>\n",
       "    </tr>\n",
       "    <tr>\n",
       "      <th>28913</th>\n",
       "      <td>ENSRNOG00000076944</td>\n",
       "      <td>1</td>\n",
       "      <td>ENSRNOG00000076944</td>\n",
       "      <td>None</td>\n",
       "      <td>None</td>\n",
       "      <td>protein_coding</td>\n",
       "      <td>ensembl</td>\n",
       "      <td>2024-05-09 12:20:34</td>\n",
       "      <td>2024-05-09 12:20:34</td>\n",
       "      <td>GRCr8</td>\n",
       "      <td>...</td>\n",
       "      <td>55886</td>\n",
       "      <td>58475</td>\n",
       "      <td>1</td>\n",
       "      <td>False</td>\n",
       "      <td>NaN</td>\n",
       "      <td>None</td>\n",
       "      <td>NaN</td>\n",
       "      <td>NaN</td>\n",
       "      <td>NaN</td>\n",
       "      <td>ENSRNOG00000076944</td>\n",
       "    </tr>\n",
       "    <tr>\n",
       "      <th>30029</th>\n",
       "      <td>ENSRNOG00000078060</td>\n",
       "      <td>1</td>\n",
       "      <td>ENSRNOG00000078060</td>\n",
       "      <td>None</td>\n",
       "      <td>None</td>\n",
       "      <td>lncRNA</td>\n",
       "      <td>ensembl</td>\n",
       "      <td>2024-05-09 12:20:34</td>\n",
       "      <td>2024-05-09 12:20:34</td>\n",
       "      <td>GRCr8</td>\n",
       "      <td>...</td>\n",
       "      <td>1198376</td>\n",
       "      <td>1203949</td>\n",
       "      <td>1</td>\n",
       "      <td>False</td>\n",
       "      <td>NaN</td>\n",
       "      <td>None</td>\n",
       "      <td>NaN</td>\n",
       "      <td>NaN</td>\n",
       "      <td>NaN</td>\n",
       "      <td>ENSRNOG00000078060</td>\n",
       "    </tr>\n",
       "    <tr>\n",
       "      <th>30122</th>\n",
       "      <td>ENSRNOG00000078153</td>\n",
       "      <td>1</td>\n",
       "      <td>ENSRNOG00000078153</td>\n",
       "      <td>None</td>\n",
       "      <td>None</td>\n",
       "      <td>protein_coding</td>\n",
       "      <td>ensembl</td>\n",
       "      <td>2024-05-09 12:20:34</td>\n",
       "      <td>2024-05-09 12:20:34</td>\n",
       "      <td>GRCr8</td>\n",
       "      <td>...</td>\n",
       "      <td>1372726</td>\n",
       "      <td>1380096</td>\n",
       "      <td>1</td>\n",
       "      <td>False</td>\n",
       "      <td>NaN</td>\n",
       "      <td>None</td>\n",
       "      <td>carbonic anhydrase 8 [Ensembl NN prediction wi...</td>\n",
       "      <td>NaN</td>\n",
       "      <td>NaN</td>\n",
       "      <td>ENSRNOG00000078153</td>\n",
       "    </tr>\n",
       "    <tr>\n",
       "      <th>30605</th>\n",
       "      <td>ENSRNOG00000078636</td>\n",
       "      <td>1</td>\n",
       "      <td>ENSRNOG00000078636</td>\n",
       "      <td>None</td>\n",
       "      <td>None</td>\n",
       "      <td>lncRNA</td>\n",
       "      <td>ensembl</td>\n",
       "      <td>2024-05-09 12:20:34</td>\n",
       "      <td>2024-05-09 12:20:34</td>\n",
       "      <td>GRCr8</td>\n",
       "      <td>...</td>\n",
       "      <td>1284795</td>\n",
       "      <td>1318796</td>\n",
       "      <td>-1</td>\n",
       "      <td>False</td>\n",
       "      <td>NaN</td>\n",
       "      <td>None</td>\n",
       "      <td>NaN</td>\n",
       "      <td>NaN</td>\n",
       "      <td>NaN</td>\n",
       "      <td>ENSRNOG00000078636</td>\n",
       "    </tr>\n",
       "    <tr>\n",
       "      <th>31002</th>\n",
       "      <td>ENSRNOG00000079033</td>\n",
       "      <td>1</td>\n",
       "      <td>ENSRNOG00000079033</td>\n",
       "      <td>None</td>\n",
       "      <td>None</td>\n",
       "      <td>lncRNA</td>\n",
       "      <td>ensembl</td>\n",
       "      <td>2024-05-09 12:20:34</td>\n",
       "      <td>2024-05-09 12:20:34</td>\n",
       "      <td>GRCr8</td>\n",
       "      <td>...</td>\n",
       "      <td>233685</td>\n",
       "      <td>249199</td>\n",
       "      <td>-1</td>\n",
       "      <td>False</td>\n",
       "      <td>NaN</td>\n",
       "      <td>None</td>\n",
       "      <td>NaN</td>\n",
       "      <td>NaN</td>\n",
       "      <td>NaN</td>\n",
       "      <td>ENSRNOG00000079033</td>\n",
       "    </tr>\n",
       "    <tr>\n",
       "      <th>31359</th>\n",
       "      <td>ENSRNOG00000079390</td>\n",
       "      <td>1</td>\n",
       "      <td>ENSRNOG00000079390</td>\n",
       "      <td>None</td>\n",
       "      <td>None</td>\n",
       "      <td>pseudogene</td>\n",
       "      <td>ensembl</td>\n",
       "      <td>2024-05-09 12:20:34</td>\n",
       "      <td>2024-05-09 12:20:34</td>\n",
       "      <td>GRCr8</td>\n",
       "      <td>...</td>\n",
       "      <td>749723</td>\n",
       "      <td>750797</td>\n",
       "      <td>-1</td>\n",
       "      <td>False</td>\n",
       "      <td>NaN</td>\n",
       "      <td>None</td>\n",
       "      <td>NaN</td>\n",
       "      <td>NaN</td>\n",
       "      <td>NaN</td>\n",
       "      <td>ENSRNOG00000079390</td>\n",
       "    </tr>\n",
       "    <tr>\n",
       "      <th>31419</th>\n",
       "      <td>ENSRNOG00000079450</td>\n",
       "      <td>1</td>\n",
       "      <td>ENSRNOG00000079450</td>\n",
       "      <td>None</td>\n",
       "      <td>None</td>\n",
       "      <td>lncRNA</td>\n",
       "      <td>ensembl</td>\n",
       "      <td>2024-05-09 12:20:34</td>\n",
       "      <td>2024-05-09 12:20:34</td>\n",
       "      <td>GRCr8</td>\n",
       "      <td>...</td>\n",
       "      <td>862373</td>\n",
       "      <td>882106</td>\n",
       "      <td>1</td>\n",
       "      <td>False</td>\n",
       "      <td>NaN</td>\n",
       "      <td>None</td>\n",
       "      <td>NaN</td>\n",
       "      <td>NaN</td>\n",
       "      <td>NaN</td>\n",
       "      <td>ENSRNOG00000079450</td>\n",
       "    </tr>\n",
       "    <tr>\n",
       "      <th>33564</th>\n",
       "      <td>ENSRNOG00000081595</td>\n",
       "      <td>1</td>\n",
       "      <td>ENSRNOG00000081595</td>\n",
       "      <td>None</td>\n",
       "      <td>None</td>\n",
       "      <td>lncRNA</td>\n",
       "      <td>ensembl</td>\n",
       "      <td>2024-05-09 12:20:34</td>\n",
       "      <td>2024-05-09 12:20:34</td>\n",
       "      <td>GRCr8</td>\n",
       "      <td>...</td>\n",
       "      <td>289640</td>\n",
       "      <td>306919</td>\n",
       "      <td>-1</td>\n",
       "      <td>False</td>\n",
       "      <td>NaN</td>\n",
       "      <td>None</td>\n",
       "      <td>NaN</td>\n",
       "      <td>NaN</td>\n",
       "      <td>NaN</td>\n",
       "      <td>ENSRNOG00000081595</td>\n",
       "    </tr>\n",
       "    <tr>\n",
       "      <th>34208</th>\n",
       "      <td>ENSRNOG00000082239</td>\n",
       "      <td>1</td>\n",
       "      <td>ENSRNOG00000082239</td>\n",
       "      <td>None</td>\n",
       "      <td>None</td>\n",
       "      <td>lncRNA</td>\n",
       "      <td>ensembl</td>\n",
       "      <td>2024-05-09 12:20:34</td>\n",
       "      <td>2024-05-09 12:20:34</td>\n",
       "      <td>GRCr8</td>\n",
       "      <td>...</td>\n",
       "      <td>1953847</td>\n",
       "      <td>1972479</td>\n",
       "      <td>-1</td>\n",
       "      <td>False</td>\n",
       "      <td>NaN</td>\n",
       "      <td>None</td>\n",
       "      <td>NaN</td>\n",
       "      <td>NaN</td>\n",
       "      <td>NaN</td>\n",
       "      <td>ENSRNOG00000082239</td>\n",
       "    </tr>\n",
       "    <tr>\n",
       "      <th>34243</th>\n",
       "      <td>ENSRNOG00000082274</td>\n",
       "      <td>1</td>\n",
       "      <td>ENSRNOG00000082274</td>\n",
       "      <td>None</td>\n",
       "      <td>None</td>\n",
       "      <td>lncRNA</td>\n",
       "      <td>ensembl</td>\n",
       "      <td>2024-05-09 12:20:34</td>\n",
       "      <td>2024-05-09 12:20:34</td>\n",
       "      <td>GRCr8</td>\n",
       "      <td>...</td>\n",
       "      <td>1977303</td>\n",
       "      <td>2021278</td>\n",
       "      <td>-1</td>\n",
       "      <td>False</td>\n",
       "      <td>NaN</td>\n",
       "      <td>None</td>\n",
       "      <td>NaN</td>\n",
       "      <td>NaN</td>\n",
       "      <td>NaN</td>\n",
       "      <td>ENSRNOG00000082274</td>\n",
       "    </tr>\n",
       "    <tr>\n",
       "      <th>34308</th>\n",
       "      <td>ENSRNOG00000082339</td>\n",
       "      <td>1</td>\n",
       "      <td>ENSRNOG00000082339</td>\n",
       "      <td>None</td>\n",
       "      <td>None</td>\n",
       "      <td>lncRNA</td>\n",
       "      <td>ensembl</td>\n",
       "      <td>2024-05-09 12:20:34</td>\n",
       "      <td>2024-05-09 12:20:34</td>\n",
       "      <td>GRCr8</td>\n",
       "      <td>...</td>\n",
       "      <td>1130312</td>\n",
       "      <td>1140321</td>\n",
       "      <td>-1</td>\n",
       "      <td>False</td>\n",
       "      <td>NaN</td>\n",
       "      <td>None</td>\n",
       "      <td>NaN</td>\n",
       "      <td>NaN</td>\n",
       "      <td>NaN</td>\n",
       "      <td>ENSRNOG00000082339</td>\n",
       "    </tr>\n",
       "    <tr>\n",
       "      <th>35305</th>\n",
       "      <td>ENSRNOG00000083336</td>\n",
       "      <td>1</td>\n",
       "      <td>ENSRNOG00000083336</td>\n",
       "      <td>None</td>\n",
       "      <td>None</td>\n",
       "      <td>protein_coding</td>\n",
       "      <td>ensembl</td>\n",
       "      <td>2024-05-09 12:20:34</td>\n",
       "      <td>2024-05-09 12:20:34</td>\n",
       "      <td>GRCr8</td>\n",
       "      <td>...</td>\n",
       "      <td>39728</td>\n",
       "      <td>43549</td>\n",
       "      <td>-1</td>\n",
       "      <td>False</td>\n",
       "      <td>NaN</td>\n",
       "      <td>None</td>\n",
       "      <td>NaN</td>\n",
       "      <td>NaN</td>\n",
       "      <td>NaN</td>\n",
       "      <td>ENSRNOG00000083336</td>\n",
       "    </tr>\n",
       "    <tr>\n",
       "      <th>36185</th>\n",
       "      <td>ENSRNOG00000084216</td>\n",
       "      <td>1</td>\n",
       "      <td>ENSRNOG00000084216</td>\n",
       "      <td>None</td>\n",
       "      <td>None</td>\n",
       "      <td>protein_coding</td>\n",
       "      <td>ensembl</td>\n",
       "      <td>2024-05-09 12:20:34</td>\n",
       "      <td>2024-05-09 12:20:34</td>\n",
       "      <td>GRCr8</td>\n",
       "      <td>...</td>\n",
       "      <td>1346558</td>\n",
       "      <td>1348624</td>\n",
       "      <td>1</td>\n",
       "      <td>False</td>\n",
       "      <td>NaN</td>\n",
       "      <td>None</td>\n",
       "      <td>NaN</td>\n",
       "      <td>NaN</td>\n",
       "      <td>NaN</td>\n",
       "      <td>ENSRNOG00000084216</td>\n",
       "    </tr>\n",
       "    <tr>\n",
       "      <th>36770</th>\n",
       "      <td>ENSRNOG00000084801</td>\n",
       "      <td>1</td>\n",
       "      <td>ENSRNOG00000084801</td>\n",
       "      <td>None</td>\n",
       "      <td>None</td>\n",
       "      <td>lncRNA</td>\n",
       "      <td>ensembl</td>\n",
       "      <td>2024-05-09 12:20:34</td>\n",
       "      <td>2024-05-09 12:20:34</td>\n",
       "      <td>GRCr8</td>\n",
       "      <td>...</td>\n",
       "      <td>189589</td>\n",
       "      <td>376501</td>\n",
       "      <td>1</td>\n",
       "      <td>False</td>\n",
       "      <td>NaN</td>\n",
       "      <td>None</td>\n",
       "      <td>NaN</td>\n",
       "      <td>NaN</td>\n",
       "      <td>NaN</td>\n",
       "      <td>ENSRNOG00000084801</td>\n",
       "    </tr>\n",
       "    <tr>\n",
       "      <th>37083</th>\n",
       "      <td>ENSRNOG00000085114</td>\n",
       "      <td>1</td>\n",
       "      <td>ENSRNOG00000085114</td>\n",
       "      <td>None</td>\n",
       "      <td>None</td>\n",
       "      <td>lncRNA</td>\n",
       "      <td>ensembl</td>\n",
       "      <td>2024-05-09 12:20:34</td>\n",
       "      <td>2024-05-09 12:20:34</td>\n",
       "      <td>GRCr8</td>\n",
       "      <td>...</td>\n",
       "      <td>1732364</td>\n",
       "      <td>2032282</td>\n",
       "      <td>1</td>\n",
       "      <td>False</td>\n",
       "      <td>NaN</td>\n",
       "      <td>None</td>\n",
       "      <td>NaN</td>\n",
       "      <td>NaN</td>\n",
       "      <td>NaN</td>\n",
       "      <td>ENSRNOG00000085114</td>\n",
       "    </tr>\n",
       "    <tr>\n",
       "      <th>37166</th>\n",
       "      <td>ENSRNOG00000085197</td>\n",
       "      <td>1</td>\n",
       "      <td>ENSRNOG00000085197</td>\n",
       "      <td>None</td>\n",
       "      <td>None</td>\n",
       "      <td>protein_coding</td>\n",
       "      <td>ensembl</td>\n",
       "      <td>2024-05-09 12:20:34</td>\n",
       "      <td>2024-05-09 12:20:34</td>\n",
       "      <td>GRCr8</td>\n",
       "      <td>...</td>\n",
       "      <td>221782</td>\n",
       "      <td>228325</td>\n",
       "      <td>-1</td>\n",
       "      <td>False</td>\n",
       "      <td>NaN</td>\n",
       "      <td>None</td>\n",
       "      <td>spindlin family, member 2C [Ensembl NN predict...</td>\n",
       "      <td>NaN</td>\n",
       "      <td>NaN</td>\n",
       "      <td>ENSRNOG00000085197</td>\n",
       "    </tr>\n",
       "    <tr>\n",
       "      <th>37393</th>\n",
       "      <td>ENSRNOG00000085424</td>\n",
       "      <td>1</td>\n",
       "      <td>ENSRNOG00000085424</td>\n",
       "      <td>None</td>\n",
       "      <td>None</td>\n",
       "      <td>lncRNA</td>\n",
       "      <td>ensembl</td>\n",
       "      <td>2024-05-09 12:20:34</td>\n",
       "      <td>2024-05-09 12:20:34</td>\n",
       "      <td>GRCr8</td>\n",
       "      <td>...</td>\n",
       "      <td>1140452</td>\n",
       "      <td>1154354</td>\n",
       "      <td>-1</td>\n",
       "      <td>False</td>\n",
       "      <td>NaN</td>\n",
       "      <td>None</td>\n",
       "      <td>NaN</td>\n",
       "      <td>NaN</td>\n",
       "      <td>NaN</td>\n",
       "      <td>ENSRNOG00000085424</td>\n",
       "    </tr>\n",
       "    <tr>\n",
       "      <th>37956</th>\n",
       "      <td>ENSRNOG00000085987</td>\n",
       "      <td>1</td>\n",
       "      <td>ENSRNOG00000085987</td>\n",
       "      <td>None</td>\n",
       "      <td>None</td>\n",
       "      <td>lncRNA</td>\n",
       "      <td>ensembl</td>\n",
       "      <td>2024-05-09 12:20:34</td>\n",
       "      <td>2024-05-09 12:20:34</td>\n",
       "      <td>GRCr8</td>\n",
       "      <td>...</td>\n",
       "      <td>366697</td>\n",
       "      <td>586019</td>\n",
       "      <td>1</td>\n",
       "      <td>False</td>\n",
       "      <td>NaN</td>\n",
       "      <td>None</td>\n",
       "      <td>NaN</td>\n",
       "      <td>NaN</td>\n",
       "      <td>NaN</td>\n",
       "      <td>ENSRNOG00000085987</td>\n",
       "    </tr>\n",
       "    <tr>\n",
       "      <th>38486</th>\n",
       "      <td>ENSRNOG00000086517</td>\n",
       "      <td>1</td>\n",
       "      <td>ENSRNOG00000086517</td>\n",
       "      <td>None</td>\n",
       "      <td>None</td>\n",
       "      <td>lncRNA</td>\n",
       "      <td>ensembl</td>\n",
       "      <td>2024-05-09 12:20:34</td>\n",
       "      <td>2024-05-09 12:20:34</td>\n",
       "      <td>GRCr8</td>\n",
       "      <td>...</td>\n",
       "      <td>1768584</td>\n",
       "      <td>1934502</td>\n",
       "      <td>1</td>\n",
       "      <td>False</td>\n",
       "      <td>NaN</td>\n",
       "      <td>None</td>\n",
       "      <td>NaN</td>\n",
       "      <td>NaN</td>\n",
       "      <td>NaN</td>\n",
       "      <td>ENSRNOG00000086517</td>\n",
       "    </tr>\n",
       "    <tr>\n",
       "      <th>39288</th>\n",
       "      <td>ENSRNOG00000087319</td>\n",
       "      <td>1</td>\n",
       "      <td>ENSRNOG00000087319</td>\n",
       "      <td>None</td>\n",
       "      <td>None</td>\n",
       "      <td>lncRNA</td>\n",
       "      <td>ensembl</td>\n",
       "      <td>2024-05-09 12:20:34</td>\n",
       "      <td>2024-05-09 12:20:34</td>\n",
       "      <td>GRCr8</td>\n",
       "      <td>...</td>\n",
       "      <td>1487467</td>\n",
       "      <td>1633922</td>\n",
       "      <td>1</td>\n",
       "      <td>False</td>\n",
       "      <td>NaN</td>\n",
       "      <td>None</td>\n",
       "      <td>NaN</td>\n",
       "      <td>NaN</td>\n",
       "      <td>NaN</td>\n",
       "      <td>ENSRNOG00000087319</td>\n",
       "    </tr>\n",
       "    <tr>\n",
       "      <th>41500</th>\n",
       "      <td>ENSRNOG00000089531</td>\n",
       "      <td>1</td>\n",
       "      <td>ENSRNOG00000089531</td>\n",
       "      <td>None</td>\n",
       "      <td>None</td>\n",
       "      <td>lncRNA</td>\n",
       "      <td>ensembl</td>\n",
       "      <td>2024-05-09 12:20:34</td>\n",
       "      <td>2024-05-09 12:20:34</td>\n",
       "      <td>GRCr8</td>\n",
       "      <td>...</td>\n",
       "      <td>834327</td>\n",
       "      <td>881350</td>\n",
       "      <td>-1</td>\n",
       "      <td>False</td>\n",
       "      <td>NaN</td>\n",
       "      <td>None</td>\n",
       "      <td>NaN</td>\n",
       "      <td>NaN</td>\n",
       "      <td>NaN</td>\n",
       "      <td>ENSRNOG00000089531</td>\n",
       "    </tr>\n",
       "    <tr>\n",
       "      <th>42967</th>\n",
       "      <td>ENSRNOG00000090998</td>\n",
       "      <td>1</td>\n",
       "      <td>ENSRNOG00000090998</td>\n",
       "      <td>None</td>\n",
       "      <td>None</td>\n",
       "      <td>lncRNA</td>\n",
       "      <td>ensembl</td>\n",
       "      <td>2024-05-09 12:20:34</td>\n",
       "      <td>2024-05-09 12:20:34</td>\n",
       "      <td>GRCr8</td>\n",
       "      <td>...</td>\n",
       "      <td>307032</td>\n",
       "      <td>655572</td>\n",
       "      <td>1</td>\n",
       "      <td>False</td>\n",
       "      <td>NaN</td>\n",
       "      <td>None</td>\n",
       "      <td>NaN</td>\n",
       "      <td>NaN</td>\n",
       "      <td>NaN</td>\n",
       "      <td>ENSRNOG00000090998</td>\n",
       "    </tr>\n",
       "  </tbody>\n",
       "</table>\n",
       "<p>29 rows × 23 columns</p>\n",
       "</div>"
      ],
      "text/plain": [
       "          ensembl_gene_id  ensembl_gene_version         gene_symbol  \\\n",
       "20198  ENSRNOG00000062265                     3      AABR07034262.1   \n",
       "20623  ENSRNOG00000063513                     2  ENSRNOG00000063513   \n",
       "26743  ENSRNOG00000074774                     1  ENSRNOG00000074774   \n",
       "26879  ENSRNOG00000074910                     1  ENSRNOG00000074910   \n",
       "26996  ENSRNOG00000075027                     1  ENSRNOG00000075027   \n",
       "27786  ENSRNOG00000075817                     1  ENSRNOG00000075817   \n",
       "28831  ENSRNOG00000076862                     1  ENSRNOG00000076862   \n",
       "28913  ENSRNOG00000076944                     1  ENSRNOG00000076944   \n",
       "30029  ENSRNOG00000078060                     1  ENSRNOG00000078060   \n",
       "30122  ENSRNOG00000078153                     1  ENSRNOG00000078153   \n",
       "30605  ENSRNOG00000078636                     1  ENSRNOG00000078636   \n",
       "31002  ENSRNOG00000079033                     1  ENSRNOG00000079033   \n",
       "31359  ENSRNOG00000079390                     1  ENSRNOG00000079390   \n",
       "31419  ENSRNOG00000079450                     1  ENSRNOG00000079450   \n",
       "33564  ENSRNOG00000081595                     1  ENSRNOG00000081595   \n",
       "34208  ENSRNOG00000082239                     1  ENSRNOG00000082239   \n",
       "34243  ENSRNOG00000082274                     1  ENSRNOG00000082274   \n",
       "34308  ENSRNOG00000082339                     1  ENSRNOG00000082339   \n",
       "35305  ENSRNOG00000083336                     1  ENSRNOG00000083336   \n",
       "36185  ENSRNOG00000084216                     1  ENSRNOG00000084216   \n",
       "36770  ENSRNOG00000084801                     1  ENSRNOG00000084801   \n",
       "37083  ENSRNOG00000085114                     1  ENSRNOG00000085114   \n",
       "37166  ENSRNOG00000085197                     1  ENSRNOG00000085197   \n",
       "37393  ENSRNOG00000085424                     1  ENSRNOG00000085424   \n",
       "37956  ENSRNOG00000085987                     1  ENSRNOG00000085987   \n",
       "38486  ENSRNOG00000086517                     1  ENSRNOG00000086517   \n",
       "39288  ENSRNOG00000087319                     1  ENSRNOG00000087319   \n",
       "41500  ENSRNOG00000089531                     1  ENSRNOG00000089531   \n",
       "42967  ENSRNOG00000090998                     1  ENSRNOG00000090998   \n",
       "\n",
       "      gene_symbol_source_db gene_symbol_source_id    gene_biotype  \\\n",
       "20198                   RGD              15014745          lncRNA   \n",
       "20623                  None                  None          lncRNA   \n",
       "26743                  None                  None          lncRNA   \n",
       "26879                  None                  None          lncRNA   \n",
       "26996                  None                  None          lncRNA   \n",
       "27786                  None                  None          lncRNA   \n",
       "28831                  None                  None          lncRNA   \n",
       "28913                  None                  None  protein_coding   \n",
       "30029                  None                  None          lncRNA   \n",
       "30122                  None                  None  protein_coding   \n",
       "30605                  None                  None          lncRNA   \n",
       "31002                  None                  None          lncRNA   \n",
       "31359                  None                  None      pseudogene   \n",
       "31419                  None                  None          lncRNA   \n",
       "33564                  None                  None          lncRNA   \n",
       "34208                  None                  None          lncRNA   \n",
       "34243                  None                  None          lncRNA   \n",
       "34308                  None                  None          lncRNA   \n",
       "35305                  None                  None  protein_coding   \n",
       "36185                  None                  None  protein_coding   \n",
       "36770                  None                  None          lncRNA   \n",
       "37083                  None                  None          lncRNA   \n",
       "37166                  None                  None  protein_coding   \n",
       "37393                  None                  None          lncRNA   \n",
       "37956                  None                  None          lncRNA   \n",
       "38486                  None                  None          lncRNA   \n",
       "39288                  None                  None          lncRNA   \n",
       "41500                  None                  None          lncRNA   \n",
       "42967                  None                  None          lncRNA   \n",
       "\n",
       "      ensembl_source ensembl_created_date ensembl_modified_date  \\\n",
       "20198        ensembl  2017-01-18 14:25:58   2024-05-09 12:20:34   \n",
       "20623        ensembl  2021-02-26 12:35:27   2024-05-09 12:20:34   \n",
       "26743        ensembl  2024-05-09 12:20:34   2024-05-09 12:20:34   \n",
       "26879        ensembl  2024-05-09 12:20:34   2024-05-09 12:20:34   \n",
       "26996        ensembl  2024-05-09 12:20:34   2024-05-09 12:20:34   \n",
       "27786        ensembl  2024-05-09 12:20:34   2024-05-09 12:20:34   \n",
       "28831        ensembl  2024-05-09 12:20:34   2024-05-09 12:20:34   \n",
       "28913        ensembl  2024-05-09 12:20:34   2024-05-09 12:20:34   \n",
       "30029        ensembl  2024-05-09 12:20:34   2024-05-09 12:20:34   \n",
       "30122        ensembl  2024-05-09 12:20:34   2024-05-09 12:20:34   \n",
       "30605        ensembl  2024-05-09 12:20:34   2024-05-09 12:20:34   \n",
       "31002        ensembl  2024-05-09 12:20:34   2024-05-09 12:20:34   \n",
       "31359        ensembl  2024-05-09 12:20:34   2024-05-09 12:20:34   \n",
       "31419        ensembl  2024-05-09 12:20:34   2024-05-09 12:20:34   \n",
       "33564        ensembl  2024-05-09 12:20:34   2024-05-09 12:20:34   \n",
       "34208        ensembl  2024-05-09 12:20:34   2024-05-09 12:20:34   \n",
       "34243        ensembl  2024-05-09 12:20:34   2024-05-09 12:20:34   \n",
       "34308        ensembl  2024-05-09 12:20:34   2024-05-09 12:20:34   \n",
       "35305        ensembl  2024-05-09 12:20:34   2024-05-09 12:20:34   \n",
       "36185        ensembl  2024-05-09 12:20:34   2024-05-09 12:20:34   \n",
       "36770        ensembl  2024-05-09 12:20:34   2024-05-09 12:20:34   \n",
       "37083        ensembl  2024-05-09 12:20:34   2024-05-09 12:20:34   \n",
       "37166        ensembl  2024-05-09 12:20:34   2024-05-09 12:20:34   \n",
       "37393        ensembl  2024-05-09 12:20:34   2024-05-09 12:20:34   \n",
       "37956        ensembl  2024-05-09 12:20:34   2024-05-09 12:20:34   \n",
       "38486        ensembl  2024-05-09 12:20:34   2024-05-09 12:20:34   \n",
       "39288        ensembl  2024-05-09 12:20:34   2024-05-09 12:20:34   \n",
       "41500        ensembl  2024-05-09 12:20:34   2024-05-09 12:20:34   \n",
       "42967        ensembl  2024-05-09 12:20:34   2024-05-09 12:20:34   \n",
       "\n",
       "      coord_system_version  ... seq_region_start seq_region_end  \\\n",
       "20198                GRCr8  ...           910449         989594   \n",
       "20623                GRCr8  ...          1224634        1231178   \n",
       "26743                GRCr8  ...           355420         450968   \n",
       "26879                GRCr8  ...           181720         192666   \n",
       "26996                GRCr8  ...           655686         833957   \n",
       "27786                GRCr8  ...          1239880        1271675   \n",
       "28831                GRCr8  ...           632225         722368   \n",
       "28913                GRCr8  ...            55886          58475   \n",
       "30029                GRCr8  ...          1198376        1203949   \n",
       "30122                GRCr8  ...          1372726        1380096   \n",
       "30605                GRCr8  ...          1284795        1318796   \n",
       "31002                GRCr8  ...           233685         249199   \n",
       "31359                GRCr8  ...           749723         750797   \n",
       "31419                GRCr8  ...           862373         882106   \n",
       "33564                GRCr8  ...           289640         306919   \n",
       "34208                GRCr8  ...          1953847        1972479   \n",
       "34243                GRCr8  ...          1977303        2021278   \n",
       "34308                GRCr8  ...          1130312        1140321   \n",
       "35305                GRCr8  ...            39728          43549   \n",
       "36185                GRCr8  ...          1346558        1348624   \n",
       "36770                GRCr8  ...           189589         376501   \n",
       "37083                GRCr8  ...          1732364        2032282   \n",
       "37166                GRCr8  ...           221782         228325   \n",
       "37393                GRCr8  ...          1140452        1154354   \n",
       "37956                GRCr8  ...           366697         586019   \n",
       "38486                GRCr8  ...          1768584        1934502   \n",
       "39288                GRCr8  ...          1487467        1633922   \n",
       "41500                GRCr8  ...           834327         881350   \n",
       "42967                GRCr8  ...           307032         655572   \n",
       "\n",
       "      seq_region_strand  primary_assembly  lrg_gene_id   mhc  \\\n",
       "20198                 1             False          NaN  None   \n",
       "20623                 1             False          NaN  None   \n",
       "26743                -1             False          NaN  None   \n",
       "26879                -1             False          NaN  None   \n",
       "26996                 1             False          NaN  None   \n",
       "27786                 1             False          NaN  None   \n",
       "28831                -1             False          NaN  None   \n",
       "28913                 1             False          NaN  None   \n",
       "30029                 1             False          NaN  None   \n",
       "30122                 1             False          NaN  None   \n",
       "30605                -1             False          NaN  None   \n",
       "31002                -1             False          NaN  None   \n",
       "31359                -1             False          NaN  None   \n",
       "31419                 1             False          NaN  None   \n",
       "33564                -1             False          NaN  None   \n",
       "34208                -1             False          NaN  None   \n",
       "34243                -1             False          NaN  None   \n",
       "34308                -1             False          NaN  None   \n",
       "35305                -1             False          NaN  None   \n",
       "36185                 1             False          NaN  None   \n",
       "36770                 1             False          NaN  None   \n",
       "37083                 1             False          NaN  None   \n",
       "37166                -1             False          NaN  None   \n",
       "37393                -1             False          NaN  None   \n",
       "37956                 1             False          NaN  None   \n",
       "38486                 1             False          NaN  None   \n",
       "39288                 1             False          NaN  None   \n",
       "41500                -1             False          NaN  None   \n",
       "42967                 1             False          NaN  None   \n",
       "\n",
       "                                        gene_description  \\\n",
       "20198                                                NaN   \n",
       "20623                                                NaN   \n",
       "26743                                                NaN   \n",
       "26879                                                NaN   \n",
       "26996                                                NaN   \n",
       "27786                                                NaN   \n",
       "28831                                                NaN   \n",
       "28913                                                NaN   \n",
       "30029                                                NaN   \n",
       "30122  carbonic anhydrase 8 [Ensembl NN prediction wi...   \n",
       "30605                                                NaN   \n",
       "31002                                                NaN   \n",
       "31359                                                NaN   \n",
       "31419                                                NaN   \n",
       "33564                                                NaN   \n",
       "34208                                                NaN   \n",
       "34243                                                NaN   \n",
       "34308                                                NaN   \n",
       "35305                                                NaN   \n",
       "36185                                                NaN   \n",
       "36770                                                NaN   \n",
       "37083                                                NaN   \n",
       "37166  spindlin family, member 2C [Ensembl NN predict...   \n",
       "37393                                                NaN   \n",
       "37956                                                NaN   \n",
       "38486                                                NaN   \n",
       "39288                                                NaN   \n",
       "41500                                                NaN   \n",
       "42967                                                NaN   \n",
       "\n",
       "      gene_description_source_db gene_description_source_id  \\\n",
       "20198                        NaN                        NaN   \n",
       "20623                        NaN                        NaN   \n",
       "26743                        NaN                        NaN   \n",
       "26879                        NaN                        NaN   \n",
       "26996                        NaN                        NaN   \n",
       "27786                        NaN                        NaN   \n",
       "28831                        NaN                        NaN   \n",
       "28913                        NaN                        NaN   \n",
       "30029                        NaN                        NaN   \n",
       "30122                        NaN                        NaN   \n",
       "30605                        NaN                        NaN   \n",
       "31002                        NaN                        NaN   \n",
       "31359                        NaN                        NaN   \n",
       "31419                        NaN                        NaN   \n",
       "33564                        NaN                        NaN   \n",
       "34208                        NaN                        NaN   \n",
       "34243                        NaN                        NaN   \n",
       "34308                        NaN                        NaN   \n",
       "35305                        NaN                        NaN   \n",
       "36185                        NaN                        NaN   \n",
       "36770                        NaN                        NaN   \n",
       "37083                        NaN                        NaN   \n",
       "37166                        NaN                        NaN   \n",
       "37393                        NaN                        NaN   \n",
       "37956                        NaN                        NaN   \n",
       "38486                        NaN                        NaN   \n",
       "39288                        NaN                        NaN   \n",
       "41500                        NaN                        NaN   \n",
       "42967                        NaN                        NaN   \n",
       "\n",
       "      ensembl_representative_gene_id  \n",
       "20198             ENSRNOG00000062265  \n",
       "20623             ENSRNOG00000063513  \n",
       "26743             ENSRNOG00000074774  \n",
       "26879             ENSRNOG00000074910  \n",
       "26996             ENSRNOG00000075027  \n",
       "27786             ENSRNOG00000075817  \n",
       "28831             ENSRNOG00000076862  \n",
       "28913             ENSRNOG00000076944  \n",
       "30029             ENSRNOG00000078060  \n",
       "30122             ENSRNOG00000078153  \n",
       "30605             ENSRNOG00000078636  \n",
       "31002             ENSRNOG00000079033  \n",
       "31359             ENSRNOG00000079390  \n",
       "31419             ENSRNOG00000079450  \n",
       "33564             ENSRNOG00000081595  \n",
       "34208             ENSRNOG00000082239  \n",
       "34243             ENSRNOG00000082274  \n",
       "34308             ENSRNOG00000082339  \n",
       "35305             ENSRNOG00000083336  \n",
       "36185             ENSRNOG00000084216  \n",
       "36770             ENSRNOG00000084801  \n",
       "37083             ENSRNOG00000085114  \n",
       "37166             ENSRNOG00000085197  \n",
       "37393             ENSRNOG00000085424  \n",
       "37956             ENSRNOG00000085987  \n",
       "38486             ENSRNOG00000086517  \n",
       "39288             ENSRNOG00000087319  \n",
       "41500             ENSRNOG00000089531  \n",
       "42967             ENSRNOG00000090998  \n",
       "\n",
       "[29 rows x 23 columns]"
      ]
     },
     "execution_count": 47,
     "metadata": {},
     "output_type": "execute_result"
    }
   ],
   "source": [
    "# many of these genes should probably be alternative alleles rather than representative\n",
    "ensg.gene_df.query(\"not primary_assembly and ensembl_gene_id==ensembl_representative_gene_id\")"
   ]
  }
 ],
 "metadata": {
  "celltoolbar": "Tags",
  "kernelspec": {
   "display_name": "Python 3 (ipykernel)",
   "language": "python",
   "name": "python3"
  },
  "language_info": {
   "codemirror_mode": {
    "name": "ipython",
    "version": 3
   },
   "file_extension": ".py",
   "mimetype": "text/x-python",
   "name": "python",
   "nbconvert_exporter": "python",
   "pygments_lexer": "ipython3",
   "version": "3.10.17"
  },
  "papermill": {
   "default_parameters": {},
   "duration": 321.766022,
   "end_time": "2025-05-07T18:27:06.422658",
   "environment_variables": {},
   "exception": null,
   "input_path": "ensembl_genes/notebooks/ensembl_genes_eda.ipynb",
   "output_path": "output/rattus_norvegicus_core_114_1/ensembl_genes_eda.ipynb",
   "parameters": {
    "release": "114",
    "species": "rat"
   },
   "start_time": "2025-05-07T18:21:44.656636",
   "version": "2.4.0"
  }
 },
 "nbformat": 4,
 "nbformat_minor": 5
}